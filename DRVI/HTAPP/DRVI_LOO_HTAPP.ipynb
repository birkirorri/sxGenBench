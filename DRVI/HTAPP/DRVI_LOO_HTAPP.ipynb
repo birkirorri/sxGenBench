{
 "cells": [
  {
   "cell_type": "code",
   "execution_count": null,
   "id": "05a30f9c-61db-4c4e-8722-524c1b6c199d",
   "metadata": {},
   "outputs": [],
   "source": [
    "%load_ext autoreload\n",
    "%autoreload 2"
   ]
  },
  {
   "cell_type": "code",
   "execution_count": null,
   "id": "61005bfb-2669-4877-abad-22e6da277208",
   "metadata": {
    "scrolled": true
   },
   "outputs": [],
   "source": [
    "pip install git+https://github.com/theislab/drvi.git@main"
   ]
  },
  {
   "cell_type": "code",
   "execution_count": null,
   "id": "e1450a6c-b037-4279-85cc-8a730be2ce41",
   "metadata": {
    "scrolled": true
   },
   "outputs": [],
   "source": [
    "pip install gprofiler"
   ]
  },
  {
   "cell_type": "code",
   "execution_count": null,
   "id": "6d2081d8-48db-4577-9941-cb1279a49b4c",
   "metadata": {},
   "outputs": [],
   "source": [
    "import warnings"
   ]
  },
  {
   "cell_type": "code",
   "execution_count": null,
   "id": "f5da57df-2b6e-411b-9c35-c69f007f543f",
   "metadata": {},
   "outputs": [],
   "source": [
    "warnings.filterwarnings(\"ignore\")"
   ]
  },
  {
   "cell_type": "code",
   "execution_count": null,
   "id": "6ea47309-054b-4fd9-9371-0e47ea453729",
   "metadata": {},
   "outputs": [],
   "source": [
    "import anndata as ad\n",
    "import scanpy as sc\n",
    "from matplotlib import pyplot as plt\n",
    "from IPython.display import display\n",
    "from gprofiler import gprofiler\n",
    "import torch\n",
    "import numpy as np\n",
    "import drvi\n",
    "from drvi.model import DRVI\n",
    "from drvi.utils.misc import hvg_batch"
   ]
  },
  {
   "cell_type": "code",
   "execution_count": null,
   "id": "41a25cfd-f598-4724-83ca-98512e29be97",
   "metadata": {},
   "outputs": [],
   "source": [
    "sc.settings.set_figure_params(dpi=100, frameon=False)\n",
    "sc.set_figure_params(dpi=100)\n",
    "sc.set_figure_params(figsize=(3, 3))\n",
    "plt.rcParams[\"figure.dpi\"] = 100\n",
    "plt.rcParams[\"figure.figsize\"] = (3, 3)"
   ]
  },
  {
   "cell_type": "code",
   "execution_count": null,
   "id": "60141098-79a2-46ca-8123-fd40eaad97ff",
   "metadata": {},
   "outputs": [],
   "source": [
    "adata = sc.read(\"/work/DRVI/fixed_data/HTAPP/HTAPP_997_processed_raw_FINAL.h5ad\")\n",
    "adata"
   ]
  },
  {
   "cell_type": "code",
   "execution_count": null,
   "id": "fdf05f9e-020d-4bd4-b309-741c6502517b",
   "metadata": {},
   "outputs": [],
   "source": [
    "adata.obs[\"cell_type\"]"
   ]
  },
  {
   "cell_type": "code",
   "execution_count": null,
   "id": "2af2874e-9f38-4385-a9c0-64b589d2d398",
   "metadata": {},
   "outputs": [],
   "source": [
    "# Subset the data\n",
    "subset_mask = (adata.obs['replicate'] == '1') & (adata.obs['cell_type'] == 'hepatocyte')\n",
    "subset_adata = adata[subset_mask].copy()  \n",
    "train_adata = adata[~subset_mask].copy()  # Training data is everything except the subset"
   ]
  },
  {
   "cell_type": "code",
   "execution_count": null,
   "id": "224d53d2-08d2-479c-8cdb-0a8b83c881b2",
   "metadata": {},
   "outputs": [],
   "source": [
    "subset_adata"
   ]
  },
  {
   "cell_type": "code",
   "execution_count": null,
   "id": "096dc84c-5016-4bca-8381-b1e8904ba52c",
   "metadata": {},
   "outputs": [],
   "source": [
    "train_adata"
   ]
  },
  {
   "cell_type": "code",
   "execution_count": null,
   "id": "e38287ae-86ba-46e0-bc08-a58adeac08d1",
   "metadata": {},
   "outputs": [],
   "source": [
    "train_adata.layers[\"counts\"] = train_adata.X.copy()"
   ]
  },
  {
   "cell_type": "code",
   "execution_count": null,
   "id": "b713de49-58ef-4412-abd9-72edd2a08fcb",
   "metadata": {},
   "outputs": [],
   "source": [
    "train_adata.layers[\"counts\"]"
   ]
  },
  {
   "cell_type": "code",
   "execution_count": null,
   "id": "f9473f4c-3f2d-4609-bc31-009ce3b2931c",
   "metadata": {},
   "outputs": [],
   "source": [
    "print(type(train_adata.layers[\"counts\"]))\n",
    "print(train_adata.layers[\"counts\"].shape)\n"
   ]
  },
  {
   "cell_type": "code",
   "execution_count": null,
   "id": "b7ddced7-a2d6-4e97-a92c-f4be6e632d4c",
   "metadata": {
    "scrolled": true
   },
   "outputs": [],
   "source": [
    "print(train_adata.layers[\"counts\"][:50, :50])  # View top-left 5×5 corner"
   ]
  },
  {
   "cell_type": "code",
   "execution_count": null,
   "id": "f8535636-bbc2-446b-be87-446caed4779e",
   "metadata": {},
   "outputs": [],
   "source": []
  },
  {
   "cell_type": "code",
   "execution_count": null,
   "id": "769eb747-f0ac-46c5-a4dc-05139001706f",
   "metadata": {},
   "outputs": [],
   "source": [
    "# Setup data\n",
    "DRVI.setup_anndata(\n",
    "    train_adata,\n",
    "    # DRVI accepts count data by default.\n",
    "    # Do not forget to change gene_likelihood if you provide a non-count data.\n",
    "    layer=\"counts\",\n",
    "    # Always provide a list. DRVI can accept multiple covariates.\n",
    "    categorical_covariate_keys=[\"cell_type\", \"Phase\", \"replicate\", \"compartments\", \"cnv_pass_mal\"],\n",
    "    # DRVI accepts count data by default.\n",
    "    # Set to false if you provide log-normalized data and use normal distribution (mse loss).\n",
    "    is_count_data=True,\n",
    ")\n",
    "\n",
    "# construct the model\n",
    "model = DRVI(\n",
    "    train_adata,\n",
    "    # Provide categorical covariates keys once again. Refer to advanced usages for more options.\n",
    "    categorical_covariates=[\"cell_type\", \"Phase\", \"replicate\", \"compartments\", \"cnv_pass_mal\"],\n",
    "    n_latent=128,\n",
    "    # For encoder and decoder dims, provide a list of integers.\n",
    "    encoder_dims=[128, 128],\n",
    "    decoder_dims=[128, 128],\n",
    ")\n",
    "model"
   ]
  },
  {
   "cell_type": "code",
   "execution_count": null,
   "id": "a2cbda36-441f-4602-835c-dae592abc379",
   "metadata": {},
   "outputs": [],
   "source": [
    "# For cpu training you should add the following line to the model.train parameters:\n",
    "#accelerator=\"cpu\", devices=1,\n",
    "#\n",
    "# For mps acceleration on macbooks, add the following line to the model.train parameters:\n",
    "# accelerator=\"mps\", devices=1,\n",
    "#\n",
    "# For gpu training don't provide any additional parameter.\n",
    "# More details here: https://lightning.ai/docs/pytorch/stable/accelerators/gpu_basic.html\n",
    "\n",
    "n_epochs = 400\n",
    "\n",
    "# train the model\n",
    "model.train(\n",
    "    max_epochs=n_epochs,\n",
    "    early_stopping=False,\n",
    "    early_stopping_patience=20,\n",
    "    # mps\n",
    "    # accelerator=\"mps\", devices=1,\n",
    "    # cpu\n",
    "    #accelerator=\"cpu\", devices=1,\n",
    "    # gpu: no additional parameter\n",
    "    #\n",
    "    # No need to provide `plan_kwargs` if n_epochs >= 400.\n",
    "    plan_kwargs={\n",
    "        \"n_epochs_kl_warmup\": n_epochs,\n",
    "    },\n",
    ")\n",
    "\n",
    "# Runtime:\n",
    "# The runtime for CPU laptop (M1) is 208 minutes\n",
    "# The runtime for Macbook gpu (M1) is 64 minutes\n",
    "# The runtime for GPU (A100) is 17 minutes"
   ]
  },
  {
   "cell_type": "code",
   "execution_count": null,
   "id": "065cc896-460f-4136-8ab2-117d2ed3f82f",
   "metadata": {},
   "outputs": [],
   "source": [
    "model.save(\"DRVI/LOA_DRVI/LOA_models_new_fixed/HTAPP_fixed_LOA_last\")"
   ]
  },
  {
   "cell_type": "code",
   "execution_count": null,
   "id": "9d748cd8-d3ce-43ce-98d6-60a8a5bf417c",
   "metadata": {},
   "outputs": [],
   "source": [
    "model = model.load(\"trained_models/DRVI_HH_train_2/\", adata = adata)"
   ]
  },
  {
   "cell_type": "code",
   "execution_count": null,
   "id": "96e5bdcb-2136-4a4e-aa3b-7570fbc03011",
   "metadata": {},
   "outputs": [],
   "source": [
    "def predict(model, adata):\n",
    "    model._validate_anndata(adata)\n",
    "    model.module.eval()\n",
    "\n",
    "    scdl = model._make_data_loader(adata=adata, indices=None, batch_size=128, shuffle=False)\n",
    "    mus = []\n",
    "    for tensors in scdl:\n",
    "        inference_outputs, generative_outputs = model.module.forward(\n",
    "                    tensors,\n",
    "                    compute_loss=False,\n",
    "                )\n",
    "        _mus = torch.nan_to_num(generative_outputs['px'].mean, nan=0, neginf=0, posinf=100) \n",
    "        mus.append(_mus.detach().cpu().numpy())\n",
    "    mus = np.concatenate(mus, axis=0)\n",
    "    out_adata = adata.copy()\n",
    "    out_adata.X = mus\n",
    "    return out_adata\n",
    "\n",
    "\n",
    "#model._validate_anndata(subset_adata)\n",
    "#ec = predict(model, subset_adata)"
   ]
  },
  {
   "cell_type": "code",
   "execution_count": null,
   "id": "44c05b98-3e64-431a-91b0-f4337a74597d",
   "metadata": {},
   "outputs": [],
   "source": [
    "rep_2_base = train_adata[\n",
    "    (train_adata.obs[\"replicate\"] == \"2\") &\n",
    "    (train_adata.obs[\"cell_type\"] == \"hepatocyte\")\n",
    "].copy()"
   ]
  },
  {
   "cell_type": "code",
   "execution_count": null,
   "id": "274ce7b3-7b3a-4102-979a-5377f0f32865",
   "metadata": {},
   "outputs": [],
   "source": [
    "rec_rep2 = predict(model, rep_2_base)"
   ]
  },
  {
   "cell_type": "code",
   "execution_count": null,
   "id": "af07c44f-675b-4f1c-a8b5-68b5456d87df",
   "metadata": {},
   "outputs": [],
   "source": [
    "cf = rep_2_base.copy()\n",
    "cf.obs[\"replicate\"] = \"1\""
   ]
  },
  {
   "cell_type": "code",
   "execution_count": null,
   "id": "e9ccdff1-b13a-4d29-b88d-4c221b2320c3",
   "metadata": {},
   "outputs": [],
   "source": [
    "rec_cf = predict(model, cf)"
   ]
  },
  {
   "cell_type": "code",
   "execution_count": null,
   "id": "929baf6b-5bd5-4592-94d6-4e825b3a9157",
   "metadata": {},
   "outputs": [],
   "source": [
    "# Compute per-gene ground-truth means\n",
    "# Gt for females is now females with hepatocytes\n",
    "\n",
    "rep_2_gt = (\n",
    "    rep_2_base.X.toarray().mean(axis=0)\n",
    "    if hasattr(rep_2_base.X, \"toarray\")\n",
    "    else rep_2_base.X.mean(axis=0)\n",
    ")\n",
    "\n",
    "\n",
    "#    Gt for the male is now the held out dataset\n",
    "rep_1_gt = (\n",
    "    subset_adata.X.toarray().mean(axis=0)\n",
    "    if hasattr(subset_adata.X, \"toarray\")\n",
    "    else subset_adata.X.mean(axis=0)\n",
    ")"
   ]
  },
  {
   "cell_type": "code",
   "execution_count": null,
   "id": "f711f6da-0e74-4e04-83e0-e9a4a109dedb",
   "metadata": {},
   "outputs": [],
   "source": [
    "rep_2_gt"
   ]
  },
  {
   "cell_type": "code",
   "execution_count": null,
   "id": "334e328a-b4f2-4b25-b312-15c21d09c13d",
   "metadata": {},
   "outputs": [],
   "source": [
    "rep_1_gt"
   ]
  },
  {
   "cell_type": "code",
   "execution_count": null,
   "id": "35713928-a1c6-4654-be74-bdca5937dbfa",
   "metadata": {},
   "outputs": [],
   "source": [
    "#  Compute per-gene prediction means \n",
    "baseline_pred = np.asarray(rec_rep2.X.mean(axis=0)).ravel()\n",
    "cf_pred       = np.asarray(rec_cf.X.mean(axis=0)).ravel()"
   ]
  },
  {
   "cell_type": "code",
   "execution_count": null,
   "id": "580548c1-2100-444f-bf78-377869087c42",
   "metadata": {},
   "outputs": [],
   "source": [
    "f_m = np.sqrt(np.mean((baseline_pred - rep_1_gt)**2)) #pred-F --- TM\n",
    "m_m = np.sqrt(np.mean((cf_pred - rep_1_gt)**2)) # pred_M --- TM\n",
    "f_f  =np.sqrt(np.mean((baseline_pred - rep_2_gt)**2)) # pref F ----- TF\n",
    "m_f = np.sqrt(np.mean((cf_pred - rep_2_gt)**2)) # pref M ---- TF\n",
    "\n",
    "print(f\"RMSE pred F --- TM: {f_m:.4f}\")\n",
    "print(f\"RMSE pred M --- TM (counterfactual)  : {m_m:.4f}\")\n",
    "print(f\"RMSE pred F ----- TF : {f_f:.4f}\")\n",
    "print(f\"RMSE pred M ---- TF (counterfactual)  : {m_f:.4f}\")"
   ]
  },
  {
   "cell_type": "code",
   "execution_count": null,
   "id": "1c01aed8-212f-4068-9cd8-c75072887f76",
   "metadata": {},
   "outputs": [],
   "source": [
    "import matplotlib.pyplot as plt\n",
    "\n",
    "# Define RMSE values\n",
    "rmse_data = [\n",
    "    [\"0.0287\", \"0.3625\"],  # True Female\n",
    "    [\"0.9498\", \"1.1606\"],  # True Male\n",
    "]\n",
    "\n",
    "# Define labels\n",
    "column_labels = [\"Pred Replicate 2\", \"Pred Replicate 1 (CF)\"]\n",
    "row_labels = [\"True Replicate 2\", \"True Replicate 1\"]\n",
    "\n",
    "# Create the figure and axis\n",
    "fig, ax = plt.subplots(figsize=(6, 2))\n",
    "ax.axis('tight')\n",
    "ax.axis('off')\n",
    "\n",
    "# Create the table\n",
    "table = ax.table(\n",
    "    cellText=rmse_data,\n",
    "    rowLabels=row_labels,\n",
    "    colLabels=column_labels,\n",
    "    cellLoc='center',\n",
    "    loc='center'\n",
    ")\n",
    "\n",
    "table.scale(1, 2)  # Increase row height\n",
    "table.auto_set_font_size(False)\n",
    "table.set_fontsize(12)\n",
    "\n",
    "# Color the lower row cells\n",
    "# Note: Rows and columns are 1-indexed in table.get_celld()\n",
    "table[(2, 0)].set_facecolor(\"orange\")  # True Male, Pred Female\n",
    "table[(2, 1)].set_facecolor(\"lightblue\")  # True Male, Pred Male\n",
    "\n",
    "plt.title(\"RMSE between Predictions and Ground truth\", pad=20)\n",
    "plt.tight_layout()\n",
    "plt.show()\n"
   ]
  },
  {
   "cell_type": "code",
   "execution_count": null,
   "id": "8cae5e42-bbcc-4362-aa5a-41ab01accea0",
   "metadata": {},
   "outputs": [],
   "source": [
    "import numpy as np\n",
    "import seaborn as sns\n",
    "import matplotlib.pyplot as plt\n",
    "\n",
    "# Log-transform the data\n",
    "log_male_gt = np.log1p(rep_1_gt)\n",
    "log_cf_pred = np.log1p(cf_pred)\n",
    "log_baseline_pred = np.log1p(baseline_pred)\n",
    "\n",
    "# Scatter plot of log-transformed ground truth vs. predictions\n",
    "fig, ax = plt.subplots(figsize=(10, 6))\n",
    "\n",
    "sns.scatterplot(\n",
    "    x=log_male_gt, y=log_cf_pred,\n",
    "    alpha=0.7, ax=ax\n",
    ")\n",
    "\n",
    "sns.scatterplot(\n",
    "    x=log_male_gt, y=log_baseline_pred,\n",
    "    alpha=0.7, ax=ax\n",
    ")\n",
    "\n",
    "# Identity line (in log space)\n",
    "mn = min(log_male_gt.min(), log_male_gt.min())\n",
    "mx = max(log_male_gt.max(), log_male_gt.max())\n",
    "ax.plot([mn, mx], [mn, mx], ls=\"--\", color=\"red\")\n",
    "\n",
    "\n",
    "ax.set_xlabel(\"Log Ground Truth (Male)\")\n",
    "ax.set_ylabel(\"Log Predicted Mean Expression\")\n",
    "ax.set_title(\"Leave One Out analysis\" )\n",
    "ax.legend(loc=\"upper left\")\n",
    "plt.tight_layout()\n",
    "ax.grid(False)\n",
    "plt.show()\n"
   ]
  }
 ],
 "metadata": {
  "kernelspec": {
   "display_name": "Python 3 ",
   "language": "python",
   "name": "python3"
  },
  "language_info": {
   "codemirror_mode": {
    "name": "ipython",
    "version": 3
   },
   "file_extension": ".py",
   "mimetype": "text/x-python",
   "name": "python",
   "nbconvert_exporter": "python",
   "pygments_lexer": "ipython3",
   "version": "3.12.10"
  }
 },
 "nbformat": 4,
 "nbformat_minor": 5
}

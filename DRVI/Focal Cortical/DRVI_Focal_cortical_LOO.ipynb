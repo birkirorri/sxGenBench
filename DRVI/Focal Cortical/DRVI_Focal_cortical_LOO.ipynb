{
 "cells": [
  {
   "cell_type": "code",
   "execution_count": null,
   "id": "b6f4b6e9-30d7-4a66-aa8c-de9be7c25e7e",
   "metadata": {},
   "outputs": [],
   "source": [
    "%load_ext autoreload\n",
    "%autoreload 2"
   ]
  },
  {
   "cell_type": "code",
   "execution_count": null,
   "id": "a9a4d9a6-da36-4fbf-be43-42df6c689434",
   "metadata": {
    "scrolled": true
   },
   "outputs": [],
   "source": [
    "pip install git+https://github.com/theislab/drvi.git@main"
   ]
  },
  {
   "cell_type": "code",
   "execution_count": null,
   "id": "42001a2e-f53d-4534-a3bd-6cc81455fdd0",
   "metadata": {
    "scrolled": true
   },
   "outputs": [],
   "source": [
    "pip install gprofiler"
   ]
  },
  {
   "cell_type": "code",
   "execution_count": null,
   "id": "5a5387d2-8889-4b9a-ac65-62b948aea15f",
   "metadata": {},
   "outputs": [],
   "source": [
    "import warnings"
   ]
  },
  {
   "cell_type": "code",
   "execution_count": null,
   "id": "95218643-c541-44c9-996a-0d5cd4f42e6e",
   "metadata": {},
   "outputs": [],
   "source": [
    "warnings.filterwarnings(\"ignore\")"
   ]
  },
  {
   "cell_type": "code",
   "execution_count": null,
   "id": "546c3fd3-7405-40fe-880c-e61f2465d0b0",
   "metadata": {},
   "outputs": [],
   "source": [
    "import anndata as ad\n",
    "import scanpy as sc\n",
    "from matplotlib import pyplot as plt\n",
    "from IPython.display import display\n",
    "from gprofiler import gprofiler\n",
    "import torch\n",
    "import numpy as np\n",
    "import drvi\n",
    "from drvi.model import DRVI\n",
    "from drvi.utils.misc import hvg_batch"
   ]
  },
  {
   "cell_type": "code",
   "execution_count": null,
   "id": "1d9fee32-81f9-4d65-8960-e325d4e42a00",
   "metadata": {},
   "outputs": [],
   "source": [
    "sc.settings.set_figure_params(dpi=100, frameon=False)\n",
    "sc.set_figure_params(dpi=100)\n",
    "sc.set_figure_params(figsize=(3, 3))\n",
    "plt.rcParams[\"figure.dpi\"] = 100\n",
    "plt.rcParams[\"figure.figsize\"] = (3, 3)"
   ]
  },
  {
   "cell_type": "code",
   "execution_count": null,
   "id": "98325fb0-5105-43da-ab2b-ba51f35d2f2d",
   "metadata": {},
   "outputs": [],
   "source": [
    "adata = sc.read(\"/work/DRVI/fixed_data/Focal_cortical/focal_cortical_processed_RAW.h5ad\")\n",
    "adata"
   ]
  },
  {
   "cell_type": "code",
   "execution_count": null,
   "id": "af81aa17-f488-44c5-9a4c-e0d4e7702769",
   "metadata": {},
   "outputs": [],
   "source": [
    "adata.obs[\"cell_type\"]"
   ]
  },
  {
   "cell_type": "code",
   "execution_count": null,
   "id": "55e932a1-fd6e-47d9-972c-216e3b176881",
   "metadata": {},
   "outputs": [],
   "source": [
    "# Subset the data\n",
    "subset_mask = (adata.obs['sex'] == 'male') & (adata.obs['cell_type'] == 'microglial cell')\n",
    "subset_adata = adata[subset_mask].copy()  \n",
    "train_adata = adata[~subset_mask].copy()  # Training data is everything except the subset"
   ]
  },
  {
   "cell_type": "code",
   "execution_count": null,
   "id": "15d49f77-e65e-47e2-9b9e-a3e2ec3cc6f7",
   "metadata": {},
   "outputs": [],
   "source": [
    "train_adata.layers[\"counts\"] = train_adata.X.copy()"
   ]
  },
  {
   "cell_type": "code",
   "execution_count": null,
   "id": "0f1f19e7-6cd3-4121-a5e7-a5951976922d",
   "metadata": {},
   "outputs": [],
   "source": [
    "train_adata.layers[\"counts\"]"
   ]
  },
  {
   "cell_type": "code",
   "execution_count": null,
   "id": "bbc0e78d-734a-4576-a5b5-d1cc60e2ea6f",
   "metadata": {},
   "outputs": [],
   "source": [
    "print(type(train_adata.layers[\"counts\"]))\n",
    "print(train_adata.layers[\"counts\"].shape)\n"
   ]
  },
  {
   "cell_type": "code",
   "execution_count": null,
   "id": "b8164fb4-0ef3-4ec5-9486-51bdaa04196d",
   "metadata": {
    "scrolled": true
   },
   "outputs": [],
   "source": [
    "print(train_adata.layers[\"counts\"][:50, :50])  # View top-left 5×5 corner"
   ]
  },
  {
   "cell_type": "code",
   "execution_count": null,
   "id": "ec24ae92-a0ca-4651-b7de-808684a9c335",
   "metadata": {
    "scrolled": true
   },
   "outputs": [],
   "source": [
    "import numpy as np\n",
    "\n",
    "# Get the 50×50 submatrix\n",
    "submatrix = train_adata.layers[\"counts\"][:50, :50]\n",
    "\n",
    "# Convert to COO format to access .data, .row, .col\n",
    "coo = submatrix.tocoo()\n",
    "\n",
    "# Sort by value descending\n",
    "sorted_indices = np.argsort(-coo.data)  # negative for descending sort\n",
    "\n",
    "# Print sorted values with their coordinates\n",
    "for i in sorted_indices:\n",
    "    print(f\"({coo.row[i]}, {coo.col[i]}) -> {coo.data[i]}\")"
   ]
  },
  {
   "cell_type": "code",
   "execution_count": null,
   "id": "1deb9f86-adcf-428a-a681-ee168881c1fa",
   "metadata": {},
   "outputs": [],
   "source": [
    "# Setup data\n",
    "DRVI.setup_anndata(\n",
    "    train_adata,\n",
    "    # DRVI accepts count data by default.\n",
    "    # Do not forget to change gene_likelihood if you provide a non-count data.\n",
    "    layer=\"counts\",\n",
    "    # Always provide a list. DRVI can accept multiple covariates.\n",
    "    categorical_covariate_keys=[\"cell_type\", \"sex\", \"donor_id\", \"development_stage_ontology_term_id\", \"lateralization\", \n",
    "                                \"tissue\"],\n",
    "    # DRVI accepts count data by default.\n",
    "    # Set to false if you provide log-normalized data and use normal distribution (mse loss).\n",
    "    is_count_data=True,\n",
    ")\n",
    "\n",
    "# construct the model\n",
    "model = DRVI(\n",
    "    train_adata,\n",
    "    # Provide categorical covariates keys once again. Refer to advanced usages for more options.\n",
    "    categorical_covariates=[\"cell_type\", \"sex\", \"donor_id\", \"development_stage_ontology_term_id\", \"lateralization\", \n",
    "                                \"tissue\"],\n",
    "    n_latent=128,\n",
    "    # For encoder and decoder dims, provide a list of integers.\n",
    "    encoder_dims=[128, 128],\n",
    "    decoder_dims=[128, 128],\n",
    ")\n",
    "model"
   ]
  },
  {
   "cell_type": "code",
   "execution_count": null,
   "id": "824329c3-32b1-41e4-8919-639217c69b5d",
   "metadata": {},
   "outputs": [],
   "source": [
    "# For cpu training you should add the following line to the model.train parameters:\n",
    "#accelerator=\"cpu\", devices=1,\n",
    "#\n",
    "# For mps acceleration on macbooks, add the following line to the model.train parameters:\n",
    "# accelerator=\"mps\", devices=1,\n",
    "#\n",
    "# For gpu training don't provide any additional parameter.\n",
    "# More details here: https://lightning.ai/docs/pytorch/stable/accelerators/gpu_basic.html\n",
    "\n",
    "n_epochs = 400\n",
    "\n",
    "# train the model\n",
    "model.train(\n",
    "    max_epochs=n_epochs,\n",
    "    early_stopping=False,\n",
    "    early_stopping_patience=20,\n",
    "    # mps\n",
    "    # accelerator=\"mps\", devices=1,\n",
    "    # cpu\n",
    "    #accelerator=\"cpu\", devices=1,\n",
    "    # gpu: no additional parameter\n",
    "    #\n",
    "    # No need to provide `plan_kwargs` if n_epochs >= 400.\n",
    "    plan_kwargs={\n",
    "        \"n_epochs_kl_warmup\": n_epochs,\n",
    "    },\n",
    ")\n",
    "\n",
    "# Runtime:\n",
    "# The runtime for CPU laptop (M1) is 208 minutes\n",
    "# The runtime for Macbook gpu (M1) is 64 minutes\n",
    "# The runtime for GPU (A100) is 17 minutes"
   ]
  },
  {
   "cell_type": "code",
   "execution_count": null,
   "id": "2ede2978-5e88-44dd-a295-5924d71c2150",
   "metadata": {},
   "outputs": [],
   "source": [
    "model.save(\"DRVI/LOA_DRVI/DRVI/LOA_DRVI/Focal_cortical_LOA_fixed_data_1005\")"
   ]
  },
  {
   "cell_type": "code",
   "execution_count": null,
   "id": "f7327ee4-c95a-4e15-80c4-27bcd1fda72e",
   "metadata": {},
   "outputs": [],
   "source": [
    "model = model.load(\"/work/DRVI/LOA_DRVI/DRVI/LOA_DRVI/DRVI/LOA_DRVI/Focal_cortical_LOA_fixed_data_1005\", adata = train_adata)"
   ]
  },
  {
   "cell_type": "code",
   "execution_count": null,
   "id": "57da24e6-2bf5-4ea3-a5d3-91f96aa61ffe",
   "metadata": {},
   "outputs": [],
   "source": [
    "model"
   ]
  },
  {
   "cell_type": "code",
   "execution_count": null,
   "id": "7479c574-ad63-4ce4-9489-ab8ed524f033",
   "metadata": {},
   "outputs": [],
   "source": [
    "def predict(model, adata):\n",
    "    model._validate_anndata(adata)\n",
    "    model.module.eval()\n",
    "\n",
    "    scdl = model._make_data_loader(adata=adata, indices=None, batch_size=128, shuffle=False)\n",
    "    mus = []\n",
    "    for tensors in scdl:\n",
    "        inference_outputs, generative_outputs = model.module.forward(\n",
    "                    tensors,\n",
    "                    compute_loss=False,\n",
    "                )\n",
    "        _mus = torch.nan_to_num(generative_outputs['px'].mean, nan=0, neginf=0, posinf=100) \n",
    "        mus.append(_mus.detach().cpu().numpy())\n",
    "    mus = np.concatenate(mus, axis=0)\n",
    "    out_adata = adata.copy()\n",
    "    out_adata.X = mus\n",
    "    return out_adata\n",
    "\n",
    "\n",
    "#model._validate_anndata(subset_adata)\n",
    "#rec = predict(model, subset_adata)"
   ]
  },
  {
   "cell_type": "code",
   "execution_count": null,
   "id": "f51d9126-0235-48c1-bfbb-c9357fddd9b9",
   "metadata": {},
   "outputs": [],
   "source": [
    "female_micro = train_adata[\n",
    "    (train_adata.obs[\"sex\"] == \"female\") &\n",
    "    (train_adata.obs[\"cell_type\"] == \"microglial cell\")\n",
    "].copy()"
   ]
  },
  {
   "cell_type": "code",
   "execution_count": null,
   "id": "65895af7-a9b7-4608-8317-0355aacf22bb",
   "metadata": {},
   "outputs": [],
   "source": [
    "rec_female = predict(model, female_micro)"
   ]
  },
  {
   "cell_type": "code",
   "execution_count": null,
   "id": "fd469440-980f-4799-b8be-48d93adad627",
   "metadata": {},
   "outputs": [],
   "source": [
    "cf = female_micro.copy()\n",
    "cf.obs[\"sex\"] = \"male\""
   ]
  },
  {
   "cell_type": "code",
   "execution_count": null,
   "id": "fba9e94d-7fb7-482d-a2d7-8965db9f32e6",
   "metadata": {},
   "outputs": [],
   "source": [
    "rec_cf = predict(model, cf)"
   ]
  },
  {
   "cell_type": "code",
   "execution_count": null,
   "id": "6ba3886e-3166-48ed-825c-7908c401284f",
   "metadata": {},
   "outputs": [],
   "source": [
    "# Compute per-gene ground-truth means\n",
    "# Gt for females is now females with hepatocytes\n",
    "\n",
    "female_gt = (\n",
    "    female_micro.X.toarray().mean(axis=0)\n",
    "    if hasattr(female_micro.X, \"toarray\")\n",
    "    else female_micro.X.mean(axis=0)\n",
    ")\n",
    "\n",
    "\n",
    "#    Gt for the male is now the held out dataset\n",
    "male_gt = (\n",
    "    subset_adata.X.toarray().mean(axis=0)\n",
    "    if hasattr(subset_adata.X, \"toarray\")\n",
    "    else subset_adata.X.mean(axis=0)\n",
    ")"
   ]
  },
  {
   "cell_type": "code",
   "execution_count": null,
   "id": "836b41eb-b50d-4a8d-bfbb-13210d876c63",
   "metadata": {},
   "outputs": [],
   "source": [
    "import numpy as np"
   ]
  },
  {
   "cell_type": "code",
   "execution_count": null,
   "id": "ed36090a-948a-436f-bed1-662a90852d0b",
   "metadata": {},
   "outputs": [],
   "source": [
    "#  Compute per-gene prediction means \n",
    "baseline_pred = np.asarray(rec_female.X.mean(axis=0)).ravel()\n",
    "cf_pred       = np.asarray(rec_cf.X.mean(axis=0)).ravel()"
   ]
  },
  {
   "cell_type": "code",
   "execution_count": null,
   "id": "53032aa6-a863-494c-8c1f-4f3f1747abf9",
   "metadata": {},
   "outputs": [],
   "source": [
    "f_m = np.sqrt(np.mean((baseline_pred - male_gt)**2)) #pred-F --- TM\n",
    "m_m = np.sqrt(np.mean((cf_pred - male_gt)**2)) # pred_M --- TM\n",
    "f_f  =np.sqrt(np.mean((baseline_pred - female_gt)**2)) # pref F ----- TF\n",
    "m_f = np.sqrt(np.mean((cf_pred - female_gt)**2)) # pref M ---- TF\n",
    "\n",
    "print(f\"RMSE pred F --- TM: {f_m:.4f}\")\n",
    "print(f\"RMSE pred M --- TM (counterfactual)  : {m_m:.4f}\")\n",
    "print(f\"RMSE pred F ----- TF : {f_f:.4f}\")\n",
    "print(f\"RMSE pred M ---- TF (counterfactual)  : {m_f:.4f}\")"
   ]
  },
  {
   "cell_type": "code",
   "execution_count": null,
   "id": "af45f5e4-0861-4954-872e-3d4ce750616a",
   "metadata": {},
   "outputs": [],
   "source": [
    "import matplotlib.pyplot as plt\n",
    "\n",
    "# Define RMSE values\n",
    "rmse_data = [\n",
    "    [\"0.0172\", \"0.0587\"],  # True Female\n",
    "    [\"0.2061\", \"0.2092\"],  # True Male\n",
    "]\n",
    "\n",
    "# Define labels\n",
    "column_labels = [\"Pred Female\", \"Pred Male (CF)\"]\n",
    "row_labels = [\"True Female\", \"True Male\"]\n",
    "\n",
    "# Create the figure and axis\n",
    "fig, ax = plt.subplots(figsize=(6, 2))\n",
    "ax.axis('tight')\n",
    "ax.axis('off')\n",
    "\n",
    "# Create the table\n",
    "table = ax.table(\n",
    "    cellText=rmse_data,\n",
    "    rowLabels=row_labels,\n",
    "    colLabels=column_labels,\n",
    "    cellLoc='center',\n",
    "    loc='center'\n",
    ")\n",
    "\n",
    "table.scale(1, 2)  # Increase row height\n",
    "table.auto_set_font_size(False)\n",
    "table.set_fontsize(12)\n",
    "\n",
    "# Color the lower row cells\n",
    "# Note: Rows and columns are 1-indexed in table.get_celld()\n",
    "table[(2, 0)].set_facecolor(\"orange\")  # True Male, Pred Female\n",
    "table[(2, 1)].set_facecolor(\"lightblue\")  # True Male, Pred Male\n",
    "\n",
    "plt.title(\"RMSE between Predictions and Ground truth\", pad=20)\n",
    "plt.tight_layout()\n",
    "plt.show()\n"
   ]
  },
  {
   "cell_type": "code",
   "execution_count": null,
   "id": "9db001d0-166e-4cd6-bcde-f137d3fda3a0",
   "metadata": {},
   "outputs": [],
   "source": [
    "import numpy as np\n",
    "import seaborn as sns\n",
    "import matplotlib.pyplot as plt\n",
    "\n",
    "# Log-transform the data\n",
    "log_male_gt = np.log1p(male_gt)\n",
    "log_cf_pred = np.log1p(cf_pred)\n",
    "log_baseline_pred = np.log1p(baseline_pred)\n",
    "\n",
    "# Scatter plot of log-transformed ground truth vs. predictions\n",
    "fig, ax = plt.subplots(figsize=(10, 6))\n",
    "\n",
    "sns.scatterplot(\n",
    "    x=log_male_gt, y=log_cf_pred,\n",
    "    alpha=0.7, ax=ax\n",
    ")\n",
    "\n",
    "sns.scatterplot(\n",
    "    x=log_male_gt, y=log_baseline_pred,\n",
    "    alpha=0.7, ax=ax\n",
    ")\n",
    "\n",
    "# Identity line (in log space)\n",
    "mn = min(log_male_gt.min(), log_male_gt.min())\n",
    "mx = max(log_male_gt.max(), log_male_gt.max())\n",
    "ax.plot([mn, mx], [mn, mx], ls=\"--\", color=\"red\")\n",
    "\n",
    "\n",
    "ax.set_xlabel(\"Log Ground Truth (Male)\")\n",
    "ax.set_ylabel(\"Log Predicted Mean Expression\")\n",
    "ax.set_title(\"Leave One Out analysis\" )\n",
    "ax.legend(loc=\"upper left\")\n",
    "plt.tight_layout()\n",
    "ax.grid(False)\n",
    "plt.show()\n"
   ]
  },
  {
   "cell_type": "code",
   "execution_count": null,
   "id": "1c48e7db-13ad-4eac-80de-c90360bdd534",
   "metadata": {},
   "outputs": [],
   "source": []
  }
 ],
 "metadata": {
  "kernelspec": {
   "display_name": "Python 3 ",
   "language": "python",
   "name": "python3"
  },
  "language_info": {
   "codemirror_mode": {
    "name": "ipython",
    "version": 3
   },
   "file_extension": ".py",
   "mimetype": "text/x-python",
   "name": "python",
   "nbconvert_exporter": "python",
   "pygments_lexer": "ipython3",
   "version": "3.12.10"
  }
 },
 "nbformat": 4,
 "nbformat_minor": 5
}

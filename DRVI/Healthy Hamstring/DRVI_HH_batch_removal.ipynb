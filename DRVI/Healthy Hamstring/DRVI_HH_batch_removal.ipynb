{
 "cells": [
  {
   "cell_type": "code",
   "execution_count": null,
   "id": "e19ce1ce-8ea3-4389-9c99-b8fb91b6e4f1",
   "metadata": {},
   "outputs": [],
   "source": [
    "%load_ext autoreload\n",
    "%autoreload 2"
   ]
  },
  {
   "cell_type": "code",
   "execution_count": null,
   "id": "ac983c6b-f1da-458a-af96-32eff906d2ae",
   "metadata": {
    "scrolled": true
   },
   "outputs": [],
   "source": [
    "pip install git+https://github.com/theislab/drvi.git@main"
   ]
  },
  {
   "cell_type": "code",
   "execution_count": null,
   "id": "be987206-7915-46e9-a685-19175875a026",
   "metadata": {
    "scrolled": true
   },
   "outputs": [],
   "source": [
    "pip install gprofiler"
   ]
  },
  {
   "cell_type": "code",
   "execution_count": null,
   "id": "c5be2af9-9421-4041-9ed1-6f76c9ba6f19",
   "metadata": {},
   "outputs": [],
   "source": [
    "import warnings"
   ]
  },
  {
   "cell_type": "code",
   "execution_count": null,
   "id": "2598c65d-8b65-4671-9208-32c4dd7dbc78",
   "metadata": {},
   "outputs": [],
   "source": [
    "warnings.filterwarnings(\"ignore\")"
   ]
  },
  {
   "cell_type": "code",
   "execution_count": null,
   "id": "c4f74929-8523-4af6-872a-fcc5a5c04199",
   "metadata": {},
   "outputs": [],
   "source": [
    "from sklearn.metrics import r2_score, mean_absolute_error, mean_squared_error"
   ]
  },
  {
   "cell_type": "code",
   "execution_count": null,
   "id": "139393e9-3279-4343-a6d0-94a7a20903a3",
   "metadata": {},
   "outputs": [],
   "source": [
    "import anndata as ad\n",
    "import scanpy as sc\n",
    "from matplotlib import pyplot as plt\n",
    "from IPython.display import display\n",
    "from gprofiler import gprofiler\n",
    "import torch\n",
    "import numpy as np\n",
    "import drvi\n",
    "from drvi.model import DRVI\n",
    "from drvi.utils.misc import hvg_batch"
   ]
  },
  {
   "cell_type": "code",
   "execution_count": null,
   "id": "c6a19ac9-a125-4499-a172-48a144faf3d0",
   "metadata": {},
   "outputs": [],
   "source": [
    "sc.settings.set_figure_params(dpi=100, frameon=False)\n",
    "sc.set_figure_params(dpi=100)\n",
    "sc.set_figure_params(figsize=(3, 3))\n",
    "plt.rcParams[\"figure.dpi\"] = 100\n",
    "plt.rcParams[\"figure.figsize\"] = (3, 3)"
   ]
  },
  {
   "cell_type": "code",
   "execution_count": null,
   "id": "d2f8bd45-7e7b-46e9-9351-a72a6fc897b9",
   "metadata": {},
   "outputs": [],
   "source": [
    "adata = sc.read(\"/work/DRVI/fixed_data/HH/healthy_hamstring_processed_adata_raw_nonormalization.h5ad\")"
   ]
  },
  {
   "cell_type": "code",
   "execution_count": null,
   "id": "ce98ee41-1507-4be3-8289-f025d6f241f4",
   "metadata": {},
   "outputs": [],
   "source": [
    "adata"
   ]
  },
  {
   "cell_type": "code",
   "execution_count": null,
   "id": "fd6e8d8f-7512-4b23-9641-20999c582854",
   "metadata": {},
   "outputs": [],
   "source": [
    "adata.layers[\"counts\"] = adata.X.copy()"
   ]
  },
  {
   "cell_type": "code",
   "execution_count": null,
   "id": "07a944b3-77d1-4182-8517-55ec180b6f1a",
   "metadata": {},
   "outputs": [],
   "source": [
    "# Split the data set into train and test\n",
    "from sklearn.model_selection import train_test_split\n",
    "\n",
    "\n",
    "split_key = \"split\"\n",
    "adata.obs[split_key] = \"train\"\n",
    "idx = list(range(len(adata)))\n",
    "idx_train, idx_test = train_test_split(adata.obs_names, test_size=0.1, random_state=42)\n",
    "adata.obs.loc[idx_train, split_key] = \"train\"\n",
    "adata.obs.loc[idx_test, split_key] = \"test\""
   ]
  },
  {
   "cell_type": "code",
   "execution_count": null,
   "id": "08e1c151-b5ec-40e5-b2ec-71207570bafc",
   "metadata": {},
   "outputs": [],
   "source": [
    "train_adata = adata[adata.obs[split_key] == \"train\"].copy()\n",
    "test_adata = adata[adata.obs[split_key] == \"test\"].copy()"
   ]
  },
  {
   "cell_type": "raw",
   "id": "63ec8cc1-d260-4cec-b98c-91967d7137ce",
   "metadata": {},
   "source": [
    "train_adata"
   ]
  },
  {
   "cell_type": "code",
   "execution_count": null,
   "id": "7ec24221-4aec-4343-beec-c0b25fc5a5f2",
   "metadata": {},
   "outputs": [],
   "source": [
    "# Setup data\n",
    "DRVI.setup_anndata(\n",
    "    train_adata,\n",
    "    # DRVI accepts count data by default.\n",
    "    # Do not forget to change gene_likelihood if you provide a non-count data.\n",
    "    layer=\"counts\",\n",
    "    # Always provide a list. DRVI can accept multiple covariates.\n",
    "    categorical_covariate_keys=[\"donor_id\"],\n",
    "    # DRVI accepts count data by default.\n",
    "    # Set to false if you provide log-normalized data and use normal distribution (mse loss).\n",
    "    is_count_data=True,\n",
    ")\n",
    "\n",
    "# construct the model\n",
    "model = DRVI(\n",
    "    train_adata,\n",
    "    # Provide categorical covariates keys once again. Refer to advanced usages for more options.\n",
    "    categorical_covariates=[\"donor_id\"],\n",
    "    n_latent=128,\n",
    "    # For encoder and decoder dims, provide a list of integers.\n",
    "    encoder_dims=[128, 128],\n",
    "    decoder_dims=[128, 128],\n",
    ")\n",
    "model"
   ]
  },
  {
   "cell_type": "code",
   "execution_count": null,
   "id": "cea82b65-0ee0-4680-88f0-dbf7435672bb",
   "metadata": {},
   "outputs": [],
   "source": [
    "# For cpu training you should add the following line to the model.train parameters:\n",
    "#accelerator=\"cpu\", devices=1,\n",
    "#\n",
    "# For mps acceleration on macbooks, add the following line to the model.train parameters:\n",
    "# accelerator=\"mps\", devices=1,\n",
    "#\n",
    "# For gpu training don't provide any additional parameter.\n",
    "# More details here: https://lightning.ai/docs/pytorch/stable/accelerators/gpu_basic.html\n",
    "\n",
    "n_epochs = 400\n",
    "\n",
    "# train the model\n",
    "model.train(\n",
    "    max_epochs=n_epochs,\n",
    "    early_stopping=True,\n",
    "    early_stopping_patience=20,\n",
    "    # mps\n",
    "    # accelerator=\"mps\", devices=1,\n",
    "    # cpu\n",
    "    #accelerator=\"cpu\", devices=1,\n",
    "    # gpu: no additional parameter\n",
    "    #\n",
    "    # No need to provide `plan_kwargs` if n_epochs >= 400.\n",
    "    plan_kwargs={\n",
    "        \"n_epochs_kl_warmup\": n_epochs,\n",
    "    },\n",
    ")\n",
    "\n",
    "# Runtime:\n",
    "# The runtime for CPU laptop (M1) is 208 minutes\n",
    "# The runtime for Macbook gpu (M1) is 64 minutes\n",
    "# The runtime for GPU (A100) is 17 minutes"
   ]
  },
  {
   "cell_type": "code",
   "execution_count": null,
   "id": "08065aa8-aef6-4074-a341-16ae26907fa0",
   "metadata": {},
   "outputs": [],
   "source": [
    "model.save(\"FIXED_trained_models/DRVI_HH_final_batch_removal\", adata = adata)"
   ]
  },
  {
   "cell_type": "code",
   "execution_count": null,
   "id": "b0415ea5-fe54-44ec-8f31-18ed2dd51c05",
   "metadata": {},
   "outputs": [],
   "source": [
    "model = model.load(\"trained_models/DRVI_HH_train_2/\", adata = train_adata)"
   ]
  },
  {
   "cell_type": "code",
   "execution_count": null,
   "id": "7c16daee-31e4-4827-a090-988e0efe28ea",
   "metadata": {},
   "outputs": [],
   "source": [
    "model"
   ]
  },
  {
   "cell_type": "code",
   "execution_count": null,
   "id": "19288695-b397-4173-911f-18f8f29867c1",
   "metadata": {},
   "outputs": [],
   "source": [
    "def predict(model, adata):\n",
    "    model._validate_anndata(adata)\n",
    "    model.module.eval()\n",
    "\n",
    "    scdl = model._make_data_loader(adata=adata, indices=None, batch_size=128, shuffle=False)\n",
    "    mus = []\n",
    "    for tensors in scdl:\n",
    "        inference_outputs, generative_outputs = model.module.forward(\n",
    "                    tensors,\n",
    "                    compute_loss=False,\n",
    "                )\n",
    "        _mus = torch.nan_to_num(generative_outputs['px'].mean, nan=0, neginf=0, posinf=100) \n",
    "        mus.append(_mus.detach().cpu().numpy())\n",
    "    mus = np.concatenate(mus, axis=0)\n",
    "    out_adata = adata.copy()\n",
    "    out_adata.X = mus\n",
    "    return out_adata\n",
    "\n",
    "\n",
    "model._validate_anndata(test_adata)\n",
    "rec = predict(model, test_adata)\n",
    "\n"
   ]
  },
  {
   "cell_type": "code",
   "execution_count": null,
   "id": "d3b53990-e973-4c11-8f75-b2dd0b0519d3",
   "metadata": {},
   "outputs": [],
   "source": [
    "adata_post.write(\"adata_post_with_reconstruction_DRVI_fixed.h5ad\")"
   ]
  },
  {
   "cell_type": "code",
   "execution_count": null,
   "id": "68d17242-6b1f-4861-9966-9b54127f908b",
   "metadata": {},
   "outputs": [],
   "source": [
    "# If rec is an AnnData object, extract the X attribute (i.e., the data matrix)\n",
    "import anndata\n",
    "if isinstance(rec, anndata.AnnData):\n",
    "    rec = rec.X\n",
    "\n",
    "# Now, rec should be a numpy array or sparse matrix, which is what obsm expects\n",
    "test_adata.obsm[\"X_reconstructed\"] = rec\n",
    "\n",
    "# Save the entire object with the reconstructed data\n",
    "test_adata.write(\"adata_post_with_latent_and_reconstructed_HH_DRVI_raw_batch_removal.h5ad\")\n"
   ]
  }
 ],
 "metadata": {
  "kernelspec": {
   "display_name": "Python 3 ",
   "language": "python",
   "name": "python3"
  },
  "language_info": {
   "codemirror_mode": {
    "name": "ipython",
    "version": 3
   },
   "file_extension": ".py",
   "mimetype": "text/x-python",
   "name": "python",
   "nbconvert_exporter": "python",
   "pygments_lexer": "ipython3",
   "version": "3.12.10"
  }
 },
 "nbformat": 4,
 "nbformat_minor": 5
}

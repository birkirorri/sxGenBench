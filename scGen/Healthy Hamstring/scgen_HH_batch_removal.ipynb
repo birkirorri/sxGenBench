{
 "cells": [
  {
   "cell_type": "code",
   "execution_count": null,
   "id": "7b77bba9-159a-4ec1-b5c4-ff7f0412fb9d",
   "metadata": {},
   "outputs": [],
   "source": []
  },
  {
   "cell_type": "code",
   "execution_count": null,
   "id": "14a10686-518c-433d-9122-1262cd9f4c65",
   "metadata": {
    "scrolled": true
   },
   "outputs": [],
   "source": [
    "pip install session_info"
   ]
  },
  {
   "cell_type": "code",
   "execution_count": null,
   "id": "02e6a4b2-deae-4d7a-9147-76ed9d32b3bd",
   "metadata": {},
   "outputs": [],
   "source": [
    "import session_info"
   ]
  },
  {
   "cell_type": "code",
   "execution_count": null,
   "id": "3071975a-a576-4d0a-b476-b8ba052a362a",
   "metadata": {
    "scrolled": true
   },
   "outputs": [],
   "source": [
    "pip install git+https://github.com/theislab/scgen.git"
   ]
  },
  {
   "cell_type": "code",
   "execution_count": null,
   "id": "f5a8bb3c-2e64-4ca8-a383-f0305017c527",
   "metadata": {
    "scrolled": true
   },
   "outputs": [],
   "source": [
    "pip install scvi-tools==1.1.1"
   ]
  },
  {
   "cell_type": "code",
   "execution_count": null,
   "id": "fac319b0-182e-4201-9c6c-6362f4edd070",
   "metadata": {
    "scrolled": true
   },
   "outputs": [],
   "source": [
    "pip install lamindb"
   ]
  },
  {
   "cell_type": "code",
   "execution_count": null,
   "id": "bbb4d2e5-d00b-4241-99f1-295cf444dfa6",
   "metadata": {
    "scrolled": true
   },
   "outputs": [],
   "source": [
    "pip install tiledbsoma"
   ]
  },
  {
   "cell_type": "code",
   "execution_count": null,
   "id": "7650e719-50b7-445c-8192-cea68b5e1be2",
   "metadata": {
    "scrolled": true
   },
   "outputs": [],
   "source": [
    "import scanpy as sc\n",
    "import torch\n",
    "import logging\n",
    "import scgen # Development version only works!!!!!!!!! Confirmed 25\n",
    "import sklearn\n",
    "import seaborn as sns\n",
    "import torch\n",
    "import warnings\n",
    "import os\n",
    "import sys\n",
    "import re\n",
    "\n",
    "\n",
    "\n",
    "\n",
    "\n",
    "#import numpy as np\n",
    "\n",
    "# Remember to downgrade scvi-tools (Sometimes need to downgrade not always, use pip install scvi-tools 1.6, 1.1.1 ) \n",
    "# sqrt issue in latent space\n",
    "\n",
    "# 1. Download scanpy\n",
    "# 2. Download scgen (not development version) --use that one for now"
   ]
  },
  {
   "cell_type": "code",
   "execution_count": null,
   "id": "ca6cecdd-7c2e-4ba8-b372-77ff23d62a36",
   "metadata": {},
   "outputs": [],
   "source": [
    "session_info.show()"
   ]
  },
  {
   "cell_type": "code",
   "execution_count": null,
   "id": "4df96e6f-f8b0-4991-b137-a3f926f73254",
   "metadata": {},
   "outputs": [],
   "source": [
    "from sklearn.metrics import mean_squared_error, mean_absolute_error"
   ]
  },
  {
   "cell_type": "code",
   "execution_count": null,
   "id": "70e60a63-6220-4033-9790-139f3dcb8d61",
   "metadata": {},
   "outputs": [],
   "source": [
    "adata = sc.read(\"/work/scGen_Human_vascular/new_data_fix_may/healthy_hamstring_processed_adata_raw.h5ad\")"
   ]
  },
  {
   "cell_type": "code",
   "execution_count": null,
   "id": "672b9d22-cc95-4760-afe2-606ef51cca7c",
   "metadata": {},
   "outputs": [],
   "source": [
    "adata.obs[\"donor_id\"]"
   ]
  },
  {
   "cell_type": "code",
   "execution_count": null,
   "id": "5b284360-5eed-4975-b3bf-f67883e598fa",
   "metadata": {},
   "outputs": [],
   "source": [
    "# Split the data set into train and test\n",
    "from sklearn.model_selection import train_test_split\n",
    "\n",
    "\n",
    "split_key = \"split\"\n",
    "adata.obs[split_key] = \"train\"\n",
    "idx = list(range(len(adata)))\n",
    "idx_train, idx_test = train_test_split(adata.obs_names, test_size=0.1, random_state=42)\n",
    "adata.obs.loc[idx_train, split_key] = \"train\"\n",
    "adata.obs.loc[idx_test, split_key] = \"test\"\n",
    "\n",
    "# Filter the data to use only the training set and make a copy\n",
    "adata_train = adata[adata.obs[split_key] == \"train\"].copy()\n",
    "adata_test = adata[adata.obs[split_key] == \"test\"].copy()"
   ]
  },
  {
   "cell_type": "code",
   "execution_count": null,
   "id": "b8cc066f-643d-4f13-a7bc-962bbf0d6793",
   "metadata": {},
   "outputs": [],
   "source": [
    "scgen.SCGEN.setup_anndata(adata_train, batch_key=\"donor_id\", labels_key=\"cell_type\")"
   ]
  },
  {
   "cell_type": "code",
   "execution_count": null,
   "id": "992c5f22-63b6-4be4-8d53-a91467dafdd2",
   "metadata": {},
   "outputs": [],
   "source": [
    "model = scgen.SCGEN(adata_train)\n",
    "model.save(\"work/scGen_Human_vascular_new_run_fix/batch_removal_runs/HH_batch\", overwrite=True)"
   ]
  },
  {
   "cell_type": "code",
   "execution_count": null,
   "id": "a68dd85e-8674-4a6d-99a5-a6a0947ddf98",
   "metadata": {},
   "outputs": [],
   "source": [
    "model"
   ]
  },
  {
   "cell_type": "code",
   "execution_count": null,
   "id": "31304dfe-f9a6-423a-857a-db5726fb23a3",
   "metadata": {},
   "outputs": [],
   "source": [
    "model.train(\n",
    "    max_epochs=300,\n",
    "    batch_size=32,\n",
    "    early_stopping=True,\n",
    "    early_stopping_patience=100,\n",
    ")"
   ]
  },
  {
   "cell_type": "code",
   "execution_count": null,
   "id": "f68139c4-9415-4c92-8ca5-ad448775f2bd",
   "metadata": {},
   "outputs": [],
   "source": [
    "torch.load(\"/work/scGen_Human_vascular/work/scGen_Human_vascular_GPU_trained/saved_models/scGen_HH_GPU_run/model.pt\", adata = adata_train, weights_only=False)"
   ]
  },
  {
   "cell_type": "code",
   "execution_count": null,
   "id": "901a6550-22f9-4314-806a-69747b4e3b0e",
   "metadata": {},
   "outputs": [],
   "source": [
    "model.load(\n",
    "    \"/work/scGen_Human_vascular/work/scGen_Human_vascular_GPU_trained/saved_models/scGen_HH_GPU_run\",\n",
    "    adata=adata_train\n",
    ")\n"
   ]
  },
  {
   "cell_type": "code",
   "execution_count": null,
   "id": "a6bc19f3-0666-4c98-8303-c66511a40456",
   "metadata": {
    "scrolled": true
   },
   "outputs": [],
   "source": [
    "# Batch removal\n",
    "corrected_adata = model.batch_removal()\n",
    "corrected_adata"
   ]
  },
  {
   "cell_type": "code",
   "execution_count": null,
   "id": "e7c9df56-43bc-4113-bf28-806dc475ff1f",
   "metadata": {},
   "outputs": [],
   "source": [
    "pred, delta = model.predict(ctrl_key=\"MSK0782\",\n",
    "                            stim_key=\"MSK0782\",\n",
    "                            adata_to_predict=adata_test\n",
    "                           )"
   ]
  },
  {
   "cell_type": "code",
   "execution_count": null,
   "id": "6956f021-06c2-4c98-8b43-81782db8db22",
   "metadata": {},
   "outputs": [],
   "source": [
    "# If rec is an AnnData object, extract the X attribute (i.e., the data matrix)\n",
    "import anndata\n",
    "if isinstance(pred, anndata.AnnData):\n",
    "    pred = pred.X\n",
    "\n",
    "# Now, rec should be a numpy array or sparse matrix, which is what obsm expects\n",
    "adata_test.obsm[\"X_reconstructed\"] = pred\n",
    "\n",
    "# Save the entire object with the reconstructed data\n",
    "adata_test.write(\"scGen_HH_raw_fix_adata_post_with_latent_and_recon_batch_removed.h5ad\")"
   ]
  }
 ],
 "metadata": {
  "kernelspec": {
   "display_name": "Python 3 ",
   "language": "python",
   "name": "python3"
  },
  "language_info": {
   "codemirror_mode": {
    "name": "ipython",
    "version": 3
   },
   "file_extension": ".py",
   "mimetype": "text/x-python",
   "name": "python",
   "nbconvert_exporter": "python",
   "pygments_lexer": "ipython3",
   "version": "3.12.10"
  }
 },
 "nbformat": 4,
 "nbformat_minor": 5
}

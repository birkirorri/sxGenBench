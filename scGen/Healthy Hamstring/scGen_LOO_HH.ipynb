{
 "cells": [
  {
   "cell_type": "code",
   "execution_count": null,
   "id": "68effa2d-6efb-475c-aa8b-99592bfe5324",
   "metadata": {
    "scrolled": true
   },
   "outputs": [],
   "source": [
    "pip install session_info"
   ]
  },
  {
   "cell_type": "code",
   "execution_count": null,
   "id": "36fec542-af02-40db-a242-4d40ca5b30d0",
   "metadata": {},
   "outputs": [],
   "source": [
    "import session_info"
   ]
  },
  {
   "cell_type": "code",
   "execution_count": null,
   "id": "0f5d828b-fbff-4d4c-81dd-c64a3356ad9b",
   "metadata": {
    "scrolled": true
   },
   "outputs": [],
   "source": [
    "pip install git+https://github.com/theislab/scgen.git"
   ]
  },
  {
   "cell_type": "code",
   "execution_count": null,
   "id": "73fbd24d-ad22-4b69-9d9f-3dd289f92d47",
   "metadata": {
    "scrolled": true
   },
   "outputs": [],
   "source": [
    "pip install scvi-tools==1.1.1"
   ]
  },
  {
   "cell_type": "code",
   "execution_count": null,
   "id": "e11cfc8b-6a81-410b-a0e7-b9883ff6914b",
   "metadata": {
    "scrolled": true
   },
   "outputs": [],
   "source": [
    "import scanpy as sc\n",
    "import torch\n",
    "import logging\n",
    "import scgen # Development version only works!!!!!!!!! Confirmed 25\n",
    "import sklearn\n",
    "import seaborn as sns\n",
    "import torch\n",
    "import warnings\n",
    "import os\n",
    "import sys\n",
    "import re\n",
    "\n",
    "\n",
    "\n",
    "\n",
    "# Remember to downgrade scvi-tools (Sometimes need to downgrade not always, use pip install scvi-tools 1.6, 1.1.1 ) \n",
    "# sqrt issue in latent space\n",
    "\n",
    "# 2. Download scgen (not development version) --use that one for now"
   ]
  },
  {
   "cell_type": "code",
   "execution_count": null,
   "id": "c4fff21f-df9f-4cf1-827b-ac6b5e3cfc7e",
   "metadata": {},
   "outputs": [],
   "source": [
    "session_info.show()"
   ]
  },
  {
   "cell_type": "code",
   "execution_count": null,
   "id": "3c3131d3-6b77-4c1f-a995-12b157786488",
   "metadata": {},
   "outputs": [],
   "source": [
    "from sklearn.metrics import mean_squared_error,mean_absolute_error"
   ]
  },
  {
   "cell_type": "code",
   "execution_count": null,
   "id": "92c5a03e-7ed3-46f5-ac0b-31cf249516b6",
   "metadata": {},
   "outputs": [],
   "source": [
    "adata.obs[\"cell_type\"]"
   ]
  },
  {
   "cell_type": "code",
   "execution_count": null,
   "id": "257b54e5-6ace-422e-bbc6-8a6906794386",
   "metadata": {},
   "outputs": [],
   "source": [
    "adata = sc.read(\"/work/scGen_Human_vascular/new_data_fix_may/healthy_hamstring_processed_adata_raw.h5ad\")"
   ]
  },
  {
   "cell_type": "code",
   "execution_count": null,
   "id": "f9bd4e68-0756-462e-9e7d-603bd502a2ce",
   "metadata": {},
   "outputs": [],
   "source": [
    "adata"
   ]
  },
  {
   "cell_type": "code",
   "execution_count": null,
   "id": "619e6f98-2183-4d42-85bd-3828453c47c9",
   "metadata": {},
   "outputs": [],
   "source": [
    "# Hold out all 'male' slow muscle cells\n",
    "subset_mask = (adata.obs['sex'] == 'male') & (adata.obs['cell_type'] == 'slow muscle cell')\n",
    "subset_adata = adata[subset_mask].copy()  \n",
    "train_adata = adata[~subset_mask].copy()\n"
   ]
  },
  {
   "cell_type": "code",
   "execution_count": null,
   "id": "e5baf333-0d00-4347-9e3f-648c2e1feddb",
   "metadata": {},
   "outputs": [],
   "source": [
    "scgen.SCGEN.setup_anndata(train_adata, batch_key=\"sex\", labels_key=\"cell_type\")"
   ]
  },
  {
   "cell_type": "code",
   "execution_count": null,
   "id": "e1a1cafd-a776-4d5a-b373-a2c8d86fc884",
   "metadata": {},
   "outputs": [],
   "source": [
    "train_adata.obs[\"donor_id\"]"
   ]
  },
  {
   "cell_type": "code",
   "execution_count": null,
   "id": "833c2320-ca43-44b5-8678-197eaf361cb5",
   "metadata": {},
   "outputs": [],
   "source": [
    "model = scgen.SCGEN(train_adata)\n",
    "#model.save(\"work/scGen_Human_vascular/saved_models/model_perturbation_LOA_HH_final\", overwrite=True)"
   ]
  },
  {
   "cell_type": "code",
   "execution_count": null,
   "id": "035bda2c-4f84-45ad-9b38-c0a44b1f9c15",
   "metadata": {},
   "outputs": [],
   "source": [
    "model = scgen.SCGEN(adata_train)\n",
    "#model.save(\"scGen_Human_vascular/work/scGen_Human_vascular/saved_models/model_perturbation_prediction_HH.pt\", overwrite=True)"
   ]
  },
  {
   "cell_type": "code",
   "execution_count": null,
   "id": "afde403c-51ad-482f-bd0b-5c645102df22",
   "metadata": {},
   "outputs": [],
   "source": [
    "model.train(\n",
    "    max_epochs=300,\n",
    "    early_stopping=True,\n",
    "    early_stopping_patience=100,\n",
    ")\n"
   ]
  },
  {
   "cell_type": "code",
   "execution_count": null,
   "id": "1d684543-c95a-4cc4-bb28-5dda538591dd",
   "metadata": {},
   "outputs": [],
   "source": [
    "model.save(\"scGen_Human_vascular/work/scGen_Human_vascular/LOA_models_after_fix/\", overwrite=True)"
   ]
  },
  {
   "cell_type": "code",
   "execution_count": null,
   "id": "3b912776-50ea-46eb-b663-81b2a390e274",
   "metadata": {},
   "outputs": [],
   "source": [
    "model = torch.load(\"/work/scGen_Human_vascular/work/scGen_Human_vascular/saved_models/model_perturbation_LOA_HH/model.pt\", adata = train_adata)\n"
   ]
  },
  {
   "cell_type": "code",
   "execution_count": null,
   "id": "a07fc1ea-6876-491c-bec0-8ca7105ae0bc",
   "metadata": {},
   "outputs": [],
   "source": [
    "female_slow = train_adata[\n",
    "    (train_adata.obs[\"sex\"] == \"female\") &\n",
    "    (train_adata.obs[\"cell_type\"] == \"slow muscle cell\")\n",
    "].copy()\n"
   ]
  },
  {
   "cell_type": "code",
   "execution_count": null,
   "id": "6d0b948f-a017-4560-aaca-a681d5d237c1",
   "metadata": {},
   "outputs": [],
   "source": [
    "# No latent shift; just reconstruct\n",
    "baseline_adata, _ = model.predict(\n",
    "    ctrl_key=\"female\",\n",
    "    stim_key=\"female\",  # No shift\n",
    "    adata_to_predict=female_slow\n",
    ")\n"
   ]
  },
  {
   "cell_type": "code",
   "execution_count": null,
   "id": "b0c4e922-fee3-4726-9d33-7959fafccaec",
   "metadata": {},
   "outputs": [],
   "source": [
    "cf = female_slow.copy()\n",
    "cf.obs[\"sex\"] = \"male\""
   ]
  },
  {
   "cell_type": "code",
   "execution_count": null,
   "id": "fe883c93-e237-4004-9e72-5065362a099b",
   "metadata": {},
   "outputs": [],
   "source": [
    "cf_adata, _ = model.predict(\n",
    "    ctrl_key=\"female\",\n",
    "    stim_key=\"male\",  # Apply female→male latent shift\n",
    "    adata_to_predict=cf)\n",
    "\n"
   ]
  },
  {
   "cell_type": "code",
   "execution_count": null,
   "id": "378ee0a9-98ca-4561-9527-01018a89c6d7",
   "metadata": {},
   "outputs": [],
   "source": [
    "# Compute per-gene ground-truth means\n",
    "# Gt for females is now females with hepatocytes\n",
    "\n",
    "female_gt = (\n",
    "    female_slow.X.toarray().mean(axis=0)\n",
    "    if hasattr(female_slow.X, \"toarray\")\n",
    "    else female_slow.X.mean(axis=0)\n",
    ")\n",
    "\n",
    "\n",
    "#    Gt for the male is now the held out dataset\n",
    "male_gt = (\n",
    "    subset_adata.X.toarray().mean(axis=0)\n",
    "    if hasattr(subset_adata.X, \"toarray\")\n",
    "    else subset_adata.X.mean(axis=0)\n",
    ")\n",
    "\n",
    "# log transfrom the plot\n"
   ]
  },
  {
   "cell_type": "code",
   "execution_count": null,
   "id": "141ec25b-3350-4cfb-823c-0d89338445ac",
   "metadata": {},
   "outputs": [],
   "source": [
    "import numpy as np"
   ]
  },
  {
   "cell_type": "code",
   "execution_count": null,
   "id": "f79b0797-2e63-44e1-995a-a1acefc551e5",
   "metadata": {},
   "outputs": [],
   "source": [
    "#  Compute per-gene prediction means \n",
    "baseline_pred = np.asarray(baseline_adata.X.mean(axis=0)).ravel()\n",
    "cf_pred       = np.asarray(cf_adata.X.mean(axis=0)).ravel()"
   ]
  },
  {
   "cell_type": "code",
   "execution_count": null,
   "id": "62162f76-3ff7-4b84-bbda-1a24f266c5be",
   "metadata": {},
   "outputs": [],
   "source": [
    "# RMSEs\n",
    "rmse_baseline = np.sqrt(np.mean((baseline_pred - male_gt)**2))\n",
    "rmse_cf       = np.sqrt(np.mean((cf_pred       - male_gt)**2))\n",
    "\n",
    "print(f\"RMSE baseline      (female→female): {rmse_baseline:.4f}\")\n",
    "print(f\"RMSE counterfactual(female→male)  : {rmse_cf:.4f}\")"
   ]
  },
  {
   "cell_type": "code",
   "execution_count": null,
   "id": "3ef8f415-e546-4113-a1a1-587d84963066",
   "metadata": {},
   "outputs": [],
   "source": [
    "f_m = np.sqrt(np.mean((baseline_pred - male_gt)**2)) #pred-F --- TM\n",
    "m_m = np.sqrt(np.mean((cf_pred - male_gt)**2)) # pred_M --- TM\n",
    "f_f  =np.sqrt(np.mean((baseline_pred - female_gt)**2)) # pref F ----- TF\n",
    "m_f = np.sqrt(np.mean((cf_pred - female_gt)**2)) # pref M ---- TF\n",
    "\n",
    "print(f\"RMSE pred F --- TM: {f_m:.4f}\")\n",
    "print(f\"RMSE pred M --- TM (counterfactual)  : {m_m:.4f}\")\n",
    "print(f\"RMSE pred F ----- TF : {f_f:.4f}\")\n",
    "print(f\"RMSE pred M ---- TF (counterfactual)  : {m_f:.4f}\")"
   ]
  },
  {
   "cell_type": "code",
   "execution_count": null,
   "id": "bfaa7ae8-9060-4843-a316-8ad28cc52383",
   "metadata": {},
   "outputs": [],
   "source": [
    "import numpy as np\n",
    "import seaborn as sns\n",
    "import matplotlib.pyplot as plt\n",
    "\n",
    "# Log-transform the data\n",
    "log_male_gt = np.log1p(male_gt)\n",
    "log_cf_pred = np.log1p(cf_pred)\n",
    "log_baseline_pred = np.log1p(baseline_pred)\n",
    "\n",
    "# Scatter plot of log-transformed ground truth vs. predictions\n",
    "fig, ax = plt.subplots(figsize=(10, 6))\n",
    "\n",
    "sns.scatterplot(\n",
    "    x=log_male_gt, y=log_cf_pred,\n",
    "    alpha=0.7, ax=ax\n",
    ")\n",
    "\n",
    "sns.scatterplot(\n",
    "    x=log_male_gt, y=log_baseline_pred,\n",
    "    alpha=0.7, ax=ax\n",
    ")\n",
    "\n",
    "# Identity line (in log space)\n",
    "mn = min(log_male_gt.min(), log_male_gt.min())\n",
    "mx = max(log_male_gt.max(), log_male_gt.max())\n",
    "ax.plot([mn, mx], [mn, mx], ls=\"--\", color=\"red\")\n",
    "\n",
    "\n",
    "ax.set_xlabel(\"Log Ground Truth (Male)\")\n",
    "ax.set_ylabel(\"Log Predicted Mean Expression\")\n",
    "ax.set_title(\"Leave One Out analysis\" )\n",
    "ax.legend(loc=\"upper left\")\n",
    "plt.tight_layout()\n",
    "plt.show()\n"
   ]
  },
  {
   "cell_type": "code",
   "execution_count": null,
   "id": "e500b243-440d-4520-a644-8d9f1f5c46dc",
   "metadata": {},
   "outputs": [],
   "source": [
    "import matplotlib.pyplot as plt\n",
    "\n",
    "# Define RMSE values\n",
    "rmse_data = [\n",
    "    [\"0.0790\", \"0.2437\"],  # True Female\n",
    "    [\"0.4037\", \"0.3276\"],  # True Male\n",
    "]\n",
    "\n",
    "# Define labels\n",
    "column_labels = [\"Pred Female\", \"Pred Male (CF)\"]\n",
    "row_labels = [\"True Female\", \"True Male\"]\n",
    "\n",
    "# Create the figure and axis\n",
    "fig, ax = plt.subplots(figsize=(6, 2))\n",
    "ax.axis('tight')\n",
    "ax.axis('off')\n",
    "\n",
    "# Create the table\n",
    "table = ax.table(\n",
    "    cellText=rmse_data,\n",
    "    rowLabels=row_labels,\n",
    "    colLabels=column_labels,\n",
    "    cellLoc='center',\n",
    "    loc='center'\n",
    ")\n",
    "\n",
    "table.scale(1, 2)  # Increase row height\n",
    "table.auto_set_font_size(False)\n",
    "table.set_fontsize(12)\n",
    "\n",
    "# Color the lower row cells\n",
    "# Note: Rows and columns are 1-indexed in table.get_celld()\n",
    "table[(2, 0)].set_facecolor(\"orange\")  # True Male, Pred Female\n",
    "table[(2, 1)].set_facecolor(\"lightblue\")  # True Male, Pred Male\n",
    "\n",
    "plt.title(\"RMSE between Predictions and Ground truth\", pad=20)\n",
    "plt.tight_layout()\n",
    "plt.show()\n"
   ]
  }
 ],
 "metadata": {
  "kernelspec": {
   "display_name": "Python 3 ",
   "language": "python",
   "name": "python3"
  },
  "language_info": {
   "codemirror_mode": {
    "name": "ipython",
    "version": 3
   },
   "file_extension": ".py",
   "mimetype": "text/x-python",
   "name": "python",
   "nbconvert_exporter": "python",
   "pygments_lexer": "ipython3",
   "version": "3.12.10"
  }
 },
 "nbformat": 4,
 "nbformat_minor": 5
}

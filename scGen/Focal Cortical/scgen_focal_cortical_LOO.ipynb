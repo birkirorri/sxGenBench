{
 "cells": [
  {
   "cell_type": "code",
   "execution_count": null,
   "id": "94539a91-501b-4bd6-b78b-6a324253ff0a",
   "metadata": {
    "scrolled": true
   },
   "outputs": [],
   "source": [
    "pip install session_info"
   ]
  },
  {
   "cell_type": "code",
   "execution_count": null,
   "id": "7a74c472-1a96-4baa-b85d-6b5f9ac04753",
   "metadata": {},
   "outputs": [],
   "source": [
    "import session_info"
   ]
  },
  {
   "cell_type": "code",
   "execution_count": null,
   "id": "a2ca1f66-2031-4919-b197-6253a6bc2286",
   "metadata": {
    "scrolled": true
   },
   "outputs": [],
   "source": [
    "pip install git+https://github.com/theislab/scgen.git"
   ]
  },
  {
   "cell_type": "code",
   "execution_count": null,
   "id": "d7b14df5-6e7e-48c8-a241-1171e06aca99",
   "metadata": {
    "scrolled": true
   },
   "outputs": [],
   "source": [
    "import scanpy as sc\n",
    "import torch\n",
    "import logging\n",
    "import scgen \n",
    "import sklearn\n",
    "import seaborn as sns\n",
    "import torch\n",
    "import warnings\n",
    "import os\n",
    "import sys\n",
    "import re\n",
    "\n",
    "\n",
    "\n",
    "\n",
    "\n",
    "#import numpy as np\n",
    "\n",
    "# Remember to downgrade scvi-tools (Sometimes need to downgrade not always, use pip install scvi-tools 1.6, 1.1.1 ) \n",
    "# sqrt issue in latent space\n",
    "# 2. Download scgen (not development version) --use that one for now"
   ]
  },
  {
   "cell_type": "code",
   "execution_count": null,
   "id": "1418a2fc-29dd-4552-b849-f2512e75b6c6",
   "metadata": {},
   "outputs": [],
   "source": [
    "session_info.show()"
   ]
  },
  {
   "cell_type": "code",
   "execution_count": null,
   "id": "abd525cf-057b-4c2c-a336-133b4c6cddfb",
   "metadata": {},
   "outputs": [],
   "source": [
    "from sklearn.metrics import mean_squared_error, mean_absolute_error"
   ]
  },
  {
   "cell_type": "code",
   "execution_count": null,
   "id": "6193ef50-7e06-446a-8f2e-b4f5e1914e32",
   "metadata": {},
   "outputs": [],
   "source": [
    "adata = sc.read(\"/work/scGen_Human_vascular/new_data_fix_may/focal_cortical_processed_RAW.h5ad\")"
   ]
  },
  {
   "cell_type": "code",
   "execution_count": null,
   "id": "bd729318-de2b-4710-b532-f07e46e1237a",
   "metadata": {},
   "outputs": [],
   "source": [
    "adata"
   ]
  },
  {
   "cell_type": "code",
   "execution_count": null,
   "id": "5c6f0531-1170-48fb-b72d-b7d30e5c8155",
   "metadata": {},
   "outputs": [],
   "source": [
    "# Subset the data\n",
    "subset_mask = (adata.obs['sex'] == 'male') & (adata.obs['cell_type'] == 'microglial cell')\n",
    "subset_adata = adata[subset_mask].copy()  \n",
    "train_adata = adata[~subset_mask].copy()  # Training data is everything except the subset"
   ]
  },
  {
   "cell_type": "code",
   "execution_count": null,
   "id": "4b288999-1f42-4b59-a8e4-9616844001fc",
   "metadata": {},
   "outputs": [],
   "source": [
    "scgen.SCGEN.setup_anndata(train_adata, batch_key=\"sex\", labels_key=\"cell_type\")"
   ]
  },
  {
   "cell_type": "code",
   "execution_count": null,
   "id": "4d5aa097-b17e-4ee9-8086-0d548f611855",
   "metadata": {},
   "outputs": [],
   "source": [
    "model = scgen.SCGEN(train_adata)\n",
    "#model.save(\"scGen_Human_vascular/LOA/scgen_focal_LOA\", overwrite=True)"
   ]
  },
  {
   "cell_type": "code",
   "execution_count": null,
   "id": "5c8681ba-ed3d-4fc2-9791-a0fa557fc757",
   "metadata": {},
   "outputs": [],
   "source": [
    "model.train(\n",
    "    max_epochs=300,\n",
    "    early_stopping=True,\n",
    "    early_stopping_patience=100,\n",
    ")\n"
   ]
  },
  {
   "cell_type": "code",
   "execution_count": null,
   "id": "ddbdd719-bdcf-4bcf-bac5-e858e973c013",
   "metadata": {
    "scrolled": true
   },
   "outputs": [],
   "source": [
    "model = torch.load(\"/work/scGen_Human_vascular/work/scGen_Human_vascular/saved_models/model_perturbation_2/\", adata = train)\n"
   ]
  },
  {
   "cell_type": "code",
   "execution_count": null,
   "id": "b86a1eb2-6719-47a3-91ae-4a492de742a0",
   "metadata": {},
   "outputs": [],
   "source": [
    "model.save(\"scGen_Human_vascular/work/scGen_Human_vascular/LOA_models_gou/scGen_Focal_cortical_LOA_FINAL.pt\", overwrite=True)"
   ]
  },
  {
   "cell_type": "code",
   "execution_count": null,
   "id": "2ea64a4a-df9a-42fa-b03f-b514b05e3f29",
   "metadata": {},
   "outputs": [],
   "source": [
    "model.save(\"scGen_Human_vascular/work/scGen_Human_vascular/new_fixed_models/\", overwrite=True)"
   ]
  },
  {
   "cell_type": "code",
   "execution_count": null,
   "id": "d0dc4687-b0b9-4edd-8354-74deea5d19a5",
   "metadata": {},
   "outputs": [],
   "source": [
    "model.is_trained_ = True\n",
    "model.is_trained = True\n",
    "model"
   ]
  },
  {
   "cell_type": "code",
   "execution_count": null,
   "id": "91153200-69c5-4498-a76e-0f88be97f950",
   "metadata": {},
   "outputs": [],
   "source": [
    "female_micro = train_adata[\n",
    "    (train_adata.obs[\"sex\"] == \"female\") &\n",
    "    (train_adata.obs[\"cell_type\"] == \"microglial cell\")\n",
    "].copy()"
   ]
  },
  {
   "cell_type": "code",
   "execution_count": null,
   "id": "eb170847-0c0f-481b-9b20-9578ad6a4dfe",
   "metadata": {},
   "outputs": [],
   "source": [
    "base_pred, _ = model.predict(\n",
    "    ctrl_key=\"female\",        # encode cells as female\n",
    "    stim_key=\"female\",        # then decode them _still_ as female\n",
    "    adata_to_predict=female_micro\n",
    ")\n"
   ]
  },
  {
   "cell_type": "code",
   "execution_count": null,
   "id": "513192b2-4b91-4ade-832a-d51972694aa9",
   "metadata": {},
   "outputs": [],
   "source": [
    "cf = female_micro.copy()\n",
    "cf.obs[\"sex\"] = \"male\""
   ]
  },
  {
   "cell_type": "code",
   "execution_count": null,
   "id": "db01f577-4d32-4f83-9920-4c2731ac4f43",
   "metadata": {},
   "outputs": [],
   "source": [
    "cf_pred, _ = model.predict(\n",
    "    ctrl_key=\"female\",        # encode those same cells as female\n",
    "    stim_key=\"male\",          # then apply the learned female→male shift\n",
    "    adata_to_predict=cf\n",
    ")"
   ]
  },
  {
   "cell_type": "code",
   "execution_count": null,
   "id": "e5444dfc-6bc2-41a2-bda7-cf220ae12dc0",
   "metadata": {},
   "outputs": [],
   "source": [
    "# Compute per-gene ground-truth means\n",
    "# Gt for females is now females with hepatocytes\n",
    "\n",
    "female_gt = (\n",
    "    female_micro.X.toarray().mean(axis=0)\n",
    "    if hasattr(female_micro.X, \"toarray\")\n",
    "    else female_micro.X.mean(axis=0)\n",
    ")\n",
    "\n",
    "\n",
    "#    Gt for the male is now the held out dataset\n",
    "male_gt = (\n",
    "    subset_adata.X.toarray().mean(axis=0)\n",
    "    if hasattr(subset_adata.X, \"toarray\")\n",
    "    else subset_adata.X.mean(axis=0)\n",
    ")\n"
   ]
  },
  {
   "cell_type": "code",
   "execution_count": null,
   "id": "862f825c-3ebe-4050-abfd-7075923b13ed",
   "metadata": {},
   "outputs": [],
   "source": [
    "import numpy as np"
   ]
  },
  {
   "cell_type": "code",
   "execution_count": null,
   "id": "26f5ece1-25d7-4be5-9229-4f3eedfc3a0e",
   "metadata": {},
   "outputs": [],
   "source": [
    "#  Compute per-gene prediction means \n",
    "baseline_pred = np.asarray(base_pred.X.mean(axis=0)).ravel()\n",
    "cf_pred       = np.asarray(cf_pred.X.mean(axis=0)).ravel()"
   ]
  },
  {
   "cell_type": "code",
   "execution_count": null,
   "id": "63932115-7ef3-48aa-9c77-2953809517f0",
   "metadata": {},
   "outputs": [],
   "source": [
    "# RMSEs\n",
    "rmse_baseline = np.sqrt(np.mean((baseline_pred - female_gt)**2))\n",
    "rmse_cf       = np.sqrt(np.mean((cf_pred       - male_gt)**2))\n",
    "\n",
    "print(f\"RMSE baseline      (female→female): {rmse_baseline:.4f}\")\n",
    "print(f\"RMSE counterfactual(female→male)  : {rmse_cf:.4f}\")"
   ]
  },
  {
   "cell_type": "code",
   "execution_count": null,
   "id": "8922fbdb-b8dc-48c8-98b7-fe8abbc77c85",
   "metadata": {},
   "outputs": [],
   "source": [
    "f_m = np.sqrt(np.mean((baseline_pred - male_gt)**2)) #pred-F --- TM\n",
    "m_m = rmse_cf= np.sqrt(np.mean((cf_pred - male_gt)**2)) # pred_M --- TM\n",
    "f_f  =np.sqrt(np.mean((baseline_pred - female_gt)**2)) # pref F ----- TF\n",
    "m_f = np.sqrt(np.mean((cf_pred - female_gt)**2)) # pref M ---- TF\n",
    "\n",
    "print(f\"RMSE pred F --- TM: {f_m:.4f}\")\n",
    "print(f\"RMSE pred M --- TM (counterfactual)  : {m_m:.4f}\")\n",
    "print(f\"RMSE pred F ----- TF : {f_f:.4f}\")\n",
    "print(f\"RMSE pred M ---- TF (counterfactual)  : {m_f:.4f}\")"
   ]
  },
  {
   "cell_type": "code",
   "execution_count": null,
   "id": "bd9ced19-8d52-48d1-9465-003ce6fb72eb",
   "metadata": {},
   "outputs": [],
   "source": [
    "import numpy as np\n",
    "import seaborn as sns\n",
    "import matplotlib.pyplot as plt\n",
    "\n",
    "# Log-transform the data\n",
    "log_male_gt = np.log1p(male_gt)\n",
    "log_cf_pred = np.log1p(cf_pred)\n",
    "log_baseline_pred = np.log1p(baseline_pred)\n",
    "\n",
    "# Scatter plot of log-transformed ground truth vs. predictions\n",
    "fig, ax = plt.subplots(figsize=(10, 6))\n",
    "\n",
    "sns.scatterplot(\n",
    "    x=log_male_gt, y=log_cf_pred,\n",
    "    alpha=0.7, ax=ax\n",
    ")\n",
    "\n",
    "sns.scatterplot(\n",
    "    x=log_male_gt, y=log_baseline_pred,\n",
    "    alpha=0.7, ax=ax\n",
    ")\n",
    "\n",
    "# Identity line (in log space)\n",
    "mn = min(log_male_gt.min(), log_male_gt.min())\n",
    "#mx = max(log_male_gt.max(), log_male_gt.max())\n",
    "ax.plot([mn, mx], [mn, mx], ls=\"--\", color=\"red\")\n",
    "\n",
    "\n",
    "ax.set_xlabel(\"Log Ground Truth (Male)\")\n",
    "ax.set_ylabel(\"Log Predicted Mean Expression\")\n",
    "ax.set_title(\"Leave One Out analysis\" )\n",
    "ax.legend(loc=\"upper left\")\n",
    "plt.tight_layout()\n",
    "plt.show()\n"
   ]
  },
  {
   "cell_type": "code",
   "execution_count": null,
   "id": "5edd8af0-3f34-4c24-a830-45c249a308e8",
   "metadata": {},
   "outputs": [],
   "source": [
    "import matplotlib.pyplot as plt\n",
    "\n",
    "# Define RMSE values\n",
    "rmse_data = [\n",
    "    [\"0.0183\", \"0.1348\"],  # True Female\n",
    "    [\"0.1983\", \"0.1081\"],  # True Male\n",
    "]\n",
    "\n",
    "# Define labels\n",
    "column_labels = [\"Pred Female\", \"Pred Male (CF)\"]\n",
    "row_labels = [\"True Female\", \"True Male\"]\n",
    "\n",
    "# Create the figure and axis\n",
    "fig, ax = plt.subplots(figsize=(6, 2))\n",
    "ax.axis('tight')\n",
    "ax.axis('off')\n",
    "\n",
    "# Create the table\n",
    "table = ax.table(\n",
    "    cellText=rmse_data,\n",
    "    rowLabels=row_labels,\n",
    "    colLabels=column_labels,\n",
    "    cellLoc='center',\n",
    "    loc='center'\n",
    ")\n",
    "\n",
    "table.scale(1, 2)  # Increase row height\n",
    "table.auto_set_font_size(False)\n",
    "table.set_fontsize(12)\n",
    "\n",
    "# Color the lower row cells\n",
    "# Note: Rows and columns are 1-indexed in table.get_celld()\n",
    "table[(2, 0)].set_facecolor(\"orange\")  # True Male, Pred Female\n",
    "table[(2, 1)].set_facecolor(\"lightblue\")  # True Male, Pred Male\n",
    "\n",
    "plt.title(\"RMSE between Predictions and Ground truth\", pad=20)\n",
    "plt.tight_layout()\n",
    "plt.show()\n"
   ]
  },
  {
   "cell_type": "code",
   "execution_count": null,
   "id": "2da01188-204a-489c-9e81-1e6dd449ed25",
   "metadata": {},
   "outputs": [],
   "source": []
  }
 ],
 "metadata": {
  "kernelspec": {
   "display_name": "Python 3 ",
   "language": "python",
   "name": "python3"
  },
  "language_info": {
   "codemirror_mode": {
    "name": "ipython",
    "version": 3
   },
   "file_extension": ".py",
   "mimetype": "text/x-python",
   "name": "python",
   "nbconvert_exporter": "python",
   "pygments_lexer": "ipython3",
   "version": "3.12.10"
  }
 },
 "nbformat": 4,
 "nbformat_minor": 5
}

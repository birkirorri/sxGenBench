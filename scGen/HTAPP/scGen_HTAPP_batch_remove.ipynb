{
 "cells": [
  {
   "cell_type": "code",
   "execution_count": null,
   "id": "e5d7328c-949d-477b-a885-55840b76f707",
   "metadata": {},
   "outputs": [],
   "source": [
    "import scanpy as sc\n",
    "import logging\n",
    "import scgen # Development version only works\n",
    "import sklearn\n",
    "import seaborn as sns\n",
    "import torch\n",
    "import warnings\n",
    "import os\n",
    "import sys\n",
    "import re\n",
    "\n",
    "\n",
    "\n",
    "\n",
    "#import numpy as np\n",
    "\n",
    "# Remember to downgrade scvi-tools (Sometimes need to downgrade not always, use pip install scvi-tools 1.6 ) \n",
    "# sqrt issue in latent space\n",
    "\n",
    "# 1. Download scanpy\n",
    "# 2. Download scgen (not development version) "
   ]
  },
  {
   "cell_type": "code",
   "execution_count": null,
   "id": "4385b18d-495d-48b6-93e5-75150ee6a688",
   "metadata": {},
   "outputs": [],
   "source": [
    "from sklearn.metrics import mean_squared_error, mean_absolute_error, r2_score"
   ]
  },
  {
   "cell_type": "code",
   "execution_count": null,
   "id": "0efe106a-6971-46ed-b28d-a21af0ba4b59",
   "metadata": {},
   "outputs": [],
   "source": [
    "adata = sc.read(\"/work/scGen_Human_vascular/new_data_fix_may/HTAPP_997_processed_raw_FINAL.h5ad\")"
   ]
  },
  {
   "cell_type": "code",
   "execution_count": null,
   "id": "025b1e3f-69a5-4891-9b2f-3addc875f1ae",
   "metadata": {},
   "outputs": [],
   "source": [
    "# Remove all cells where the cell_type is 'mature NK T cell'\n",
    "adata = adata[adata.obs[\"cell_type\"] != \"mature NK T cell\"] # BBecause there is only one cell in replicate 1"
   ]
  },
  {
   "cell_type": "code",
   "execution_count": null,
   "id": "250a0824-8d57-4d78-96ab-375aa77f199e",
   "metadata": {},
   "outputs": [],
   "source": [
    "adata.write(\"HTAPP_997_processed_raw_FINAL_fixed.h5ad\")"
   ]
  },
  {
   "cell_type": "code",
   "execution_count": null,
   "id": "5b84aecd-20f2-4aac-a4d8-b4f9a924ffc3",
   "metadata": {},
   "outputs": [],
   "source": [
    "adata.obs[\"cell_type\"].value_counts()"
   ]
  },
  {
   "cell_type": "code",
   "execution_count": null,
   "id": "4812724c-cfc2-4138-82a0-833c5649d62a",
   "metadata": {},
   "outputs": [],
   "source": [
    "# Split the data set into train and test\n",
    "from sklearn.model_selection import train_test_split\n",
    "\n",
    "\n",
    "split_key = \"split\"\n",
    "adata.obs[split_key] = \"train\"\n",
    "idx = list(range(len(adata)))\n",
    "idx_train, idx_test = train_test_split(adata.obs_names, test_size=0.1, random_state=42)\n",
    "adata.obs.loc[idx_train, split_key] = \"train\"\n",
    "adata.obs.loc[idx_test, split_key] = \"test\"\n",
    "\n",
    "# Filter the data to use only the training set and make a copy\n",
    "adata_train = adata[adata.obs[split_key] == \"train\"].copy()\n",
    "adata_test = adata[adata.obs[split_key] == \"test\"].copy()"
   ]
  },
  {
   "cell_type": "code",
   "execution_count": null,
   "id": "84732927-9b1b-4598-849d-0265b6073c94",
   "metadata": {},
   "outputs": [],
   "source": [
    "adata"
   ]
  },
  {
   "cell_type": "code",
   "execution_count": null,
   "id": "893a2a16-9abc-41f4-8e2f-f78e0c32d0ad",
   "metadata": {},
   "outputs": [],
   "source": [
    "scgen.SCGEN.setup_anndata(adata_train, batch_key = \"replicate\", labels_key=\"cell_type\")"
   ]
  },
  {
   "cell_type": "code",
   "execution_count": null,
   "id": "d2c76a8e-f13e-4b57-8c72-cd3fd8bb4a72",
   "metadata": {},
   "outputs": [],
   "source": [
    "model = scgen.SCGEN(adata_train)\n",
    "model.save(\"work/abtch_removal/HTAPP_batchremoval\", overwrite=True)"
   ]
  },
  {
   "cell_type": "code",
   "execution_count": null,
   "id": "8a38b4b7-d8bb-4570-b133-869023474df8",
   "metadata": {},
   "outputs": [],
   "source": [
    "model"
   ]
  },
  {
   "cell_type": "code",
   "execution_count": null,
   "id": "79e8eb33-3227-45ff-8ea6-03e87004f756",
   "metadata": {},
   "outputs": [],
   "source": [
    "model.train(\n",
    "    max_epochs=300,\n",
    "    batch_size=32,\n",
    "    early_stopping=True,\n",
    "    early_stopping_patience=100,\n",
    ")"
   ]
  },
  {
   "cell_type": "code",
   "execution_count": null,
   "id": "9a7b6170-b750-450e-af37-f44dd2b5a829",
   "metadata": {},
   "outputs": [],
   "source": [
    "model"
   ]
  },
  {
   "cell_type": "code",
   "execution_count": null,
   "id": "1f16c4ce-b0e3-4df8-8754-d5f5b39eb7f0",
   "metadata": {},
   "outputs": [],
   "source": [
    "model.load(\"/work/scGen_Human_vascular/work/scGen_Human_vascular_new_run_fix/saved_models/scGen_HTAPP_GPU_run_fix_raw\", adata = adata_train)"
   ]
  },
  {
   "cell_type": "code",
   "execution_count": null,
   "id": "c516112b-4fe9-412b-a617-45a21ec8bcd1",
   "metadata": {},
   "outputs": [],
   "source": [
    "model.is_trained = True"
   ]
  },
  {
   "cell_type": "code",
   "execution_count": null,
   "id": "13fde87b-4096-4c5d-b242-d1ddb7ee2c75",
   "metadata": {},
   "outputs": [],
   "source": [
    "model"
   ]
  },
  {
   "cell_type": "code",
   "execution_count": null,
   "id": "f182866c-069d-4a78-9d07-1b3edc6008ca",
   "metadata": {
    "scrolled": true
   },
   "outputs": [],
   "source": [
    "# Batch removal\n",
    "corrected_adata = model.batch_removal()\n",
    "corrected_adata"
   ]
  },
  {
   "cell_type": "code",
   "execution_count": null,
   "id": "d1461511-b923-4f4b-b16d-b2a0b5262b84",
   "metadata": {},
   "outputs": [],
   "source": []
  },
  {
   "cell_type": "code",
   "execution_count": null,
   "id": "c33b9b1a-484d-4e27-8528-8464ec74b69a",
   "metadata": {},
   "outputs": [],
   "source": [
    "adata_test"
   ]
  },
  {
   "cell_type": "code",
   "execution_count": null,
   "id": "18c5f3ae-4be5-4343-8a2a-3d04788c1de8",
   "metadata": {},
   "outputs": [],
   "source": [
    "model.adata_manager.summary()"
   ]
  },
  {
   "cell_type": "code",
   "execution_count": null,
   "id": "f68e0f4d-e7ae-4c66-88b3-3b869349c042",
   "metadata": {},
   "outputs": [],
   "source": [
    "pred, delta = model.predict(\n",
    "    ctrl_key=\"1\",\n",
    "    stim_key=\"1\",\n",
    "    adata_to_predict=adata_test\n",
    ")\n"
   ]
  },
  {
   "cell_type": "code",
   "execution_count": null,
   "id": "eb278b85-a351-40a6-ad27-edc4d8f1ca4d",
   "metadata": {},
   "outputs": [],
   "source": [
    "# If rec is an AnnData object, extract the X attribute (i.e., the data matrix)\n",
    "import anndata\n",
    "if isinstance(pred, anndata.AnnData):\n",
    "    pred = pred.X\n",
    "\n",
    "# Now, rec should be a numpy array or sparse matrix, which is what obsm expects\n",
    "adata_test.obsm[\"X_reconstructed\"] = pred\n",
    "\n",
    "# Save the entire object with the reconstructed data\n",
    "adata_test.write(\"scGen_HTAPP_raw_fix_adata_post_with_latent_and_recon_batch_removed.h5ad\")"
   ]
  },
  {
   "cell_type": "code",
   "execution_count": null,
   "id": "da1b0d74-3754-4cff-81e1-d5bc8cca9c14",
   "metadata": {},
   "outputs": [],
   "source": [
    "latent_X=model.get_latent_representation(adata, batch_size=256)\n",
    "#latent_adata = sc.AnnData(X=latent_X, obs=adata_train.obs.copy())"
   ]
  }
 ],
 "metadata": {
  "kernelspec": {
   "display_name": "Python 3 ",
   "language": "python",
   "name": "python3"
  },
  "language_info": {
   "codemirror_mode": {
    "name": "ipython",
    "version": 3
   },
   "file_extension": ".py",
   "mimetype": "text/x-python",
   "name": "python",
   "nbconvert_exporter": "python",
   "pygments_lexer": "ipython3",
   "version": "3.12.10"
  }
 },
 "nbformat": 4,
 "nbformat_minor": 5
}

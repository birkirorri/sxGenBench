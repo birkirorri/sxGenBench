{
 "cells": [
  {
   "cell_type": "code",
   "execution_count": null,
   "id": "7e48309f-5018-43b3-9dec-858a219aedeb",
   "metadata": {
    "scrolled": true
   },
   "outputs": [],
   "source": [
    "pip install session_info"
   ]
  },
  {
   "cell_type": "code",
   "execution_count": null,
   "id": "caabe1fe-4c4c-482d-8409-42bc83a3f2e5",
   "metadata": {},
   "outputs": [],
   "source": [
    "import session_info"
   ]
  },
  {
   "cell_type": "code",
   "execution_count": null,
   "id": "8104d87e-206a-4a73-b320-a371d3136a39",
   "metadata": {
    "scrolled": true
   },
   "outputs": [],
   "source": [
    "pip install git+https://github.com/theislab/scgen.git"
   ]
  },
  {
   "cell_type": "code",
   "execution_count": null,
   "id": "ee72badd-8994-4b2e-96c9-02ce24f52d66",
   "metadata": {
    "scrolled": true
   },
   "outputs": [],
   "source": [
    "pip install scvi-tools==1.1.1"
   ]
  },
  {
   "cell_type": "code",
   "execution_count": null,
   "id": "e6c22c16-112b-4344-860c-653b601d101a",
   "metadata": {
    "scrolled": true
   },
   "outputs": [],
   "source": [
    "import scanpy as sc\n",
    "import torch\n",
    "import logging\n",
    "import scgen # Development version only works!!!!!!!!! Confirmed 25\n",
    "import sklearn\n",
    "import seaborn as sns\n",
    "import torch\n",
    "import warnings\n",
    "import os\n",
    "import sys\n",
    "import re\n",
    "\n",
    "\n",
    "\n",
    "\n",
    "\n",
    "#import numpy as np\n",
    "\n",
    "# Remember to downgrade scvi-tools (Sometimes need to downgrade not always, use pip install scvi-tools 1.6, 1.1.1 ) \n",
    "# sqrt issue in latent space\n",
    "\n",
    "# 1. Download scanpy\n",
    "# 2. Download scgen (not development version) --use that one for now"
   ]
  },
  {
   "cell_type": "code",
   "execution_count": null,
   "id": "c3a7d010-8ab6-4d20-88a9-df913fa44c68",
   "metadata": {},
   "outputs": [],
   "source": [
    "session_info.show()"
   ]
  },
  {
   "cell_type": "code",
   "execution_count": null,
   "id": "fa09ba12-e778-4623-9edc-7a5e843ce8b6",
   "metadata": {},
   "outputs": [],
   "source": [
    "from sklearn.metrics import mean_squared_error,mean_absolute_error"
   ]
  },
  {
   "cell_type": "code",
   "execution_count": null,
   "id": "bad937d3-ebea-4a21-a97a-20bd818d5430",
   "metadata": {},
   "outputs": [],
   "source": [
    "adata = sc.read(\"/work/scGen_Human_vascular/new_data_fix_may/HTAPP_997_processed_raw_FINAL.h5ad\")"
   ]
  },
  {
   "cell_type": "code",
   "execution_count": null,
   "id": "9fc11382-f638-406a-984f-25a08a4679b2",
   "metadata": {},
   "outputs": [],
   "source": [
    "adata.obs[\"replicate\"]"
   ]
  },
  {
   "cell_type": "code",
   "execution_count": null,
   "id": "3ae8baf2-5d6b-41d8-997b-cf8070586e6e",
   "metadata": {},
   "outputs": [],
   "source": [
    "adata.obs"
   ]
  },
  {
   "cell_type": "code",
   "execution_count": null,
   "id": "b04dc684-6359-4cea-adce-99da437511d6",
   "metadata": {},
   "outputs": [],
   "source": [
    "# Subset the data\n",
    "subset_mask = (adata.obs['replicate'] == '1') & (adata.obs['cell_type'] == 'hepatocyte')\n",
    "subset_adata = adata[subset_mask].copy()  \n",
    "train_adata = adata[~subset_mask].copy()  # Training data is everything except the subset"
   ]
  },
  {
   "cell_type": "code",
   "execution_count": null,
   "id": "c08c604b-1af2-4ddb-9bc8-4cb0da95839e",
   "metadata": {},
   "outputs": [],
   "source": [
    "adata"
   ]
  },
  {
   "cell_type": "code",
   "execution_count": null,
   "id": "3ec8de4a-54e1-4cc6-8b2d-cde05c4f94a3",
   "metadata": {},
   "outputs": [],
   "source": [
    "adata.obs[\"Phase\"]"
   ]
  },
  {
   "cell_type": "code",
   "execution_count": null,
   "id": "6e46f511-ea4f-49ef-b0fd-b1b6d78ff915",
   "metadata": {},
   "outputs": [],
   "source": [
    "print(train_adata.obs.groupby(['replicate', 'cell_type']).size())"
   ]
  },
  {
   "cell_type": "code",
   "execution_count": null,
   "id": "35b05352-e124-4378-b525-f7fa7f7db923",
   "metadata": {},
   "outputs": [],
   "source": [
    "print(\"Max:\", adata.X.max())\n",
    "print(\"Mean:\", adata.X.mean())"
   ]
  },
  {
   "cell_type": "code",
   "execution_count": null,
   "id": "1b861f25-596b-456f-b0b6-42a4771b66d9",
   "metadata": {},
   "outputs": [],
   "source": [
    "import numpy as np\n",
    "\n",
    "# Convert to dense temporarily\n",
    "dense_X = adata.X.toarray() if hasattr(adata.X, \"toarray\") else adata.X\n",
    "\n",
    "# Check if all values are integers\n",
    "is_integer_counts = np.all(dense_X == np.floor(dense_X))\n",
    "\n",
    "print(\"Is count matrix all integers:\", is_integer_counts)\n"
   ]
  },
  {
   "cell_type": "code",
   "execution_count": null,
   "id": "65d27f3c-09d0-4d9f-a833-5d96d4ac6bd1",
   "metadata": {},
   "outputs": [],
   "source": [
    "scgen.SCGEN.setup_anndata(train_adata, batch_key=\"replicate\", labels_key=\"cell_type\")"
   ]
  },
  {
   "cell_type": "code",
   "execution_count": null,
   "id": "9dd1301c-3e69-416b-81bb-605b004dd029",
   "metadata": {},
   "outputs": [],
   "source": [
    "model = scgen.SCGEN(train_adata)\n",
    "#model.save(\"scGen_Human_vascular/LOA/LOA_scGen_HTAPP\", overwrite=True)"
   ]
  },
  {
   "cell_type": "code",
   "execution_count": null,
   "id": "89f21f9c-ca1f-44ec-83d6-30477d219dd4",
   "metadata": {},
   "outputs": [],
   "source": [
    "model.train(\n",
    "    max_epochs=400,\n",
    "    early_stopping=False,\n",
    "    early_stopping_patience=25, \n",
    ")\n"
   ]
  },
  {
   "cell_type": "code",
   "execution_count": null,
   "id": "b5acb068-db93-4c75-a067-d54160419d71",
   "metadata": {},
   "outputs": [],
   "source": [
    "model.save(\"scGen_Human_vascular/work/scGen_Human_vascular/LOA_HTAPP_fixed_rub/\", overwrite=True)"
   ]
  },
  {
   "cell_type": "code",
   "execution_count": null,
   "id": "e8975877-69c2-40b4-a460-a67cad7c6f40",
   "metadata": {
    "scrolled": true
   },
   "outputs": [],
   "source": [
    "scgen.SCGEN.load(\"/work/scGen_Human_vascular/LOA/scGen_Human_vascular/work/scGen_Human_vascular/LOA_models_gou/scGen_HTAPP_LOA_FINAL\",\n",
    "                 adata = train_adata)\n"
   ]
  },
  {
   "cell_type": "code",
   "execution_count": null,
   "id": "3c70cbed-1b20-4e7b-965a-5c81e3c31714",
   "metadata": {},
   "outputs": [],
   "source": [
    "hepatocyte_2 = train_adata[\n",
    "    (train_adata.obs[\"replicate\"] == \"2\") &\n",
    "    (train_adata.obs[\"cell_type\"] == \"hepatocyte\")\n",
    "].copy()"
   ]
  },
  {
   "cell_type": "code",
   "execution_count": null,
   "id": "55275a23-b6a4-4516-b887-2047d191ec54",
   "metadata": {},
   "outputs": [],
   "source": [
    "hepatocyte_2"
   ]
  },
  {
   "cell_type": "code",
   "execution_count": null,
   "id": "6b314b5a-2409-4278-bac5-ca729f3fd129",
   "metadata": {},
   "outputs": [],
   "source": [
    "baseline_adata,_ = model.predict(\n",
    "    ctrl_key=\"2\",        # encode cells as replicate 2\n",
    "    stim_key=\"2\",        # then decode them _still_ as replicate 2\n",
    "    adata_to_predict=hepatocyte_2\n",
    ")"
   ]
  },
  {
   "cell_type": "code",
   "execution_count": null,
   "id": "5fe368fb-03dc-4011-82a5-65b80e5f2cf8",
   "metadata": {},
   "outputs": [],
   "source": [
    "cf = hepatocyte_2.copy()\n",
    "cf.obs[\"replicate\"] = \"1\""
   ]
  },
  {
   "cell_type": "code",
   "execution_count": null,
   "id": "e97b130e-771f-4527-8efb-accef9876e8f",
   "metadata": {},
   "outputs": [],
   "source": [
    "cf.obs[\"replicate\"]"
   ]
  },
  {
   "cell_type": "code",
   "execution_count": null,
   "id": "36dc5d78-2434-4094-b67b-e9dc4295b659",
   "metadata": {},
   "outputs": [],
   "source": [
    "cf_pred, _ = model.predict(\n",
    "    ctrl_key=\"2\",        # encode those same cells as rep 2\n",
    "    stim_key=\"1\",          \n",
    "    adata_to_predict=cf\n",
    ")"
   ]
  },
  {
   "cell_type": "code",
   "execution_count": null,
   "id": "760140e1-b1f7-4c16-81a8-8eb4c2336bdb",
   "metadata": {},
   "outputs": [],
   "source": [
    "# Compute per-gene ground-truth means\n",
    "# Gt for females is now females with hepatocytes\n",
    "\n",
    "rep_2_gt = (\n",
    "    hepatocyte_2.X.toarray().mean(axis=0)\n",
    "    if hasattr(hepatocyte_2.X, \"toarray\")\n",
    "    else hepatocyte_2.X.mean(axis=0)\n",
    ")\n",
    "\n",
    "\n",
    "#    Gt for the male is now the held out dataset\n",
    "rep_1_gt = (\n",
    "    subset_adata.X.toarray().mean(axis=0)\n",
    "    if hasattr(subset_adata.X, \"toarray\")\n",
    "    else subset_adata.X.mean(axis=0)\n",
    ")\n"
   ]
  },
  {
   "cell_type": "code",
   "execution_count": null,
   "id": "69cbb891-8317-4874-8fd2-56ee14a21735",
   "metadata": {},
   "outputs": [],
   "source": [
    "subset_adata"
   ]
  },
  {
   "cell_type": "code",
   "execution_count": null,
   "id": "d7669cdc-2d78-417a-885e-ae0787838509",
   "metadata": {},
   "outputs": [],
   "source": [
    "import numpy as np"
   ]
  },
  {
   "cell_type": "code",
   "execution_count": null,
   "id": "8a9423a7-dba8-4f23-b736-576dd5275017",
   "metadata": {},
   "outputs": [],
   "source": [
    "#  Compute per-gene prediction means \n",
    "baseline_pred = np.asarray(baseline_adata.X.mean(axis=0)).ravel()\n",
    "cf_pred       = np.asarray(cf_pred.X.mean(axis=0)).ravel()"
   ]
  },
  {
   "cell_type": "code",
   "execution_count": null,
   "id": "3a07c106-bc24-4941-8311-1ba4e972b9a5",
   "metadata": {},
   "outputs": [],
   "source": [
    "# RMSEs\n",
    "rmse_baseline = np.sqrt(np.mean((baseline_pred-rep_1_gt)**2))\n",
    "rmse_cf       = np.sqrt(np.mean((cf_pred-rep_1_gt)**2))\n",
    "\n",
    "print(f\"RMSE baseline      (rep2→rep2): {rmse_baseline:.4f}\")\n",
    "print(f\"RMSE counterfactual(rep2→rep1)  : {rmse_cf:.4f}\")"
   ]
  },
  {
   "cell_type": "code",
   "execution_count": null,
   "id": "c219594e-cbe5-4d8f-a0e4-df960077bf9b",
   "metadata": {},
   "outputs": [],
   "source": [
    "print(\"Max ground truth:\", np.max(rep_1_gt))\n",
    "print(\"Min ground truth:\", np.min(rep_1_gt))\n",
    "print(\"How many zeros:\", np.sum(rep_1_gt == 0))\n"
   ]
  },
  {
   "cell_type": "code",
   "execution_count": null,
   "id": "1f7053f4-1804-439f-b593-241c713cec4a",
   "metadata": {},
   "outputs": [],
   "source": [
    "f_m = np.sqrt(np.mean((baseline_pred - rep_1_gt)**2)) #pred-F --- TM\n",
    "m_m = np.sqrt(np.mean((cf_pred - rep_1_gt)**2)) # pred_M --- TM\n",
    "f_f  =np.sqrt(np.mean((baseline_pred - rep_2_gt)**2)) # pref F ----- TF\n",
    "m_f = np.sqrt(np.mean((cf_pred - rep_2_gt)**2)) # pref M ---- TF\n",
    "\n",
    "print(f\"RMSE pred F --- TM: {f_m:.4f}\")\n",
    "print(f\"RMSE pred M --- TM (counterfactual)  : {m_m:.4f}\")\n",
    "print(f\"RMSE pred F ----- TF : {f_f:.4f}\")\n",
    "print(f\"RMSE pred M ---- TF (counterfactual)  : {m_f:.4f}\")"
   ]
  },
  {
   "cell_type": "code",
   "execution_count": null,
   "id": "2532ab02-fdc9-43f8-93d3-f7cb885f49aa",
   "metadata": {},
   "outputs": [],
   "source": [
    "import matplotlib.pyplot as plt\n",
    "\n",
    "# Define RMSE values\n",
    "rmse_data = [\n",
    "    [\"0.0255\", \"0.1887\"],  # True Female\n",
    "    [\"0.9332\", \"0.8605\"],  # True Male\n",
    "]\n",
    "\n",
    "# Define labels\n",
    "column_labels = [\"Pred Replicate 2\", \"Pred Replicate 1 (CF)\"]\n",
    "row_labels = [\"True Replicate 2\", \"True Replicate 1\"]\n",
    "\n",
    "# Create the figure and axis\n",
    "fig, ax = plt.subplots(figsize=(6, 2))\n",
    "ax.axis('tight')\n",
    "ax.axis('off')\n",
    "\n",
    "# Create the table\n",
    "table = ax.table(\n",
    "    cellText=rmse_data,\n",
    "    rowLabels=row_labels,\n",
    "    colLabels=column_labels,\n",
    "    cellLoc='center',\n",
    "    loc='center'\n",
    ")\n",
    "\n",
    "table.scale(1, 2)  # Increase row height\n",
    "table.auto_set_font_size(False)\n",
    "table.set_fontsize(12)\n",
    "\n",
    "# Color the lower row cells\n",
    "# Note: Rows and columns are 1-indexed in table.get_celld()\n",
    "table[(2, 0)].set_facecolor(\"orange\")  # True Male, Pred Female\n",
    "table[(2, 1)].set_facecolor(\"lightblue\")  # True Male, Pred Male\n",
    "\n",
    "plt.title(\"RMSE between Predictions and Ground truth\", pad=20)\n",
    "plt.tight_layout()\n",
    "plt.show()"
   ]
  },
  {
   "cell_type": "code",
   "execution_count": null,
   "id": "d4695509-470a-413f-8119-e82a82b9a033",
   "metadata": {},
   "outputs": [],
   "source": [
    "import numpy as np\n",
    "import seaborn as sns\n",
    "import matplotlib.pyplot as plt\n",
    "\n",
    "# Log-transform the data\n",
    "log_male_gt = np.log1p(rep_1_gt)\n",
    "log_cf_pred = np.log1p(cf_pred)\n",
    "log_baseline_pred = np.log1p(baseline_pred)\n",
    "\n",
    "# Scatter plot of log-transformed ground truth vs. predictions\n",
    "fig, ax = plt.subplots(figsize=(10, 6))\n",
    "\n",
    "sns.scatterplot(\n",
    "    x=log_male_gt, y=log_cf_pred,\n",
    "    alpha=0.7, ax=ax\n",
    ")\n",
    "\n",
    "sns.scatterplot(\n",
    "    x=log_male_gt, y=log_baseline_pred,\n",
    "    alpha=0.7, ax=ax\n",
    ")\n",
    "\n",
    "# Identity line (in log space)\n",
    "mn = min(log_male_gt.min(), log_male_gt.min())\n",
    "mx = max(log_male_gt.max(), log_male_gt.max())\n",
    "ax.plot([mn, mx], [mn, mx], ls=\"--\", color=\"red\")\n",
    "\n",
    "\n",
    "ax.set_xlabel(\"Log Ground Truth (Male)\")\n",
    "ax.set_ylabel(\"Log Predicted Mean Expression\")\n",
    "ax.set_title(\"Leave One Out analysis\" )\n",
    "ax.legend(loc=\"upper left\")\n",
    "plt.tight_layout()\n",
    "plt.show()\n"
   ]
  }
 ],
 "metadata": {
  "kernelspec": {
   "display_name": "Python 3 ",
   "language": "python",
   "name": "python3"
  },
  "language_info": {
   "codemirror_mode": {
    "name": "ipython",
    "version": 3
   },
   "file_extension": ".py",
   "mimetype": "text/x-python",
   "name": "python",
   "nbconvert_exporter": "python",
   "pygments_lexer": "ipython3",
   "version": "3.12.10"
  }
 },
 "nbformat": 4,
 "nbformat_minor": 5
}

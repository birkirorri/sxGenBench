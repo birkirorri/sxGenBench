{
 "cells": [
  {
   "cell_type": "code",
   "execution_count": null,
   "id": "288ba286-94e5-44c4-b8e5-f7925a562caf",
   "metadata": {
    "scrolled": true,
    "tags": []
   },
   "outputs": [],
   "source": [
    "pip install git+https://github.com/theislab/cpa"
   ]
  },
  {
   "cell_type": "code",
   "execution_count": null,
   "id": "8607e8cd-c6b6-4452-b1ab-e7a8d07886ad",
   "metadata": {},
   "outputs": [],
   "source": [
    "# Run in terminal : sed -i '/from tkinter import N/d' ~/.local/lib/python3.10/site-packages/cpa/_model.py"
   ]
  },
  {
   "cell_type": "code",
   "execution_count": null,
   "id": "e3bc8b68-45e6-4c84-be44-0b41bc33b6ec",
   "metadata": {},
   "outputs": [],
   "source": [
    "import sys\n",
    "print(sys.version)\n"
   ]
  },
  {
   "cell_type": "code",
   "execution_count": null,
   "id": "2498af85-75b3-4f6f-8aa3-4d41ff41216e",
   "metadata": {
    "scrolled": true,
    "tags": []
   },
   "outputs": [],
   "source": [
    "pip install scanpy"
   ]
  },
  {
   "cell_type": "code",
   "execution_count": null,
   "id": "66a7412d-0de7-4b31-9a7b-7e404ede0ff7",
   "metadata": {
    "tags": []
   },
   "outputs": [],
   "source": [
    "import cpa\n",
    "import scanpy as sc\n",
    "import pandas as pd\n",
    "import seaborn as sns\n",
    "import scipy\n",
    "from sklearn.metrics import mean_squared_error, r2_score, mean_absolute_error\n",
    "import numpy as np\n",
    "from scipy.stats import pearsonr\n",
    "import matplotlib.pyplot as plt"
   ]
  },
  {
   "cell_type": "code",
   "execution_count": null,
   "id": "d01d20e9-0cd5-467b-be78-6cd543387aba",
   "metadata": {
    "tags": []
   },
   "outputs": [],
   "source": [
    "sc.settings.set_figure_params(dpi=100)"
   ]
  },
  {
   "cell_type": "code",
   "execution_count": null,
   "id": "d0fd7cd3-62c5-4c3d-bff1-4b7d485e4b52",
   "metadata": {
    "tags": []
   },
   "outputs": [],
   "source": [
    "adata = sc.read(\"/work/CPA_Healthy_hamstring/new_data_raw_fix/healthy_hamstring_processed_adata_raw.h5ad\")"
   ]
  },
  {
   "cell_type": "code",
   "execution_count": null,
   "id": "534be53a-69de-4ddb-b696-4269b1ffef35",
   "metadata": {},
   "outputs": [],
   "source": [
    "adata"
   ]
  },
  {
   "cell_type": "code",
   "execution_count": null,
   "id": "71fb8ffa-2569-4947-bc6c-20d556a3bb95",
   "metadata": {
    "tags": []
   },
   "outputs": [],
   "source": [
    "# Split the data set into train and test\n",
    "from sklearn.model_selection import train_test_split\n",
    "\n",
    "split_key = \"split\"\n",
    "adata.obs[split_key] = \"train\"\n",
    "idx = list(range(len(adata)))\n",
    "idx_train, idx_test = train_test_split(adata.obs_names, test_size=0.1, random_state=42)\n",
    "adata.obs.loc[idx_train, split_key] = \"train\"\n",
    "adata.obs.loc[idx_test, split_key] = \"test\""
   ]
  },
  {
   "cell_type": "code",
   "execution_count": null,
   "id": "9194304a-1565-4f47-9f6e-1d2bc4be9af3",
   "metadata": {},
   "outputs": [],
   "source": [
    "adata_train = adata[adata.obs[split_key] == \"train\"].copy()\n",
    "adata_test = adata[adata.obs[split_key] == \"test\"].copy()"
   ]
  },
  {
   "cell_type": "code",
   "execution_count": null,
   "id": "5824ee07-61cf-4239-9e6f-f2e7a23a5838",
   "metadata": {},
   "outputs": [],
   "source": [
    "adata_train"
   ]
  },
  {
   "cell_type": "code",
   "execution_count": null,
   "id": "eb4c7d89-f9f2-475b-9b24-637b28c6bb00",
   "metadata": {},
   "outputs": [],
   "source": [
    "adata.obs[\"donor_id\"]"
   ]
  },
  {
   "cell_type": "code",
   "execution_count": null,
   "id": "bc79cbdf-a9dc-40c4-9a00-f27fb4fadfa6",
   "metadata": {
    "tags": []
   },
   "outputs": [],
   "source": [
    "adata.obs['split'].value_counts()"
   ]
  },
  {
   "cell_type": "code",
   "execution_count": null,
   "id": "2f472d17-7ac2-4ecd-9803-59c351e28696",
   "metadata": {
    "tags": []
   },
   "outputs": [],
   "source": [
    "adata.X = adata.layers[\"counts\"].copy()"
   ]
  },
  {
   "cell_type": "code",
   "execution_count": null,
   "id": "0f0c52e3-3c32-4729-8b60-3732d9ba4f39",
   "metadata": {
    "tags": []
   },
   "outputs": [],
   "source": [
    "cpa.CPA.setup_anndata(adata,\n",
    "                      perturbation_key='donor_id',\n",
    "                      control_group='MSK0782',\n",
    "                      is_count_data=True,\n",
    "                      categorical_covariate_keys=[\"cell_type\", \"sex\", \"donor_id\"],\n",
    "                      max_comb_len=1,\n",
    "                     )"
   ]
  },
  {
   "cell_type": "code",
   "execution_count": null,
   "id": "514bbc5f-a588-4878-b312-7b4625324af9",
   "metadata": {
    "scrolled": true,
    "tags": []
   },
   "outputs": [],
   "source": [
    "adata.uns['rank_genes_groups']"
   ]
  },
  {
   "cell_type": "code",
   "execution_count": null,
   "id": "894e2064-6d14-400c-8f4e-780c99455497",
   "metadata": {
    "tags": []
   },
   "outputs": [],
   "source": [
    "model_params = {\n",
    "    \"n_latent\": 64,\n",
    "    \"recon_loss\": \"nb\",\n",
    "    \"doser_type\": \"linear\",\n",
    "    \"n_hidden_encoder\": 128,\n",
    "    \"n_layers_encoder\": 2,\n",
    "    \"n_hidden_decoder\": 512,\n",
    "    \"n_layers_decoder\": 2,\n",
    "    \"use_batch_norm_encoder\": True,\n",
    "    \"use_layer_norm_encoder\": False,\n",
    "    \"use_batch_norm_decoder\": False,\n",
    "    \"use_layer_norm_decoder\": True,\n",
    "    \"dropout_rate_encoder\": 0.0,\n",
    "    \"dropout_rate_decoder\": 0.1,\n",
    "    \"variational\": False,\n",
    "    \"seed\": 42,\n",
    "}\n",
    "\n",
    "trainer_params = {\n",
    "    \"n_epochs_kl_warmup\": None,\n",
    "    \"n_epochs_pretrain_ae\": 30,\n",
    "    \"n_epochs_adv_warmup\": 50,\n",
    "    \"n_epochs_mixup_warmup\": 0,\n",
    "    \"mixup_alpha\": 0.0,\n",
    "    \"adv_steps\": None,\n",
    "    \"n_hidden_adv\": 64,\n",
    "    \"n_layers_adv\": 3,\n",
    "    \"use_batch_norm_adv\": True,\n",
    "    \"use_layer_norm_adv\": False,\n",
    "    \"dropout_rate_adv\": 0.3,\n",
    "    \"reg_adv\": 20.0,\n",
    "    \"pen_adv\": 5.0,\n",
    "    \"lr\": 0.0003,\n",
    "    \"wd\": 4e-07,\n",
    "    \"adv_lr\": 0.0003,\n",
    "    \"adv_wd\": 4e-07,\n",
    "    \"adv_loss\": \"cce\",\n",
    "    \"doser_lr\": 0.0003,\n",
    "    \"doser_wd\": 4e-07,\n",
    "    \"do_clip_grad\": True,\n",
    "    \"gradient_clip_value\": 1.0,\n",
    "    \"step_size_lr\": 10,\n",
    "}"
   ]
  },
  {
   "cell_type": "code",
   "execution_count": null,
   "id": "77e8a92a-01aa-4af8-9b4a-65aca5db46a3",
   "metadata": {
    "tags": []
   },
   "outputs": [],
   "source": [
    "adata.obs['split'].value_counts()"
   ]
  },
  {
   "cell_type": "code",
   "execution_count": null,
   "id": "446a2a3a-45a1-4b43-a8c4-f7aa3d0839c8",
   "metadata": {
    "tags": []
   },
   "outputs": [],
   "source": [
    "model = cpa.CPA(adata=adata,\n",
    "                split_key='split',\n",
    "                train_split='train',\n",
    "                **model_params,\n",
    "               )"
   ]
  },
  {
   "cell_type": "code",
   "execution_count": null,
   "id": "12a5f5d8-d53c-4d4d-91ec-2bf7a7114ed0",
   "metadata": {
    "scrolled": true
   },
   "outputs": [],
   "source": [
    "model.train(max_epochs=500,\n",
    "            use_gpu=True,\n",
    "            batch_size=512,\n",
    "            plan_kwargs=trainer_params,\n",
    "            early_stopping_patience=5,\n",
    "            check_val_every_n_epoch=5,\n",
    "            save_path='CPA_Healthy_hamstring/new_raw_models_fixed_batch_effect3',\n",
    "           )"
   ]
  },
  {
   "cell_type": "code",
   "execution_count": null,
   "id": "2ccdaed5-df7f-42bc-bd07-1608069cd254",
   "metadata": {},
   "outputs": [],
   "source": [
    "df = pd.read_csv(\"/work/CPA_Healthy_hamstring/CPA_Healthy_hamstring/Results/history.csv\")"
   ]
  },
  {
   "cell_type": "code",
   "execution_count": null,
   "id": "1d38300d-3c25-447d-bed7-bf9610805f6d",
   "metadata": {},
   "outputs": [],
   "source": [
    "cpa.pl.plot_history(model)"
   ]
  },
  {
   "cell_type": "code",
   "execution_count": null,
   "id": "9048f225-f658-41ff-88da-8943995972b3",
   "metadata": {},
   "outputs": [],
   "source": [
    "model.save(\"/work/CPA_Healthy_hamstring/CPA_Healthy_hamstring/HH_removed_batch_effect_3\")"
   ]
  },
  {
   "cell_type": "code",
   "execution_count": null,
   "id": "9fb73cfd-9077-4f52-9fc4-67bce77baea0",
   "metadata": {
    "tags": []
   },
   "outputs": [],
   "source": [
    "cpa_model=model.load(\"/work/CPA_Healthy_hamstring/CPA_Healthy_hamstring/HH_removed_batch_effect\", adata=adata)"
   ]
  },
  {
   "cell_type": "code",
   "execution_count": null,
   "id": "798313ff-48a1-4f0d-9193-9f425790b7e4",
   "metadata": {},
   "outputs": [],
   "source": [
    "df = pd.read_csv(\"/work/CPA_Healthy_hamstring/CPA_Healthy_hamstring/Results_more_covar/history.csv\")"
   ]
  },
  {
   "cell_type": "code",
   "execution_count": null,
   "id": "aa729b03-59d8-42b8-9d5a-42c3a9922b93",
   "metadata": {
    "tags": []
   },
   "outputs": [],
   "source": [
    "latent_outputs = model.get_latent_representation(adata, batch_size=1024)"
   ]
  },
  {
   "cell_type": "code",
   "execution_count": null,
   "id": "96446947-d3e8-4146-936b-5347a5a9ffbf",
   "metadata": {},
   "outputs": [],
   "source": [
    "adata_test"
   ]
  },
  {
   "cell_type": "code",
   "execution_count": null,
   "id": "57c06a29-1dee-4c96-a1b2-6db406664075",
   "metadata": {},
   "outputs": [],
   "source": [
    "cpa.CPA.setup_anndata(adata_test,\n",
    "                      perturbation_key='donor_id',\n",
    "                      control_group='MSK0782',\n",
    "                      is_count_data=True,\n",
    "                      categorical_covariate_keys=[\"cell_type\", \"sex\", \"donor_id\"],\n",
    "                      max_comb_len=1,\n",
    "                     )"
   ]
  },
  {
   "cell_type": "code",
   "execution_count": null,
   "id": "0079ced3-15d8-44a8-9752-ebc079d39632",
   "metadata": {},
   "outputs": [],
   "source": [
    "# Predict using cell_type embeddings, removing the batch embeddings (batch corrected)\n",
    "output_no_batch = model.custom_predict(adata= adata_test,\n",
    "                   covars_to_add=[\"cell_type\", \"sex\", \"donor_id\"],\n",
    "                   add_batch=False,\n",
    "                   add_pert=False,\n",
    "                   batch_size=2048)\n"
   ]
  },
  {
   "cell_type": "code",
   "execution_count": null,
   "id": "03a2cb5a-aea3-40c5-aa10-2ae0d997b754",
   "metadata": {},
   "outputs": [],
   "source": [
    "print(output_no_batch.keys())"
   ]
  },
  {
   "cell_type": "code",
   "execution_count": null,
   "id": "db1ed015-7683-4d2e-859f-9fcbf560a1f7",
   "metadata": {},
   "outputs": [],
   "source": [
    "adata_test"
   ]
  },
  {
   "cell_type": "code",
   "execution_count": null,
   "id": "eef92ae4-3a00-4638-9254-2523b575ad34",
   "metadata": {},
   "outputs": [],
   "source": [
    "CPA_pred = output_no_batch[\"latent_x_pred\"].X\n"
   ]
  },
  {
   "cell_type": "code",
   "execution_count": null,
   "id": "b511d655-e9de-4891-8803-4822bad3d65f",
   "metadata": {},
   "outputs": [],
   "source": [
    "CPA_pred"
   ]
  },
  {
   "cell_type": "code",
   "execution_count": null,
   "id": "fcf68421-242a-41f5-9fba-3a691026430e",
   "metadata": {},
   "outputs": [],
   "source": [
    "import scanpy as sc\n",
    "\n",
    "# Get the prediction matrix\n",
    "CPA_pred = output_no_batch[\"latent_x_pred\"].X\n",
    "CPA_pred = CPA_pred.toarray() if hasattr(CPA_pred, \"toarray\") else CPA_pred\n",
    "\n",
    "# Add prediction to adata_test\n",
    "adata_test.obsm[\"CPA_pred\"] = CPA_pred\n",
    "\n",
    "# Save to file\n",
    "adata_test.write(\"adata_HH_with_CPA_pred_removed_batch.h5ad\")\n"
   ]
  }
 ],
 "metadata": {
  "kernelspec": {
   "display_name": "Python 3 ",
   "language": "python",
   "name": "python3"
  },
  "language_info": {
   "codemirror_mode": {
    "name": "ipython",
    "version": 3
   },
   "file_extension": ".py",
   "mimetype": "text/x-python",
   "name": "python",
   "nbconvert_exporter": "python",
   "pygments_lexer": "ipython3",
   "version": "3.12.10"
  }
 },
 "nbformat": 4,
 "nbformat_minor": 5
}

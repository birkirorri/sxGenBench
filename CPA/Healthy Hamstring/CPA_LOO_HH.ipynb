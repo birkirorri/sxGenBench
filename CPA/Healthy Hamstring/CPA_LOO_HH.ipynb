{
 "cells": [
  {
   "cell_type": "code",
   "execution_count": null,
   "id": "98adf0de",
   "metadata": {
    "scrolled": true
   },
   "outputs": [],
   "source": [
    "pip install git+https://github.com/theislab/cpa"
   ]
  },
  {
   "cell_type": "code",
   "execution_count": null,
   "id": "8bac1f35",
   "metadata": {
    "tags": []
   },
   "outputs": [],
   "source": [
    "import cpa\n",
    "import scanpy as sc\n",
    "import pandas as pd\n",
    "import seaborn as sns\n",
    "import scipy\n",
    "from sklearn.metrics import mean_squared_error, r2_score, mean_absolute_error\n",
    "import numpy as np\n",
    "from scipy.stats import pearsonr\n",
    "import matplotlib.pyplot as plt"
   ]
  },
  {
   "cell_type": "code",
   "execution_count": null,
   "id": "1fed6f8d",
   "metadata": {
    "tags": []
   },
   "outputs": [],
   "source": [
    "sc.settings.set_figure_params(dpi=100)"
   ]
  },
  {
   "cell_type": "code",
   "execution_count": null,
   "id": "6337b307",
   "metadata": {
    "tags": []
   },
   "outputs": [],
   "source": [
    "data_path = \"/work/CPA_Healthy_hamstring/new_data_raw_fix/healthy_hamstring_processed_adata_raw.h5ad\""
   ]
  },
  {
   "cell_type": "code",
   "execution_count": null,
   "id": "2c85cc0e",
   "metadata": {
    "tags": []
   },
   "outputs": [],
   "source": [
    "adata = sc.read(data_path)"
   ]
  },
  {
   "cell_type": "code",
   "execution_count": null,
   "id": "e64b2e47",
   "metadata": {
    "tags": []
   },
   "outputs": [],
   "source": [
    "# Subset the data\n",
    "subset_mask = (adata.obs['sex'] == 'male') & (adata.obs['cell_type'] == 'slow muscle cell')\n",
    "subset_adata = adata[subset_mask].copy()  \n",
    "train_adata = adata[~subset_mask].copy()  # Training data is everything except the subset"
   ]
  },
  {
   "cell_type": "code",
   "execution_count": null,
   "id": "9effcc08-3b09-4622-bc6f-494aff0af3fe",
   "metadata": {},
   "outputs": [],
   "source": [
    "train_adata.obs.groupby(['sex', 'cell_type']).size()"
   ]
  },
  {
   "cell_type": "code",
   "execution_count": null,
   "id": "670e4a7a",
   "metadata": {
    "tags": []
   },
   "outputs": [],
   "source": [
    "train_adata"
   ]
  },
  {
   "cell_type": "code",
   "execution_count": null,
   "id": "3219312d",
   "metadata": {
    "tags": []
   },
   "outputs": [],
   "source": [
    "adata.layers['counts'] = adata.X.copy()"
   ]
  },
  {
   "cell_type": "code",
   "execution_count": null,
   "id": "bd90bcf7",
   "metadata": {
    "tags": []
   },
   "outputs": [],
   "source": [
    "cpa.CPA.setup_anndata(train_adata,\n",
    "                      perturbation_key='sex',\n",
    "                      dosage_key=None,\n",
    "                      control_group='female',\n",
    "                      batch_key=None,\n",
    "                      is_count_data=True,\n",
    "                      categorical_covariate_keys=[\"cell_type\", \"sex\", \"donor_id\", \"development_stage_ontology_term_id\", \"development_stage\"],\n",
    "                      deg_uns_key=None,\n",
    "                      deg_uns_cat_key=None,\n",
    "                      max_comb_len=2,\n",
    "                     )"
   ]
  },
  {
   "cell_type": "code",
   "execution_count": null,
   "id": "7421d2f3",
   "metadata": {
    "tags": []
   },
   "outputs": [],
   "source": [
    "model_params = {\n",
    "    \"n_latent\": 64,\n",
    "    \"recon_loss\": \"nb\",\n",
    "    \"doser_type\": \"linear\",\n",
    "    \"n_hidden_encoder\": 128,\n",
    "    \"n_layers_encoder\": 2,\n",
    "    \"n_hidden_decoder\": 512,\n",
    "    \"n_layers_decoder\": 2,\n",
    "    \"use_batch_norm_encoder\": True,\n",
    "    \"use_layer_norm_encoder\": False,\n",
    "    \"use_batch_norm_decoder\": False,\n",
    "    \"use_layer_norm_decoder\": True,\n",
    "    \"dropout_rate_encoder\": 0.0,\n",
    "    \"dropout_rate_decoder\": 0.1,\n",
    "    \"variational\": False,\n",
    "    \"seed\": 42,\n",
    "}\n",
    "\n",
    "trainer_params = {\n",
    "    \"n_epochs_kl_warmup\": None,\n",
    "    \"n_epochs_pretrain_ae\": 30,\n",
    "    \"n_epochs_adv_warmup\": 50,\n",
    "    \"n_epochs_mixup_warmup\": 0,\n",
    "    \"mixup_alpha\": 0.0,\n",
    "    \"adv_steps\": None,\n",
    "    \"n_hidden_adv\": 64,\n",
    "    \"n_layers_adv\": 3,\n",
    "    \"use_batch_norm_adv\": True,\n",
    "    \"use_layer_norm_adv\": False,\n",
    "    \"dropout_rate_adv\": 0.3,\n",
    "    \"reg_adv\": 20.0,\n",
    "    \"pen_adv\": 5.0,\n",
    "    \"lr\": 0.0003,\n",
    "    \"wd\": 4e-07,\n",
    "    \"adv_lr\": 0.0003,\n",
    "    \"adv_wd\": 4e-07,\n",
    "    \"adv_loss\": \"cce\",\n",
    "    \"doser_lr\": 0.0003,\n",
    "    \"doser_wd\": 4e-07,\n",
    "    \"do_clip_grad\": True,\n",
    "    \"gradient_clip_value\": 1.0,\n",
    "    \"step_size_lr\": 10,\n",
    "}"
   ]
  },
  {
   "cell_type": "code",
   "execution_count": null,
   "id": "d570eec5",
   "metadata": {
    "tags": []
   },
   "outputs": [],
   "source": [
    "model = cpa.CPA(adata=train_adata,\n",
    "                **model_params,\n",
    "               )"
   ]
  },
  {
   "cell_type": "code",
   "execution_count": null,
   "id": "4a4a172d",
   "metadata": {
    "scrolled": true,
    "tags": []
   },
   "outputs": [],
   "source": [
    "model.train(max_epochs=500,\n",
    "            use_gpu=True,\n",
    "            batch_size=512,\n",
    "            plan_kwargs=trainer_params,\n",
    "            early_stopping_patience=5,\n",
    "            check_val_every_n_epoch=50,\n",
    "            save_path='CPA_Healthy_hamstring/LOA_CPA_HH_fixed_data_rerun_2_max_2000',\n",
    "           )"
   ]
  },
  {
   "cell_type": "code",
   "execution_count": null,
   "id": "7d787126",
   "metadata": {
    "tags": []
   },
   "outputs": [],
   "source": [
    "cpa.pl.plot_history(model)"
   ]
  },
  {
   "cell_type": "code",
   "execution_count": null,
   "id": "90cef00e",
   "metadata": {
    "tags": []
   },
   "outputs": [],
   "source": [
    "model.load(\"/work/CPA_Healthy_hamstring/CPA_Healthy_hamstring/LOA_CPA_HH_fixed_data_rerun\", adata=train_adata)"
   ]
  },
  {
   "cell_type": "code",
   "execution_count": null,
   "id": "2ca3e1bb",
   "metadata": {
    "tags": []
   },
   "outputs": [],
   "source": [
    "model.is_trained_ = True\n",
    "model.is_trained = True\n",
    "model"
   ]
  },
  {
   "cell_type": "code",
   "execution_count": null,
   "id": "1a557ae7-96ba-455f-9f06-6f5785e8928a",
   "metadata": {},
   "outputs": [],
   "source": [
    "model"
   ]
  },
  {
   "cell_type": "code",
   "execution_count": null,
   "id": "617395ec",
   "metadata": {
    "tags": []
   },
   "outputs": [],
   "source": [
    "latent_outputs = model.get_latent_representation(train_adata, batch_size=1024)"
   ]
  },
  {
   "cell_type": "code",
   "execution_count": null,
   "id": "24ef8087",
   "metadata": {},
   "outputs": [],
   "source": []
  },
  {
   "cell_type": "code",
   "execution_count": null,
   "id": "3d1e3652",
   "metadata": {
    "tags": []
   },
   "outputs": [],
   "source": [
    "sc.settings.verbosity = 3"
   ]
  },
  {
   "cell_type": "code",
   "execution_count": null,
   "id": "bf548264",
   "metadata": {
    "tags": []
   },
   "outputs": [],
   "source": [
    "latent_basal_adata = latent_outputs['latent_basal']\n",
    "latent_adata = latent_outputs['latent_after']"
   ]
  },
  {
   "cell_type": "code",
   "execution_count": null,
   "id": "f754c747",
   "metadata": {
    "tags": []
   },
   "outputs": [],
   "source": [
    "latent_outputs.keys()"
   ]
  },
  {
   "cell_type": "code",
   "execution_count": null,
   "id": "20d3c468",
   "metadata": {
    "tags": []
   },
   "outputs": [],
   "source": [
    "adata.layers['X_true'] = adata.X.copy()"
   ]
  },
  {
   "cell_type": "code",
   "execution_count": null,
   "id": "e95c4af8-d8b9-43f1-8a40-c21403da8f64",
   "metadata": {},
   "outputs": [],
   "source": [
    "train_adata.obs[train_adata.obs['sex'] == 'male']['cell_type'].unique()"
   ]
  },
  {
   "cell_type": "code",
   "execution_count": null,
   "id": "6961af97-88b7-42f1-8d7b-486219121528",
   "metadata": {},
   "outputs": [],
   "source": [
    "# 1) Pull out the female slow-muscle cells from what the model saw in training:\n",
    "female_slow = train_adata[\n",
    "    (train_adata.obs[\"sex\"] == \"female\") &\n",
    "    (train_adata.obs[\"cell_type\"] == \"slow muscle cell\")\n",
    "].copy()"
   ]
  },
  {
   "cell_type": "code",
   "execution_count": null,
   "id": "6cdf6549-1576-4d88-8c6f-da0a49146c2d",
   "metadata": {},
   "outputs": [],
   "source": [
    "female_slow.obs[\"sex\"]"
   ]
  },
  {
   "cell_type": "code",
   "execution_count": null,
   "id": "f0408891-9d72-4970-bef4-a05bfc836f2d",
   "metadata": {},
   "outputs": [],
   "source": [
    "# — 5) Baseline reconstruction (female→female) —\n",
    "#    Simply call predict on the AnnData as-is; CPA will reconstruct .X into .obsm['CPA_pred'] :contentReference[oaicite:0]{index=0}\n",
    "baseline_adata = model.predict(adata=female_slow, batch_size=256, return_mean=True)"
   ]
  },
  {
   "cell_type": "code",
   "execution_count": null,
   "id": "a720a743-e12c-4bea-bcfd-cb38159554af",
   "metadata": {},
   "outputs": [],
   "source": [
    "# — 6) Counterfactual (female→male) —\n",
    "cf = female_slow.copy()\n",
    "cf.obs[\"sex\"] = \"male\"\n",
    "cf.obsm[\"X_true\"] = cf.X.copy()"
   ]
  },
  {
   "cell_type": "code",
   "execution_count": null,
   "id": "159e8c1f-1bb8-450e-af31-698121ea5f4c",
   "metadata": {},
   "outputs": [],
   "source": [
    "cf.obs[\"sex\"]"
   ]
  },
  {
   "cell_type": "code",
   "execution_count": null,
   "id": "59f8c669-750f-43d8-8396-d0eb00ff081c",
   "metadata": {},
   "outputs": [],
   "source": [
    "cf_pred = model.predict(adata=cf, batch_size=256,return_mean=True)\n",
    "#    Now cf.obsm['CPA_pred'] is your “what-if male” prediction"
   ]
  },
  {
   "cell_type": "code",
   "execution_count": null,
   "id": "57819cda-cf63-4930-8b08-74b49e622290",
   "metadata": {},
   "outputs": [],
   "source": [
    "# Compute per-gene ground-truth means\n",
    "# Gt for females is now females with hepatocytes\n",
    "\n",
    "female_gt = (\n",
    "    female_slow.X.toarray().mean(axis=0)\n",
    "    if hasattr(female_slow.X, \"toarray\")\n",
    "    else female_slow.X.mean(axis=0)\n",
    ")\n",
    "\n",
    "\n",
    "#    Gt for the male is now the held out dataset\n",
    "male_gt = (\n",
    "    subset_adata.X.toarray().mean(axis=0)\n",
    "    if hasattr(subset_adata.X, \"toarray\")\n",
    "    else subset_adata.X.mean(axis=0)\n",
    ")\n"
   ]
  },
  {
   "cell_type": "code",
   "execution_count": null,
   "id": "39a74b0a-dacc-46a4-a94e-3d9b75b7862f",
   "metadata": {},
   "outputs": [],
   "source": [
    "female_slow"
   ]
  },
  {
   "cell_type": "code",
   "execution_count": null,
   "id": "7b446b75-3198-4ffb-a119-7452f8bb2693",
   "metadata": {},
   "outputs": [],
   "source": [
    "female_slow.obsm[\"CPA_pred\"]"
   ]
  },
  {
   "cell_type": "code",
   "execution_count": null,
   "id": "a490f471-691f-437b-baef-ffdc9e703591",
   "metadata": {},
   "outputs": [],
   "source": [
    "cf"
   ]
  },
  {
   "cell_type": "code",
   "execution_count": null,
   "id": "6cbc55b2-abf6-46f5-8ea3-d2c6a0115c3b",
   "metadata": {},
   "outputs": [],
   "source": [
    "#  Compute per-gene prediction means \n",
    "baseline_pred = np.asarray(female_slow.obsm[\"CPA_pred\"].mean(axis=0)).ravel()\n",
    "cf_pred       = np.asarray(cf.obsm[\"CPA_pred\"].mean(axis=0)).ravel()"
   ]
  },
  {
   "cell_type": "code",
   "execution_count": null,
   "id": "f55a6ea2-8254-4810-b3b6-26712c9a5d14",
   "metadata": {},
   "outputs": [],
   "source": [
    "baseline_pred"
   ]
  },
  {
   "cell_type": "code",
   "execution_count": null,
   "id": "7c312d60-1509-455e-999a-fb074ba9468c",
   "metadata": {},
   "outputs": [],
   "source": [
    "cf_pred"
   ]
  },
  {
   "cell_type": "code",
   "execution_count": null,
   "id": "d835dc69-3dc2-457d-9ee7-c8d1ebe4b00e",
   "metadata": {},
   "outputs": [],
   "source": [
    "f_m = np.sqrt(np.mean((baseline_pred - male_gt)**2)) #pred-F --- TM\n",
    "m_m = np.sqrt(np.mean((cf_pred - male_gt)**2)) # pred_M --- TM\n",
    "f_f  =np.sqrt(np.mean((baseline_pred - female_gt)**2)) # pref F ----- TF\n",
    "m_f = np.sqrt(np.mean((cf_pred - female_gt)**2)) # pref M ---- TF\n",
    "\n",
    "print(f\"RMSE pred F --- TM: {f_m:.4f}\")\n",
    "print(f\"RMSE pred M --- TM (counterfactual)  : {m_m:.4f}\")\n",
    "print(f\"RMSE pred F ----- TF : {f_f:.4f}\")\n",
    "print(f\"RMSE pred M ---- TF (counterfactual)  : {m_f:.4f}\")"
   ]
  },
  {
   "cell_type": "code",
   "execution_count": null,
   "id": "4e5030d6-b4eb-458c-8ca7-470b6a522a98",
   "metadata": {},
   "outputs": [],
   "source": []
  },
  {
   "cell_type": "code",
   "execution_count": null,
   "id": "f3cf3aac-6769-45e9-8d98-bcd00de63132",
   "metadata": {},
   "outputs": [],
   "source": [
    "import numpy as np\n",
    "import seaborn as sns\n",
    "import matplotlib.pyplot as plt\n",
    "\n",
    "# Log-transform the data\n",
    "log_male_gt = np.log1p(male_gt)\n",
    "log_cf_pred = np.log1p(cf_pred)\n",
    "log_baseline_pred = np.log1p(baseline_pred)\n",
    "\n",
    "# Scatter plot of log-transformed ground truth vs. predictions\n",
    "fig, ax = plt.subplots(figsize=(10, 6))\n",
    "\n",
    "sns.scatterplot(\n",
    "    x=log_male_gt, y=log_cf_pred,\n",
    "    alpha=0.7, ax=ax\n",
    ")\n",
    "\n",
    "sns.scatterplot(\n",
    "    x=log_male_gt, y=log_baseline_pred,\n",
    "    alpha=0.7, ax=ax\n",
    ")\n",
    "\n",
    "# Identity line (in log space)\n",
    "mn = min(log_male_gt.min(), log_male_gt.min())\n",
    "mx = max(log_male_gt.max(), log_male_gt.max())\n",
    "ax.plot([mn, mx], [mn, mx], ls=\"--\", color=\"red\")\n",
    "\n",
    "\n",
    "ax.set_xlabel(\"Log Ground Truth (Male)\")\n",
    "ax.set_ylabel(\"Log Predicted Mean Expression\")\n",
    "ax.set_title(\"Leave One Out analysis\" )\n",
    "ax.legend(loc=\"upper left\")\n",
    "ax.grid(False)\n",
    "plt.tight_layout()\n",
    "plt.show()\n"
   ]
  },
  {
   "cell_type": "code",
   "execution_count": null,
   "id": "bda3e6ff-b740-4065-a6e7-0cc51d7f71ba",
   "metadata": {},
   "outputs": [],
   "source": [
    "import matplotlib.pyplot as plt\n",
    "\n",
    "# Define RMSE values\n",
    "rmse_data = [\n",
    "    [\"0.0780\", \"0.7737\"],  # True Female\n",
    "    [\"0.4117\", \"0.9765\"],  # True Male\n",
    "]\n",
    "\n",
    "# Define labels\n",
    "column_labels = [\"Pred Female\", \"Pred Male (CF)\"]\n",
    "row_labels = [\"True Female\", \"True Male\"]\n",
    "\n",
    "# Create the figure and axis\n",
    "fig, ax = plt.subplots(figsize=(6, 2))\n",
    "ax.axis('tight')\n",
    "ax.axis('off')\n",
    "\n",
    "# Create the table\n",
    "table = ax.table(\n",
    "    cellText=rmse_data,\n",
    "    rowLabels=row_labels,\n",
    "    colLabels=column_labels,\n",
    "    cellLoc='center',\n",
    "    loc='center'\n",
    ")\n",
    "\n",
    "table.scale(1, 2)  # Increase row height\n",
    "table.auto_set_font_size(False)\n",
    "table.set_fontsize(12)\n",
    "\n",
    "# Color the lower row cells\n",
    "# Note: Rows and columns are 1-indexed in table.get_celld()\n",
    "table[(2, 0)].set_facecolor(\"orange\")  # True Male, Pred Female\n",
    "table[(2, 1)].set_facecolor(\"lightblue\")  # True Male, Pred Male\n",
    "\n",
    "plt.title(\"RMSE between Predictions and Ground truth\", pad=20)\n",
    "plt.tight_layout()\n",
    "plt.show()\n"
   ]
  },
  {
   "cell_type": "code",
   "execution_count": null,
   "id": "dc183dc0-6ccb-45ed-aae0-fa6f84b3adde",
   "metadata": {},
   "outputs": [],
   "source": []
  }
 ],
 "metadata": {
  "kernelspec": {
   "display_name": "Python 3 ",
   "language": "python",
   "name": "python3"
  },
  "language_info": {
   "codemirror_mode": {
    "name": "ipython",
    "version": 3
   },
   "file_extension": ".py",
   "mimetype": "text/x-python",
   "name": "python",
   "nbconvert_exporter": "python",
   "pygments_lexer": "ipython3",
   "version": "3.12.10"
  }
 },
 "nbformat": 4,
 "nbformat_minor": 5
}

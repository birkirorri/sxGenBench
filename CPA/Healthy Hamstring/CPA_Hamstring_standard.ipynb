{
 "cells": [
  {
   "cell_type": "code",
   "execution_count": null,
   "id": "852ea0a8",
   "metadata": {
    "scrolled": true,
    "tags": []
   },
   "outputs": [],
   "source": [
    "pip install git+https://github.com/theislab/cpa"
   ]
  },
  {
   "cell_type": "code",
   "execution_count": null,
   "id": "74a1c58b-015b-4a40-8df3-70264f2985f2",
   "metadata": {},
   "outputs": [],
   "source": [
    "# Run in terminal : sed -i '/from tkinter import N/d' ~/.local/lib/python3.10/site-packages/cpa/_model.py"
   ]
  },
  {
   "cell_type": "code",
   "execution_count": null,
   "id": "079c8ab7-3099-42b4-94a4-ad1aacb6bcbd",
   "metadata": {},
   "outputs": [],
   "source": [
    "import sys\n",
    "print(sys.version)\n"
   ]
  },
  {
   "cell_type": "code",
   "execution_count": null,
   "id": "409aac4f",
   "metadata": {
    "scrolled": true,
    "tags": []
   },
   "outputs": [],
   "source": [
    "#pip install torch==1.13.1 -- Said in the documents to do this but dont"
   ]
  },
  {
   "cell_type": "code",
   "execution_count": null,
   "id": "bc9073c1",
   "metadata": {
    "scrolled": true,
    "tags": []
   },
   "outputs": [],
   "source": [
    "pip install scanpy"
   ]
  },
  {
   "cell_type": "code",
   "execution_count": null,
   "id": "c771e61b",
   "metadata": {
    "tags": []
   },
   "outputs": [],
   "source": [
    "import cpa\n",
    "import scanpy as sc\n",
    "import pandas as pd\n",
    "import seaborn as sns\n",
    "import scipy\n",
    "from sklearn.metrics import mean_squared_error, r2_score, mean_absolute_error\n",
    "import numpy as np\n",
    "from scipy.stats import pearsonr\n",
    "import matplotlib.pyplot as plt"
   ]
  },
  {
   "cell_type": "code",
   "execution_count": null,
   "id": "7cfd7c46",
   "metadata": {
    "tags": []
   },
   "outputs": [],
   "source": [
    "sc.settings.set_figure_params(dpi=100)"
   ]
  },
  {
   "cell_type": "code",
   "execution_count": null,
   "id": "1d0c3cad",
   "metadata": {
    "tags": []
   },
   "outputs": [],
   "source": [
    "adata = sc.read(\"/work/CPA_Healthy_hamstring/new_data_raw_fix/healthy_hamstring_processed_adata_raw.h5ad\")"
   ]
  },
  {
   "cell_type": "code",
   "execution_count": null,
   "id": "a8a146f1",
   "metadata": {},
   "outputs": [],
   "source": [
    "adata"
   ]
  },
  {
   "cell_type": "code",
   "execution_count": null,
   "id": "a0cd71e8",
   "metadata": {
    "tags": []
   },
   "outputs": [],
   "source": [
    "# Split the data set into train and test\n",
    "from sklearn.model_selection import train_test_split\n",
    "\n",
    "split_key = \"split\"\n",
    "adata.obs[split_key] = \"train\"\n",
    "idx = list(range(len(adata)))\n",
    "idx_train, idx_test = train_test_split(adata.obs_names, test_size=0.1, random_state=42)\n",
    "adata.obs.loc[idx_train, split_key] = \"train\"\n",
    "adata.obs.loc[idx_test, split_key] = \"test\""
   ]
  },
  {
   "cell_type": "code",
   "execution_count": null,
   "id": "102de5e4",
   "metadata": {},
   "outputs": [],
   "source": [
    "adata_train = adata[adata.obs[split_key] == \"train\"].copy()\n",
    "adata_test = adata[adata.obs[split_key] == \"test\"].copy()"
   ]
  },
  {
   "cell_type": "code",
   "execution_count": null,
   "id": "997e5560",
   "metadata": {},
   "outputs": [],
   "source": [
    "adata_train"
   ]
  },
  {
   "cell_type": "code",
   "execution_count": null,
   "id": "2090e91e-711a-4045-8ba6-06787c8f135c",
   "metadata": {},
   "outputs": [],
   "source": [
    "adata_test"
   ]
  },
  {
   "cell_type": "code",
   "execution_count": null,
   "id": "c6ef702c",
   "metadata": {
    "tags": []
   },
   "outputs": [],
   "source": [
    "adata.obs['split'].value_counts()"
   ]
  },
  {
   "cell_type": "code",
   "execution_count": null,
   "id": "32809f28",
   "metadata": {
    "tags": []
   },
   "outputs": [],
   "source": [
    "cpa.CPA.setup_anndata(adata,\n",
    "                      perturbation_key='sex',\n",
    "                      dosage_key=None,\n",
    "                      control_group='female',\n",
    "                      batch_key=None,\n",
    "                      is_count_data=True,\n",
    "                      categorical_covariate_keys=[\"cell_type\", \"sex\", \"donor_id\"],\n",
    "                      deg_uns_key=None,\n",
    "                      deg_uns_cat_key=None,\n",
    "                      max_comb_len=1,\n",
    "                     )"
   ]
  },
  {
   "cell_type": "code",
   "execution_count": null,
   "id": "03d001db",
   "metadata": {
    "tags": []
   },
   "outputs": [],
   "source": [
    "model_params = {\n",
    "    \"n_latent\": 64,\n",
    "    \"recon_loss\": \"nb\",\n",
    "    \"doser_type\": \"linear\",\n",
    "    \"n_hidden_encoder\": 128,\n",
    "    \"n_layers_encoder\": 2,\n",
    "    \"n_hidden_decoder\": 512,\n",
    "    \"n_layers_decoder\": 2,\n",
    "    \"use_batch_norm_encoder\": True,\n",
    "    \"use_layer_norm_encoder\": False,\n",
    "    \"use_batch_norm_decoder\": False,\n",
    "    \"use_layer_norm_decoder\": True,\n",
    "    \"dropout_rate_encoder\": 0.0,\n",
    "    \"dropout_rate_decoder\": 0.1,\n",
    "    \"variational\": False,\n",
    "    \"seed\": 42,\n",
    "}\n",
    "\n",
    "trainer_params = {\n",
    "    \"n_epochs_kl_warmup\": None,\n",
    "    \"n_epochs_pretrain_ae\": 30,\n",
    "    \"n_epochs_adv_warmup\": 50,\n",
    "    \"n_epochs_mixup_warmup\": 0,\n",
    "    \"mixup_alpha\": 0.0,\n",
    "    \"adv_steps\": None,\n",
    "    \"n_hidden_adv\": 64,\n",
    "    \"n_layers_adv\": 3,\n",
    "    \"use_batch_norm_adv\": True,\n",
    "    \"use_layer_norm_adv\": False,\n",
    "    \"dropout_rate_adv\": 0.3,\n",
    "    \"reg_adv\": 20.0,\n",
    "    \"pen_adv\": 5.0,\n",
    "    \"lr\": 0.0003,\n",
    "    \"wd\": 4e-07,\n",
    "    \"adv_lr\": 0.0003,\n",
    "    \"adv_wd\": 4e-07,\n",
    "    \"adv_loss\": \"cce\",\n",
    "    \"doser_lr\": 0.0003,\n",
    "    \"doser_wd\": 4e-07,\n",
    "    \"do_clip_grad\": True,\n",
    "    \"gradient_clip_value\": 1.0,\n",
    "    \"step_size_lr\": 10,\n",
    "}"
   ]
  },
  {
   "cell_type": "code",
   "execution_count": null,
   "id": "32549120",
   "metadata": {
    "tags": []
   },
   "outputs": [],
   "source": [
    "model = cpa.CPA(adata=adata,\n",
    "                split_key='split',\n",
    "                train_split='train',\n",
    "                **model_params,\n",
    "               )"
   ]
  },
  {
   "cell_type": "code",
   "execution_count": null,
   "id": "267be8c3",
   "metadata": {
    "scrolled": true
   },
   "outputs": [],
   "source": [
    "model.train(max_epochs=500,\n",
    "            use_gpu=True,\n",
    "            batch_size=512,\n",
    "            plan_kwargs=trainer_params,\n",
    "            early_stopping_patience=10,\n",
    "            check_val_every_n_epoch=5,\n",
    "            save_path='CPA_Healthy_hamstring/new_raw_models_fixed_2',\n",
    "           )"
   ]
  },
  {
   "cell_type": "code",
   "execution_count": null,
   "id": "8d7c7a76",
   "metadata": {},
   "outputs": [],
   "source": [
    "df = pd.read_csv(\"/work/CPA_Healthy_hamstring/CPA_Healthy_hamstring/Results/history.csv\")"
   ]
  },
  {
   "cell_type": "code",
   "execution_count": null,
   "id": "00cfb86e-12b6-47b6-b07f-ca584699bd26",
   "metadata": {},
   "outputs": [],
   "source": [
    "cpa.pl.plot_history(model)"
   ]
  },
  {
   "cell_type": "code",
   "execution_count": null,
   "id": "43e47587",
   "metadata": {
    "tags": []
   },
   "outputs": [],
   "source": [
    "cpa_model=model.load(\"/work/CPA_Healthy_hamstring/CPA_Healthy_hamstring/new_raw_models_fixed\", adata=adata)"
   ]
  },
  {
   "cell_type": "code",
   "execution_count": null,
   "id": "d1f2a12a",
   "metadata": {},
   "outputs": [],
   "source": [
    "df = pd.read_csv(\"/work/CPA_Healthy_hamstring/CPA_Healthy_hamstring/Results_more_covar/history.csv\")"
   ]
  },
  {
   "cell_type": "code",
   "execution_count": null,
   "id": "3d1db3af",
   "metadata": {},
   "outputs": [],
   "source": [
    "sns.lineplot(df,x=\"epoch\", y= \"r2_mean\", hue=\"mode\")"
   ]
  },
  {
   "cell_type": "code",
   "execution_count": null,
   "id": "2df4780d-7889-4031-9cb7-c7712b73d2f9",
   "metadata": {},
   "outputs": [],
   "source": [
    "cpa_model"
   ]
  },
  {
   "cell_type": "code",
   "execution_count": null,
   "id": "93a6cc6a",
   "metadata": {
    "tags": []
   },
   "outputs": [],
   "source": [
    "latent_outputs = model.get_latent_representation(adata, batch_size=1024)"
   ]
  },
  {
   "cell_type": "code",
   "execution_count": null,
   "id": "89d72729-0c3e-442a-8405-05f693d01a0b",
   "metadata": {},
   "outputs": [],
   "source": [
    "latent_outputs"
   ]
  },
  {
   "cell_type": "code",
   "execution_count": null,
   "id": "528e81dc",
   "metadata": {
    "tags": []
   },
   "outputs": [],
   "source": [
    "sc.settings.verbosity = 3"
   ]
  },
  {
   "cell_type": "code",
   "execution_count": null,
   "id": "57591526",
   "metadata": {},
   "outputs": [],
   "source": [
    "latent_outputs"
   ]
  },
  {
   "cell_type": "code",
   "execution_count": null,
   "id": "f307e381",
   "metadata": {
    "tags": []
   },
   "outputs": [],
   "source": [
    "latent_basal_adata = latent_outputs['latent_basal']\n",
    "latent_adata = latent_outputs['latent_after']"
   ]
  },
  {
   "cell_type": "code",
   "execution_count": null,
   "id": "a02dd205",
   "metadata": {
    "tags": []
   },
   "outputs": [],
   "source": [
    "sc.pp.neighbors(latent_basal_adata)\n",
    "sc.tl.umap(latent_basal_adata)"
   ]
  },
  {
   "cell_type": "code",
   "execution_count": null,
   "id": "de84c8f9",
   "metadata": {
    "tags": []
   },
   "outputs": [],
   "source": [
    "latent_basal_adata"
   ]
  },
  {
   "cell_type": "code",
   "execution_count": null,
   "id": "6c8fe58c",
   "metadata": {
    "tags": []
   },
   "outputs": [],
   "source": [
    "sc.pl.umap(latent_basal_adata, color=['cell_type'], frameon=False, wspace=0.2)"
   ]
  },
  {
   "cell_type": "code",
   "execution_count": null,
   "id": "a138a049",
   "metadata": {
    "scrolled": true,
    "tags": []
   },
   "outputs": [],
   "source": [
    "sc.pp.neighbors(latent_adata)\n",
    "sc.tl.umap(latent_adata)"
   ]
  },
  {
   "cell_type": "code",
   "execution_count": null,
   "id": "33aa6d97",
   "metadata": {
    "tags": []
   },
   "outputs": [],
   "source": [
    "sc.pl.umap(latent_adata, color=['donor_id'], frameon=False, wspace=0.2, )"
   ]
  },
  {
   "cell_type": "code",
   "execution_count": null,
   "id": "8bca7bc2",
   "metadata": {
    "tags": []
   },
   "outputs": [],
   "source": [
    "adata.layers['X_true'] = adata.X.copy()"
   ]
  },
  {
   "cell_type": "code",
   "execution_count": null,
   "id": "fb5a33da-079c-41b3-a297-5ef1fd7ab165",
   "metadata": {},
   "outputs": [],
   "source": [
    "plt.pladata.obsm[\"X_pca\"]"
   ]
  },
  {
   "cell_type": "code",
   "execution_count": null,
   "id": "438cb926-85df-4274-ba9d-fee30ef18856",
   "metadata": {},
   "outputs": [],
   "source": [
    "model.predict(adata_test, batch_size=2048)"
   ]
  },
  {
   "cell_type": "code",
   "execution_count": null,
   "id": "db6a44b3-1dc7-4188-8235-57f81cfaa5d8",
   "metadata": {},
   "outputs": [],
   "source": [
    "sc.pp.pca(adata_recon, n_comps=50)\n",
    "sc.pp.neighbors(adata_recon, use_rep=\"X_pca\")\n",
    "sc.tl.umap(adata_recon)\n",
    "sc.pl.umap(adata_recon, color=\"donor_id\")\n"
   ]
  },
  {
   "cell_type": "code",
   "execution_count": null,
   "id": "892c65a2-b9fb-478a-b816-c6fab57fb74e",
   "metadata": {},
   "outputs": [],
   "source": [
    "import anndata\n",
    "import numpy as np\n",
    "\n",
    "# CPA_pred is a NumPy array — wrap it into a new AnnData object\n",
    "X_recon = adata_test.obsm[\"CPA_pred\"]\n",
    "#adata_recon = anndata.AnnData(X=X_recon, obs=adata_test.obs.copy(), var=adata_test.var.copy())\n"
   ]
  },
  {
   "cell_type": "code",
   "execution_count": null,
   "id": "184af54e-de91-4d91-b016-860737e40668",
   "metadata": {},
   "outputs": [],
   "source": [
    "rec = adata_test.obsm[\"CPA_pred\"]"
   ]
  },
  {
   "cell_type": "code",
   "execution_count": null,
   "id": "de47f717-e24a-418d-8d1d-f1ca7bf75e61",
   "metadata": {},
   "outputs": [],
   "source": [
    "rec"
   ]
  },
  {
   "cell_type": "code",
   "execution_count": null,
   "id": "2f5e7477-ad62-4cdb-bbb0-c81efa48602e",
   "metadata": {},
   "outputs": [],
   "source": [
    "test.obs['split']"
   ]
  },
  {
   "cell_type": "code",
   "execution_count": null,
   "id": "17d5a312-2842-44a9-87d4-20b7d7f184c8",
   "metadata": {},
   "outputs": [],
   "source": [
    "# Step 1: Get ground truth from test set\n",
    "X_true = adata_test.X"
   ]
  },
  {
   "cell_type": "code",
   "execution_count": null,
   "id": "75b3cb34-6504-4df8-ace5-5856843ce7ea",
   "metadata": {},
   "outputs": [],
   "source": [
    "# Step 2: Convert sparse matrix to dense if needed\n",
    "if hasattr(X_true, \"toarray\"):\n",
    "    X_true = X_true.toarray()\n",
    "\n",
    "# Step 3: Flatten both arrays\n",
    "X_true_flat = X_true.flatten()\n",
    "rec_flat = rec.flatten()"
   ]
  },
  {
   "cell_type": "code",
   "execution_count": null,
   "id": "954c4785-9a2e-4497-bd01-23063dcf5bcb",
   "metadata": {},
   "outputs": [],
   "source": [
    "# Step 4: Compute R²\n",
    "r2 = r2_score(X_true_flat, rec_flat)\n",
    "print(f\"R² score: {r2:.4f}\")"
   ]
  },
  {
   "cell_type": "code",
   "execution_count": null,
   "id": "0f9214ae-8a04-44f7-9883-1588f4cd784b",
   "metadata": {},
   "outputs": [],
   "source": [
    "mse = mean_squared_error(X_true_flat, rec_flat)\n",
    "print(f\"Mean Squared Error: {mse}\")"
   ]
  },
  {
   "cell_type": "code",
   "execution_count": null,
   "id": "d431f7f3-4edb-4b67-863d-1f83f42399e4",
   "metadata": {},
   "outputs": [],
   "source": [
    "mae = mean_absolute_error(X_true_flat, rec_flat)\n",
    "print(f\"Mean absolute Error: {mae}\")"
   ]
  },
  {
   "cell_type": "code",
   "execution_count": null,
   "id": "3e6ec725",
   "metadata": {
    "tags": []
   },
   "outputs": [],
   "source": [
    "import scanpy as sc\n",
    "\n",
    "# Assuming 'adata' is your AnnData object\n",
    "# Extract the CPA_pred from the obsm attribute\n",
    "adata_CPA_pred = adata_test.copy()  \n",
    "adata_CPA_pred.obsm['CPA_pred'] = adata_test.obsm['CPA_pred']  # Ensure the CPA_pred is included\n",
    "\n",
    "# Save the new AnnData object to a new .h5ad file\n",
    "adata_CPA_pred.write('adata_HH_with_CPA_pred_new_raw_5.h5ad')"
   ]
  },
  {
   "cell_type": "code",
   "execution_count": null,
   "id": "56cd45e4",
   "metadata": {
    "tags": []
   },
   "outputs": [],
   "source": [
    "latent_outputs"
   ]
  },
  {
   "cell_type": "code",
   "execution_count": null,
   "id": "de538086",
   "metadata": {},
   "outputs": [],
   "source": [
    "import sklearn.metrics"
   ]
  },
  {
   "cell_type": "code",
   "execution_count": null,
   "id": "03f19f1e",
   "metadata": {
    "tags": []
   },
   "outputs": [],
   "source": [
    "from sklearn.preprocessing import LabelEncoder\n",
    "from sklearn.preprocessing import KBinsDiscretizer\n",
    "from sklearn.cluster import KMeans\n",
    "from sklearn.metrics import mutual_info_score\n",
    "from sklearn.model_selection import train_test_split\n",
    "###MIG###\n",
    "import numpy as np\n",
    "import anndata\n",
    "import pandas as pd\n",
    "\n",
    "def encode_categorical(data):\n",
    "    encoders = []\n",
    "    encoded_data = np.zeros_like(data, dtype=int)\n",
    "    for i in range(data.shape[1]):\n",
    "        le = LabelEncoder()\n",
    "        encoded_data[:, i] = le.fit_transform(data[:, i])\n",
    "        encoders.append(le)\n",
    "    return encoded_data, encoders\n",
    "\n",
    "def prep_data(adata, embedding, covriate_keys=None):\n",
    "    encoded_factors_of_variation, _ = encode_categorical(adata.obs[covriate_keys].values)\n",
    "\n",
    "    if isinstance(embedding, anndata.AnnData):  \n",
    "        embedding_data = embedding.X\n",
    "    else:\n",
    "        embedding_data = embedding\n",
    "\n",
    "    mus = np.array(embedding_data)\n",
    "    ys = np.array(encoded_factors_of_variation)\n",
    "\n",
    "    return mus.T.copy(), ys.T.copy()\n",
    "\n",
    "\n",
    "def compute_mig(mus, ys, covariate_names=None):\n",
    "    \"\"\"Computes the mutual information gap.\"\"\"\n",
    "    return _compute_mig(mus, ys, covariate_names)\n",
    "\n",
    "def _compute_mig(mus, ys, covariate_names=None):\n",
    "    \"\"\"Computes MIG score based on latent codes and covariates.\"\"\"\n",
    "    score_dict = {}\n",
    "    discretized_mus = make_discretizer(mus, discretizer_fn=_histogram_discretize)\n",
    "   # print(\"Sample Discretized Latent Variables:\\n\", discretized_mus[:, :5])\n",
    "    m = discrete_mutual_info(discretized_mus, ys)\n",
    "\n",
    "    if covariate_names is None:\n",
    "        covariate_names = [f\"Covariate {j}\" for j in range(m.shape[1])]\n",
    "        \n",
    "    for j in range(m.shape[1]):\n",
    "        top_indices = np.argsort(m[:, j])[::-1][:3]\n",
    "        top_scores = m[top_indices, j]\n",
    "        print(f\"Top 3 MI scores for covariate '{covariate_names[j]}':\")\n",
    "        for idx, score in zip(top_indices, top_scores):\n",
    "            print(f\"  Latent dim {idx}: MI = {score:.4f}\")\n",
    "\n",
    "    assert m.shape[0] == mus.shape[0]\n",
    "    assert m.shape[1] == ys.shape[0]\n",
    "\n",
    "    entropy = discrete_entropy(ys)\n",
    "    sorted_m = np.sort(m, axis=0)[::-1]\n",
    "\n",
    "    score_dict[\"discrete_mig\"] = np.mean(\n",
    "        np.divide(sorted_m[0, :] - sorted_m[1, :], entropy[:])\n",
    "    )\n",
    "\n",
    "    print(\"Þetta er score:\", score_dict)\n",
    "    print(\"Entropy values:\", entropy)\n",
    "    return score_dict\n",
    "\n",
    "def discrete_mutual_info(mus, ys):\n",
    "    num_codes = mus.shape[0]\n",
    "    num_factors = ys.shape[0]\n",
    "    m = np.zeros([num_codes, num_factors])\n",
    "    \n",
    "    for i in range(num_codes):\n",
    "        for j in range(num_factors):\n",
    "            m[i, j] = mutual_info_score(ys[j, :], mus[i, :])\n",
    "    \n",
    "    return m\n",
    "\n",
    "def discrete_entropy(ys):\n",
    "    num_factors = ys.shape[0]\n",
    "    h = np.zeros(num_factors)\n",
    "    \n",
    "    for j in range(num_factors):\n",
    "        h[j] = mutual_info_score(ys[j, :], ys[j, :])\n",
    "    \n",
    "    return h\n",
    "\n",
    "def _identity_discretizer(target, num_bins):\n",
    "    del num_bins\n",
    "    return target\n",
    "\n",
    "\n",
    "def _histogram_discretize(target, num_bins=10):\n",
    "    discretized = np.zeros_like(target)\n",
    "    for i in range(target.shape[0]):\n",
    "        discretized[i, :] = np.digitize(target[i, :], np.histogram(\n",
    "            target[i, :], num_bins)[1][:-1])\n",
    "    return discretized\n",
    "\n",
    "\n",
    "def make_discretizer(target, num_bins=10, discretizer_fn=_histogram_discretize):\n",
    "    return discretizer_fn(target, num_bins)\n",
    "\n",
    "\n",
    "def score_disentanglement(adata, embedding_data, embedding_basal, covriate_keys=None, continuous_covriate_keys=None):\n",
    "    mus, ys = prep_data(adata, embedding_data, covriate_keys=covriate_keys)\n",
    "    print('Computing MIG')\n",
    "    mig = compute_mig(mus, ys, covariate_names=covriate_keys)\n",
    "    return mig, mus, ys\n",
    "\n",
    "# Run MIG score\n",
    "mig_1,mus,ys = score_disentanglement(\n",
    "    adata,\n",
    "    latent_adata,\n",
    "    None,\n",
    "    covriate_keys=[\"cell_type\", \"sex\", \"donor_id\",]\n",
    ")\n",
    "\n",
    "print(\"MIG Score:\", mig_1)\n",
    "print(\"Latent variances:\", np.var(mus, axis=1))\n",
    "\n",
    "discretized_mus = _histogram_discretize(mus)\n",
    "m = discrete_mutual_info(discretized_mus, ys)\n",
    "\n",
    "print(\"MI matrix shape:\", m.shape)\n",
    "print(\"Max MI per factor:\", np.max(m, axis=0))\n",
    "print(\"Which latents have highest MI per factor:\", np.argmax(m, axis=0))\n",
    "\n",
    "\n"
   ]
  },
  {
   "cell_type": "code",
   "execution_count": null,
   "id": "feeed812-f0eb-47ae-b697-6394bb08d51c",
   "metadata": {},
   "outputs": [],
   "source": [
    "# Assume m is your MI matrix from MIG code\n",
    "mig_score, m = compute_mig(mus_train, ys_train, covariate_names=covriate_keys)\n",
    "\n",
    "latent_names = [f\"z{i}\" for i in range(m.shape[0])]\n",
    "factor_names = covriate_keys  # reuse your covariate list\n",
    "\n",
    "plot_mutual_info_matrix(m, latent_names, factor_names, title=\"Mutual Information Matrix (MIG)\")\n",
    "\n",
    "\n"
   ]
  },
  {
   "cell_type": "code",
   "execution_count": null,
   "id": "055f17d9",
   "metadata": {
    "tags": []
   },
   "outputs": [],
   "source": [
    "from sklearn.cluster import KMeans"
   ]
  },
  {
   "cell_type": "code",
   "execution_count": null,
   "id": "3d3885f1-2241-4bf8-b327-e7bbc24bc988",
   "metadata": {},
   "outputs": [],
   "source": [
    "# Finalized DCI computation based on disentanglement_lib\n",
    "\n",
    "import numpy as np\n",
    "import pandas as pd\n",
    "import anndata\n",
    "from sklearn.model_selection import train_test_split\n",
    "from sklearn.preprocessing import LabelEncoder\n",
    "from sklearn.ensemble import RandomForestClassifier\n",
    "from scipy.stats import entropy\n",
    "\n",
    "# === Encoding and Preprocessing ===\n",
    "def encode_categorical(data):\n",
    "    encoded_data = np.zeros_like(data, dtype=int)\n",
    "    for i in range(data.shape[1]):\n",
    "        le = LabelEncoder()\n",
    "        encoded_data[:, i] = le.fit_transform(data[:, i])\n",
    "    return encoded_data\n",
    "\n",
    "def remove_duplicate_columns(df):\n",
    "    df_unique = df.T.drop_duplicates().T\n",
    "    return df_unique\n",
    "\n",
    "def prep_data(adata, embedding, covariate_keys, test_size=0.25):\n",
    "    idx_train, idx_test = train_test_split(\n",
    "        range(len(adata)), test_size=test_size, random_state=42\n",
    "    )\n",
    "    cov_df = adata.obs[covariate_keys].copy()\n",
    "    cov_df = remove_duplicate_columns(cov_df)\n",
    "    encoded_factors = encode_categorical(cov_df.values)\n",
    "    embedding_data = embedding.X if isinstance(embedding, anndata.AnnData) else embedding\n",
    "    mus_train = embedding_data[idx_train]\n",
    "    mus_test = embedding_data[idx_test]\n",
    "    ys_train = encoded_factors[idx_train]\n",
    "    ys_test = encoded_factors[idx_test]\n",
    "    return mus_train.T, ys_train.T, mus_test.T, ys_test.T\n",
    "\n",
    "# === Importance Matrix ===\n",
    "def compute_importance_rf(x_train, y_train, x_test, y_test):\n",
    "    num_factors = y_train.shape[0]\n",
    "    num_codes = x_train.shape[0]\n",
    "    importance_matrix = np.zeros((num_codes, num_factors))\n",
    "    train_acc = []\n",
    "    test_acc = []\n",
    "    for i in range(num_factors):\n",
    "        model = RandomForestClassifier(random_state=42, max_depth=5)\n",
    "        model.fit(x_train.T, y_train[i])\n",
    "        importance_matrix[:, i] = np.abs(model.feature_importances_)\n",
    "        train_acc.append(np.mean(model.predict(x_train.T) == y_train[i]))\n",
    "        test_acc.append(np.mean(model.predict(x_test.T) == y_test[i]))\n",
    "    return importance_matrix, np.mean(train_acc), np.mean(test_acc)\n",
    "\n",
    "# === Disentanglement ===\n",
    "def disentanglement_per_code(importance_matrix):\n",
    "    row_sums = importance_matrix.sum(axis=1, keepdims=True)\n",
    "    safe_matrix = np.where(row_sums == 0, 1e-11, row_sums)\n",
    "    normalized = importance_matrix / safe_matrix\n",
    "    return 1. - entropy(normalized.T + 1e-11, base=importance_matrix.shape[1])\n",
    "\n",
    "def disentanglement(importance_matrix):\n",
    "    per_code = disentanglement_per_code(importance_matrix)\n",
    "    total = importance_matrix.sum()\n",
    "    if total == 0.:\n",
    "        return 0.0\n",
    "    code_importance = importance_matrix.sum(axis=1) / total\n",
    "    return np.sum(per_code * code_importance)\n",
    "\n",
    "# === Completeness ===\n",
    "def completeness_per_factor(importance_matrix):\n",
    "    return 1. - entropy(importance_matrix + 1e-11, base=importance_matrix.shape[0])\n",
    "\n",
    "def completeness(importance_matrix):\n",
    "    per_factor = completeness_per_factor(importance_matrix)\n",
    "    total = importance_matrix.sum()\n",
    "    if total == 0.:\n",
    "        return 0.0\n",
    "    factor_importance = importance_matrix.sum(axis=0) / total\n",
    "    return np.sum(per_factor * factor_importance)\n",
    "\n",
    "# === DCI Master Function ===\n",
    "def compute_dci(mus_train, ys_train, mus_test, ys_test):\n",
    "    importance_matrix, train_acc, test_acc = compute_importance_rf(\n",
    "        mus_train, ys_train, mus_test, ys_test\n",
    "    )\n",
    "    threshold = 1e-11\n",
    "    importance_matrix = np.where(importance_matrix < threshold, 0, importance_matrix)\n",
    "    return {\n",
    "    \"disentanglement\": disentanglement(importance_matrix),\n",
    "    \"completeness\": completeness(importance_matrix),\n",
    "    \"importance_matrix\": importance_matrix,\n",
    "}\n"
   ]
  },
  {
   "cell_type": "code",
   "execution_count": null,
   "id": "b7ebbbea-f50d-4608-b327-efd510e7b679",
   "metadata": {},
   "outputs": [],
   "source": [
    "covariate_keys = [\"cell_type\", \"sex\", \"donor_id\"]\n",
    "mus_train, ys_train, mus_test, ys_test = prep_data(adata, latent_adata, covariate_keys)\n",
    "dci_scores = compute_dci(mus_train, ys_train, mus_test, ys_test)\n",
    "print(dci_scores)\n",
    "\n",
    "importance_matrix = dci_scores[\"importance_matrix\"]"
   ]
  },
  {
   "cell_type": "code",
   "execution_count": null,
   "id": "83de23e1-5933-43d7-ac63-b25da56d3cd1",
   "metadata": {},
   "outputs": [],
   "source": [
    "dci_scores"
   ]
  },
  {
   "cell_type": "code",
   "execution_count": null,
   "id": "4d5f9c3e-e993-4b6a-a7d7-a6930c8887ea",
   "metadata": {},
   "outputs": [],
   "source": [
    "#SAP score\n",
    "from sklearn import svm\n",
    "\n",
    "def compute_sap(mus, ys, mus_test, ys_test, continuous_factors):\n",
    "    \"\"\"Computes the SAP score.\n",
    "\n",
    "    Args:\n",
    "        mus, ys, mus_test, ys_test\n",
    "        continuous_factors: Factors are continuous variable (True) or not (False).\n",
    "\n",
    "    Returns:\n",
    "        Dictionary with SAP score.\n",
    "    \"\"\"\n",
    "\n",
    "    return _compute_sap(mus, ys, mus_test, ys_test, continuous_factors)\n",
    "\n",
    "def _compute_sap(mus, ys, mus_test, ys_test, continuous_factors):\n",
    "    \"\"\"Computes score based on both training and testing codes and factors.\"\"\"\n",
    "    score_matrix = compute_score_matrix(mus, ys, mus_test, ys_test, continuous_factors)\n",
    "    # Score matrix should have shape [num_latents, num_factors].\n",
    "    assert score_matrix.shape[0] == mus.shape[0]\n",
    "    assert score_matrix.shape[1] == ys.shape[0]\n",
    "    scores_dict = {}\n",
    "    scores_dict[\"SAP_score\"] = compute_avg_diff_top_two(score_matrix)\n",
    "\n",
    "    return scores_dict\n",
    "\n",
    "def compute_score_matrix(mus, ys, mus_test, ys_test, continuous_factors):\n",
    "    \"\"\"Compute score matrix as described in Section 3.\"\"\"\n",
    "    num_latents = mus.shape[0]\n",
    "    num_factors = ys.shape[0]\n",
    "    score_matrix = np.zeros([num_latents, num_factors])\n",
    "    for i in range(num_latents):\n",
    "        for j in range(num_factors):\n",
    "            mu_i = mus[i, :]\n",
    "            y_j = ys[j, :]\n",
    "            if continuous_factors:\n",
    "                # Attribute is considered continuous.\n",
    "                cov_mu_i_y_j = np.cov(mu_i, y_j, ddof=1)\n",
    "                cov_mu_y = cov_mu_i_y_j[0, 1]**2\n",
    "                var_mu = cov_mu_i_y_j[0, 0]\n",
    "                var_y = cov_mu_i_y_j[1, 1]\n",
    "                if var_mu > 1e-12:\n",
    "                    score_matrix[i, j] = cov_mu_y * 1. / (var_mu * var_y)\n",
    "                else:\n",
    "                    score_matrix[i, j] = 0.\n",
    "            else:\n",
    "                # Attribute is considered discrete.\n",
    "                mu_i_test = mus_test[i, :]\n",
    "                y_j_test = ys_test[j, :]\n",
    "                classifier = svm.LinearSVC(C=0.01, class_weight=\"balanced\")\n",
    "                classifier.fit(mu_i[:, np.newaxis], y_j)\n",
    "                pred = classifier.predict(mu_i_test[:, np.newaxis])\n",
    "                score_matrix[i, j] = np.mean(pred == y_j_test)\n",
    "    return score_matrix\n",
    "\n",
    "def compute_avg_diff_top_two(matrix):\n",
    "    sorted_matrix = np.sort(matrix, axis=0)\n",
    "    return np.mean(sorted_matrix[-1, :] - sorted_matrix[-2, :])\n",
    "\n",
    "sap = compute_sap(mus_train, ys_train, mus_test, ys_test, continuous_factors=False)\n",
    "sap"
   ]
  },
  {
   "cell_type": "code",
   "execution_count": null,
   "id": "c9f36ce7-c02b-45af-9efd-41f70148a824",
   "metadata": {},
   "outputs": [],
   "source": [
    "# IRS \n",
    "\n",
    "\n",
    "def compute_irs(mus, ys, diff_quantile=0.99):\n",
    "    ys_discrete = make_discretizer(ys)\n",
    "\n",
    "    active_mask = (mus.var(axis=1) > 0)\n",
    "    active_mus = mus[active_mask, :]\n",
    "\n",
    "    if active_mus.size == 0:\n",
    "        irs_score = 0.0\n",
    "    else:\n",
    "        irs_score = scalable_disentanglement_score(ys_discrete.T, active_mus.T, diff_quantile)[\"avg_score\"]\n",
    "\n",
    "    score_dict = {}\n",
    "    score_dict[\"IRS\"] = irs_score\n",
    "    score_dict[\"num_active_dims\"] = int(np.sum(active_mask))\n",
    "    return score_dict\n",
    "\n",
    "\n",
    "def _drop_constant_dims(ys):\n",
    "    \"\"\"Returns a view of the matrix `ys` with dropped constant rows.\"\"\"\n",
    "    ys = np.asarray(ys)\n",
    "    if ys.ndim != 2:\n",
    "        raise ValueError(\"Expecting a matrix.\")\n",
    "\n",
    "    variances = ys.var(axis=1)\n",
    "    active_mask = variances > 0.\n",
    "    return ys[active_mask, :]\n",
    "\n",
    "\n",
    "def scalable_disentanglement_score(gen_factors, latents, diff_quantile=0.99):\n",
    "    \"\"\"Computes IRS scores of a dataset.\n",
    "\n",
    "    Assumes no noise in X and crossed generative factors (i.e. one sample per\n",
    "    combination of gen_factors). Assumes each g_i is an equally probable\n",
    "    realization of g_i and all g_i are independent.\n",
    "\n",
    "    Args:\n",
    "        gen_factors: Numpy array of shape (num samples, num generative factors),\n",
    "            matrix of ground truth generative factors.\n",
    "        latents: Numpy array of shape (num samples, num latent dimensions), matrix\n",
    "            of latent variables.\n",
    "        diff_quantile: Float value between 0 and 1 to decide what quantile of diffs\n",
    "            to select (use 1.0 for the version in the paper).\n",
    "\n",
    "    Returns:\n",
    "        Dictionary with IRS scores.\n",
    "    \"\"\"\n",
    "    num_gen = gen_factors.shape[1]\n",
    "    num_lat = latents.shape[1]\n",
    "\n",
    "    # Compute normalizer.\n",
    "    max_deviations = np.max(np.abs(latents - latents.mean(axis=0)), axis=0)\n",
    "    cum_deviations = np.zeros([num_lat, num_gen])\n",
    "    for i in range(num_gen):\n",
    "        unique_factors = np.unique(gen_factors[:, i], axis=0)\n",
    "        assert unique_factors.ndim == 1\n",
    "        num_distinct_factors = unique_factors.shape[0]\n",
    "        for k in range(num_distinct_factors):\n",
    "            # Compute E[Z | g_i].\n",
    "            match = gen_factors[:, i] == unique_factors[k]\n",
    "            e_loc = np.mean(latents[match, :], axis=0)\n",
    "\n",
    "            # Difference of each value within that group of constant g_i to its mean.\n",
    "            diffs = np.abs(latents[match, :] - e_loc)\n",
    "            max_diffs = np.percentile(diffs, q=diff_quantile*100, axis=0)\n",
    "            cum_deviations[:, i] += max_diffs\n",
    "        cum_deviations[:, i] /= num_distinct_factors\n",
    "    # Normalize value of each latent dimension with its maximal deviation.\n",
    "    normalized_deviations = cum_deviations / max_deviations[:, np.newaxis]\n",
    "    irs_matrix = 1.0 - normalized_deviations\n",
    "    disentanglement_scores = irs_matrix.max(axis=1)\n",
    "    if np.sum(max_deviations) > 0.0:\n",
    "        avg_score = np.average(disentanglement_scores, weights=max_deviations)\n",
    "    else:\n",
    "        avg_score = np.mean(disentanglement_scores)\n",
    "\n",
    "    parents = irs_matrix.argmax(axis=1)\n",
    "    score_dict = {}\n",
    "    score_dict[\"disentanglement_scores\"] = disentanglement_scores\n",
    "    score_dict[\"avg_score\"] = avg_score\n",
    "    score_dict[\"parents\"] = parents\n",
    "    score_dict[\"IRS_matrix\"] = irs_matrix\n",
    "    score_dict[\"max_deviations\"] = max_deviations\n",
    "    return score_dict\n",
    "\n",
    "\n",
    "\n",
    "irs = compute_irs(mus_train, ys_train, diff_quantile=0.99)\n",
    "irs"
   ]
  }
 ],
 "metadata": {
  "kernelspec": {
   "display_name": "Python 3 ",
   "language": "python",
   "name": "python3"
  },
  "language_info": {
   "codemirror_mode": {
    "name": "ipython",
    "version": 3
   },
   "file_extension": ".py",
   "mimetype": "text/x-python",
   "name": "python",
   "nbconvert_exporter": "python",
   "pygments_lexer": "ipython3",
   "version": "3.12.10"
  }
 },
 "nbformat": 4,
 "nbformat_minor": 5
}

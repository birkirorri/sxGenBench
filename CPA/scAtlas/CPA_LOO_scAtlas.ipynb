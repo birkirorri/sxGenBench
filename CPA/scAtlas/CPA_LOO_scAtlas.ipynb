{
 "cells": [
  {
   "cell_type": "code",
   "execution_count": null,
   "id": "44ec0d30-45a5-4f76-8867-c0a1b4b5367f",
   "metadata": {
    "scrolled": true
   },
   "outputs": [],
   "source": [
    "pip install git+https://github.com/theislab/cpa"
   ]
  },
  {
   "cell_type": "code",
   "execution_count": null,
   "id": "97524fc6-6fcb-4ad7-941e-78c1cce77266",
   "metadata": {
    "tags": []
   },
   "outputs": [],
   "source": [
    "import cpa\n",
    "import scanpy as sc\n",
    "import pandas as pd\n",
    "import seaborn as sns\n",
    "import scipy\n",
    "from sklearn.metrics import mean_squared_error, r2_score, mean_absolute_error\n",
    "import numpy as np\n",
    "from scipy.stats import pearsonr\n",
    "import matplotlib.pyplot as plt"
   ]
  },
  {
   "cell_type": "code",
   "execution_count": null,
   "id": "b17c5860-bf6d-445d-ab48-b7a6a6e9c12e",
   "metadata": {
    "tags": []
   },
   "outputs": [],
   "source": [
    "sc.settings.set_figure_params(dpi=100)"
   ]
  },
  {
   "cell_type": "code",
   "execution_count": null,
   "id": "80bd56d6-b474-4c37-a29d-3379a6b2cc24",
   "metadata": {
    "tags": []
   },
   "outputs": [],
   "source": [
    "adata= sc.read(\"/work/CPA_Healthy_hamstring/new_data_raw_fix/scAtlas_Human_vascular_cells_processed_RAW_1.h5ad\")"
   ]
  },
  {
   "cell_type": "code",
   "execution_count": null,
   "id": "12fc6067-1bc8-4524-819f-8e6c1e4a9ab8",
   "metadata": {
    "tags": []
   },
   "outputs": [],
   "source": [
    "adata"
   ]
  },
  {
   "cell_type": "code",
   "execution_count": null,
   "id": "b58cfdec-0436-4ed0-9cd9-51c9fc639984",
   "metadata": {},
   "outputs": [],
   "source": [
    "adata.obs.groupby(['sex', 'cell_type']).size()"
   ]
  },
  {
   "cell_type": "code",
   "execution_count": null,
   "id": "5732f485-a2fa-4f9e-b301-fe5f7ea15070",
   "metadata": {
    "tags": []
   },
   "outputs": [],
   "source": [
    "# Subset the data\n",
    "subset_mask = (adata.obs['sex'] == 'male') & (adata.obs['cell_type'] == 'endothelial cell')\n",
    "subset_adata = adata[subset_mask].copy()  \n",
    "train_adata = adata[~subset_mask].copy()  # Training data is everything except the subset"
   ]
  },
  {
   "cell_type": "code",
   "execution_count": null,
   "id": "8f726e5c-f3ea-4874-a2ea-092513d5586f",
   "metadata": {
    "tags": []
   },
   "outputs": [],
   "source": [
    "train_adata"
   ]
  },
  {
   "cell_type": "code",
   "execution_count": null,
   "id": "8b9cd508-e2cd-4e1a-92a3-736dd922ea7a",
   "metadata": {},
   "outputs": [],
   "source": [
    "subset_adata.obs[\"sex\"]"
   ]
  },
  {
   "cell_type": "code",
   "execution_count": null,
   "id": "47c773ba-1a97-4f41-9471-e39bbf7d6040",
   "metadata": {},
   "outputs": [],
   "source": [
    "train_adata.obs.groupby(['sex', 'cell_type']).size()"
   ]
  },
  {
   "cell_type": "code",
   "execution_count": null,
   "id": "4795490f-7954-4d0a-ae67-c70229ea18e7",
   "metadata": {
    "tags": []
   },
   "outputs": [],
   "source": [
    "adata.layers['counts'] = adata.X.copy()"
   ]
  },
  {
   "cell_type": "code",
   "execution_count": null,
   "id": "72dfb29a-3b40-4a66-9ba0-3ad0fd10a502",
   "metadata": {
    "tags": []
   },
   "outputs": [],
   "source": [
    "cpa.CPA.setup_anndata(train_adata,\n",
    "                      perturbation_key='sex',\n",
    "                      dosage_key=None,\n",
    "                      control_group='female',\n",
    "                      batch_key=None,\n",
    "                      is_count_data=True,\n",
    "                      categorical_covariate_keys=['cell_type', 'self_reported_ethnicity','bmi_group','donor_id', 'surgery', 'fat_type', 'tissue', 'sex'],\n",
    "                      deg_uns_key=None,\n",
    "                      deg_uns_cat_key=None,\n",
    "                      max_comb_len=2,\n",
    "                     )"
   ]
  },
  {
   "cell_type": "code",
   "execution_count": null,
   "id": "292937c4-02d3-43fd-9c30-00b5d0129d1b",
   "metadata": {
    "tags": []
   },
   "outputs": [],
   "source": [
    "model_params = {\n",
    "    \"n_latent\": 64,\n",
    "    \"recon_loss\": \"nb\",\n",
    "    \"doser_type\": \"linear\",\n",
    "    \"n_hidden_encoder\": 128,\n",
    "    \"n_layers_encoder\": 2,\n",
    "    \"n_hidden_decoder\": 512,\n",
    "    \"n_layers_decoder\": 2,\n",
    "    \"use_batch_norm_encoder\": True,\n",
    "    \"use_layer_norm_encoder\": False,\n",
    "    \"use_batch_norm_decoder\": False,\n",
    "    \"use_layer_norm_decoder\": True,\n",
    "    \"dropout_rate_encoder\": 0.0,\n",
    "    \"dropout_rate_decoder\": 0.1,\n",
    "    \"variational\": False,\n",
    "    \"seed\": 42,\n",
    "}\n",
    "\n",
    "trainer_params = {\n",
    "    \"n_epochs_kl_warmup\": None,\n",
    "    \"n_epochs_pretrain_ae\": 30,\n",
    "    \"n_epochs_adv_warmup\": 50,\n",
    "    \"n_epochs_mixup_warmup\": 0,\n",
    "    \"mixup_alpha\": 0.0,\n",
    "    \"adv_steps\": None,\n",
    "    \"n_hidden_adv\": 64,\n",
    "    \"n_layers_adv\": 3,\n",
    "    \"use_batch_norm_adv\": True,\n",
    "    \"use_layer_norm_adv\": False,\n",
    "    \"dropout_rate_adv\": 0.3,\n",
    "    \"reg_adv\": 20.0,\n",
    "    \"pen_adv\": 5.0,\n",
    "    \"lr\": 0.0003,\n",
    "    \"wd\": 4e-07,\n",
    "    \"adv_lr\": 0.0003,\n",
    "    \"adv_wd\": 4e-07,\n",
    "    \"adv_loss\": \"cce\",\n",
    "    \"doser_lr\": 0.0003,\n",
    "    \"doser_wd\": 4e-07,\n",
    "    \"do_clip_grad\": True,\n",
    "    \"gradient_clip_value\": 1.0,\n",
    "    \"step_size_lr\": 10,\n",
    "}"
   ]
  },
  {
   "cell_type": "code",
   "execution_count": null,
   "id": "41d06f31-eb75-420a-9833-19c2d2fe349b",
   "metadata": {
    "tags": []
   },
   "outputs": [],
   "source": [
    "model = cpa.CPA(adata=train_adata,\n",
    "                **model_params,\n",
    "               )"
   ]
  },
  {
   "cell_type": "code",
   "execution_count": null,
   "id": "ad0b4bd7-82b1-4913-a6b2-3764f200cd34",
   "metadata": {
    "scrolled": true,
    "tags": []
   },
   "outputs": [],
   "source": [
    "model.train(max_epochs=400,\n",
    "            use_gpu=True,\n",
    "            batch_size=512,\n",
    "            plan_kwargs=trainer_params,\n",
    "            early_stopping_patience=50,\n",
    "            check_val_every_n_epoch=50,\n",
    "            save_path='CPA_project/Results_scAtlas_LOO_smooth_muscle_2000',\n",
    "           )"
   ]
  },
  {
   "cell_type": "code",
   "execution_count": null,
   "id": "4a654dc4-8e70-4119-ab8a-0a32fecb1363",
   "metadata": {
    "tags": []
   },
   "outputs": [],
   "source": [
    "cpa.pl.plot_history(model)"
   ]
  },
  {
   "cell_type": "code",
   "execution_count": null,
   "id": "ee0da3f2-f148-4284-8fb6-e7d5fd913a61",
   "metadata": {},
   "outputs": [],
   "source": [
    "model = model.load(\"/work/scAtlas_runs/CPA_ScAtlasdata/CPA_project/Results_scAtlas_LOO_Final_raw\", adata = train_adata)"
   ]
  },
  {
   "cell_type": "code",
   "execution_count": null,
   "id": "6fa7025a-6013-4c45-9bc7-61b715974a48",
   "metadata": {},
   "outputs": [],
   "source": [
    "model"
   ]
  },
  {
   "cell_type": "code",
   "execution_count": null,
   "id": "36bbb05e-2b7b-46e8-9e9b-d87edc999624",
   "metadata": {
    "tags": []
   },
   "outputs": [],
   "source": [
    "latent_outputs = model.get_latent_representation(train_adata, batch_size=1024)"
   ]
  },
  {
   "cell_type": "code",
   "execution_count": null,
   "id": "9ec0af92-31b6-4a37-ab8d-e6c9118941fd",
   "metadata": {
    "tags": []
   },
   "outputs": [],
   "source": [
    "latent_outputs.keys()"
   ]
  },
  {
   "cell_type": "code",
   "execution_count": null,
   "id": "ba27c9dc-c4fe-4dcf-b91b-703dd2dbc5a8",
   "metadata": {
    "tags": []
   },
   "outputs": [],
   "source": [
    "sc.settings.verbosity = 3"
   ]
  },
  {
   "cell_type": "code",
   "execution_count": null,
   "id": "54e01720-1f46-4d1e-98f2-7c6dcacd0e96",
   "metadata": {
    "tags": []
   },
   "outputs": [],
   "source": [
    "latent_basal_adata = latent_outputs['latent_basal']\n",
    "latent_adata = latent_outputs['latent_after']"
   ]
  },
  {
   "cell_type": "code",
   "execution_count": null,
   "id": "13d10661-a1d3-47e6-a3b1-8eca55c7a5eb",
   "metadata": {
    "tags": []
   },
   "outputs": [],
   "source": [
    "adata.layers['X_true'] = adata.X.copy()"
   ]
  },
  {
   "cell_type": "code",
   "execution_count": null,
   "id": "50358885-6d94-420b-8e5c-47b4c64976e0",
   "metadata": {},
   "outputs": [],
   "source": [
    "#Pull out the female slow-muscle cells from what the model saw in training:\n",
    "female_endothelial = train_adata[(train_adata.obs[\"sex\"] == \"female\") &\n",
    "(train_adata.obs[\"cell_type\"] == \"endothelial cell\")].copy()"
   ]
  },
  {
   "cell_type": "code",
   "execution_count": null,
   "id": "169be076-2662-4fed-9d72-fb12bbe527cc",
   "metadata": {},
   "outputs": [],
   "source": [
    "# — 5) Baseline reconstruction (female→female) —\n",
    "baseline_adata = model.predict(adata=female_endothelial,\n",
    "                               batch_size=256, return_mean=True)"
   ]
  },
  {
   "cell_type": "code",
   "execution_count": null,
   "id": "6fee53d2-510d-4761-8d97-d3a5ca99b6be",
   "metadata": {},
   "outputs": [],
   "source": [
    "baseline_adata"
   ]
  },
  {
   "cell_type": "code",
   "execution_count": null,
   "id": "b12ae473-d6e9-4ea8-bbf2-215cb5845263",
   "metadata": {},
   "outputs": [],
   "source": [
    "# — 6) Counterfactual (female→male) —\n",
    "cf = female_endothelial.copy()\n",
    "cf.obs[\"sex\"] = \"male\"\n",
    "cf.obsm[\"X_true\"] = cf.X.copy()"
   ]
  },
  {
   "cell_type": "code",
   "execution_count": null,
   "id": "448a7abe-bd32-4534-9918-a1c87221db3f",
   "metadata": {},
   "outputs": [],
   "source": [
    "cf_predict = model.predict(adata=cf, batch_size=256,return_mean=True)\n",
    "#    Now cf.obsm['CPA_pred'] is your “what-if male” prediction"
   ]
  },
  {
   "cell_type": "code",
   "execution_count": null,
   "id": "8f71a8ba-fc6e-4595-94e5-6d23f06b4f02",
   "metadata": {},
   "outputs": [],
   "source": [
    "# Compute per-gene ground-truth means\n",
    "# Gt for females is now females with hepatocytes\n",
    "\n",
    "female_gt = (\n",
    "    female_endothelial.X.toarray().mean(axis=0)\n",
    "    if hasattr(female_endothelial.X, \"toarray\")\n",
    "    else female_endothelial.X.mean(axis=0)\n",
    ")\n",
    "\n",
    "\n",
    "#    Gt for the male is now the held out dataset\n",
    "male_gt = (\n",
    "    subset_adata.X.toarray().mean(axis=0)\n",
    "    if hasattr(subset_adata.X, \"toarray\")\n",
    "    else subset_adata.X.mean(axis=0)\n",
    ")\n"
   ]
  },
  {
   "cell_type": "code",
   "execution_count": null,
   "id": "ca3425c3-d2de-447d-86f5-9be50ebccb1f",
   "metadata": {},
   "outputs": [],
   "source": [
    "#  Compute per-gene prediction means \n",
    "baseline_pred = female_endothelial.obsm[\"CPA_pred\"].mean(axis=0)\n",
    "cf_pred       = cf.obsm[\"CPA_pred\"].mean(axis=0)"
   ]
  },
  {
   "cell_type": "code",
   "execution_count": null,
   "id": "914fb9df-7829-453f-9a2b-fd0fc2484efa",
   "metadata": {},
   "outputs": [],
   "source": [
    "female_endothelial.obsm[\"CPA_pred\"]"
   ]
  },
  {
   "cell_type": "code",
   "execution_count": null,
   "id": "84a0c49f-689c-469e-bf11-a104c04a90d3",
   "metadata": {},
   "outputs": [],
   "source": [
    "cf.obsm[\"CPA_pred\"]"
   ]
  },
  {
   "cell_type": "code",
   "execution_count": null,
   "id": "e89b667f-acfc-4900-86e6-a0d227944a69",
   "metadata": {},
   "outputs": [],
   "source": [
    "baseline_adata.X"
   ]
  },
  {
   "cell_type": "code",
   "execution_count": null,
   "id": "aaa75cfd-b640-4e3a-8822-9172ce6c0cd5",
   "metadata": {},
   "outputs": [],
   "source": [
    "baseline_pred"
   ]
  },
  {
   "cell_type": "code",
   "execution_count": null,
   "id": "8d07681a-b4b7-4a03-a29c-7552da0594e7",
   "metadata": {},
   "outputs": [],
   "source": [
    "cf_pred"
   ]
  },
  {
   "cell_type": "code",
   "execution_count": null,
   "id": "be04288d-f815-454b-b584-fb60b17f3129",
   "metadata": {},
   "outputs": [],
   "source": [
    "f_m = np.sqrt(np.mean((baseline_pred - male_gt)**2)) #pred-F --- TM\n",
    "m_m = np.sqrt(np.mean((cf_pred - male_gt)**2)) # pred_M --- TM\n",
    "f_f  =np.sqrt(np.mean((baseline_pred - female_gt)**2)) # pref F ----- TF\n",
    "m_f = np.sqrt(np.mean((cf_pred - female_gt)**2)) # pref M ---- TF\n",
    "\n",
    "print(f\"RMSE pred F --- TM: {f_m:.4f}\")\n",
    "print(f\"RMSE pred M --- TM (counterfactual)  : {m_m:.4f}\")\n",
    "print(f\"RMSE pred F ----- TF : {f_f:.4f}\")\n",
    "print(f\"RMSE pred M ---- TF (counterfactual)  : {m_f:.4f}\")"
   ]
  },
  {
   "cell_type": "code",
   "execution_count": null,
   "id": "f89d4ad0-a9ec-4495-9fee-be5d7527cf9b",
   "metadata": {},
   "outputs": [],
   "source": [
    "import matplotlib.pyplot as plt\n",
    "\n",
    "# Define RMSE values\n",
    "rmse_data = [\n",
    "    [\"0.0199\", \"0.4062\"],  # True Female\n",
    "    [\"0.1434\", \"0.4849\"],  # True Male\n",
    "]\n",
    "\n",
    "# Define labels\n",
    "column_labels = [\"Pred Female\", \"Pred Male (CF)\"]\n",
    "row_labels = [\"True Female\", \"True Male\"]\n",
    "\n",
    "# Create the figure and axis\n",
    "fig, ax = plt.subplots(figsize=(6, 2))\n",
    "ax.axis('tight')\n",
    "ax.axis('off')\n",
    "\n",
    "# Create the table\n",
    "table = ax.table(\n",
    "    cellText=rmse_data,\n",
    "    rowLabels=row_labels,\n",
    "    colLabels=column_labels,\n",
    "    cellLoc='center',\n",
    "    loc='center'\n",
    ")\n",
    "\n",
    "table.scale(1, 2)  # Increase row height\n",
    "table.auto_set_font_size(False)\n",
    "table.set_fontsize(12)\n",
    "\n",
    "# Color the lower row cells\n",
    "# Note: Rows and columns are 1-indexed in table.get_celld()\n",
    "table[(2, 0)].set_facecolor(\"orange\")  # True Male, Pred Female\n",
    "table[(2, 1)].set_facecolor(\"lightblue\")  # True Male, Pred Male\n",
    "\n",
    "plt.title(\"RMSE between Predictions and Ground truth\", pad=20)\n",
    "plt.tight_layout()\n",
    "plt.show()"
   ]
  },
  {
   "cell_type": "code",
   "execution_count": null,
   "id": "89673ff2-407f-4f36-81c2-1cb2e2ed0a1c",
   "metadata": {},
   "outputs": [],
   "source": [
    "import numpy as np\n",
    "import seaborn as sns\n",
    "import matplotlib.pyplot as plt\n",
    "\n",
    "# Log-transform the data\n",
    "log_male_gt = np.log1p(male_gt)\n",
    "log_cf_pred = np.log1p(cf_pred)\n",
    "log_baseline_pred = np.log1p(baseline_pred)\n",
    "\n",
    "# Scatter plot of log-transformed ground truth vs. predictions\n",
    "fig, ax = plt.subplots(figsize=(10, 6))\n",
    "\n",
    "sns.scatterplot(\n",
    "    x=log_male_gt, y=log_cf_pred,\n",
    "    alpha=0.7, ax=ax\n",
    ")\n",
    "\n",
    "sns.scatterplot(\n",
    "    x=log_male_gt, y=log_baseline_pred,\n",
    "    alpha=0.7, ax=ax\n",
    ")\n",
    "\n",
    "# Identity line (in log space)\n",
    "mn = min(log_male_gt.min(), log_male_gt.min())\n",
    "mx = max(log_male_gt.max(), log_male_gt.max())\n",
    "ax.plot([mn, mx], [mn, mx], ls=\"--\", color=\"red\")\n",
    "\n",
    "\n",
    "ax.set_xlabel(\"Log Ground Truth (Male)\")\n",
    "ax.set_ylabel(\"Log Predicted Mean Expression\")\n",
    "ax.set_title(\"Leave One Out analysis\" )\n",
    "ax.legend(loc=\"upper left\")\n",
    "ax.grid(False)\n",
    "plt.tight_layout()\n",
    "plt.show()\n"
   ]
  }
 ],
 "metadata": {
  "kernelspec": {
   "display_name": "Python 3 ",
   "language": "python",
   "name": "python3"
  },
  "language_info": {
   "codemirror_mode": {
    "name": "ipython",
    "version": 3
   },
   "file_extension": ".py",
   "mimetype": "text/x-python",
   "name": "python",
   "nbconvert_exporter": "python",
   "pygments_lexer": "ipython3",
   "version": "3.12.10"
  }
 },
 "nbformat": 4,
 "nbformat_minor": 5
}

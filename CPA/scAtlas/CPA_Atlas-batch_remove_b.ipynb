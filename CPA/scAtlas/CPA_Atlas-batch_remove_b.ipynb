{
 "cells": [
  {
   "cell_type": "code",
   "execution_count": null,
   "id": "8df26cd7-3522-48fc-8ece-caabd7a2d105",
   "metadata": {
    "tags": []
   },
   "outputs": [],
   "source": [
    "import scanpy as sc\n",
    "import pandas as pd\n",
    "from scipy.sparse import issparse\n",
    "import seaborn as sns\n",
    "from sklearn.metrics import mean_squared_error, mean_absolute_error, r2_score"
   ]
  },
  {
   "cell_type": "code",
   "execution_count": null,
   "id": "201a3fb4-4d18-41d8-a552-7ef2fbac3756",
   "metadata": {
    "scrolled": true
   },
   "outputs": [],
   "source": [
    "pip install git+https://github.com/theislab/cpa"
   ]
  },
  {
   "cell_type": "code",
   "execution_count": null,
   "id": "19b7189f-d8a3-4f0f-9793-fe2af08bbb7e",
   "metadata": {
    "tags": []
   },
   "outputs": [],
   "source": [
    "import sys\n",
    "import sklearn\n",
    "import numpy as np\n",
    "import os\n",
    "import cpa\n",
    "import matplotlib.pyplot as plt\n"
   ]
  },
  {
   "cell_type": "code",
   "execution_count": null,
   "id": "e2e01976-344a-4c87-a859-e1d0d4cdf63b",
   "metadata": {
    "tags": []
   },
   "outputs": [],
   "source": [
    "sc.settings.set_figure_params(dpi=100)"
   ]
  },
  {
   "cell_type": "code",
   "execution_count": null,
   "id": "481f0d75-e444-4496-9bfb-a034d4a09b67",
   "metadata": {
    "tags": []
   },
   "outputs": [],
   "source": [
    "adata = sc.read(\"/work/CPA_Healthy_hamstring/new_data_raw_fix/scAtlas_Human_vascular_cells_processed_RAW_1.h5ad\")"
   ]
  },
  {
   "cell_type": "code",
   "execution_count": null,
   "id": "d34fc513-df50-461d-bafa-3f7b9862d1be",
   "metadata": {
    "tags": []
   },
   "outputs": [],
   "source": [
    "adata"
   ]
  },
  {
   "cell_type": "code",
   "execution_count": null,
   "id": "f94f1647-ee71-45e3-aa93-a55103c4405a",
   "metadata": {
    "tags": []
   },
   "outputs": [],
   "source": [
    "# Split the data set into train and test\n",
    "from sklearn.model_selection import train_test_split\n",
    "\n",
    "split_key = \"split\"\n",
    "adata.obs[split_key] = \"train\"\n",
    "idx = list(range(len(adata)))\n",
    "idx_train, idx_test = train_test_split(adata.obs_names, test_size=0.1, random_state=42)\n",
    "adata.obs.loc[idx_train, split_key] = \"train\"\n",
    "adata.obs.loc[idx_test, split_key] = \"test\""
   ]
  },
  {
   "cell_type": "code",
   "execution_count": null,
   "id": "cad28fd8-77fb-4080-9b17-119f206dcc41",
   "metadata": {},
   "outputs": [],
   "source": [
    "adata_train = adata[adata.obs[split_key] == \"train\"].copy()\n",
    "adata_test = adata[adata.obs[split_key] == \"test\"].copy()"
   ]
  },
  {
   "cell_type": "code",
   "execution_count": null,
   "id": "4786489b-bbc9-42a5-aaec-638ee69c741a",
   "metadata": {},
   "outputs": [],
   "source": [
    "adata.obs[\"donor_id\"]"
   ]
  },
  {
   "cell_type": "code",
   "execution_count": null,
   "id": "6634df4c-639e-48a6-b9f6-a011273a5f50",
   "metadata": {
    "tags": []
   },
   "outputs": [],
   "source": [
    "adata.obs['split'].value_counts()"
   ]
  },
  {
   "cell_type": "code",
   "execution_count": null,
   "id": "91aed6d5-8e80-4f68-8380-38974fd8e8bf",
   "metadata": {
    "tags": []
   },
   "outputs": [],
   "source": [
    "adata.layers['counts'] = adata.X.copy()"
   ]
  },
  {
   "cell_type": "code",
   "execution_count": null,
   "id": "17eb2a79-d416-4942-bbb1-2367ade7ab7c",
   "metadata": {},
   "outputs": [],
   "source": [
    "adata.X = adata.layers[\"counts\"].copy()"
   ]
  },
  {
   "cell_type": "code",
   "execution_count": null,
   "id": "a5b7ef6a-8464-4bca-81b5-3bdd83d93dbf",
   "metadata": {
    "tags": []
   },
   "outputs": [],
   "source": [
    "import scanpy as sc\n",
    "\n",
    "# Assuming 'adata' is your AnnData object\n",
    "# Extract the CPA_pred from the obsm attribute\n",
    "adata_CPA_pred = adata.copy()  # Make a copy to avoid modifying the original object\n",
    "adata_CPA_pred.obsm['CPA_pred'] = adata.obsm['CPA_pred']  # Ensure the CPA_pred is included\n",
    "\n",
    "# Save the new AnnData object to a new .h5ad file\n",
    "adata_CPA_pred.write('adata_with_CPA_pred_scAtlas.h5ad')\n"
   ]
  },
  {
   "cell_type": "code",
   "execution_count": null,
   "id": "7b66162a-c477-4e52-88a1-a4a5c5fb9453",
   "metadata": {
    "tags": []
   },
   "outputs": [],
   "source": [
    "cpa.CPA.setup_anndata(adata,\n",
    "                      perturbation_key='donor_id',\n",
    "                      control_group='Hs001',\n",
    "                      is_count_data=True,\n",
    "                      categorical_covariate_keys=['cell_type', 'self_reported_ethnicity','bmi_group',\n",
    "                                                  'donor_id', 'surgery', 'fat_type', 'tissue'],\n",
    "                      max_comb_len=1,\n",
    "                     )"
   ]
  },
  {
   "cell_type": "code",
   "execution_count": null,
   "id": "d5ebf159-0f3d-4fc2-8189-dee6d5731c91",
   "metadata": {
    "tags": []
   },
   "outputs": [],
   "source": [
    "model_params = {\n",
    "    \"n_latent\": 64,\n",
    "    \"recon_loss\": \"nb\",\n",
    "    \"doser_type\": \"linear\",\n",
    "    \"n_hidden_encoder\": 128,\n",
    "    \"n_layers_encoder\": 2,\n",
    "    \"n_hidden_decoder\": 512,\n",
    "    \"n_layers_decoder\": 2,\n",
    "    \"use_batch_norm_encoder\": True,\n",
    "    \"use_layer_norm_encoder\": False,\n",
    "    \"use_batch_norm_decoder\": False,\n",
    "    \"use_layer_norm_decoder\": True,\n",
    "    \"dropout_rate_encoder\": 0.0,\n",
    "    \"dropout_rate_decoder\": 0.1,\n",
    "    \"variational\": False,\n",
    "    \"seed\": 42,\n",
    "}\n",
    "\n",
    "trainer_params = {\n",
    "    \"n_epochs_kl_warmup\": None,\n",
    "    \"n_epochs_pretrain_ae\": 30,\n",
    "    \"n_epochs_adv_warmup\": 50,\n",
    "    \"n_epochs_mixup_warmup\": 0,\n",
    "    \"mixup_alpha\": 0.0,\n",
    "    \"adv_steps\": None,\n",
    "    \"n_hidden_adv\": 64,\n",
    "    \"n_layers_adv\": 3,\n",
    "    \"use_batch_norm_adv\": True,\n",
    "    \"use_layer_norm_adv\": False,\n",
    "    \"dropout_rate_adv\": 0.3,\n",
    "    \"reg_adv\": 20.0,\n",
    "    \"pen_adv\": 5.0,\n",
    "    \"lr\": 0.0003,\n",
    "    \"wd\": 4e-07,\n",
    "    \"adv_lr\": 0.0003,\n",
    "    \"adv_wd\": 4e-07,\n",
    "    \"adv_loss\": \"cce\",\n",
    "    \"doser_lr\": 0.0003,\n",
    "    \"doser_wd\": 4e-07,\n",
    "    \"do_clip_grad\": True,\n",
    "    \"gradient_clip_value\": 1.0,\n",
    "    \"step_size_lr\": 10,\n",
    "}"
   ]
  },
  {
   "cell_type": "code",
   "execution_count": null,
   "id": "aff44149-1f3f-4763-b9c1-08c3399174be",
   "metadata": {
    "tags": []
   },
   "outputs": [],
   "source": [
    "adata.obs['split'].value_counts()"
   ]
  },
  {
   "cell_type": "code",
   "execution_count": null,
   "id": "03a0f12a-023c-4f93-92f8-3942c55f61b8",
   "metadata": {
    "tags": []
   },
   "outputs": [],
   "source": [
    "model = cpa.CPA(adata=adata,\n",
    "                split_key='split',\n",
    "                train_split='train',\n",
    "                test_split='test',\n",
    "                **model_params,\n",
    "               )"
   ]
  },
  {
   "cell_type": "code",
   "execution_count": null,
   "id": "08ab66fd-88df-4765-b075-1803cca6e88a",
   "metadata": {},
   "outputs": [],
   "source": [
    "model.train(max_epochs=500,\n",
    "            use_gpu=True,\n",
    "            batch_size=512,\n",
    "            plan_kwargs=trainer_params,\n",
    "            early_stopping_patience=5,\n",
    "            check_val_every_n_epoch=5,\n",
    "            save_path='CPA_project/scAtlas_model_batch_removed',\n",
    "           )"
   ]
  },
  {
   "cell_type": "code",
   "execution_count": null,
   "id": "41114bca-7f63-4371-9cae-ab29f08988e2",
   "metadata": {
    "tags": []
   },
   "outputs": [],
   "source": [
    "model = cpa.CPA.load(\"/work/scAtlas_runs/CPA_ScAtlasdata/CPA_project/Results/\", adata = adata)"
   ]
  },
  {
   "cell_type": "code",
   "execution_count": null,
   "id": "8485a349-bfd7-442f-be99-1627d0624f01",
   "metadata": {
    "scrolled": true
   },
   "outputs": [],
   "source": [
    "cpa.pl.plot_history(model)"
   ]
  },
  {
   "cell_type": "code",
   "execution_count": null,
   "id": "d180d74b-59e8-4554-a717-20804b1083bb",
   "metadata": {},
   "outputs": [],
   "source": [
    "df = pd.read_csv(\"/work/scAtlas_runs/CPA_ScAtlasdata/CPA_project/Results/history.csv\")"
   ]
  },
  {
   "cell_type": "code",
   "execution_count": null,
   "id": "27277d63-4542-455a-8dcb-ad11824bdaf5",
   "metadata": {},
   "outputs": [],
   "source": [
    "sns.lineplot(df,x=\"epoch\", y= \"r2_mean\", hue=\"mode\")"
   ]
  },
  {
   "cell_type": "code",
   "execution_count": null,
   "id": "f2905479-827c-49b7-8e7a-060e6666247e",
   "metadata": {
    "tags": []
   },
   "outputs": [],
   "source": [
    "model = model.load(\"/work/scAtlas_runs/CPA_ScAtlasdata/CPA_project/Results_scAtlas_more_cov_new_Atlas_data/\", adata = adata)"
   ]
  },
  {
   "cell_type": "code",
   "execution_count": null,
   "id": "bde215c2-63d0-46e3-9036-b55262f53c12",
   "metadata": {
    "tags": []
   },
   "outputs": [],
   "source": [
    "cpa.CPA.setup_anndata(adata_test,\n",
    "                      perturbation_key='donor_id',\n",
    "                      control_group='Hs001',\n",
    "                      is_count_data=True,\n",
    "                      categorical_covariate_keys=['cell_type', 'self_reported_ethnicity','bmi_group',\n",
    "                                                  'donor_id', 'surgery', 'fat_type', 'tissue'],\n",
    "                      max_comb_len=1,\n",
    "                     )"
   ]
  },
  {
   "cell_type": "code",
   "execution_count": null,
   "id": "4886310a-88ae-472e-8fa3-e6692730ce62",
   "metadata": {},
   "outputs": [],
   "source": [
    "# Predict using cell_type embeddings, removing the batch embeddings (batch corrected)\n",
    "output_no_batch = model.custom_predict(adata= adata_test,\n",
    "                   covars_to_add=['cell_type', 'self_reported_ethnicity','bmi_group',\n",
    "                                                  'donor_id', 'surgery', 'fat_type', 'tissue'],\n",
    "                   add_batch=False,\n",
    "                   add_pert=False,\n",
    "                   batch_size=2048)\n"
   ]
  },
  {
   "cell_type": "code",
   "execution_count": null,
   "id": "e77a88ff-4a51-4da6-b2df-36ff19f436bf",
   "metadata": {},
   "outputs": [],
   "source": [
    "CPA_pred = output_no_batch[\"latent_x_pred\"].X"
   ]
  },
  {
   "cell_type": "code",
   "execution_count": null,
   "id": "5f3b28a6-c3de-40b5-a38c-61a62cf47bc7",
   "metadata": {},
   "outputs": [],
   "source": [
    "CPA_pred"
   ]
  },
  {
   "cell_type": "code",
   "execution_count": null,
   "id": "47594707-b205-4d2b-9ee9-54b06c485285",
   "metadata": {},
   "outputs": [],
   "source": [
    "import scanpy as sc\n",
    "\n",
    "# Get the prediction matrix\n",
    "CPA_pred = output_no_batch[\"latent_x_pred\"].X\n",
    "CPA_pred = CPA_pred.toarray() if hasattr(CPA_pred, \"toarray\") else CPA_pred\n",
    "\n",
    "# Add prediction to adata_test\n",
    "adata_test.obsm[\"CPA_pred\"] = CPA_pred\n",
    "\n",
    "# Save to file\n",
    "adata_test.write(\"adata_ATLAS_with_CPA_pred_removed_batch.h5ad\")\n"
   ]
  },
  {
   "cell_type": "code",
   "execution_count": null,
   "id": "488c3f50-ab10-47bd-8502-b7c0e2789d7c",
   "metadata": {},
   "outputs": [],
   "source": []
  }
 ],
 "metadata": {
  "kernelspec": {
   "display_name": "Python 3 ",
   "language": "python",
   "name": "python3"
  },
  "language_info": {
   "codemirror_mode": {
    "name": "ipython",
    "version": 3
   },
   "file_extension": ".py",
   "mimetype": "text/x-python",
   "name": "python",
   "nbconvert_exporter": "python",
   "pygments_lexer": "ipython3",
   "version": "3.12.10"
  }
 },
 "nbformat": 4,
 "nbformat_minor": 5
}

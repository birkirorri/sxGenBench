{
 "cells": [
  {
   "cell_type": "code",
   "execution_count": null,
   "id": "9bf21d52-eed4-4c3f-bc55-3da0cdb4a410",
   "metadata": {
    "scrolled": true
   },
   "outputs": [],
   "source": [
    "pip install git+https://github.com/theislab/cpa"
   ]
  },
  {
   "cell_type": "code",
   "execution_count": null,
   "id": "57e417bf-6320-4d4b-bea0-3cc8e5294438",
   "metadata": {
    "tags": []
   },
   "outputs": [],
   "source": [
    "import cpa\n",
    "import scanpy as sc\n",
    "import pandas as pd\n",
    "import seaborn as sns\n",
    "import scipy\n",
    "from sklearn.metrics import mean_squared_error,r2_score, mean_absolute_error\n",
    "import numpy as np\n",
    "from scipy.stats import pearsonr\n",
    "import matplotlib.pyplot as plt"
   ]
  },
  {
   "cell_type": "code",
   "execution_count": null,
   "id": "beca2c07-a3b6-4223-9fae-9c0be54d9cbc",
   "metadata": {
    "tags": []
   },
   "outputs": [],
   "source": [
    "sc.settings.set_figure_params(dpi=100)"
   ]
  },
  {
   "cell_type": "code",
   "execution_count": null,
   "id": "00e78781-f4e1-4b24-a682-3819d33be088",
   "metadata": {
    "tags": []
   },
   "outputs": [],
   "source": [
    "adata = sc.read(\"/work/CPA_Healthy_hamstring/new_data_raw_fix/HTAPP_997_processed_raw_FINAL.h5ad\")"
   ]
  },
  {
   "cell_type": "code",
   "execution_count": null,
   "id": "77627b9c-a7f5-49c9-bd8c-cde3937034a7",
   "metadata": {
    "tags": []
   },
   "outputs": [],
   "source": [
    "adata"
   ]
  },
  {
   "cell_type": "code",
   "execution_count": null,
   "id": "36562763-311e-4506-89ba-337c5d7ab23e",
   "metadata": {
    "tags": []
   },
   "outputs": [],
   "source": [
    "# Split the data set into train and test\n",
    "from sklearn.model_selection import train_test_split\n",
    "\n",
    "split_key = \"split\"\n",
    "adata.obs[split_key] = \"train\"\n",
    "idx = list(range(len(adata)))\n",
    "idx_train, idx_test = train_test_split(adata.obs_names, test_size=0.1, random_state=42)\n",
    "adata.obs.loc[idx_train, split_key] = \"train\"\n",
    "adata.obs.loc[idx_test, split_key] = \"test\""
   ]
  },
  {
   "cell_type": "code",
   "execution_count": null,
   "id": "26d96ad9-ba47-47a7-9646-017608fdf198",
   "metadata": {},
   "outputs": [],
   "source": [
    "adata_train = adata[adata.obs[split_key] == \"train\"].copy()\n",
    "adata_test = adata[adata.obs[split_key] == \"test\"].copy()"
   ]
  },
  {
   "cell_type": "code",
   "execution_count": null,
   "id": "24706c18-dcb7-482b-a1f7-da6e8b9ee87f",
   "metadata": {},
   "outputs": [],
   "source": [
    "adata_test"
   ]
  },
  {
   "cell_type": "code",
   "execution_count": null,
   "id": "9eb60f6c-dd1d-4e4d-aaba-4dd5299c0889",
   "metadata": {
    "tags": []
   },
   "outputs": [],
   "source": [
    "adata.obs['split'].value_counts()"
   ]
  },
  {
   "cell_type": "code",
   "execution_count": null,
   "id": "2642bbed-9a8a-4e97-b4b7-9d9cf300c3ad",
   "metadata": {
    "tags": []
   },
   "outputs": [],
   "source": [
    "adata.layers['counts'] = adata.X.copy()"
   ]
  },
  {
   "cell_type": "code",
   "execution_count": null,
   "id": "b30600d7-8353-423d-9ecd-4d8e85836c7f",
   "metadata": {
    "tags": []
   },
   "outputs": [],
   "source": [
    "adata.X = adata.layers['counts'].copy()"
   ]
  },
  {
   "cell_type": "code",
   "execution_count": null,
   "id": "2f265497-e728-4f11-80e3-8106f067f147",
   "metadata": {
    "tags": []
   },
   "outputs": [],
   "source": [
    "cpa.CPA.setup_anndata(adata,\n",
    "                      perturbation_key='replicate',\n",
    "                      control_group='1',\n",
    "                      categorical_covariate_keys=['cell_type', 'Phase', 'replicate', 'compartments' , 'cnv_pass_mal'],\n",
    "                      max_comb_len=1,\n",
    "                     )"
   ]
  },
  {
   "cell_type": "code",
   "execution_count": null,
   "id": "dab231f5-16bf-4d71-bf3c-c76c7cf7a03a",
   "metadata": {
    "tags": []
   },
   "outputs": [],
   "source": [
    "model_params = {\n",
    "    \"n_latent\": 64,\n",
    "    \"recon_loss\": \"nb\",\n",
    "    \"doser_type\": \"linear\",\n",
    "    \"n_hidden_encoder\": 128,\n",
    "    \"n_layers_encoder\": 2,\n",
    "    \"n_hidden_decoder\": 512,\n",
    "    \"n_layers_decoder\": 2,\n",
    "    \"use_batch_norm_encoder\": True,\n",
    "    \"use_layer_norm_encoder\": False,\n",
    "    \"use_batch_norm_decoder\": False,\n",
    "    \"use_layer_norm_decoder\": True,\n",
    "    \"dropout_rate_encoder\": 0.0,\n",
    "    \"dropout_rate_decoder\": 0.1,\n",
    "    \"variational\": False,\n",
    "    \"seed\": 42,\n",
    "}\n",
    "\n",
    "trainer_params = {\n",
    "    \"n_epochs_kl_warmup\": None,\n",
    "    \"n_epochs_pretrain_ae\": 30,\n",
    "    \"n_epochs_adv_warmup\": 50,\n",
    "    \"n_epochs_mixup_warmup\": 0,\n",
    "    \"mixup_alpha\": 0.0,\n",
    "    \"adv_steps\": None,\n",
    "    \"n_hidden_adv\": 64,\n",
    "    \"n_layers_adv\": 3,\n",
    "    \"use_batch_norm_adv\": True,\n",
    "    \"use_layer_norm_adv\": False,\n",
    "    \"dropout_rate_adv\": 0.3,\n",
    "    \"reg_adv\": 20.0,\n",
    "    \"pen_adv\": 5.0,\n",
    "    \"lr\": 0.0003,\n",
    "    \"wd\": 4e-07,\n",
    "    \"adv_lr\": 0.0003,\n",
    "    \"adv_wd\": 4e-07,\n",
    "    \"adv_loss\": \"cce\",\n",
    "    \"doser_lr\": 0.0003,\n",
    "    \"doser_wd\": 4e-07,\n",
    "    \"do_clip_grad\": True,\n",
    "    \"gradient_clip_value\": 1.0,\n",
    "    \"step_size_lr\": 10,\n",
    "}"
   ]
  },
  {
   "cell_type": "code",
   "execution_count": null,
   "id": "f7f7ef61-0428-425a-94aa-a55e5bac6e80",
   "metadata": {
    "tags": []
   },
   "outputs": [],
   "source": [
    "model = cpa.CPA(adata=adata,\n",
    "                split_key='split',\n",
    "                train_split='train',\n",
    "                valid_split='test',\n",
    "                **model_params,\n",
    "               )"
   ]
  },
  {
   "cell_type": "code",
   "execution_count": null,
   "id": "da1fca6b-65d4-4a1d-8cc8-ecd3de3c3bcf",
   "metadata": {},
   "outputs": [],
   "source": [
    "model.train(max_epochs=500,\n",
    "            use_gpu=True,\n",
    "            batch_size=512,\n",
    "            plan_kwargs=trainer_params,\n",
    "            early_stopping_patience=5,\n",
    "            check_val_every_n_epoch=5,\n",
    "            save_path='HTAP_CPA/new_fixed_model_raw_HTAPP_batch_remove',\n",
    "           )"
   ]
  },
  {
   "cell_type": "code",
   "execution_count": null,
   "id": "eff329ba-8f87-48e6-a987-cefcb058a746",
   "metadata": {},
   "outputs": [],
   "source": [
    "df = pd.read_csv(\"/work/HTAP_CPA(1)/HTAP_CPA/Results/history.csv\")"
   ]
  },
  {
   "cell_type": "code",
   "execution_count": null,
   "id": "2d523f53-be28-4b49-b782-db279081cf56",
   "metadata": {
    "tags": []
   },
   "outputs": [],
   "source": [
    "model=model.load(\"/work/HTAP_CPA(1)/HTAP_CPA(1)/Results/\", adata=adata)"
   ]
  },
  {
   "cell_type": "code",
   "execution_count": null,
   "id": "1870c1c5-5432-4cca-af3f-32fdfc6b0732",
   "metadata": {},
   "outputs": [],
   "source": [
    "cpa.pl.plot_history(model)"
   ]
  },
  {
   "cell_type": "code",
   "execution_count": null,
   "id": "44d29e43-7ebd-45e9-9b8c-1a5424456d3a",
   "metadata": {},
   "outputs": [],
   "source": [
    "cpa.CPA.setup_anndata(adata_test,\n",
    "                      perturbation_key='cell_type',\n",
    "                      dosage_key=None,\n",
    "                      control_group='neuron',\n",
    "                      batch_key=None,\n",
    "                      is_count_data=True,\n",
    "                      categorical_covariate_keys=['cell_type', 'Phase', 'replicate', 'compartments' , 'cnv_pass_mal'],\n",
    "                      deg_uns_key=None,\n",
    "                      deg_uns_cat_key=None,\n",
    "                      max_comb_len=1,\n",
    "                     )"
   ]
  },
  {
   "cell_type": "code",
   "execution_count": null,
   "id": "eb4ee02c-7213-4c80-aa3a-fdad4ecc41d9",
   "metadata": {},
   "outputs": [],
   "source": [
    "cpa.CPA.setup_anndata(adata_test,\n",
    "                      perturbation_key='replicate',\n",
    "                      control_group='1',\n",
    "                      is_count_data=True,\n",
    "                      categorical_covariate_keys=['cell_type', 'Phase', 'replicate', 'compartments' , 'cnv_pass_mal'],\n",
    "                      max_comb_len=1,\n",
    "                     )"
   ]
  },
  {
   "cell_type": "code",
   "execution_count": null,
   "id": "e6fa9471-548b-4c7b-8b8a-46c5997a8baf",
   "metadata": {
    "tags": []
   },
   "outputs": [],
   "source": [
    "# Predict using cell_type embeddings, removing the batch embeddings (batch corrected)\n",
    "output_no_batch = model.custom_predict(adata= adata_test,\n",
    "                   covars_to_add=['cell_type', 'Phase', 'replicate', 'compartments' , 'cnv_pass_mal'],\n",
    "                   add_batch=False,\n",
    "                   add_pert=False,\n",
    "                   batch_size=2048)"
   ]
  },
  {
   "cell_type": "code",
   "execution_count": null,
   "id": "98a900e3-2ce1-44b7-b0ab-5149588b363e",
   "metadata": {},
   "outputs": [],
   "source": [
    "CPA_pred = output_no_batch[\"latent_x_pred\"].X"
   ]
  },
  {
   "cell_type": "code",
   "execution_count": null,
   "id": "7a0e6fb0-0a15-4bd5-9772-63ce120be85e",
   "metadata": {},
   "outputs": [],
   "source": [
    "CPA_pred"
   ]
  },
  {
   "cell_type": "code",
   "execution_count": null,
   "id": "90ae2ac9-f4ee-4f21-b924-53aa48f4af38",
   "metadata": {},
   "outputs": [],
   "source": [
    "import scanpy as sc\n",
    "\n",
    "# Get the prediction matrix\n",
    "CPA_pred = output_no_batch[\"latent_x_pred\"].X\n",
    "CPA_pred = CPA_pred.toarray() if hasattr(CPA_pred, \"toarray\") else CPA_pred\n",
    "\n",
    "# Add prediction to adata_test\n",
    "adata_test.obsm[\"CPA_pred\"] = CPA_pred\n",
    "\n",
    "# Save to file\n",
    "adata_test.write(\"adata_HTAPP_with_CPA_pred_removed_batch.h5ad\")"
   ]
  },
  {
   "cell_type": "code",
   "execution_count": null,
   "id": "5f5cacae-a7ee-452f-a766-e19907cad5ac",
   "metadata": {},
   "outputs": [],
   "source": []
  }
 ],
 "metadata": {
  "kernelspec": {
   "display_name": "Python 3 ",
   "language": "python",
   "name": "python3"
  },
  "language_info": {
   "codemirror_mode": {
    "name": "ipython",
    "version": 3
   },
   "file_extension": ".py",
   "mimetype": "text/x-python",
   "name": "python",
   "nbconvert_exporter": "python",
   "pygments_lexer": "ipython3",
   "version": "3.12.10"
  }
 },
 "nbformat": 4,
 "nbformat_minor": 5
}

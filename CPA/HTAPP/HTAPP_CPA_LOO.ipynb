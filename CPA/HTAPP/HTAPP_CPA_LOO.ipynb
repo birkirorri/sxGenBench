{
 "cells": [
  {
   "cell_type": "code",
   "execution_count": null,
   "id": "257788a5-9e36-4bed-8aa5-c93662606ab1",
   "metadata": {
    "tags": []
   },
   "outputs": [],
   "source": [
    "import cpa\n",
    "import scanpy as sc\n",
    "import pandas as pd\n",
    "import seaborn as sns\n",
    "import scipy\n",
    "from sklearn.metrics import mean_squared_error, r2_score, mean_absolute_error\n",
    "import numpy as np\n",
    "from scipy.stats import pearsonr\n",
    "import matplotlib.pyplot as plt"
   ]
  },
  {
   "cell_type": "code",
   "execution_count": null,
   "id": "902455b7-d6d9-44eb-aa69-5b10c160a4f7",
   "metadata": {
    "tags": []
   },
   "outputs": [],
   "source": [
    "sc.settings.set_figure_params(dpi=100)"
   ]
  },
  {
   "cell_type": "code",
   "execution_count": null,
   "id": "1ee0c651-c7ca-43bd-8618-c00738c14e10",
   "metadata": {
    "tags": []
   },
   "outputs": [],
   "source": [
    "data_path = \"/work/CPA_Healthy_hamstring/new_data_raw_fix/HTAPP_997_processed_raw_FINAL.h5ad\""
   ]
  },
  {
   "cell_type": "code",
   "execution_count": null,
   "id": "12fe033c-913b-46cb-8156-4b5ab84b3586",
   "metadata": {
    "tags": []
   },
   "outputs": [],
   "source": [
    "adata = sc.read(data_path)"
   ]
  },
  {
   "cell_type": "code",
   "execution_count": null,
   "id": "5dfcecc7-bbea-4ac6-9a2b-baad213786aa",
   "metadata": {
    "tags": []
   },
   "outputs": [],
   "source": [
    "adata.layers['counts'] = adata.X.copy()"
   ]
  },
  {
   "cell_type": "code",
   "execution_count": null,
   "id": "2e0e3898-9b96-47a1-816a-ebac37ae4df3",
   "metadata": {},
   "outputs": [],
   "source": [
    "# Subset the data\n",
    "subset_mask = (adata.obs['replicate'] == '1') & (adata.obs['cell_type'] == 'hepatocyte')\n",
    "subset_adata = adata[subset_mask].copy()  \n",
    "train_adata = adata[~subset_mask].copy()  # Training data is everything except the subset"
   ]
  },
  {
   "cell_type": "code",
   "execution_count": null,
   "id": "dcc08fc9-972c-402d-9278-1fd4e4fc24c4",
   "metadata": {
    "tags": []
   },
   "outputs": [],
   "source": [
    "cpa.CPA.setup_anndata(train_adata,\n",
    "                      perturbation_key='replicate',\n",
    "                      dosage_key=None,\n",
    "                      control_group='2',\n",
    "                      batch_key=None,\n",
    "                      is_count_data=True,\n",
    "                      categorical_covariate_keys=['cell_type', 'Phase', 'replicate', 'compartments' , 'cnv_pass_mal'],\n",
    "                      deg_uns_key=None,\n",
    "                      deg_uns_cat_key=None,\n",
    "                      max_comb_len=2,\n",
    "                     )"
   ]
  },
  {
   "cell_type": "code",
   "execution_count": null,
   "id": "7e10520c-ae63-4c13-b902-6defe1a69261",
   "metadata": {
    "tags": []
   },
   "outputs": [],
   "source": [
    "model_params = {\n",
    "    \"n_latent\": 64,\n",
    "    \"recon_loss\": \"nb\",\n",
    "    \"doser_type\": \"linear\",\n",
    "    \"n_hidden_encoder\": 128,\n",
    "    \"n_layers_encoder\": 2,\n",
    "    \"n_hidden_decoder\": 512,\n",
    "    \"n_layers_decoder\": 2,\n",
    "    \"use_batch_norm_encoder\": True,\n",
    "    \"use_layer_norm_encoder\": False,\n",
    "    \"use_batch_norm_decoder\": False,\n",
    "    \"use_layer_norm_decoder\": True,\n",
    "    \"dropout_rate_encoder\": 0.0,\n",
    "    \"dropout_rate_decoder\": 0.1,\n",
    "    \"variational\": False,\n",
    "    \"seed\": 42,\n",
    "}\n",
    "\n",
    "trainer_params = {\n",
    "    \"n_epochs_kl_warmup\": None,\n",
    "    \"n_epochs_pretrain_ae\": 30,\n",
    "    \"n_epochs_adv_warmup\": 50,\n",
    "    \"n_epochs_mixup_warmup\": 0,\n",
    "    \"mixup_alpha\": 0.0,\n",
    "    \"adv_steps\": None,\n",
    "    \"n_hidden_adv\": 64,\n",
    "    \"n_layers_adv\": 3,\n",
    "    \"use_batch_norm_adv\": True,\n",
    "    \"use_layer_norm_adv\": False,\n",
    "    \"dropout_rate_adv\": 0.3,\n",
    "    \"reg_adv\": 20.0,\n",
    "    \"pen_adv\": 5.0,\n",
    "    \"lr\": 0.0003,\n",
    "    \"wd\": 4e-07,\n",
    "    \"adv_lr\": 0.0003,\n",
    "    \"adv_wd\": 4e-07,\n",
    "    \"adv_loss\": \"cce\",\n",
    "    \"doser_lr\": 0.0003,\n",
    "    \"doser_wd\": 4e-07,\n",
    "    \"do_clip_grad\": True,\n",
    "    \"gradient_clip_value\": 1.0,\n",
    "    \"step_size_lr\": 10,\n",
    "}"
   ]
  },
  {
   "cell_type": "code",
   "execution_count": null,
   "id": "678a5279-75f2-4d2b-ae55-af7d6473c359",
   "metadata": {
    "tags": []
   },
   "outputs": [],
   "source": [
    "model = cpa.CPA(adata=train_adata,\n",
    "                **model_params,\n",
    "               )"
   ]
  },
  {
   "cell_type": "code",
   "execution_count": null,
   "id": "7e27a142-b4a6-4be1-b5f8-94d37bd83292",
   "metadata": {
    "tags": []
   },
   "outputs": [],
   "source": [
    "model.train(max_epochs=500,\n",
    "            use_gpu=True,\n",
    "            batch_size=512,\n",
    "            plan_kwargs=trainer_params,\n",
    "            early_stopping_patience=10,\n",
    "            check_val_every_n_epoch=500,\n",
    "            save_path='HTAP_LOA_results/LOA_HTAPP_final_raw_data',\n",
    "           )"
   ]
  },
  {
   "cell_type": "code",
   "execution_count": null,
   "id": "782e751a-f629-4d9e-b2a0-4a72193ad251",
   "metadata": {
    "tags": []
   },
   "outputs": [],
   "source": [
    "cpa.pl.plot_history(model)"
   ]
  },
  {
   "cell_type": "code",
   "execution_count": null,
   "id": "3df886c8-b439-4ed7-8f05-66116d3db98c",
   "metadata": {},
   "outputs": [],
   "source": [
    "model.load(\"/work/HTAP_CPA(1)/HTAP_LOA_results/LOA_CPA_HTAPP_GPA_Check\", adata = train_adata)"
   ]
  },
  {
   "cell_type": "code",
   "execution_count": null,
   "id": "2ae33877-b229-483a-97c9-2701b6a67bb8",
   "metadata": {},
   "outputs": [],
   "source": [
    "model.is_trained\n",
    "model.is_trained = True\n",
    "model"
   ]
  },
  {
   "cell_type": "code",
   "execution_count": null,
   "id": "c8a920f4-fc73-4e51-8887-6a1dd5a8cb4f",
   "metadata": {
    "tags": []
   },
   "outputs": [],
   "source": [
    "latent_outputs = model.get_latent_representation(adata, batch_size=1024)"
   ]
  },
  {
   "cell_type": "code",
   "execution_count": null,
   "id": "2759f107-538d-4a2a-b58a-5bd1ce37373c",
   "metadata": {
    "tags": []
   },
   "outputs": [],
   "source": [
    "latent_outputs.keys()"
   ]
  },
  {
   "cell_type": "code",
   "execution_count": null,
   "id": "6bb97b3b-fd2b-42c8-aef2-34c05cd8a42f",
   "metadata": {
    "tags": []
   },
   "outputs": [],
   "source": [
    "adata.layers['X_true'] = adata.X.copy()"
   ]
  },
  {
   "cell_type": "code",
   "execution_count": null,
   "id": "3218dcb6-d21a-404d-bc7a-2162d1b34f3c",
   "metadata": {},
   "outputs": [],
   "source": [
    "# --- 1) Pull out replicate 2 - hepatocyte from what the model saw in training\n",
    "rep_2_baseline = train_adata[(train_adata.obs[\"replicate\"] == \"2\") &\n",
    "(train_adata.obs[\"cell_type\"] == \"hepatocyte\")].copy()"
   ]
  },
  {
   "cell_type": "code",
   "execution_count": null,
   "id": "bf36f8df-cc42-480c-8a6d-f510f562aa3b",
   "metadata": {},
   "outputs": [],
   "source": [
    "# — 5) Baseline reconstruction (female→female) —\n",
    "#    Simply call predict on the AnnData as-is; CPA will reconstruct .X into .obsm['CPA_pred'] :contentReference[oaicite:0]{index=0}\n",
    "baseline_adata = model.predict(adata=rep_2_baseline, batch_size=256, return_mean=True)"
   ]
  },
  {
   "cell_type": "code",
   "execution_count": null,
   "id": "9ea5520a-84fa-429e-9d55-574628d652f1",
   "metadata": {},
   "outputs": [],
   "source": [
    "# — 6) Counterfactual (female→male) —\n",
    "#    Save the original .X as X_true, flip the sex to males and then predict again\n",
    "cf = rep_2_baseline.copy()\n",
    "cf.obs[\"replicate\"] = \"1\"\n",
    "cf.obsm[\"X_true\"] = cf.X.copy() "
   ]
  },
  {
   "cell_type": "code",
   "execution_count": null,
   "id": "91d74dd1-95cc-4138-b6aa-027e19b708b2",
   "metadata": {},
   "outputs": [],
   "source": [
    "# Run in-place prediction (stores output in `.obsm[\"CPA_pred\"]`)\n",
    "cf_predict = model.predict(adata=cf, batch_size=256, return_mean=False)"
   ]
  },
  {
   "cell_type": "code",
   "execution_count": null,
   "id": "9167c425-ee84-45d2-99b4-1bb52d3d748f",
   "metadata": {},
   "outputs": [],
   "source": [
    "#  Compute per-gene prediction means \n",
    "baseline_pred = np.asarray(rep_2_baseline.obsm[\"CPA_pred\"].mean(axis=0)).ravel()\n",
    "cf_pred       = np.asarray(cf.obsm[\"CPA_pred\"].mean(axis=0)).ravel()"
   ]
  },
  {
   "cell_type": "code",
   "execution_count": null,
   "id": "035c31d4-01fb-49af-a56c-8c9719eccfd0",
   "metadata": {},
   "outputs": [],
   "source": [
    "baseline_pred"
   ]
  },
  {
   "cell_type": "code",
   "execution_count": null,
   "id": "526eea78-0ec5-42fa-9e40-b53c1c827989",
   "metadata": {},
   "outputs": [],
   "source": [
    "cf_pred"
   ]
  },
  {
   "cell_type": "code",
   "execution_count": null,
   "id": "3741b44f-73db-4f95-b324-3bafdf1c2d44",
   "metadata": {},
   "outputs": [],
   "source": [
    "# Gt for females is now females with hepatocytes\n",
    "\n",
    "rep_2_gt = (\n",
    "    rep_2_baseline.X.toarray().mean(axis=0)\n",
    "    if hasattr(rep_2_baseline.X, \"toarray\")\n",
    "    else rep_2_baseline.X.mean(axis=0)\n",
    ")\n",
    "\n",
    "\n",
    "#    Gt for the male is now the held out dataset\n",
    "rep_1_gt = (\n",
    "    subset_adata.X.toarray().mean(axis=0)\n",
    "    if hasattr(subset_adata.X, \"toarray\")\n",
    "    else subset_adata.X.mean(axis=0)\n",
    ")\n"
   ]
  },
  {
   "cell_type": "code",
   "execution_count": null,
   "id": "aa0c5307-47ff-4ad2-a45b-f8f5939c270f",
   "metadata": {},
   "outputs": [],
   "source": [
    "f_m = np.sqrt(np.mean((baseline_pred - rep_1_gt)**2)) #pred-F --- TM\n",
    "m_m = np.sqrt(np.mean((cf_pred - rep_1_gt)**2)) # pred_M --- TM\n",
    "f_f  =np.sqrt(np.mean((baseline_pred - rep_2_gt)**2)) # pref F ----- TF\n",
    "m_f = np.sqrt(np.mean((cf_pred - rep_2_gt)**2)) # pref M ---- TF\n",
    "\n",
    "print(f\"RMSE pred F --- TM: {f_m:.4f}\")\n",
    "print(f\"RMSE pred M --- TM (counterfactual)  : {m_m:.4f}\")\n",
    "print(f\"RMSE pred F ----- TF : {f_f:.4f}\")\n",
    "print(f\"RMSE pred M ---- TF (counterfactual)  : {m_f:.4f}\")"
   ]
  },
  {
   "cell_type": "code",
   "execution_count": null,
   "id": "9ae333e1-d4c2-4396-9949-995319cbee14",
   "metadata": {},
   "outputs": [],
   "source": [
    "import matplotlib.pyplot as plt\n",
    "\n",
    "# Define RMSE values\n",
    "rmse_data = [\n",
    "    [\"0.0271\", \"0.7538\"],  # True Female\n",
    "    [\"0.9407\", \"1.1333\"],  # True Male\n",
    "]\n",
    "\n",
    "# Define labels\n",
    "column_labels = [\"Pred Replicate 2\", \"Pred Replicate 1 (CF)\"]\n",
    "row_labels = [\"True Replicate 2\", \"True Replicate 1\"]\n",
    "\n",
    "# Create the figure and axis\n",
    "fig, ax = plt.subplots(figsize=(7, 2))\n",
    "ax.axis('tight')\n",
    "ax.axis('off')\n",
    "\n",
    "# Create the table\n",
    "table = ax.table(\n",
    "    cellText=rmse_data,\n",
    "    rowLabels=row_labels,\n",
    "    colLabels=column_labels,\n",
    "    cellLoc='center',\n",
    "    loc='center'\n",
    ")\n",
    "\n",
    "table.scale(1, 2)  # Increase row height\n",
    "table.auto_set_font_size(False)\n",
    "table.set_fontsize(12)\n",
    "\n",
    "# Color the lower row cells\n",
    "# Note: Rows and columns are 1-indexed in table.get_celld()\n",
    "table[(2, 0)].set_facecolor(\"orange\")  # True Male, Pred Female\n",
    "table[(2, 1)].set_facecolor(\"lightblue\")  # True Male, Pred Male\n",
    "\n",
    "plt.title(\"RMSE between Predictions and Ground truth\", pad=20)\n",
    "plt.tight_layout()\n",
    "plt.show()\n"
   ]
  },
  {
   "cell_type": "code",
   "execution_count": null,
   "id": "4fc0d73d-b1f7-46f8-bf56-0886b3b3e127",
   "metadata": {},
   "outputs": [],
   "source": [
    "import numpy as np\n",
    "import seaborn as sns\n",
    "import matplotlib.pyplot as plt\n",
    "\n",
    "# Log-transform the data\n",
    "log_male_gt = np.log1p(rep_1_gt)\n",
    "log_cf_pred = np.log1p(cf_pred)\n",
    "log_baseline_pred = np.log1p(baseline_pred)\n",
    "\n",
    "# Scatter plot of log-transformed ground truth vs. predictions\n",
    "fig, ax = plt.subplots(figsize=(10, 6))\n",
    "\n",
    "sns.scatterplot(\n",
    "    x=log_male_gt, y=log_cf_pred,\n",
    "    alpha=0.7, ax=ax\n",
    ")\n",
    "\n",
    "sns.scatterplot(\n",
    "    x=log_male_gt, y=log_baseline_pred,\n",
    "    alpha=0.7, ax=ax\n",
    ")\n",
    "\n",
    "# Identity line (in log space)\n",
    "mn = min(log_male_gt.min(), log_male_gt.min())\n",
    "mx = max(log_male_gt.max(), log_male_gt.max())\n",
    "ax.plot([mn, mx], [mn, mx], ls=\"--\", color=\"red\")\n",
    "\n",
    "\n",
    "ax.set_xlabel(\"Log Ground Truth (Male)\")\n",
    "ax.set_ylabel(\"Log Predicted Mean Expression\")\n",
    "ax.set_title(\"Leave One Out analysis\" )\n",
    "ax.legend(loc=\"upper left\")\n",
    "plt.tight_layout()\n",
    "ax.grid(False)\n",
    "plt.show()\n"
   ]
  }
 ],
 "metadata": {
  "kernelspec": {
   "display_name": "Python 3 ",
   "language": "python",
   "name": "python3"
  },
  "language_info": {
   "codemirror_mode": {
    "name": "ipython",
    "version": 3
   },
   "file_extension": ".py",
   "mimetype": "text/x-python",
   "name": "python",
   "nbconvert_exporter": "python",
   "pygments_lexer": "ipython3",
   "version": "3.12.10"
  }
 },
 "nbformat": 4,
 "nbformat_minor": 5
}

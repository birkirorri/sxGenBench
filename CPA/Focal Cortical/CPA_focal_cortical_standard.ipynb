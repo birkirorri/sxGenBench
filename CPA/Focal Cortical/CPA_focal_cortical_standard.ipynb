{
 "cells": [
  {
   "cell_type": "code",
   "execution_count": null,
   "id": "3440226d-119f-41a6-9102-cfe0096bf191",
   "metadata": {
    "tags": []
   },
   "outputs": [],
   "source": [
    "import cpa\n",
    "import scanpy as sc\n",
    "import pandas as pd\n",
    "import seaborn as sns\n",
    "import scipy\n",
    "from sklearn.metrics import mean_squared_error, r2_score, mean_absolute_error\n",
    "import numpy as np\n",
    "from scipy.stats import pearsonr\n",
    "import matplotlib.pyplot as plt"
   ]
  },
  {
   "cell_type": "code",
   "execution_count": null,
   "id": "89882cf4",
   "metadata": {
    "tags": []
   },
   "outputs": [],
   "source": [
    "sc.settings.set_figure_params(dpi=100)"
   ]
  },
  {
   "cell_type": "code",
   "execution_count": null,
   "id": "f341ad8d-0e58-4f01-98b7-16449285985a",
   "metadata": {},
   "outputs": [],
   "source": [
    "adata = sc.read(\"/work/CPA_Healthy_hamstring/new_data_raw_fix/focal_cortical_processed_RAW.h5ad\")"
   ]
  },
  {
   "cell_type": "code",
   "execution_count": null,
   "id": "948af4e8",
   "metadata": {
    "tags": []
   },
   "outputs": [],
   "source": [
    "adata"
   ]
  },
  {
   "cell_type": "code",
   "execution_count": null,
   "id": "aed0f509",
   "metadata": {
    "tags": []
   },
   "outputs": [],
   "source": [
    "# Split the data set into train and test\n",
    "from sklearn.model_selection import train_test_split\n",
    "\n",
    "split_key = \"split\"\n",
    "adata.obs[split_key] = \"train\"\n",
    "idx = list(range(len(adata)))\n",
    "idx_train, idx_test = train_test_split(adata.obs_names, test_size=0.1, random_state=42)\n",
    "adata.obs.loc[idx_train, split_key] = \"train\"\n",
    "adata.obs.loc[idx_test, split_key] = \"test\""
   ]
  },
  {
   "cell_type": "code",
   "execution_count": null,
   "id": "55e77f67-1df9-45a0-ac74-88c7426db1b7",
   "metadata": {},
   "outputs": [],
   "source": [
    "adata_train = adata[adata.obs[split_key] == \"train\"].copy()\n",
    "adata_test = adata[adata.obs[split_key] == \"test\"].copy()"
   ]
  },
  {
   "cell_type": "code",
   "execution_count": null,
   "id": "62e46ffd",
   "metadata": {
    "tags": []
   },
   "outputs": [],
   "source": [
    "adata.layers['counts'] = adata.X.copy()"
   ]
  },
  {
   "cell_type": "code",
   "execution_count": null,
   "id": "89d1745c",
   "metadata": {
    "tags": []
   },
   "outputs": [],
   "source": [
    "adata.X = adata.layers['counts'].copy()"
   ]
  },
  {
   "cell_type": "code",
   "execution_count": null,
   "id": "af0c7745",
   "metadata": {},
   "outputs": [],
   "source": [
    "fig, axs = plt.subplots(1, 2, figsize=(15, 5))\n",
    "for i, c in enumerate([\"sex\", \"lateralization\"]):\n",
    "    sc.pl.umap(adata, color=[c], ax=axs[i], show=False)\n",
    "    axs[i].set_axis_off()\n",
    "plt.tight_layout()\n",
    "plt.show()"
   ]
  },
  {
   "cell_type": "code",
   "execution_count": null,
   "id": "2ce6f01c",
   "metadata": {
    "tags": []
   },
   "outputs": [],
   "source": [
    "cpa.CPA.setup_anndata(adata,\n",
    "                      perturbation_key='sex',\n",
    "                      dosage_key=None,\n",
    "                      control_group='female',\n",
    "                      batch_key=None,\n",
    "                      is_count_data=True,\n",
    "                      categorical_covariate_keys=['cell_type', 'donor_id', 'development_stage_ontology_term_id', 'tissue', 'lateralization', 'sex'],\n",
    "                      deg_uns_key=None,\n",
    "                      deg_uns_cat_key=None,\n",
    "                      max_comb_len=1,\n",
    "                     )"
   ]
  },
  {
   "cell_type": "code",
   "execution_count": null,
   "id": "527d2fe6",
   "metadata": {
    "tags": []
   },
   "outputs": [],
   "source": [
    "model_params = {\n",
    "    \"n_latent\": 64,\n",
    "    \"recon_loss\": \"nb\",\n",
    "    \"doser_type\": \"linear\",\n",
    "    \"n_hidden_encoder\": 128,\n",
    "    \"n_layers_encoder\": 2,\n",
    "    \"n_hidden_decoder\": 512,\n",
    "    \"n_layers_decoder\": 2,\n",
    "    \"use_batch_norm_encoder\": True,\n",
    "    \"use_layer_norm_encoder\": False,\n",
    "    \"use_batch_norm_decoder\": False,\n",
    "    \"use_layer_norm_decoder\": True,\n",
    "    \"dropout_rate_encoder\": 0.0,\n",
    "    \"dropout_rate_decoder\": 0.1,\n",
    "    \"variational\": False,\n",
    "    \"seed\": 42,\n",
    "}\n",
    "\n",
    "trainer_params = {\n",
    "    \"n_epochs_kl_warmup\": None,\n",
    "    \"n_epochs_pretrain_ae\": 30,\n",
    "    \"n_epochs_adv_warmup\": 50,\n",
    "    \"n_epochs_mixup_warmup\": 0,\n",
    "    \"mixup_alpha\": 0.0,\n",
    "    \"adv_steps\": None,\n",
    "    \"n_hidden_adv\": 64,\n",
    "    \"n_layers_adv\": 3,\n",
    "    \"use_batch_norm_adv\": True,\n",
    "    \"use_layer_norm_adv\": False,\n",
    "    \"dropout_rate_adv\": 0.3,\n",
    "    \"reg_adv\": 20.0,\n",
    "    \"pen_adv\": 5.0,\n",
    "    \"lr\": 0.0003,\n",
    "    \"wd\": 4e-07,\n",
    "    \"adv_lr\": 0.0003,\n",
    "    \"adv_wd\": 4e-07,\n",
    "    \"adv_loss\": \"cce\",\n",
    "    \"doser_lr\": 0.0003,\n",
    "    \"doser_wd\": 4e-07,\n",
    "    \"do_clip_grad\": True,\n",
    "    \"gradient_clip_value\": 1.0,\n",
    "    \"step_size_lr\": 10,\n",
    "}"
   ]
  },
  {
   "cell_type": "code",
   "execution_count": null,
   "id": "192a25d1",
   "metadata": {
    "tags": []
   },
   "outputs": [],
   "source": [
    "adata.obs['split'].value_counts()"
   ]
  },
  {
   "cell_type": "code",
   "execution_count": null,
   "id": "94aca780",
   "metadata": {
    "tags": []
   },
   "outputs": [],
   "source": [
    "model = cpa.CPA(adata=adata,\n",
    "                split_key='split',\n",
    "                train_split='train',\n",
    "                valid_split='test',\n",
    "                **model_params,\n",
    "               )"
   ]
  },
  {
   "cell_type": "code",
   "execution_count": null,
   "id": "88c4b17e",
   "metadata": {},
   "outputs": [],
   "source": [
    "model.train(max_epochs=500,\n",
    "            use_gpu=True,\n",
    "            batch_size=512,\n",
    "            plan_kwargs=trainer_params,\n",
    "            early_stopping_patience=10,\n",
    "            check_val_every_n_epoch=500,\n",
    "            save_path='CPA_focal_cortical_rerun_2/CPA_focal_model_raw_fix',\n",
    "           )"
   ]
  },
  {
   "cell_type": "code",
   "execution_count": null,
   "id": "cad69b1a",
   "metadata": {},
   "outputs": [],
   "source": [
    "model.save(\"CPA_focal_cortical_rerun_2/focal_cortical_more_cov_CPA_3\")"
   ]
  },
  {
   "cell_type": "code",
   "execution_count": null,
   "id": "297e1d9c-9b68-40d8-8119-35ffbecab42e",
   "metadata": {
    "tags": []
   },
   "outputs": [],
   "source": [
    "model = model.load(\"/work/CPA_focal_cortical_rerun/CPA_focal_cortical_rerun_2/CPA_focal_model_raw_fix\",adata = adata)"
   ]
  },
  {
   "cell_type": "code",
   "execution_count": null,
   "id": "009c0bd5-6122-41ea-aae3-6d4dbb0d08d4",
   "metadata": {},
   "outputs": [],
   "source": [
    "cpa.CPA.setup_anndata(adata_test,\n",
    "                      perturbation_key='sex',\n",
    "                      dosage_key=None,\n",
    "                      control_group='female',\n",
    "                      batch_key=None,\n",
    "                      is_count_data=True,\n",
    "                      categorical_covariate_keys=['cell_type', 'donor_id', 'development_stage_ontology_term_id', 'tissue', 'lateralization', 'sex'],\n",
    "                      deg_uns_key=None,\n",
    "                      deg_uns_cat_key=None,\n",
    "                      max_comb_len=1,\n",
    "                     )\n"
   ]
  },
  {
   "cell_type": "code",
   "execution_count": null,
   "id": "01c44229-6348-4c90-b447-eedc467e973d",
   "metadata": {
    "tags": []
   },
   "outputs": [],
   "source": [
    "model.is_trained_ = True\n",
    "model.is_trained = True\n",
    "model"
   ]
  },
  {
   "cell_type": "code",
   "execution_count": null,
   "id": "6b3ce69e-8fe8-40fe-bbf7-c9d039b77c04",
   "metadata": {
    "tags": []
   },
   "outputs": [],
   "source": [
    "cpa.pl.plot_history(model)"
   ]
  },
  {
   "cell_type": "code",
   "execution_count": null,
   "id": "735381b6-1357-4853-b8f7-36cd078a028e",
   "metadata": {
    "tags": []
   },
   "outputs": [],
   "source": [
    "latent_outputs = model.get_latent_representation(adata, batch_size=1024)"
   ]
  },
  {
   "cell_type": "code",
   "execution_count": null,
   "id": "3c473f9f-0178-416c-9f49-3d5fca8413a8",
   "metadata": {
    "tags": []
   },
   "outputs": [],
   "source": [
    "latent_basal_adata = latent_outputs['latent_basal']\n",
    "latent_adata = latent_outputs['latent_after']"
   ]
  },
  {
   "cell_type": "code",
   "execution_count": null,
   "id": "8fed6f94-adb1-40ab-a463-30cac2d03297",
   "metadata": {
    "tags": []
   },
   "outputs": [],
   "source": [
    "sc.pp.neighbors(latent_basal_adata)\n",
    "sc.tl.umap(latent_basal_adata)"
   ]
  },
  {
   "cell_type": "code",
   "execution_count": null,
   "id": "431a4d8e-0b01-4da9-90eb-1e7d2f26d1fe",
   "metadata": {
    "tags": []
   },
   "outputs": [],
   "source": [
    "latent_basal_adata"
   ]
  },
  {
   "cell_type": "code",
   "execution_count": null,
   "id": "07fa4298-1a0f-410e-8625-62d3fefb06aa",
   "metadata": {
    "tags": []
   },
   "outputs": [],
   "source": [
    "sc.pl.umap(latent_basal_adata, color=['cell_type'], frameon=False, wspace=0.2)"
   ]
  },
  {
   "cell_type": "code",
   "execution_count": null,
   "id": "5a161e0b-8d1e-49c2-8ebc-a084a559c463",
   "metadata": {
    "tags": []
   },
   "outputs": [],
   "source": [
    "sc.pp.neighbors(latent_adata)\n",
    "sc.tl.umap(latent_adata)"
   ]
  },
  {
   "cell_type": "code",
   "execution_count": null,
   "id": "88d91fff-23c9-45ab-a6e3-c22442b25991",
   "metadata": {
    "tags": []
   },
   "outputs": [],
   "source": [
    "sc.pl.umap(latent_adata, color=['cell_type'], frameon=False, wspace=0.2)"
   ]
  },
  {
   "cell_type": "code",
   "execution_count": null,
   "id": "a0eea70c-8bb4-459c-bf2a-8348e2431612",
   "metadata": {
    "tags": []
   },
   "outputs": [],
   "source": [
    "adata.layers['X_true'] = adata.X.copy()"
   ]
  },
  {
   "cell_type": "code",
   "execution_count": null,
   "id": "ea26486e-058b-4f85-bdd4-081d0ef0d625",
   "metadata": {
    "tags": []
   },
   "outputs": [],
   "source": [
    "import scanpy as sc\n",
    "\n",
    "# Assuming 'adata' is your AnnData object\n",
    "# Extract the CPA_pred from the obsm attribute\n",
    "adata_CPA_pred = adata.copy()  # Make a copy to avoid modifying the original object\n",
    "adata_CPA_pred.obsm['CPA_pred'] = adata.obsm['CPA_pred']  # Ensure the CPA_pred is included\n",
    "\n",
    "# Save the new AnnData object to a new .h5ad file\n",
    "adata_CPA_pred.write('adata_with_CPA_pred_focal.h5ad')\n"
   ]
  },
  {
   "cell_type": "code",
   "execution_count": null,
   "id": "1f442268-423a-4670-b026-07db51837e2e",
   "metadata": {
    "tags": []
   },
   "outputs": [],
   "source": [
    "model.predict(adata_test, batch_size=1024)"
   ]
  },
  {
   "cell_type": "code",
   "execution_count": null,
   "id": "1e7700d3-17e1-4631-a110-24e05cec1bcc",
   "metadata": {},
   "outputs": [],
   "source": [
    "rec = adata_test.obsm[\"CPA_pred\"]"
   ]
  },
  {
   "cell_type": "code",
   "execution_count": null,
   "id": "46c2f800-df33-4dc4-8713-2afd2857cdd3",
   "metadata": {},
   "outputs": [],
   "source": [
    "# Step 1: Get ground truth from test set\n",
    "X_true = adata[adata.obs[\"split\"] == \"test\"].X"
   ]
  },
  {
   "cell_type": "code",
   "execution_count": null,
   "id": "0716a5be-3443-4a9a-b7cc-5b886f1d8c95",
   "metadata": {},
   "outputs": [],
   "source": [
    "# Step 2: Convert sparse matrix to dense if needed\n",
    "if hasattr(X_true, \"toarray\"):\n",
    "    X_true = X_true.toarray()\n",
    "\n",
    "# Step 3: Flatten both arrays\n",
    "X_true_flat = X_true.flatten()\n",
    "rec_flat = rec.flatten()"
   ]
  },
  {
   "cell_type": "code",
   "execution_count": null,
   "id": "e47bb65d-d6d2-402b-810d-e7eeef34297b",
   "metadata": {},
   "outputs": [],
   "source": [
    "# Step 4: Compute R²\n",
    "r2 = r2_score(X_true_flat, rec_flat)\n",
    "print(f\"R² score: {r2:.4f}\")"
   ]
  },
  {
   "cell_type": "code",
   "execution_count": null,
   "id": "831f741d-370a-4c27-a2f4-3b843f58f525",
   "metadata": {
    "tags": []
   },
   "outputs": [],
   "source": [
    "from sklearn.metrics import mean_absolute_error, mean_squared_error, r2_score"
   ]
  },
  {
   "cell_type": "code",
   "execution_count": null,
   "id": "ccdca1cb-206f-4b37-b23a-c1a06b691e96",
   "metadata": {},
   "outputs": [],
   "source": [
    "rec"
   ]
  },
  {
   "cell_type": "code",
   "execution_count": null,
   "id": "2e7efb4f-b75c-4961-8efe-45768f8d5c29",
   "metadata": {
    "tags": []
   },
   "outputs": [],
   "source": [
    "# 1. Define ground truth and predictions\n",
    "adata_truth = adata_test.X.toarray()  # Convert from sparse if needed\n",
    "\n",
    "# 2. Calculate Mean Squared Error (MSE)\n",
    "mse = mean_squared_error(adata_truth.flatten(), rec.flatten())\n",
    "print(f\"Mean Squared Error: {mse}\")"
   ]
  },
  {
   "cell_type": "code",
   "execution_count": null,
   "id": "692a63d7-5230-4799-beec-1f60598ef5b8",
   "metadata": {
    "tags": []
   },
   "outputs": [],
   "source": [
    "mae = mean_absolute_error(adata_truth.flatten(), rec.flatten())\n",
    "print(f\"Mean absolute error: {mae}\")"
   ]
  },
  {
   "cell_type": "code",
   "execution_count": null,
   "id": "02ce431c-c576-402f-bfdf-d932bb5d4d6a",
   "metadata": {},
   "outputs": [],
   "source": [
    "import scanpy as sc\n",
    "\n",
    "# Assuming 'adata' is your AnnData object\n",
    "# Extract the CPA_pred from the obsm attribute\n",
    "adata_CPA_pred = adata_test.copy()  # Make a copy to avoid modifying the original object\n",
    "adata_CPA_pred.obsm['CPA_pred'] = adata_test.obsm['CPA_pred']  # Ensure the CPA_pred is included\n",
    "\n",
    "# Save the new AnnData object to a new .h5ad file\n",
    "adata_CPA_pred.write('adata_focal_cortical_with_CPA_pred_new_raw.h5ad')"
   ]
  },
  {
   "cell_type": "code",
   "execution_count": null,
   "id": "92618f57-710d-4966-be5a-1a7a36a40efd",
   "metadata": {},
   "outputs": [],
   "source": [
    "from sklearn.preprocessing import LabelEncoder\n",
    "from sklearn.preprocessing import KBinsDiscretizer\n",
    "from sklearn.cluster import KMeans\n",
    "from sklearn.metrics import mutual_info_score\n",
    "from sklearn.model_selection import train_test_split\n",
    "###MIG###\n",
    "import numpy as np\n",
    "import anndata\n",
    "import pandas as pd\n",
    "\n",
    "def encode_categorical(data):\n",
    "    encoders = []\n",
    "    encoded_data = np.zeros_like(data, dtype=int)\n",
    "    for i in range(data.shape[1]):\n",
    "        le = LabelEncoder()\n",
    "        encoded_data[:, i] = le.fit_transform(data[:, i])\n",
    "        encoders.append(le)\n",
    "    return encoded_data, encoders\n",
    "\n",
    "def prep_data(adata, embedding, covriate_keys=None, continuous_covriate_keys=None, test_size=0.25):\n",
    "    idx_train, idx_test = train_test_split(\n",
    "        range(len(adata.obs_names)), test_size=test_size, random_state=42\n",
    "    )\n",
    "    print(\"Splitting complete.\")\n",
    "    \n",
    "    encoded_factors_of_variation, _ = encode_categorical(adata.obs[covriate_keys].values)\n",
    "  #  print(\"Encoded factors of variation:\", np.unique(encoded_factors_of_variation, axis=0))\n",
    "   # print(\"Encoded factors of variation sample:\", encoded_factors_of_variation[:5])\n",
    "   # print(\"Categorical encoding complete.\")\n",
    "    \n",
    "    if isinstance(embedding, anndata.AnnData):  \n",
    "        embedding_data = embedding.X\n",
    "    else:\n",
    "        embedding_data = embedding\n",
    "\n",
    "   # print(\"Embedding shape:\", embedding_data.shape)\n",
    "  #  print(\"Number of train indices:\", len(idx_train))\n",
    "   # print(\"Number of test indices:\", len(idx_test))\n",
    "    \n",
    "    mus_train = np.array(embedding_data[idx_train])\n",
    "    ys_train = np.array(encoded_factors_of_variation[idx_train])\n",
    "    mus_test = np.array(embedding_data[idx_test])\n",
    "    ys_test = np.array(encoded_factors_of_variation[idx_test])\n",
    "    \n",
    "   # print(\"mus_train shape:\", mus_train.shape)\n",
    "   # print(\"ys_train shape:\", ys_train.shape)\n",
    "   # print(\"mus_test shape:\", mus_test.shape)\n",
    "   # print(\"ys_test shape:\", ys_test.shape)\n",
    "   # print(\"Sample of mus_train:\", mus_train[:, :5])\n",
    "   # print(\"Sample of ys_train:\", ys_train[:, :5])\n",
    "    #print(\"Min/Max of mus_train:\", mus_train.min(), mus_train.max())\n",
    "   # print(\"Unique values in ys_train:\", np.unique(ys_train))\n",
    "\n",
    "    return mus_train.T.copy(), ys_train.T.copy(), mus_test.T.copy(), ys_test.T.copy()\n",
    "\n",
    "def compute_mig(mus_train, ys_train, covariate_names=None):\n",
    "    \"\"\"Computes the mutual information gap.\"\"\"\n",
    "    return _compute_mig(mus_train, ys_train, covariate_names)\n",
    "\n",
    "def _compute_mig(mus_train, ys_train, covariate_names=None):\n",
    "    \"\"\"Computes MIG score based on latent codes and covariates.\"\"\"\n",
    "    score_dict = {}\n",
    "    discretized_mus = make_discretizer(mus_train, discretizer_fn=_histogram_discretize)\n",
    "   # print(\"Sample Discretized Latent Variables:\\n\", discretized_mus[:, :5])\n",
    "    \n",
    "    m = discrete_mutual_info(discretized_mus, ys_train)\n",
    "\n",
    "    if covariate_names is None:\n",
    "        covariate_names = [f\"Covariate {j}\" for j in range(m.shape[1])]\n",
    "        \n",
    "    for j in range(m.shape[1]):\n",
    "        top_indices = np.argsort(m[:, j])[::-1][:3]\n",
    "        top_scores = m[top_indices, j]\n",
    "        print(f\"Top 3 MI scores for covariate '{covariate_names[j]}':\")\n",
    "        for idx, score in zip(top_indices, top_scores):\n",
    "            print(f\"  Latent dim {idx}: MI = {score:.4f}\")\n",
    "\n",
    "    assert m.shape[0] == mus_train.shape[0]\n",
    "    assert m.shape[1] == ys_train.shape[0]\n",
    "\n",
    "    entropy = discrete_entropy(ys_train)\n",
    "    sorted_m = np.sort(m, axis=0)[::-1]\n",
    "\n",
    "    score_dict[\"discrete_mig\"] = np.mean(\n",
    "        np.divide(sorted_m[0, :] - sorted_m[1, :], entropy[:])\n",
    "    )\n",
    "\n",
    "    print(\"Þetta er score:\", score_dict)\n",
    "    print(\"Entropy values:\", entropy)\n",
    "    return score_dict\n",
    "\n",
    "def discrete_mutual_info(mus, ys):\n",
    "    num_codes = mus.shape[0]\n",
    "    num_factors = ys.shape[0]\n",
    "    m = np.zeros([num_codes, num_factors])\n",
    "    \n",
    "    for i in range(num_codes):\n",
    "        for j in range(num_factors):\n",
    "            m[i, j] = mutual_info_score(ys[j, :], mus[i, :])\n",
    "    \n",
    "    return m\n",
    "\n",
    "def discrete_entropy(ys):\n",
    "    num_factors = ys.shape[0]\n",
    "    h = np.zeros(num_factors)\n",
    "    \n",
    "    for j in range(num_factors):\n",
    "        h[j] = mutual_info_score(ys[j, :], ys[j, :])\n",
    "    \n",
    "    return h\n",
    "\n",
    "def _identity_discretizer(target, num_bins):\n",
    "    del num_bins\n",
    "    return target\n",
    "\n",
    "def make_discretizer(target, num_bins=10, discretizer_fn=_identity_discretizer):\n",
    "    return discretizer_fn(target, num_bins)\n",
    "\n",
    "def _histogram_discretize(target, num_bins=10):\n",
    "    discretized = np.zeros_like(target)\n",
    "    for i in range(target.shape[0]):\n",
    "        discretized[i, :] = np.digitize(target[i, :], np.histogram(\n",
    "            target[i, :], num_bins)[1][:-1])\n",
    "    return discretized\n",
    "\n",
    "def k_means_discretize(target, num_clusters=10):\n",
    "    discretized = np.zeros_like(target)\n",
    "    for i in range(target.shape[0]):\n",
    "        latent_variable = target[i, :].reshape(-1,1)\n",
    "        kmeans = KMeans(n_clusters = num_clusters, random_state=0)\n",
    "        kmeans.fit(latent_variable)\n",
    "        discretized[i,:]=kmeans.labels_\n",
    "    return discretized\n",
    "\n",
    "def score_disentanglement(adata, embedding_data, embedding_basal, covriate_keys=None, continuous_covriate_keys=None, test_size=0.25):\n",
    "    mus_train, ys_train, mus_test, ys_test = prep_data(adata, embedding_data, covriate_keys=covriate_keys)\n",
    "    print('Computing MIG')\n",
    "    mig = compute_mig(mus_train, ys_train, covariate_names=covriate_keys)\n",
    "    return mig\n",
    "\n",
    "# Run MIG score\n",
    "mig_1 = score_disentanglement(\n",
    "    adata,\n",
    "    latent_adata,\n",
    "    latent_basal_adata,\n",
    "    covriate_keys=['cell_type', 'donor_id', 'development_stage_ontology_term_id', 'tissue', 'lateralization', 'sex']\n",
    ")\n",
    "\n",
    "print(\"MIG Score:\", mig_1)\n"
   ]
  },
  {
   "cell_type": "code",
   "execution_count": null,
   "id": "8bc782f0-59e1-4cdd-8880-813b5a7a918d",
   "metadata": {},
   "outputs": [],
   "source": [
    "# Finalized DCI computation based on disentanglement_lib\n",
    "\n",
    "import numpy as np\n",
    "import pandas as pd\n",
    "import anndata\n",
    "from sklearn.model_selection import train_test_split\n",
    "from sklearn.preprocessing import LabelEncoder\n",
    "from sklearn.ensemble import RandomForestClassifier\n",
    "from scipy.stats import entropy\n",
    "\n",
    "# === Encoding and Preprocessing ===\n",
    "def encode_categorical(data):\n",
    "    encoded_data = np.zeros_like(data, dtype=int)\n",
    "    for i in range(data.shape[1]):\n",
    "        le = LabelEncoder()\n",
    "        encoded_data[:, i] = le.fit_transform(data[:, i])\n",
    "    return encoded_data\n",
    "\n",
    "def remove_duplicate_columns(df):\n",
    "    df_unique = df.T.drop_duplicates().T\n",
    "    return df_unique\n",
    "\n",
    "def prep_data(adata, embedding, covariate_keys, test_size=0.25):\n",
    "    idx_train, idx_test = train_test_split(\n",
    "        range(len(adata)), test_size=test_size, random_state=42\n",
    "    )\n",
    "    cov_df = adata.obs[covariate_keys].copy()\n",
    "    cov_df = remove_duplicate_columns(cov_df)\n",
    "    encoded_factors = encode_categorical(cov_df.values)\n",
    "    embedding_data = embedding.X if isinstance(embedding, anndata.AnnData) else embedding\n",
    "    mus_train = embedding_data[idx_train]\n",
    "    mus_test = embedding_data[idx_test]\n",
    "    ys_train = encoded_factors[idx_train]\n",
    "    ys_test = encoded_factors[idx_test]\n",
    "    return mus_train.T, ys_train.T, mus_test.T, ys_test.T\n",
    "\n",
    "# === Importance Matrix ===\n",
    "def compute_importance_rf(x_train, y_train, x_test, y_test):\n",
    "    num_factors = y_train.shape[0]\n",
    "    num_codes = x_train.shape[0]\n",
    "    importance_matrix = np.zeros((num_codes, num_factors))\n",
    "    train_acc = []\n",
    "    test_acc = []\n",
    "    for i in range(num_factors):\n",
    "        model = RandomForestClassifier(random_state=42, max_depth=5)\n",
    "        model.fit(x_train.T, y_train[i])\n",
    "        importance_matrix[:, i] = np.abs(model.feature_importances_)\n",
    "        train_acc.append(np.mean(model.predict(x_train.T) == y_train[i]))\n",
    "        test_acc.append(np.mean(model.predict(x_test.T) == y_test[i]))\n",
    "    return importance_matrix, np.mean(train_acc), np.mean(test_acc)\n",
    "\n",
    "# === Disentanglement ===\n",
    "def disentanglement_per_code(importance_matrix):\n",
    "    row_sums = importance_matrix.sum(axis=1, keepdims=True)\n",
    "    safe_matrix = np.where(row_sums == 0, 1e-11, row_sums)\n",
    "    normalized = importance_matrix / safe_matrix\n",
    "    return 1. - entropy(normalized.T + 1e-11, base=importance_matrix.shape[1])\n",
    "\n",
    "def disentanglement(importance_matrix):\n",
    "    per_code = disentanglement_per_code(importance_matrix)\n",
    "    total = importance_matrix.sum()\n",
    "    if total == 0.:\n",
    "        return 0.0\n",
    "    code_importance = importance_matrix.sum(axis=1) / total\n",
    "    return np.sum(per_code * code_importance)\n",
    "\n",
    "# === Completeness ===\n",
    "def completeness_per_factor(importance_matrix):\n",
    "    return 1. - entropy(importance_matrix + 1e-11, base=importance_matrix.shape[0])\n",
    "\n",
    "def completeness(importance_matrix):\n",
    "    per_factor = completeness_per_factor(importance_matrix)\n",
    "    total = importance_matrix.sum()\n",
    "    if total == 0.:\n",
    "        return 0.0\n",
    "    factor_importance = importance_matrix.sum(axis=0) / total\n",
    "    return np.sum(per_factor * factor_importance)\n",
    "\n",
    "# === DCI Master Function ===\n",
    "def compute_dci(mus_train, ys_train, mus_test, ys_test):\n",
    "    importance_matrix, train_acc, test_acc = compute_importance_rf(\n",
    "        mus_train, ys_train, mus_test, ys_test\n",
    "    )\n",
    "    threshold = 1e-11\n",
    "    importance_matrix = np.where(importance_matrix < threshold, 0, importance_matrix)\n",
    "    return {\n",
    "        \"disentanglement\": disentanglement(importance_matrix),\n",
    "        \"completeness\": completeness(importance_matrix),\n",
    "        \"informativeness_train\": train_acc,\n",
    "        \"informativeness_test\": test_acc,\n",
    "    }"
   ]
  },
  {
   "cell_type": "code",
   "execution_count": null,
   "id": "de88eec2-b67b-46ac-a03b-b88c6b5b241e",
   "metadata": {},
   "outputs": [],
   "source": [
    "covariate_keys = ['cell_type', 'donor_id', 'development_stage_ontology_term_id', 'tissue', 'lateralization', 'sex']\n",
    "mus_train, ys_train, mus_test, ys_test = prep_data(\n",
    "    adata, latent_adata,covariate_keys=covariate_keys )\n",
    "dci_scores = compute_dci(mus_train, ys_train, mus_test, ys_test)\n",
    "dci_scores"
   ]
  },
  {
   "cell_type": "code",
   "execution_count": null,
   "id": "fef76e92-2719-4b16-9487-cc09c36693d8",
   "metadata": {},
   "outputs": [],
   "source": [
    "#SAP score\n",
    "from sklearn import svm\n",
    "\n",
    "def compute_sap(mus, ys, mus_test, ys_test, continuous_factors):\n",
    "    \"\"\"Computes the SAP score.\n",
    "\n",
    "    Args:\n",
    "        mus, ys, mus_test, ys_test\n",
    "        continuous_factors: Factors are continuous variable (True) or not (False).\n",
    "\n",
    "    Returns:\n",
    "        Dictionary with SAP score.\n",
    "    \"\"\"\n",
    "\n",
    "    return _compute_sap(mus, ys, mus_test, ys_test, continuous_factors)\n",
    "\n",
    "def _compute_sap(mus, ys, mus_test, ys_test, continuous_factors):\n",
    "    \"\"\"Computes score based on both training and testing codes and factors.\"\"\"\n",
    "    score_matrix = compute_score_matrix(mus, ys, mus_test, ys_test, continuous_factors)\n",
    "    # Score matrix should have shape [num_latents, num_factors].\n",
    "    assert score_matrix.shape[0] == mus.shape[0]\n",
    "    assert score_matrix.shape[1] == ys.shape[0]\n",
    "    scores_dict = {}\n",
    "    scores_dict[\"SAP_score\"] = compute_avg_diff_top_two(score_matrix)\n",
    "\n",
    "    return scores_dict\n",
    "\n",
    "def compute_score_matrix(mus, ys, mus_test, ys_test, continuous_factors):\n",
    "    \"\"\"Compute score matrix as described in Section 3.\"\"\"\n",
    "    num_latents = mus.shape[0]\n",
    "    num_factors = ys.shape[0]\n",
    "    score_matrix = np.zeros([num_latents, num_factors])\n",
    "    for i in range(num_latents):\n",
    "        for j in range(num_factors):\n",
    "            mu_i = mus[i, :]\n",
    "            y_j = ys[j, :]\n",
    "            if continuous_factors:\n",
    "                # Attribute is considered continuous.\n",
    "                cov_mu_i_y_j = np.cov(mu_i, y_j, ddof=1)\n",
    "                cov_mu_y = cov_mu_i_y_j[0, 1]**2\n",
    "                var_mu = cov_mu_i_y_j[0, 0]\n",
    "                var_y = cov_mu_i_y_j[1, 1]\n",
    "                if var_mu > 1e-12:\n",
    "                    score_matrix[i, j] = cov_mu_y * 1. / (var_mu * var_y)\n",
    "                else:\n",
    "                    score_matrix[i, j] = 0.\n",
    "            else:\n",
    "                # Attribute is considered discrete.\n",
    "                mu_i_test = mus_test[i, :]\n",
    "                y_j_test = ys_test[j, :]\n",
    "                classifier = svm.LinearSVC(C=0.01, class_weight=\"balanced\")\n",
    "                classifier.fit(mu_i[:, np.newaxis], y_j)\n",
    "                pred = classifier.predict(mu_i_test[:, np.newaxis])\n",
    "                score_matrix[i, j] = np.mean(pred == y_j_test)\n",
    "    return score_matrix\n",
    "\n",
    "def compute_avg_diff_top_two(matrix):\n",
    "    sorted_matrix = np.sort(matrix, axis=0)\n",
    "    return np.mean(sorted_matrix[-1, :] - sorted_matrix[-2, :])\n",
    "\n",
    "sap = compute_sap(mus_train, ys_train, mus_test, ys_test, continuous_factors=False)\n",
    "sap"
   ]
  },
  {
   "cell_type": "code",
   "execution_count": null,
   "id": "29b5adf5-b8d1-4997-a7a0-e5732055890b",
   "metadata": {},
   "outputs": [],
   "source": [
    "# IRS \n",
    "\n",
    "\n",
    "def compute_irs(mus, ys, diff_quantile=0.99):\n",
    "    ys_discrete = make_discretizer(ys)\n",
    "\n",
    "    active_mask = (mus.var(axis=1) > 0)\n",
    "    active_mus = mus[active_mask, :]\n",
    "\n",
    "    if active_mus.size == 0:\n",
    "        irs_score = 0.0\n",
    "    else:\n",
    "        irs_score = scalable_disentanglement_score(ys_discrete.T, active_mus.T, diff_quantile)[\"avg_score\"]\n",
    "\n",
    "    score_dict = {}\n",
    "    score_dict[\"IRS\"] = irs_score\n",
    "    score_dict[\"num_active_dims\"] = int(np.sum(active_mask))\n",
    "    return score_dict\n",
    "\n",
    "\n",
    "def _drop_constant_dims(ys):\n",
    "    \"\"\"Returns a view of the matrix `ys` with dropped constant rows.\"\"\"\n",
    "    ys = np.asarray(ys)\n",
    "    if ys.ndim != 2:\n",
    "        raise ValueError(\"Expecting a matrix.\")\n",
    "\n",
    "    variances = ys.var(axis=1)\n",
    "    active_mask = variances > 0.\n",
    "    return ys[active_mask, :]\n",
    "\n",
    "\n",
    "def scalable_disentanglement_score(gen_factors, latents, diff_quantile=0.99):\n",
    "    \"\"\"Computes IRS scores of a dataset.\n",
    "\n",
    "    Assumes no noise in X and crossed generative factors (i.e. one sample per\n",
    "    combination of gen_factors). Assumes each g_i is an equally probable\n",
    "    realization of g_i and all g_i are independent.\n",
    "\n",
    "    Args:\n",
    "        gen_factors: Numpy array of shape (num samples, num generative factors),\n",
    "            matrix of ground truth generative factors.\n",
    "        latents: Numpy array of shape (num samples, num latent dimensions), matrix\n",
    "            of latent variables.\n",
    "        diff_quantile: Float value between 0 and 1 to decide what quantile of diffs\n",
    "            to select (use 1.0 for the version in the paper).\n",
    "\n",
    "    Returns:\n",
    "        Dictionary with IRS scores.\n",
    "    \"\"\"\n",
    "    num_gen = gen_factors.shape[1]\n",
    "    num_lat = latents.shape[1]\n",
    "\n",
    "    # Compute normalizer.\n",
    "    max_deviations = np.max(np.abs(latents - latents.mean(axis=0)), axis=0)\n",
    "    cum_deviations = np.zeros([num_lat, num_gen])\n",
    "    for i in range(num_gen):\n",
    "        unique_factors = np.unique(gen_factors[:, i], axis=0)\n",
    "        assert unique_factors.ndim == 1\n",
    "        num_distinct_factors = unique_factors.shape[0]\n",
    "        for k in range(num_distinct_factors):\n",
    "            # Compute E[Z | g_i].\n",
    "            match = gen_factors[:, i] == unique_factors[k]\n",
    "            e_loc = np.mean(latents[match, :], axis=0)\n",
    "\n",
    "            # Difference of each value within that group of constant g_i to its mean.\n",
    "            diffs = np.abs(latents[match, :] - e_loc)\n",
    "            max_diffs = np.percentile(diffs, q=diff_quantile*100, axis=0)\n",
    "            cum_deviations[:, i] += max_diffs\n",
    "        cum_deviations[:, i] /= num_distinct_factors\n",
    "    # Normalize value of each latent dimension with its maximal deviation.\n",
    "    normalized_deviations = cum_deviations / max_deviations[:, np.newaxis]\n",
    "    irs_matrix = 1.0 - normalized_deviations\n",
    "    disentanglement_scores = irs_matrix.max(axis=1)\n",
    "    if np.sum(max_deviations) > 0.0:\n",
    "        avg_score = np.average(disentanglement_scores, weights=max_deviations)\n",
    "    else:\n",
    "        avg_score = np.mean(disentanglement_scores)\n",
    "\n",
    "    parents = irs_matrix.argmax(axis=1)\n",
    "    score_dict = {}\n",
    "    score_dict[\"disentanglement_scores\"] = disentanglement_scores\n",
    "    score_dict[\"avg_score\"] = avg_score\n",
    "    score_dict[\"parents\"] = parents\n",
    "    score_dict[\"IRS_matrix\"] = irs_matrix\n",
    "    score_dict[\"max_deviations\"] = max_deviations\n",
    "    return score_dict\n",
    "\n",
    "\n",
    "\n",
    "irs = compute_irs(mus_train, ys_train, diff_quantile=0.99)\n",
    "irs"
   ]
  },
  {
   "cell_type": "code",
   "execution_count": null,
   "id": "9c0e9a4d-356f-4396-aa41-e5e7b24aaaf8",
   "metadata": {},
   "outputs": [],
   "source": []
  }
 ],
 "metadata": {
  "kernelspec": {
   "display_name": "Python 3 ",
   "language": "python",
   "name": "python3"
  },
  "language_info": {
   "codemirror_mode": {
    "name": "ipython",
    "version": 3
   },
   "file_extension": ".py",
   "mimetype": "text/x-python",
   "name": "python",
   "nbconvert_exporter": "python",
   "pygments_lexer": "ipython3",
   "version": "3.12.10"
  }
 },
 "nbformat": 4,
 "nbformat_minor": 5
}

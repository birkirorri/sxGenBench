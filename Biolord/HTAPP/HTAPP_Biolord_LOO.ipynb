{
 "cells": [
  {
   "cell_type": "code",
   "execution_count": null,
   "id": "16eaad22-5af9-4f1f-a51b-c03aaca75709",
   "metadata": {},
   "outputs": [],
   "source": [
    "import warnings\n",
    "import os\n",
    "import sys\n",
    "import re\n",
    "import biolord\n",
    "import matplotlib.pyplot as plt\n",
    "import numpy as np\n",
    "import pandas as pd\n",
    "import scanpy as sc\n",
    "import seaborn as sns\n",
    "import sklearn\n",
    "import torch\n",
    "\n",
    "\n",
    "from sklearn.metrics import (\n",
    "    mean_absolute_error,\n",
    "    mean_squared_error,\n",
    "    r2_score,\n",
    "    mutual_info_score\n",
    ")"
   ]
  },
  {
   "cell_type": "code",
   "execution_count": null,
   "id": "c2a95168-bfb5-4aed-916d-5cdef0c1ec09",
   "metadata": {},
   "outputs": [],
   "source": [
    "# Setup the AnnData\n",
    "\n",
    "adata = sc.read(\"/work/Biolord_all/new_data_fixed_normalized/HTAPP_997_processed_normalized_FINAL.h5ad\")"
   ]
  },
  {
   "cell_type": "code",
   "execution_count": null,
   "id": "aeb18368-4994-408d-bd13-789f2e600560",
   "metadata": {},
   "outputs": [],
   "source": [
    "adata"
   ]
  },
  {
   "cell_type": "code",
   "execution_count": null,
   "id": "e3251c50-e084-4e1d-b655-dc74454a7da0",
   "metadata": {},
   "outputs": [],
   "source": [
    "# Subset the data\n",
    "subset_mask = (adata.obs['replicate'] == '1') & (adata.obs['cell_type'] == 'hepatocyte')\n",
    "subset_adata = adata[subset_mask].copy()  \n",
    "train_adata = adata[~subset_mask].copy()  # Training data is everything except the subset"
   ]
  },
  {
   "cell_type": "code",
   "execution_count": null,
   "id": "1b774f59-1d90-48ed-bdc4-1488c11b093a",
   "metadata": {},
   "outputs": [],
   "source": [
    "print(train_adata.obs.groupby(['replicate', 'cell_type']).size())"
   ]
  },
  {
   "cell_type": "code",
   "execution_count": null,
   "id": "9efcb5f3-a9db-4d48-a9dd-4efb0ea42f1d",
   "metadata": {},
   "outputs": [],
   "source": []
  },
  {
   "cell_type": "code",
   "execution_count": null,
   "id": "29229f1a-911b-4692-b4c3-f9ab5c041c5f",
   "metadata": {},
   "outputs": [],
   "source": [
    "adata.obs[\"replicate\"]"
   ]
  },
  {
   "cell_type": "code",
   "execution_count": null,
   "id": "2da2c050-978e-46e1-ae37-3b2e830ba9dc",
   "metadata": {},
   "outputs": [],
   "source": [
    "adata.obs[\"cell_type\"]"
   ]
  },
  {
   "cell_type": "code",
   "execution_count": null,
   "id": "26652cd5-3fc9-47c4-b7fa-30b4c6f32e6b",
   "metadata": {},
   "outputs": [],
   "source": [
    "biolord.Biolord.setup_anndata(\n",
    "    train_adata, ordered_attributes_keys=None, categorical_attributes_keys=[\"cell_type\", \"Phase\", \"replicate\", \"compartments\", \"cnv_pass_mal\"]\n",
    ")"
   ]
  },
  {
   "cell_type": "code",
   "execution_count": null,
   "id": "8b669d48-2aa8-4039-9280-0ec62c68a729",
   "metadata": {},
   "outputs": [],
   "source": [
    "# Instantiate a Biolord model\n",
    "\n",
    "module_params = {\n",
    "    \"decoder_width\": 1024,\n",
    "    \"decoder_depth\": 4,\n",
    "    \"attribute_nn_width\": 512,\n",
    "    \"attribute_nn_depth\": 2,\n",
    "    \"n_latent_attribute_categorical\": 4,\n",
    "    \"gene_likelihood\": \"normal\",\n",
    "    \"reconstruction_penalty\": 1e2,\n",
    "    \"unknown_attribute_penalty\": 1e1,\n",
    "    \"unknown_attribute_noise_param\": 1e-1,\n",
    "    \"attribute_dropout_rate\": 0.1,\n",
    "    \"use_batch_norm\": False,\n",
    "    \"use_layer_norm\": False,\n",
    "    \"seed\": 42,\n",
    "}"
   ]
  },
  {
   "cell_type": "code",
   "execution_count": null,
   "id": "529e277a-3298-41ea-9496-da21423cecb3",
   "metadata": {},
   "outputs": [],
   "source": [
    "model = biolord.Biolord(\n",
    "    adata=train_adata,\n",
    "    n_latent=32,\n",
    "    model_name=\"HTAPP_Biolord_LOA_run_fix_0905\",\n",
    "    module_params=module_params,\n",
    "    train_classifiers=False\n",
    ")"
   ]
  },
  {
   "cell_type": "code",
   "execution_count": null,
   "id": "4f8b6eb6-cc35-46d7-8265-e1adf2499d30",
   "metadata": {},
   "outputs": [],
   "source": [
    "# Train the model\n",
    "\n",
    "trainer_params = {\n",
    "    \"n_epochs_warmup\": 0,\n",
    "    \"latent_lr\": 1e-4,\n",
    "    \"latent_wd\": 1e-4,\n",
    "    \"decoder_lr\": 1e-4,\n",
    "    \"decoder_wd\": 1e-4,\n",
    "    \"attribute_nn_lr\": 1e-2,\n",
    "    \"attribute_nn_wd\": 4e-8,\n",
    "    \"step_size_lr\": 45,\n",
    "    \"cosine_scheduler\": True,\n",
    "    \"scheduler_final_lr\": 1e-5,\n",
    "}"
   ]
  },
  {
   "cell_type": "code",
   "execution_count": null,
   "id": "33d0b5ef-00b8-42bb-8ba2-980d07c07be4",
   "metadata": {},
   "outputs": [],
   "source": [
    "model.train(\n",
    "    max_epochs=500,\n",
    "    batch_size=512,\n",
    "    plan_kwargs=trainer_params,\n",
    "    early_stopping=True,\n",
    "    early_stopping_patience=20,\n",
    "    check_val_every_n_epoch=10,\n",
    "    enable_checkpointing=False,\n",
    ")"
   ]
  },
  {
   "cell_type": "code",
   "execution_count": null,
   "id": "f553a45c-0a7b-4c28-b7d3-07d36a1c1ab3",
   "metadata": {},
   "outputs": [],
   "source": [
    "# Save the model\n",
    "model.save(dir_path=\"HTAP_BIOLORD/HTAP_BIOLORD/LOA_HTAPP_final\" + f\"{model.model_name}_model/\")"
   ]
  },
  {
   "cell_type": "code",
   "execution_count": null,
   "id": "b6a46dfb-ee05-4b31-ac84-7e02fce02ecd",
   "metadata": {},
   "outputs": [],
   "source": [
    "model = model.load(\"/work/Biolord_all/HTAP_BIOLORD/HTAP_BIOLORD/HTAP_BIOLORD/LOA_HTAPP_fixed_dataHTAPP_Biolord_LOA_run_fix_0905_model\", adata = train_adata)"
   ]
  },
  {
   "cell_type": "code",
   "execution_count": null,
   "id": "7f595c45-219f-44db-8402-969c9ee449f5",
   "metadata": {},
   "outputs": [],
   "source": [
    "model"
   ]
  },
  {
   "cell_type": "code",
   "execution_count": null,
   "id": "7c4283d7-00be-46e0-8c52-b0c3fbf0f9aa",
   "metadata": {},
   "outputs": [],
   "source": [
    "size = 4\n",
    "vals = [\"generative_mean_accuracy\", \"generative_var_accuracy\", \"biolord_metric\"]\n",
    "fig, axs = plt.subplots(nrows=1, ncols=len(vals), figsize=(size * len(vals), size))\n",
    "\n",
    "model.epoch_history = pd.DataFrame().from_dict(model.training_plan.epoch_history)\n",
    "for i, val in enumerate(vals):\n",
    "    sns.lineplot(\n",
    "        x=\"epoch\",\n",
    "        y=val,\n",
    "        hue=\"mode\",\n",
    "        data=model.epoch_history[model.epoch_history[\"mode\"] == \"valid\"],\n",
    "        ax=axs[i],\n",
    "    )\n",
    "\n",
    "plt.tight_layout()\n",
    "plt.show()"
   ]
  },
  {
   "cell_type": "code",
   "execution_count": null,
   "id": "65864cb4-fc83-4940-9122-7c5b521be46e",
   "metadata": {},
   "outputs": [],
   "source": [
    "rep_2_base = train_adata[\n",
    "    (train_adata.obs[\"replicate\"] == \"2\") &\n",
    "    (train_adata.obs[\"cell_type\"] == \"hepatocyte\")\n",
    "].copy()"
   ]
  },
  {
   "cell_type": "code",
   "execution_count": null,
   "id": "45069a3b-f2d7-476d-96fa-5694a541aaaf",
   "metadata": {},
   "outputs": [],
   "source": [
    "rep_2_base.obs[\"replicate\"]"
   ]
  },
  {
   "cell_type": "code",
   "execution_count": null,
   "id": "c53c318f-14ff-4455-b99c-3c808f1f4eda",
   "metadata": {},
   "outputs": [],
   "source": [
    "rec_rep_2_base,_ = model.predict(rep_2_base, batch_size=256)"
   ]
  },
  {
   "cell_type": "code",
   "execution_count": null,
   "id": "b1ffc1cf-5af1-464b-9467-6cdafa974ea5",
   "metadata": {},
   "outputs": [],
   "source": [
    "cf = rep_2_base.copy()\n",
    "cf.obs[\"replicate\"] = \"1\""
   ]
  },
  {
   "cell_type": "code",
   "execution_count": null,
   "id": "ffdba774-ad0b-4684-96d4-e7850db86702",
   "metadata": {},
   "outputs": [],
   "source": [
    "cf.obs[\"replicate\"]"
   ]
  },
  {
   "cell_type": "code",
   "execution_count": null,
   "id": "39b6179d-cefd-49dd-b288-47488f38f314",
   "metadata": {},
   "outputs": [],
   "source": [
    "cf_pred,_ = model.predict(cf, batch_size=256)"
   ]
  },
  {
   "cell_type": "code",
   "execution_count": null,
   "id": "5a5d09e6-78a7-433b-b83a-2589bc5f92bb",
   "metadata": {},
   "outputs": [],
   "source": [
    "# Compute per-gene ground-truth means\n",
    "# Gt for females is now females with hepatocytes\n",
    "\n",
    "rep2_gt = (\n",
    "    rep_2_base.X.toarray().mean(axis=0)\n",
    "    if hasattr(rep_2_base.X, \"toarray\")\n",
    "    else rep_2_base.X.mean(axis=0)\n",
    ")\n",
    "\n",
    "\n",
    "#    Gt for the male is now the held out dataset\n",
    "rep1_gt = (\n",
    "    subset_adata.X.toarray().mean(axis=0)\n",
    "    if hasattr(subset_adata.X, \"toarray\")\n",
    "    else subset_adata.X.mean(axis=0)\n",
    ")"
   ]
  },
  {
   "cell_type": "code",
   "execution_count": null,
   "id": "3c9c42b7-178a-4ec4-8b3a-5a56a6edcb78",
   "metadata": {},
   "outputs": [],
   "source": [
    "#  Compute per-gene prediction means \n",
    "baseline_pred = np.asarray(rec_rep_2_base.X.mean(axis=0)).ravel()\n",
    "cf_pred       = np.asarray(cf_pred.X.mean(axis=0)).ravel()"
   ]
  },
  {
   "cell_type": "code",
   "execution_count": null,
   "id": "c3da6210-d3a3-4a4d-bd5d-673dafc38ff9",
   "metadata": {},
   "outputs": [],
   "source": [
    "f_m = np.sqrt(np.mean((baseline_pred - rep1_gt)**2)) #pred-F --- TM\n",
    "m_m = np.sqrt(np.mean((cf_pred - rep1_gt)**2)) # pred_M --- TM\n",
    "f_f  =np.sqrt(np.mean((baseline_pred - rep2_gt)**2)) # pref F ----- TF\n",
    "m_f = np.sqrt(np.mean((cf_pred - rep2_gt)**2)) # pref M ---- TF\n",
    "\n",
    "print(f\"RMSE pred F --- TM: {f_m:.4f}\")\n",
    "print(f\"RMSE pred M --- TM (counterfactual)  : {m_m:.4f}\")\n",
    "print(f\"RMSE pred F ----- TF : {f_f:.4f}\")\n",
    "print(f\"RMSE pred M ---- TF (counterfactual)  : {m_f:.4f}\")"
   ]
  },
  {
   "cell_type": "code",
   "execution_count": null,
   "id": "87929083-3e99-49d5-825a-ca0aa1c94dff",
   "metadata": {},
   "outputs": [],
   "source": [
    "import matplotlib.pyplot as plt\n",
    "\n",
    "# Define RMSE values\n",
    "rmse_data = [\n",
    "    [\"0.0211\", \"0.0266\"],  # True Female\n",
    "    [\"0.0477\", \"0.1101\"],  # True Male\n",
    "]\n",
    "\n",
    "# Define labels\n",
    "column_labels = [\"Pred Replicate 2\", \"Pred Replicate 1 (CF)\"]\n",
    "row_labels = [\"True Replicate 2\", \"True Replicate 1\"]\n",
    "\n",
    "# Create the figure and axis\n",
    "fig, ax = plt.subplots(figsize=(6, 2))\n",
    "ax.axis('tight')\n",
    "ax.axis('off')\n",
    "\n",
    "# Create the table\n",
    "table = ax.table(\n",
    "    cellText=rmse_data,\n",
    "    rowLabels=row_labels,\n",
    "    colLabels=column_labels,\n",
    "    cellLoc='center',\n",
    "    loc='center'\n",
    ")\n",
    "\n",
    "table.scale(1, 2)  # Increase row height\n",
    "table.auto_set_font_size(False)\n",
    "table.set_fontsize(12)\n",
    "\n",
    "# Color the lower row cells\n",
    "# Note: Rows and columns are 1-indexed in table.get_celld()\n",
    "table[(2, 0)].set_facecolor(\"orange\")  # True Male, Pred Female\n",
    "table[(2, 1)].set_facecolor(\"lightblue\")  # True Male, Pred Male\n",
    "\n",
    "plt.title(\"RMSE between Predictions and Ground truth\", pad=20)\n",
    "plt.tight_layout()\n",
    "plt.show()\n"
   ]
  },
  {
   "cell_type": "code",
   "execution_count": null,
   "id": "969210b3-ee66-4b42-bf51-c597bd9a596e",
   "metadata": {},
   "outputs": [],
   "source": [
    "import numpy as np\n",
    "import seaborn as sns\n",
    "import matplotlib.pyplot as plt\n",
    "\n",
    "# Log-transform the data\n",
    "log_male_gt = np.log1p(rep1_gt)\n",
    "log_cf_pred = np.log1p(cf_pred)\n",
    "log_baseline_pred = np.log1p(baseline_pred)\n",
    "\n",
    "# Scatter plot of log-transformed ground truth vs. predictions\n",
    "fig, ax = plt.subplots(figsize=(10, 6))\n",
    "\n",
    "sns.scatterplot(\n",
    "    x=log_male_gt, y=log_cf_pred,\n",
    "    alpha=0.7, ax=ax\n",
    ")\n",
    "\n",
    "sns.scatterplot(\n",
    "    x=log_male_gt, y=log_baseline_pred,\n",
    "    alpha=0.7, ax=ax\n",
    ")\n",
    "\n",
    "# Identity line (in log space)\n",
    "mn = min(log_male_gt.min(), log_male_gt.min())\n",
    "mx = max(log_male_gt.max(), log_male_gt.max())\n",
    "ax.plot([mn, mx], [mn, mx], ls=\"--\", color=\"red\")\n",
    "\n",
    "\n",
    "ax.set_xlabel(\"Log Ground Truth (Male)\")\n",
    "ax.set_ylabel(\"Log Predicted Mean Expression\")\n",
    "ax.set_title(\"Leave One Out analysis\" )\n",
    "ax.legend(loc=\"upper left\")\n",
    "plt.tight_layout()\n",
    "plt.show()\n"
   ]
  }
 ],
 "metadata": {
  "kernelspec": {
   "display_name": "Python 3 ",
   "language": "python",
   "name": "python3"
  },
  "language_info": {
   "codemirror_mode": {
    "name": "ipython",
    "version": 3
   },
   "file_extension": ".py",
   "mimetype": "text/x-python",
   "name": "python",
   "nbconvert_exporter": "python",
   "pygments_lexer": "ipython3",
   "version": "3.12.10"
  }
 },
 "nbformat": 4,
 "nbformat_minor": 5
}

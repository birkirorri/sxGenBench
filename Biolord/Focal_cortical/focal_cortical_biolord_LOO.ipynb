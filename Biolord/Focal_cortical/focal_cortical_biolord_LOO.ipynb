{
 "cells": [
  {
   "cell_type": "code",
   "execution_count": null,
   "id": "448f3283-6f11-4605-9f4d-f6771ff9588e",
   "metadata": {},
   "outputs": [],
   "source": [
    "import warnings\n",
    "import os\n",
    "import sys\n",
    "import re\n",
    "import biolord\n",
    "import matplotlib.pyplot as plt\n",
    "import numpy as np\n",
    "import pandas as pd\n",
    "import scanpy as sc\n",
    "import seaborn as sns\n",
    "import sklearn\n",
    "import torch\n",
    "\n",
    "\n",
    "from sklearn.metrics import (\n",
    "    mean_absolute_error,\n",
    "    mean_squared_error,\n",
    "    r2_score,\n",
    "    root_mean_squared_error,\n",
    "    mutual_info_score\n",
    ")"
   ]
  },
  {
   "cell_type": "code",
   "execution_count": null,
   "id": "49492d06-d564-460a-91d4-35b0aaa2a834",
   "metadata": {},
   "outputs": [],
   "source": [
    "# Setup the AnnData\n",
    "\n",
    "adata = sc.read(\"/work/Biolord_all/new_data_fixed_normalized/focal_cortical_processed_normalized.h5ad\")"
   ]
  },
  {
   "cell_type": "code",
   "execution_count": null,
   "id": "45b5e7c0-2b76-49c9-8686-8ac4c852e449",
   "metadata": {},
   "outputs": [],
   "source": [
    "adata"
   ]
  },
  {
   "cell_type": "code",
   "execution_count": null,
   "id": "34e20554-1d65-4891-953a-f9a1ec0cb40c",
   "metadata": {},
   "outputs": [],
   "source": [
    "# Subset the data\n",
    "subset_mask = (adata.obs['sex'] == 'male') & (adata.obs['cell_type'] == 'microglial cell')\n",
    "subset_adata = adata[subset_mask].copy()  \n",
    "train_adata = adata[~subset_mask].copy()  # Training data is everything except the subset"
   ]
  },
  {
   "cell_type": "code",
   "execution_count": null,
   "id": "24e1b343-730d-4bc8-949e-a8c93b7c2c21",
   "metadata": {},
   "outputs": [],
   "source": [
    "print(subset_adata.obs.groupby(['sex']).size())"
   ]
  },
  {
   "cell_type": "code",
   "execution_count": null,
   "id": "6f5293c8-b799-463c-b22c-4261f7dc54fa",
   "metadata": {},
   "outputs": [],
   "source": [
    "subset_adata.obs[\"sex\"]"
   ]
  },
  {
   "cell_type": "code",
   "execution_count": null,
   "id": "0689b79c-f832-4da1-97e0-f38f2e36bc71",
   "metadata": {},
   "outputs": [],
   "source": [
    "adata.obs[\"cell_type\"]"
   ]
  },
  {
   "cell_type": "code",
   "execution_count": null,
   "id": "fdca79de-a78c-4304-aff7-158cae4977de",
   "metadata": {},
   "outputs": [],
   "source": [
    "adata.obs[\"cell_type\"]"
   ]
  },
  {
   "cell_type": "code",
   "execution_count": null,
   "id": "307f1284-cb86-4eca-aba6-3927a97a6276",
   "metadata": {},
   "outputs": [],
   "source": [
    "print(train_adata.obs.groupby(['sex', 'cell_type']).size())"
   ]
  },
  {
   "cell_type": "code",
   "execution_count": null,
   "id": "4b114d6f-7529-4814-8154-85229145d67a",
   "metadata": {},
   "outputs": [],
   "source": [
    "biolord.Biolord.setup_anndata(\n",
    "    train_adata, ordered_attributes_keys=None, categorical_attributes_keys=[\"cell_type\", \"donor_id\", \"development_stage_ontology_term_id\", \"tissue\", \"lateralization\", \"sex\"]\n",
    ")"
   ]
  },
  {
   "cell_type": "code",
   "execution_count": null,
   "id": "9b2ba9f7-a553-4a3d-a69b-0d7489ef892f",
   "metadata": {},
   "outputs": [],
   "source": [
    "# Instantiate a Biolord model\n",
    "\n",
    "module_params = {\n",
    "    \"decoder_width\": 1024,\n",
    "    \"decoder_depth\": 4,\n",
    "    \"attribute_nn_width\": 512,\n",
    "    \"attribute_nn_depth\": 2,\n",
    "    \"n_latent_attribute_categorical\": 4,\n",
    "    \"gene_likelihood\": \"normal\",\n",
    "    \"reconstruction_penalty\": 1e2,\n",
    "    \"unknown_attribute_penalty\": 1e1,\n",
    "    \"unknown_attribute_noise_param\": 1e-1,\n",
    "    \"attribute_dropout_rate\": 0.1,\n",
    "    \"use_batch_norm\": False,\n",
    "    \"use_layer_norm\": False,\n",
    "    \"seed\": 42,\n",
    "}"
   ]
  },
  {
   "cell_type": "code",
   "execution_count": null,
   "id": "8230c83f-5245-4cb2-ae2c-e6d0fcc6d134",
   "metadata": {},
   "outputs": [],
   "source": [
    "model = biolord.Biolord(\n",
    "    adata=train_adata,\n",
    "    n_latent=32,\n",
    "    model_name=\"Focal_cortical_Biolord_LOA_run_fixed_data\",\n",
    "    module_params=module_params,\n",
    "    train_classifiers=False\n",
    ")"
   ]
  },
  {
   "cell_type": "code",
   "execution_count": null,
   "id": "d003503d-b9a6-4311-9cc5-f1f1d7c430e3",
   "metadata": {},
   "outputs": [],
   "source": [
    "# Train the model\n",
    "\n",
    "trainer_params = {\n",
    "    \"n_epochs_warmup\": 0,\n",
    "    \"latent_lr\": 1e-4,\n",
    "    \"latent_wd\": 1e-4,\n",
    "    \"decoder_lr\": 1e-4,\n",
    "    \"decoder_wd\": 1e-4,\n",
    "    \"attribute_nn_lr\": 1e-2,\n",
    "    \"attribute_nn_wd\": 4e-8,\n",
    "    \"step_size_lr\": 45,\n",
    "    \"cosine_scheduler\": True,\n",
    "    \"scheduler_final_lr\": 1e-5,\n",
    "}"
   ]
  },
  {
   "cell_type": "code",
   "execution_count": null,
   "id": "c0fc6f85-476d-4a7d-9200-ede8dd3d2a2f",
   "metadata": {},
   "outputs": [],
   "source": [
    "model.train(\n",
    "    max_epochs=500,\n",
    "    batch_size=512,\n",
    "    plan_kwargs=trainer_params,\n",
    "    early_stopping=True,\n",
    "    early_stopping_patience=20,\n",
    "    check_val_every_n_epoch=10,\n",
    "    num_workers=63,\n",
    "    enable_checkpointing=False,\n",
    ")"
   ]
  },
  {
   "cell_type": "code",
   "execution_count": null,
   "id": "5e381293-18a1-48f5-9872-ed7a16b2f606",
   "metadata": {},
   "outputs": [],
   "source": [
    "# Save the model\n",
    "model.save(dir_path=\"focal_crtical_prepr/LOA_focal_cortical_new_fixed_data\" + f\"{model.model_name}_model/\")"
   ]
  },
  {
   "cell_type": "code",
   "execution_count": null,
   "id": "1614206a-4df2-434f-8dd0-5f9577f76feb",
   "metadata": {},
   "outputs": [],
   "source": [
    "model = model.load(\"/work/Biolord_all/focal_crtical_prepr/focal_crtical_prepr/LOA_focal_cortical_new_fixed_dataFocal_cortical_Biolord_LOA_run_fixed_data_model\", adata = train_adata)"
   ]
  },
  {
   "cell_type": "code",
   "execution_count": null,
   "id": "b9fea308-dedd-4ed3-af8b-38b7af7eb43e",
   "metadata": {},
   "outputs": [],
   "source": [
    "model"
   ]
  },
  {
   "cell_type": "code",
   "execution_count": null,
   "id": "eb7ce4a3-da99-4357-b5e7-190d93349162",
   "metadata": {},
   "outputs": [],
   "source": [
    "size = 4\n",
    "vals = [\"generative_mean_accuracy\", \"generative_var_accuracy\", \"biolord_metric\"]\n",
    "fig, axs = plt.subplots(nrows=1, ncols=len(vals), figsize=(size * len(vals), size))\n",
    "\n",
    "model.epoch_history = pd.DataFrame().from_dict(model.training_plan.epoch_history)\n",
    "for i, val in enumerate(vals):\n",
    "    sns.lineplot(\n",
    "        x=\"epoch\",\n",
    "        y=val,\n",
    "        hue=\"mode\",\n",
    "        data=model.epoch_history[model.epoch_history[\"mode\"] == \"valid\"],\n",
    "        ax=axs[i],\n",
    "    )\n",
    "\n",
    "plt.tight_layout()\n",
    "plt.show()"
   ]
  },
  {
   "cell_type": "code",
   "execution_count": null,
   "id": "c51a406b-9c63-4211-b8ef-a58d7e5b7f4d",
   "metadata": {},
   "outputs": [],
   "source": [
    "female_endo = train_adata[\n",
    "    (train_adata.obs[\"sex\"] == \"female\") &\n",
    "    (train_adata.obs[\"cell_type\"] == \"microglial cell\")\n",
    "].copy()"
   ]
  },
  {
   "cell_type": "code",
   "execution_count": null,
   "id": "99e6d971-18a5-4f66-a7fe-405c526189b5",
   "metadata": {},
   "outputs": [],
   "source": [
    "rec_female_slow,_ = model.predict(female_endo, batch_size=256)"
   ]
  },
  {
   "cell_type": "code",
   "execution_count": null,
   "id": "60cb7644-4e57-4926-9935-607f3508c0c8",
   "metadata": {},
   "outputs": [],
   "source": [
    "cf = female_slow.copy()\n",
    "cf.obs[\"sex\"] = \"male\""
   ]
  },
  {
   "cell_type": "code",
   "execution_count": null,
   "id": "51d5c0b2-4a36-44c3-81f9-c139047a4ce4",
   "metadata": {},
   "outputs": [],
   "source": [
    "cf_pred,_ = model.predict(cf, batch_size=256)"
   ]
  },
  {
   "cell_type": "code",
   "execution_count": null,
   "id": "c2424e4f-d2d7-4616-90be-6bbbe2fa972a",
   "metadata": {},
   "outputs": [],
   "source": [
    "# Compute per-gene ground-truth means\n",
    "# Gt for females is now females with hepatocytes\n",
    "\n",
    "female_gt = (\n",
    "    female_endo.X.toarray().mean(axis=0)\n",
    "    if hasattr(female_endo.X, \"toarray\")\n",
    "    else female_endo.X.mean(axis=0)\n",
    ")\n",
    "\n",
    "\n",
    "#    Gt for the male is now the held out dataset\n",
    "male_gt = (\n",
    "    subset_adata.X.toarray().mean(axis=0)\n",
    "    if hasattr(subset_adata.X, \"toarray\")\n",
    "    else subset_adata.X.mean(axis=0)\n",
    ")"
   ]
  },
  {
   "cell_type": "code",
   "execution_count": null,
   "id": "a8488f6a-5f04-4198-b399-d11c3307e36f",
   "metadata": {},
   "outputs": [],
   "source": [
    "#  Compute per-gene prediction means \n",
    "baseline_pred = np.asarray(rec_female_slow.X.mean(axis=0)).ravel()\n",
    "cf_pred       = np.asarray(cf_pred.X.mean(axis=0)).ravel()"
   ]
  },
  {
   "cell_type": "code",
   "execution_count": null,
   "id": "a136bdfa-eea1-456b-b0c5-22fe57661337",
   "metadata": {},
   "outputs": [],
   "source": [
    "f_m = np.sqrt(np.mean((baseline_pred - male_gt)**2)) #pred-F --- TM\n",
    "m_m = np.sqrt(np.mean((cf_pred - male_gt)**2)) # pred_M --- TM\n",
    "f_f  =np.sqrt(np.mean((baseline_pred - female_gt)**2)) # pref F ----- TF\n",
    "m_f = np.sqrt(np.mean((cf_pred - female_gt)**2)) # pref M ---- TF\n",
    "\n",
    "print(f\"RMSE pred F --- TM: {f_m:.4f}\")\n",
    "print(f\"RMSE pred M --- TM (counterfactual)  : {m_m:.4f}\")\n",
    "print(f\"RMSE pred F ----- TF : {f_f:.4f}\")\n",
    "print(f\"RMSE pred M ---- TF (counterfactual)  : {m_f:.4f}\")"
   ]
  },
  {
   "cell_type": "code",
   "execution_count": null,
   "id": "4edeccb1-56cf-4c81-98ae-353b3aaee789",
   "metadata": {},
   "outputs": [],
   "source": [
    "import matplotlib.pyplot as plt\n",
    "\n",
    "# Define RMSE values\n",
    "rmse_data = [\n",
    "    [\"0.0221\", \"0.0327\"],  # True Female\n",
    "    [\"0.0936\", \"0.0796\"],  # True Male\n",
    "]\n",
    "\n",
    "# Define labels\n",
    "column_labels = [\"Pred Female\", \"Pred Male (CF)\"]\n",
    "row_labels = [\"True Female\", \"True Male\"]\n",
    "\n",
    "# Create the figure and axis\n",
    "fig, ax = plt.subplots(figsize=(6, 2))\n",
    "ax.axis('tight')\n",
    "ax.axis('off')\n",
    "\n",
    "# Create the table\n",
    "table = ax.table(\n",
    "    cellText=rmse_data,\n",
    "    rowLabels=row_labels,\n",
    "    colLabels=column_labels,\n",
    "    cellLoc='center',\n",
    "    loc='center'\n",
    ")\n",
    "\n",
    "table.scale(1, 2)  # Increase row height\n",
    "table.auto_set_font_size(False)\n",
    "table.set_fontsize(12)\n",
    "\n",
    "# Color the lower row cells\n",
    "# Note: Rows and columns are 1-indexed in table.get_celld()\n",
    "table[(2, 0)].set_facecolor(\"orange\")  # True Male, Pred Female\n",
    "table[(2, 1)].set_facecolor(\"lightblue\")  # True Male, Pred Male\n",
    "\n",
    "plt.title(\"RMSE between Predictions and Ground truth\", pad=20)\n",
    "plt.tight_layout()\n",
    "plt.show()\n"
   ]
  },
  {
   "cell_type": "code",
   "execution_count": null,
   "id": "bdf663d1-31ff-4e5c-9277-bc430f05aac5",
   "metadata": {},
   "outputs": [],
   "source": [
    "import numpy as np\n",
    "import seaborn as sns\n",
    "import matplotlib.pyplot as plt\n",
    "\n",
    "# Log-transform the data\n",
    "log_male_gt = np.log1p(male_gt)\n",
    "log_cf_pred = np.log1p(cf_pred)\n",
    "log_baseline_pred = np.log1p(baseline_pred)\n",
    "\n",
    "# Scatter plot of log-transformed ground truth vs. predictions\n",
    "fig, ax = plt.subplots(figsize=(10, 6))\n",
    "\n",
    "sns.scatterplot(\n",
    "    x=log_male_gt, y=log_cf_pred,\n",
    "    alpha=0.7, ax=ax\n",
    ")\n",
    "\n",
    "sns.scatterplot(\n",
    "    x=log_male_gt, y=log_baseline_pred,\n",
    "    alpha=0.7, ax=ax\n",
    ")\n",
    "\n",
    "# Identity line (in log space)\n",
    "mn = min(log_male_gt.min(), log_male_gt.min())\n",
    "mx = max(log_male_gt.max(), log_male_gt.max())\n",
    "ax.plot([mn, mx], [mn, mx], ls=\"--\", color=\"red\")\n",
    "\n",
    "\n",
    "ax.set_xlabel(\"Log Ground Truth (Male)\")\n",
    "ax.set_ylabel(\"Log Predicted Mean Expression\")\n",
    "ax.set_title(\"Leave One Out analysis\" )\n",
    "ax.legend(loc=\"upper left\")\n",
    "plt.tight_layout()\n",
    "plt.show()\n"
   ]
  }
 ],
 "metadata": {
  "kernelspec": {
   "display_name": "Python 3 ",
   "language": "python",
   "name": "python3"
  },
  "language_info": {
   "codemirror_mode": {
    "name": "ipython",
    "version": 3
   },
   "file_extension": ".py",
   "mimetype": "text/x-python",
   "name": "python",
   "nbconvert_exporter": "python",
   "pygments_lexer": "ipython3",
   "version": "3.12.10"
  }
 },
 "nbformat": 4,
 "nbformat_minor": 5
}

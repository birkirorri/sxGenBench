{
 "cells": [
  {
   "cell_type": "code",
   "execution_count": null,
   "id": "e24ac366-497b-426f-8bc6-8bf6b8fe3273",
   "metadata": {
    "scrolled": true
   },
   "outputs": [],
   "source": [
    "pip install biolord"
   ]
  },
  {
   "cell_type": "code",
   "execution_count": null,
   "id": "8e312053-3463-4a00-ac5b-81816cc7760a",
   "metadata": {},
   "outputs": [],
   "source": [
    "import warnings\n",
    "import os\n",
    "import sys\n",
    "import re\n",
    "import biolord\n",
    "import matplotlib.pyplot as plt\n",
    "\n",
    "import numpy as np\n",
    "import pandas as pd\n",
    "import scanpy as sc\n",
    "import seaborn as sns\n",
    "import sklearn\n",
    "import torch\n",
    "from sklearn.model_selection import LeaveOneOut\n",
    "from sklearn.model_selection import cross_val_score\n",
    "\n",
    "from sklearn.metrics import (\n",
    "    mean_absolute_error,\n",
    "    mean_squared_error,\n",
    "    r2_score,\n",
    "    mutual_info_score\n",
    ")"
   ]
  },
  {
   "cell_type": "code",
   "execution_count": null,
   "id": "27b3c745-a297-4c70-883f-b2cee4836705",
   "metadata": {},
   "outputs": [],
   "source": [
    "adata_norm = sc.read(\"/work/Biolord_all/new_data_fixed_normalized/healthy_hamstring_processed_adata_normalized.h5ad\")"
   ]
  },
  {
   "cell_type": "code",
   "execution_count": null,
   "id": "87f2c1fd-6a74-4fcb-815d-bf23c261abbd",
   "metadata": {},
   "outputs": [],
   "source": [
    "adata_norm"
   ]
  },
  {
   "cell_type": "code",
   "execution_count": null,
   "id": "a9d02f8e-b397-41a5-ab7c-c440ad7ea0bd",
   "metadata": {},
   "outputs": [],
   "source": [
    "# Subset the data\n",
    "subset_mask = (adata_norm.obs['sex'] == 'male') & (adata_norm.obs['cell_type'] == 'slow muscle cell')\n",
    "subset_adata = adata_norm[subset_mask].copy()  \n",
    "train_adata = adata_norm[~subset_mask].copy()  # Training data is everything except the subset"
   ]
  },
  {
   "cell_type": "code",
   "execution_count": null,
   "id": "f779e466-86b9-424e-af8e-fa2903d220a0",
   "metadata": {},
   "outputs": [],
   "source": [
    "train_adata"
   ]
  },
  {
   "cell_type": "code",
   "execution_count": null,
   "id": "315c343b-30cb-43d6-9a0b-dcc13207064b",
   "metadata": {},
   "outputs": [],
   "source": [
    "adata = sc.read(\"/work/Biolord_all/new_data_raw/healthy_hamstring_processed_adata_raw.h5ad\")"
   ]
  },
  {
   "cell_type": "code",
   "execution_count": null,
   "id": "03107cc4-f01e-4b28-9265-9b5349c6cc58",
   "metadata": {},
   "outputs": [],
   "source": [
    "subset_adata.obs[\"cell_type\"]"
   ]
  },
  {
   "cell_type": "code",
   "execution_count": null,
   "id": "51046def-0805-4d07-a93f-1955abcd7f29",
   "metadata": {},
   "outputs": [],
   "source": [
    "print(subset_adata.obs.groupby(['sex', 'cell_type']).size())"
   ]
  },
  {
   "cell_type": "code",
   "execution_count": null,
   "id": "c68d61e8-6f5f-433c-9a8f-155115875c97",
   "metadata": {},
   "outputs": [],
   "source": [
    "print(train_adata.obs.groupby(['sex', 'cell_type']).size())"
   ]
  },
  {
   "cell_type": "code",
   "execution_count": null,
   "id": "4e6e8f22-7651-4c6d-b180-d62ba7b371d5",
   "metadata": {},
   "outputs": [],
   "source": [
    "train_adata.obs[\"cell_type\"]"
   ]
  },
  {
   "cell_type": "code",
   "execution_count": null,
   "id": "1f6d80f2-5c77-4143-af82-49df12a8f09e",
   "metadata": {},
   "outputs": [],
   "source": [
    "biolord.Biolord.setup_anndata(\n",
    "    train_adata, ordered_attributes_keys=None, categorical_attributes_keys=[\"cell_type\", \"sex\", \"donor_id\"]\n",
    ")"
   ]
  },
  {
   "cell_type": "code",
   "execution_count": null,
   "id": "60722c4a-c71f-4a57-9e58-176b52a39b46",
   "metadata": {},
   "outputs": [],
   "source": [
    "# Instantiate a Biolord model\n",
    "\n",
    "module_params = {\n",
    "    \"decoder_width\": 1024,\n",
    "    \"decoder_depth\": 4,\n",
    "    \"attribute_nn_width\": 512,\n",
    "    \"attribute_nn_depth\": 2,\n",
    "    \"n_latent_attribute_categorical\": 4,\n",
    "    \"gene_likelihood\": \"normal\",\n",
    "    \"reconstruction_penalty\": 1e2,\n",
    "    \"unknown_attribute_penalty\": 1e1,\n",
    "    \"unknown_attribute_noise_param\": 1e-1,\n",
    "    \"attribute_dropout_rate\": 0.1,\n",
    "    \"use_batch_norm\": False,\n",
    "    \"use_layer_norm\": False,\n",
    "    \"seed\": 42,\n",
    "}"
   ]
  },
  {
   "cell_type": "code",
   "execution_count": null,
   "id": "bd8b5e90-0cea-4c56-8d09-11ffb7b30505",
   "metadata": {},
   "outputs": [],
   "source": [
    "model = biolord.Biolord(\n",
    "    adata=train_adata,\n",
    "    n_latent=32,\n",
    "    model_name=\"leave_one_out_new_mars_final\",\n",
    "    module_params=module_params,\n",
    "    train_classifiers=False\n",
    ")"
   ]
  },
  {
   "cell_type": "code",
   "execution_count": null,
   "id": "af07ea16-d1d2-4f50-b893-60dac721d381",
   "metadata": {},
   "outputs": [],
   "source": [
    "# Train the model\n",
    "\n",
    "trainer_params = {\n",
    "    \"n_epochs_warmup\": 0,\n",
    "    \"latent_lr\": 1e-4,\n",
    "    \"latent_wd\": 1e-4,\n",
    "    \"decoder_lr\": 1e-4,\n",
    "    \"decoder_wd\": 1e-4,\n",
    "    \"attribute_nn_lr\": 1e-2,\n",
    "    \"attribute_nn_wd\": 4e-8,\n",
    "    \"step_size_lr\": 45,\n",
    "    \"cosine_scheduler\": True,\n",
    "    \"scheduler_final_lr\": 1e-5,\n",
    "}"
   ]
  },
  {
   "cell_type": "code",
   "execution_count": null,
   "id": "118b463e-f932-46a3-ba5c-5ff05e0b9d45",
   "metadata": {},
   "outputs": [],
   "source": [
    "model.train(\n",
    "    max_epochs=200,\n",
    "    batch_size=512,\n",
    "    plan_kwargs=trainer_params,\n",
    "    early_stopping=True,\n",
    "    early_stopping_patience=20,\n",
    "    check_val_every_n_epoch=10,\n",
    "    enable_checkpointing=False,\n",
    ")"
   ]
  },
  {
   "cell_type": "code",
   "execution_count": null,
   "id": "a46361d5-fe96-4c20-a593-0125cef09243",
   "metadata": {},
   "outputs": [],
   "source": [
    "size = 4\n",
    "vals = [\"generative_mean_accuracy\", \"generative_var_accuracy\", \"biolord_metric\"]\n",
    "fig, axs = plt.subplots(nrows=1, ncols=len(vals), figsize=(size * len(vals), size))\n",
    "\n",
    "model.epoch_history = pd.DataFrame().from_dict(model.training_plan.epoch_history)\n",
    "for i, val in enumerate(vals):\n",
    "    sns.lineplot(\n",
    "        x=\"epoch\",\n",
    "        y=val,\n",
    "        hue=\"mode\",\n",
    "        data=model.epoch_history[model.epoch_history[\"mode\"] == \"valid\"],\n",
    "        ax=axs[i],\n",
    "    )\n",
    "\n",
    "plt.tight_layout()\n",
    "plt.show()"
   ]
  },
  {
   "cell_type": "code",
   "execution_count": null,
   "id": "12d3ab4b-3310-46ec-9cfc-cb2b69db4364",
   "metadata": {},
   "outputs": [],
   "source": [
    "model.save(\"/work/Biolord_all/Healthy_Hamstring_Biolord/LOA_final_model/LOA_new_data_HH_Biolord\")"
   ]
  },
  {
   "cell_type": "code",
   "execution_count": null,
   "id": "509481eb-f98f-445a-aa46-875a40e29577",
   "metadata": {},
   "outputs": [],
   "source": [
    "model = model.load(\"/work/Biolord_all/Healthy_Hamstring_Biolord/LOA_final_model/LOA_new_data_HH_Biolord\", adata = train_adata)"
   ]
  },
  {
   "cell_type": "code",
   "execution_count": null,
   "id": "8097ec48-5e75-42b4-ac10-3f4470b0caa8",
   "metadata": {},
   "outputs": [],
   "source": [
    "model"
   ]
  },
  {
   "cell_type": "code",
   "execution_count": null,
   "id": "b86d0c26-8499-4d95-a74a-59c19ce7373a",
   "metadata": {},
   "outputs": [],
   "source": [
    "female_slow = train_adata[\n",
    "    (train_adata.obs[\"sex\"] == \"female\") &\n",
    "    (train_adata.obs[\"cell_type\"] == \"slow muscle cell\")\n",
    "].copy()"
   ]
  },
  {
   "cell_type": "code",
   "execution_count": null,
   "id": "2cd34e37-dda7-4843-9dde-e3c123fa3902",
   "metadata": {},
   "outputs": [],
   "source": [
    "rec_female_slow,_ = model.predict(female_slow, batch_size=256)"
   ]
  },
  {
   "cell_type": "code",
   "execution_count": null,
   "id": "5d27949a-f891-4aaa-8c95-0301682d37c6",
   "metadata": {},
   "outputs": [],
   "source": [
    "cf = female_slow.copy()\n",
    "cf.obs[\"sex\"] = \"male\""
   ]
  },
  {
   "cell_type": "code",
   "execution_count": null,
   "id": "1d870300-bb1b-4608-a93c-ba3af6f5234e",
   "metadata": {},
   "outputs": [],
   "source": [
    "cf.obs[\"sex\"]"
   ]
  },
  {
   "cell_type": "code",
   "execution_count": null,
   "id": "258b3507-448d-4cf5-98aa-e94458c97918",
   "metadata": {},
   "outputs": [],
   "source": [
    "cf_pred,_ = model.predict(cf, batch_size=256)"
   ]
  },
  {
   "cell_type": "code",
   "execution_count": null,
   "id": "af30dcf6-0dad-485f-9f02-4994b080175c",
   "metadata": {},
   "outputs": [],
   "source": [
    "# Compute per-gene ground-truth means\n",
    "# Gt for females is now females with hepatocytes\n",
    "\n",
    "female_gt = (\n",
    "    female_slow.X.toarray().mean(axis=0)\n",
    "    if hasattr(female_slow.X, \"toarray\")\n",
    "    else female_slow.X.mean(axis=0)\n",
    ")\n",
    "\n",
    "\n",
    "#    Gt for the male is now the held out dataset\n",
    "male_gt = (\n",
    "    subset_adata.X.toarray().mean(axis=0)\n",
    "    if hasattr(subset_adata.X, \"toarray\")\n",
    "    else subset_adata.X.mean(axis=0)\n",
    ")"
   ]
  },
  {
   "cell_type": "code",
   "execution_count": null,
   "id": "e5ed7282-15dc-42f2-ba11-8a900308fb34",
   "metadata": {},
   "outputs": [],
   "source": [
    "#  Compute per-gene prediction means \n",
    "baseline_pred = np.asarray(rec_female_slow.X.mean(axis=0)).ravel()\n",
    "cf_pred       = np.asarray(cf_pred.X.mean(axis=0)).ravel()"
   ]
  },
  {
   "cell_type": "code",
   "execution_count": null,
   "id": "b69f954c-b9eb-437d-87a0-762cd50229ef",
   "metadata": {},
   "outputs": [],
   "source": [
    "f_m = np.sqrt(np.mean((baseline_pred - male_gt)**2)) #pred-F --- TM\n",
    "m_m = np.sqrt(np.mean((cf_pred - male_gt)**2)) # pred_M --- TM\n",
    "f_f  =np.sqrt(np.mean((baseline_pred - female_gt)**2)) # pref F ----- TF\n",
    "m_f = np.sqrt(np.mean((cf_pred - female_gt)**2)) # pref M ---- TF\n",
    "\n",
    "print(f\"RMSE pred F --- TM: {f_m:.4f}\")\n",
    "print(f\"RMSE pred M --- TM (counterfactual)  : {m_m:.4f}\")\n",
    "print(f\"RMSE pred F ----- TF : {f_f:.4f}\")\n",
    "print(f\"RMSE pred M ---- TF (counterfactual)  : {m_f:.4f}\")"
   ]
  },
  {
   "cell_type": "code",
   "execution_count": null,
   "id": "d70c8ee2-6cdf-44bf-8df1-18ae394ba139",
   "metadata": {},
   "outputs": [],
   "source": [
    "import matplotlib.pyplot as plt\n",
    "\n",
    "# Define RMSE values\n",
    "rmse_data = [\n",
    "    [\"0.0173\", \"0.1135\"],  # True Female\n",
    "    [\"0.0674\", \"0.1101\"],  # True Male\n",
    "]\n",
    "\n",
    "# Define labels\n",
    "column_labels = [\"Pred Female\", \"Pred Male (CF)\"]\n",
    "row_labels = [\"True Female\", \"True Male\"]\n",
    "\n",
    "# Create the figure and axis\n",
    "fig, ax = plt.subplots(figsize=(6, 2))\n",
    "ax.axis('tight')\n",
    "ax.axis('off')\n",
    "\n",
    "# Create the table\n",
    "table = ax.table(\n",
    "    cellText=rmse_data,\n",
    "    rowLabels=row_labels,\n",
    "    colLabels=column_labels,\n",
    "    cellLoc='center',\n",
    "    loc='center'\n",
    ")\n",
    "\n",
    "table.scale(1, 2)  # Increase row height\n",
    "table.auto_set_font_size(False)\n",
    "table.set_fontsize(12)\n",
    "\n",
    "# Color the lower row cells\n",
    "# Note: Rows and columns are 1-indexed in table.get_celld()\n",
    "table[(2, 0)].set_facecolor(\"orange\")  # True Male, Pred Female\n",
    "table[(2, 1)].set_facecolor(\"lightblue\")  # True Male, Pred Male\n",
    "\n",
    "plt.title(\"RMSE between Predictions and Ground truth\", pad=20)\n",
    "plt.tight_layout()\n",
    "plt.show()\n"
   ]
  },
  {
   "cell_type": "code",
   "execution_count": null,
   "id": "c91ac787-ae34-453e-aca9-3eb6789590ad",
   "metadata": {},
   "outputs": [],
   "source": [
    "import numpy as np\n",
    "import seaborn as sns\n",
    "import matplotlib.pyplot as plt\n",
    "\n",
    "# Log-transform the data\n",
    "log_male_gt = np.log1p(male_gt)\n",
    "log_cf_pred = np.log1p(cf_pred)\n",
    "log_baseline_pred = np.log1p(baseline_pred)\n",
    "\n",
    "# Scatter plot of log-transformed ground truth vs. predictions\n",
    "fig, ax = plt.subplots(figsize=(10, 6))\n",
    "\n",
    "sns.scatterplot(\n",
    "    x=log_male_gt, y=log_cf_pred,\n",
    "    alpha=0.7, ax=ax\n",
    ")\n",
    "\n",
    "sns.scatterplot(\n",
    "    x=log_male_gt, y=log_baseline_pred,\n",
    "    alpha=0.7, ax=ax\n",
    ")\n",
    "\n",
    "# Identity line (in log space)\n",
    "mn = min(log_male_gt.min(), log_male_gt.min())\n",
    "mx = max(log_male_gt.max(), log_male_gt.max())\n",
    "ax.plot([mn, mx], [mn, mx], ls=\"--\", color=\"red\")\n",
    "\n",
    "\n",
    "ax.set_xlabel(\"Log Ground Truth (Male)\")\n",
    "ax.set_ylabel(\"Log Predicted Mean Expression\")\n",
    "ax.set_title(\"Leave One Out analysis\" )\n",
    "ax.legend(loc=\"upper left\")\n",
    "plt.tight_layout()\n",
    "plt.show()\n"
   ]
  }
 ],
 "metadata": {
  "kernelspec": {
   "display_name": "Python 3 ",
   "language": "python",
   "name": "python3"
  },
  "language_info": {
   "codemirror_mode": {
    "name": "ipython",
    "version": 3
   },
   "file_extension": ".py",
   "mimetype": "text/x-python",
   "name": "python",
   "nbconvert_exporter": "python",
   "pygments_lexer": "ipython3",
   "version": "3.12.10"
  }
 },
 "nbformat": 4,
 "nbformat_minor": 5
}

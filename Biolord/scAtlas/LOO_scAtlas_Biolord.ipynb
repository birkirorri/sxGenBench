{
 "cells": [
  {
   "cell_type": "code",
   "execution_count": null,
   "id": "55b7e667-2053-4ae9-ba7d-d37b79f313f4",
   "metadata": {
    "scrolled": true
   },
   "outputs": [],
   "source": [
    "pip install biolord"
   ]
  },
  {
   "cell_type": "code",
   "execution_count": null,
   "id": "3db48a5d-2273-4c5a-a652-6524820a6c47",
   "metadata": {},
   "outputs": [],
   "source": [
    "import warnings\n",
    "import os\n",
    "import sys\n",
    "import re\n",
    "import biolord\n",
    "import matplotlib.pyplot as plt\n",
    "import numpy as np\n",
    "import pandas as pd\n",
    "import scanpy as sc\n",
    "import seaborn as sns\n",
    "import sklearn\n",
    "import torch\n",
    "\n",
    "\n",
    "from sklearn.metrics import (\n",
    "    mean_absolute_error,\n",
    "    mean_squared_error,\n",
    "    r2_score,\n",
    "    root_mean_squared_error,\n",
    "    mutual_info_score\n",
    ")"
   ]
  },
  {
   "cell_type": "code",
   "execution_count": null,
   "id": "a68dc660-6548-41d2-ad84-1f15f6b98a9d",
   "metadata": {},
   "outputs": [],
   "source": [
    "# Setup the AnnData\n",
    "\n",
    "adata = sc.read(\"/work/Biolord_all/new_data_fixed_normalized/scAtlas_Human_vascular_cells_processed_normalized.h5ad\")"
   ]
  },
  {
   "cell_type": "code",
   "execution_count": null,
   "id": "d4840dd0-24d2-43ea-af3f-c259af64978f",
   "metadata": {
    "scrolled": true
   },
   "outputs": [],
   "source": [
    "adata.obs[\"cell_type\"]"
   ]
  },
  {
   "cell_type": "code",
   "execution_count": null,
   "id": "84f7bc1d-79b6-438b-b62b-1a621865d4ac",
   "metadata": {},
   "outputs": [],
   "source": [
    "# Subset the data\n",
    "subset_mask = (adata.obs['sex'] == 'male') & (adata.obs['cell_type'] == 'endothelial cell')\n",
    "subset_adata = adata[subset_mask].copy()  \n",
    "train_adata = adata[~subset_mask].copy()  # Training data is everything except the subset"
   ]
  },
  {
   "cell_type": "code",
   "execution_count": null,
   "id": "e8cfc6ab-826d-4b18-b8fb-787d31535103",
   "metadata": {},
   "outputs": [],
   "source": [
    "biolord.Biolord.setup_anndata(\n",
    "    train_adata, ordered_attributes_keys=None, categorical_attributes_keys=[\"cell_type\", \"fat_type\", \"sex\", \"bmi_group\", \"donor_id\", \"surgery\",\"tissue\"]\n",
    ")"
   ]
  },
  {
   "cell_type": "code",
   "execution_count": null,
   "id": "1d9e2726-3999-4997-9404-9bc30136ec4b",
   "metadata": {},
   "outputs": [],
   "source": [
    "# Instantiate a Biolord model\n",
    "\n",
    "module_params = {\n",
    "    \"decoder_width\": 1024,\n",
    "    \"decoder_depth\": 4,\n",
    "    \"attribute_nn_width\": 512,\n",
    "    \"attribute_nn_depth\": 2,\n",
    "    \"n_latent_attribute_categorical\": 4,\n",
    "    \"gene_likelihood\": \"normal\",\n",
    "    \"reconstruction_penalty\": 1e2,\n",
    "    \"unknown_attribute_penalty\": 1e1,\n",
    "    \"unknown_attribute_noise_param\": 1e-1,\n",
    "    \"attribute_dropout_rate\": 0.1,\n",
    "    \"use_batch_norm\": False,\n",
    "    \"use_layer_norm\": False,\n",
    "    \"seed\": 42,\n",
    "}"
   ]
  },
  {
   "cell_type": "code",
   "execution_count": null,
   "id": "cab62481-1835-4ec7-92d2-5eb68e587928",
   "metadata": {},
   "outputs": [],
   "source": [
    "model = biolord.Biolord(\n",
    "    adata=train_adata,\n",
    "    n_latent=32,\n",
    "    model_name=\"Sc_Atlas_Biolord_run_lOA_fix_new_data_0905\",\n",
    "    module_params=module_params,\n",
    "    train_classifiers=False\n",
    ")"
   ]
  },
  {
   "cell_type": "code",
   "execution_count": null,
   "id": "2cfa6af0-b55c-4906-ad1c-caea79a5cd53",
   "metadata": {},
   "outputs": [],
   "source": [
    "# Train the model\n",
    "\n",
    "trainer_params = {\n",
    "    \"n_epochs_warmup\": 0,\n",
    "    \"latent_lr\": 1e-4,\n",
    "    \"latent_wd\": 1e-4,\n",
    "    \"decoder_lr\": 1e-4,\n",
    "    \"decoder_wd\": 1e-4,\n",
    "    \"attribute_nn_lr\": 1e-2,\n",
    "    \"attribute_nn_wd\": 4e-8,\n",
    "    \"step_size_lr\": 45,\n",
    "    \"cosine_scheduler\": True,\n",
    "    \"scheduler_final_lr\": 1e-5,\n",
    "}"
   ]
  },
  {
   "cell_type": "code",
   "execution_count": null,
   "id": "d3c44099-8dee-48e6-a015-fc83bfd7a180",
   "metadata": {
    "scrolled": true
   },
   "outputs": [],
   "source": [
    "model.train(\n",
    "    max_epochs=500,\n",
    "    batch_size=512,\n",
    "    plan_kwargs=trainer_params,\n",
    "    early_stopping=True,\n",
    "    early_stopping_patience=20,\n",
    "    check_val_every_n_epoch=10,\n",
    "    num_workers=63,\n",
    "    enable_checkpointing=False,\n",
    ")"
   ]
  },
  {
   "cell_type": "code",
   "execution_count": null,
   "id": "dfa7fec5-0d25-49af-852e-9b8d6398869a",
   "metadata": {},
   "outputs": [],
   "source": [
    "# Save the model\n",
    "model.save(dir_path=\"Biolord_ScAtlas_data/LOO_scatlas_fixed_data_final\" + f\"{model.model_name}_model/\")"
   ]
  },
  {
   "cell_type": "code",
   "execution_count": null,
   "id": "91eda83f-b8e7-4c5c-8242-4806ce7f9241",
   "metadata": {},
   "outputs": [],
   "source": [
    "# Load model\n",
    "#model.load(\"/work/Biolord_ScAtlas_data/Biolord_ScAtlas_data/Output_pathSc_Atlas_Biolord_run_model/\", adata = adata)\n",
    "# Load model and check if epoch history is present\n",
    "model = model.load(\"/work/scAtlas_runs/Biolord_ScAtlas_data/Biolord_ScAtlas_data/LOO_scatlas_fixed_data_finalSc_Atlas_Biolord_run_lOA_fix_new_data_0905_model/\", adata=train_adata)"
   ]
  },
  {
   "cell_type": "code",
   "execution_count": null,
   "id": "d8293d66-eb95-48c9-a6d2-be91f199e13e",
   "metadata": {},
   "outputs": [],
   "source": [
    "model"
   ]
  },
  {
   "cell_type": "code",
   "execution_count": null,
   "id": "207dd6f7-799f-4cb5-a6b2-688978edf3dc",
   "metadata": {},
   "outputs": [],
   "source": [
    "size = 4\n",
    "vals = [\"generative_mean_accuracy\", \"generative_var_accuracy\", \"biolord_metric\"]\n",
    "fig, axs = plt.subplots(nrows=1, ncols=len(vals), figsize=(size * len(vals), size))\n",
    "\n",
    "model.epoch_history = pd.DataFrame().from_dict(model.training_plan.epoch_history)\n",
    "for i, val in enumerate(vals):\n",
    "    sns.lineplot(\n",
    "        x=\"epoch\",\n",
    "        y=val,\n",
    "        hue=\"mode\",\n",
    "        data=model.epoch_history[model.epoch_history[\"mode\"] == \"valid\"],\n",
    "        ax=axs[i],\n",
    "    )\n",
    "\n",
    "plt.tight_layout()\n",
    "plt.show()"
   ]
  },
  {
   "cell_type": "code",
   "execution_count": null,
   "id": "f66526bf-9cd5-441e-b32d-575cbf0c5705",
   "metadata": {},
   "outputs": [],
   "source": [
    "df = pd.read_csv(\"/work/Biolord_ScAtlas_data/Biolord_ScAtlas_data/Output_pathSc_Atlas_Biolord_run_model/history.csv\")\n"
   ]
  },
  {
   "cell_type": "code",
   "execution_count": null,
   "id": "246816b6-d392-4176-9439-91ee390d20e5",
   "metadata": {},
   "outputs": [],
   "source": [
    "sns.lineplot(df,x=\"epoch\", y= \"reconstruction_loss\", hue=\"mode\")"
   ]
  },
  {
   "cell_type": "code",
   "execution_count": null,
   "id": "d7683434-f074-465c-b1c0-eb8d9ff699c9",
   "metadata": {},
   "outputs": [],
   "source": [
    "sns.lineplot(df,x=\"epoch\", y= \"biolord_metric\", hue=\"mode\")"
   ]
  },
  {
   "cell_type": "code",
   "execution_count": null,
   "id": "9c5c20bc-df73-4db1-a8da-1a3c42343ba2",
   "metadata": {},
   "outputs": [],
   "source": [
    "female_slow = train_adata[\n",
    "    (train_adata.obs[\"sex\"] == \"female\") &\n",
    "    (train_adata.obs[\"cell_type\"] == \"endothelial cell\")\n",
    "].copy()"
   ]
  },
  {
   "cell_type": "code",
   "execution_count": null,
   "id": "c7d8016d-7379-4f94-ab0f-ec093af0929c",
   "metadata": {},
   "outputs": [],
   "source": [
    "rec_female_slow,_ = model.predict(female_slow, batch_size=256)"
   ]
  },
  {
   "cell_type": "code",
   "execution_count": null,
   "id": "f8ad507b-56f2-4887-b916-66b2c5a2d02e",
   "metadata": {},
   "outputs": [],
   "source": [
    "cf = female_slow.copy()\n",
    "cf.obs[\"sex\"] = \"male\""
   ]
  },
  {
   "cell_type": "code",
   "execution_count": null,
   "id": "55819023-c4ef-4bb4-b356-54bbc0d6a7ae",
   "metadata": {},
   "outputs": [],
   "source": [
    "cf_pred,_ = model.predict(cf, batch_size=256)"
   ]
  },
  {
   "cell_type": "code",
   "execution_count": null,
   "id": "dc45cace-a5db-4068-b794-da858ef8ef20",
   "metadata": {},
   "outputs": [],
   "source": [
    "# Compute per-gene ground-truth means\n",
    "# Gt for females is now females with hepatocytes\n",
    "\n",
    "female_gt = (\n",
    "    female_slow.X.toarray().mean(axis=0)\n",
    "    if hasattr(female_slow.X, \"toarray\")\n",
    "    else female_slow.X.mean(axis=0)\n",
    ")\n",
    "\n",
    "\n",
    "#    Gt for the male is now the held out dataset\n",
    "male_gt = (\n",
    "    subset_adata.X.toarray().mean(axis=0)\n",
    "    if hasattr(subset_adata.X, \"toarray\")\n",
    "    else subset_adata.X.mean(axis=0)\n",
    ")"
   ]
  },
  {
   "cell_type": "code",
   "execution_count": null,
   "id": "45afd8ea-0380-41d1-8fe3-1edb31cd0f3a",
   "metadata": {},
   "outputs": [],
   "source": [
    "#  Compute per-gene prediction means \n",
    "baseline_pred = np.asarray(rec_female_slow.X.mean(axis=0)).ravel()\n",
    "cf_pred       = np.asarray(cf_pred.X.mean(axis=0)).ravel()"
   ]
  },
  {
   "cell_type": "code",
   "execution_count": null,
   "id": "33017871-da98-4344-83fb-e2262b481019",
   "metadata": {},
   "outputs": [],
   "source": [
    "f_m = np.sqrt(np.mean((baseline_pred - male_gt)**2)) #pred-F --- TM\n",
    "m_m = np.sqrt(np.mean((cf_pred - male_gt)**2)) # pred_M --- TM\n",
    "f_f  =np.sqrt(np.mean((baseline_pred - female_gt)**2)) # pref F ----- TF\n",
    "m_f = np.sqrt(np.mean((cf_pred - female_gt)**2)) # pref M ---- TF\n",
    "\n",
    "print(f\"RMSE pred F --- TM: {f_m:.4f}\")\n",
    "print(f\"RMSE pred M --- TM (counterfactual)  : {m_m:.4f}\")\n",
    "print(f\"RMSE pred F ----- TF : {f_f:.4f}\")\n",
    "print(f\"RMSE pred M ---- TF (counterfactual)  : {m_f:.4f}\")"
   ]
  },
  {
   "cell_type": "code",
   "execution_count": null,
   "id": "0d93d92a-11a8-4602-a1ac-36d9d46a0b1e",
   "metadata": {},
   "outputs": [],
   "source": [
    "import matplotlib.pyplot as plt\n",
    "\n",
    "# Define RMSE values\n",
    "rmse_data = [\n",
    "    [\"0.0173\", \"0.0212\"],  # True Female\n",
    "    [\"0.0567\", \"0.0568\"],  # True Male\n",
    "]\n",
    "\n",
    "# Define labels\n",
    "column_labels = [\"Pred Female\", \"Pred Male (CF)\"]\n",
    "row_labels = [\"True Female\", \"True Male\"]\n",
    "\n",
    "# Create the figure and axis\n",
    "fig, ax = plt.subplots(figsize=(6, 2))\n",
    "ax.axis('tight')\n",
    "ax.axis('off')\n",
    "\n",
    "# Create the table\n",
    "table = ax.table(\n",
    "    cellText=rmse_data,\n",
    "    rowLabels=row_labels,\n",
    "    colLabels=column_labels,\n",
    "    cellLoc='center',\n",
    "    loc='center'\n",
    ")\n",
    "\n",
    "table.scale(1, 2)  # Increase row height\n",
    "table.auto_set_font_size(False)\n",
    "table.set_fontsize(12)\n",
    "\n",
    "# Color the lower row cells\n",
    "# Note: Rows and columns are 1-indexed in table.get_celld()\n",
    "table[(2, 0)].set_facecolor(\"orange\")  # True Male, Pred Female\n",
    "table[(2, 1)].set_facecolor(\"lightblue\")  # True Male, Pred Male\n",
    "\n",
    "plt.title(\"RMSE between Predictions and Ground truth\", pad=20)\n",
    "plt.tight_layout()\n",
    "plt.show()\n"
   ]
  },
  {
   "cell_type": "code",
   "execution_count": null,
   "id": "eb8ff0fe-0abc-4051-9baa-2c6db8dc934b",
   "metadata": {},
   "outputs": [],
   "source": [
    "import numpy as np\n",
    "import seaborn as sns\n",
    "import matplotlib.pyplot as plt\n",
    "\n",
    "# Log-transform the data\n",
    "log_male_gt = np.log1p(male_gt)\n",
    "log_cf_pred = np.log1p(cf_pred)\n",
    "log_baseline_pred = np.log1p(baseline_pred)\n",
    "\n",
    "# Scatter plot of log-transformed ground truth vs. predictions\n",
    "fig, ax = plt.subplots(figsize=(10, 6))\n",
    "\n",
    "sns.scatterplot(\n",
    "    x=log_male_gt, y=log_cf_pred,\n",
    "    alpha=0.7, ax=ax\n",
    ")\n",
    "\n",
    "sns.scatterplot(\n",
    "    x=log_male_gt, y=log_baseline_pred,\n",
    "    alpha=0.7, ax=ax\n",
    ")\n",
    "\n",
    "# Identity line (in log space)\n",
    "mn = min(log_male_gt.min(), log_male_gt.min())\n",
    "mx = max(log_male_gt.max(), log_male_gt.max())\n",
    "ax.plot([mn, mx], [mn, mx], ls=\"--\", color=\"red\")\n",
    "\n",
    "\n",
    "ax.set_xlabel(\"Log Ground Truth (Male)\")\n",
    "ax.set_ylabel(\"Log Predicted Mean Expression\")\n",
    "ax.set_title(\"Leave One Out analysis\" )\n",
    "ax.legend(loc=\"upper left\")\n",
    "plt.tight_layout()\n",
    "plt.show()\n"
   ]
  }
 ],
 "metadata": {
  "kernelspec": {
   "display_name": "Python 3 ",
   "language": "python",
   "name": "python3"
  },
  "language_info": {
   "codemirror_mode": {
    "name": "ipython",
    "version": 3
   },
   "file_extension": ".py",
   "mimetype": "text/x-python",
   "name": "python",
   "nbconvert_exporter": "python",
   "pygments_lexer": "ipython3",
   "version": "3.12.10"
  }
 },
 "nbformat": 4,
 "nbformat_minor": 5
}

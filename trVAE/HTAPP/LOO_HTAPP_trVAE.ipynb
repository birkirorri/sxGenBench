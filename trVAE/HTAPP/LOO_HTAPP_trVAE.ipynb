{
 "cells": [
  {
   "cell_type": "code",
   "execution_count": null,
   "id": "31594f6f-e282-467b-8d5a-78a202a33f34",
   "metadata": {},
   "outputs": [],
   "source": [
    "import os \n",
    "os.chdir(\"../\")\n",
    "import warnings"
   ]
  },
  {
   "cell_type": "code",
   "execution_count": null,
   "id": "66f9c1de-5586-4793-bcc2-d6dd41504cfa",
   "metadata": {
    "scrolled": true
   },
   "outputs": [],
   "source": [
    "pip install scarches numpy anndata scvi pandas==2.2.3"
   ]
  },
  {
   "cell_type": "code",
   "execution_count": null,
   "id": "90d263b2-5cec-4dd7-9e43-1fb3e0434268",
   "metadata": {},
   "outputs": [],
   "source": [
    "import scanpy as sc\n",
    "import torch\n",
    "import scarches as sca\n",
    "from scarches.dataset.trvae.data_handling import remove_sparsity\n",
    "import matplotlib.pyplot as plt\n",
    "import numpy as np\n",
    "import gdown"
   ]
  },
  {
   "cell_type": "code",
   "execution_count": null,
   "id": "ed4cc559-6a3d-4938-8e29-ca52db155d5e",
   "metadata": {},
   "outputs": [],
   "source": [
    "sc.settings.set_figure_params(dpi=200, frameon=False)\n",
    "sc.set_figure_params(dpi=200)\n",
    "sc.set_figure_params(figsize=(4, 4))\n",
    "torch.set_printoptions(precision=3, sci_mode=False, edgeitems=7)"
   ]
  },
  {
   "cell_type": "code",
   "execution_count": null,
   "id": "2b2c7843-e38e-4e76-b5e8-4f8b62f5904f",
   "metadata": {},
   "outputs": [],
   "source": [
    "adata= sc.read('/work/trvae_new/New_fixed_data/HTAPP_997_processed_raw_FINAL.h5ad')"
   ]
  },
  {
   "cell_type": "code",
   "execution_count": null,
   "id": "8d52a6e5-6734-4d4e-83fa-aabb8eba4b44",
   "metadata": {},
   "outputs": [],
   "source": [
    "adata"
   ]
  },
  {
   "cell_type": "code",
   "execution_count": null,
   "id": "c323da25-f01f-46f7-8088-736990b54b07",
   "metadata": {},
   "outputs": [],
   "source": [
    "# Subset the data\n",
    "subset_mask = (adata.obs['replicate'] == '1') & (adata.obs['cell_type'] == 'hepatocyte')\n",
    "subset_adata = adata[subset_mask].copy()  \n",
    "train_adata = adata[~subset_mask].copy()  # Training data is everything except the subset"
   ]
  },
  {
   "cell_type": "code",
   "execution_count": null,
   "id": "e7a2fa72-5318-4e4f-83f3-d304be342a99",
   "metadata": {},
   "outputs": [],
   "source": [
    "early_stopping_kwargs = {\n",
    "    \"early_stopping_metric\": \"val_unweighted_loss\",\n",
    "    \"threshold\": 0.001,\n",
    "    \"patience\": 40,\n",
    "    \"reduce_lr\": True,\n",
    "    \"lr_patience\": 25,\n",
    "    \"lr_factor\": 0.1,\n",
    "}"
   ]
  },
  {
   "cell_type": "code",
   "execution_count": null,
   "id": "d17c0edf-756a-4919-89f7-5c8447ff339a",
   "metadata": {},
   "outputs": [],
   "source": [
    "# 2) Make sure 'sex' is categorical/string\n",
    "train_adata.obs['replicate'] = train_adata.obs['replicate'].astype(str)\n",
    "conditions = ['1', '2']                 # both levels appear in train_adata\n",
    "\n",
    "# 3) Initialize TRVAE conditioned on sex\n",
    "trvae = sca.models.TRVAE(\n",
    "    adata         = train_adata,\n",
    "    condition_key = 'replicate',\n",
    "    conditions    = conditions,\n",
    "    hidden_layer_sizes = [128, 128],\n",
    ")\n",
    "\n",
    "# 4) Train exactly as before\n",
    "trvae.train(n_epochs=200, alpha_epoch_anneal=200, early_stopping_kwargs=early_stopping_kwargs)"
   ]
  },
  {
   "cell_type": "code",
   "execution_count": null,
   "id": "62831d78-fe52-4c36-b4e8-626cc42b5032",
   "metadata": {},
   "outputs": [],
   "source": [
    "trvae"
   ]
  },
  {
   "cell_type": "code",
   "execution_count": null,
   "id": "76eef15d-a7aa-4ff5-89e7-375d10c93531",
   "metadata": {},
   "outputs": [],
   "source": [
    "trvae.save(\"/work/trvae_new/LOO_trVAE/LOO_HTAPP_trvae_Gpu_run.h5ad\")"
   ]
  },
  {
   "cell_type": "code",
   "execution_count": null,
   "id": "35849109-331d-4b94-ba12-7c857ef9b4a1",
   "metadata": {},
   "outputs": [],
   "source": [
    "from scarches.trainers.trvae._utils import make_dataset, custom_collate"
   ]
  },
  {
   "cell_type": "code",
   "execution_count": null,
   "id": "43858549-0e4e-4550-95a5-031e0955cafc",
   "metadata": {},
   "outputs": [],
   "source": [
    "# With Gpu run this instead: \n",
    "\n",
    "def predict_trvae(model, adata, condition_key, batch_size=128):\n",
    "    # evaluation mode\n",
    "    model.model.eval()\n",
    "\n",
    "    # Create a dataset and dataloader for prediction\n",
    "    predict_data, _ = make_dataset(\n",
    "        adata,\n",
    "        train_frac=1.0,\n",
    "        condition_key=condition_key,\n",
    "        cell_type_keys=None, \n",
    "        condition_encoder=model.model.condition_encoder,\n",
    "        cell_type_encoder=None, \n",
    "    )\n",
    "    # Create dataloader \n",
    "    dataloader = torch.utils.data.DataLoader(\n",
    "        dataset=predict_data,\n",
    "        batch_size=batch_size,\n",
    "        shuffle=False,\n",
    "        collate_fn=custom_collate,\n",
    "        num_workers=0,\n",
    "    )\n",
    "\n",
    "    # store results\n",
    "    latent_list = []\n",
    "    reconstructed_list = []\n",
    "\n",
    "\n",
    "    # Perform prediction, moves each part of the data that the device the model is trained on \n",
    "    with torch.no_grad():\n",
    "        for batch_data in dataloader:\n",
    "            for k,v in batch_data.items():\n",
    "                batch_data[k] = v.to(model.trainer.device)\n",
    "\n",
    "            # sum across features → shape [batch_size]\n",
    "            sf = batch_data[\"x\"].sum(dim=1)  \n",
    "            # expand into [batch_size, n_genes]\n",
    "            size_factor_view = sf.unsqueeze(1).expand(\n",
    "                batch_data[\"x\"].size(0),\n",
    "                batch_data[\"x\"].size(1)\n",
    "            )\n",
    "\n",
    "            # log‐transform\n",
    "            x_log = torch.log1p(batch_data[\"x\"])\n",
    "            z1_mean, z1_log_var = model.model.encoder(x_log, batch_data[\"batch\"])\n",
    "            latent = model.model.sampling(z1_mean, z1_log_var)\n",
    "            latent_list.append(latent.cpu().numpy())\n",
    "\n",
    "            outputs = model.model.decoder(latent, batch_data[\"batch\"])\n",
    "            recon_x, _ = outputs\n",
    "            sf_rate = size_factor_view * recon_x\n",
    "            reconstructed_list.append(sf_rate.cpu().numpy())\n",
    "\n",
    "\n",
    "            \n",
    "\n",
    "    latent = np.concatenate(latent_list, axis=0)\n",
    "    reconstructed = np.concatenate(reconstructed_list, axis=0)\n",
    "\n",
    "    return latent, reconstructed"
   ]
  },
  {
   "cell_type": "code",
   "execution_count": null,
   "id": "41f54a1d-9097-4bce-89cb-4e727fd76ecc",
   "metadata": {},
   "outputs": [],
   "source": [
    "# 1. Select your baseline (female slow‐muscle) cells from train_adata\n",
    "base_adata = train_adata[\n",
    "    (train_adata.obs['cell_type'] == 'hepatocyte') &\n",
    "    (train_adata.obs['replicate']       == '2')\n",
    "].copy()"
   ]
  },
  {
   "cell_type": "code",
   "execution_count": null,
   "id": "08dc6574-4bcf-4650-9c10-9cb5cf40bfca",
   "metadata": {},
   "outputs": [],
   "source": [
    "\n",
    "# 2. Make sure you’ve got predict_trvae in scope (run its cell!), then call:\n",
    "latent_base, rec_base = predict_trvae(\n",
    "    trvae,\n",
    "    base_adata,\n",
    "    condition_key='replicate',\n",
    "    batch_size=128\n",
    ")\n"
   ]
  },
  {
   "cell_type": "code",
   "execution_count": null,
   "id": "f4d084a3-0345-4cb5-ada4-53f746c0d2ac",
   "metadata": {},
   "outputs": [],
   "source": [
    "# 3. Flip the sex label on the exact same cells\n",
    "cf_adata = base_adata.copy()\n",
    "cf_adata.obs['replicate'] = '1'"
   ]
  },
  {
   "cell_type": "code",
   "execution_count": null,
   "id": "871470d4-2e3e-46f8-8281-5bc026927217",
   "metadata": {},
   "outputs": [],
   "source": [
    "\n",
    "\n",
    "latent_cf, rec_cf = predict_trvae(\n",
    "    trvae,\n",
    "    cf_adata,\n",
    "    condition_key='replicate',\n",
    "    batch_size=128\n",
    ")\n"
   ]
  },
  {
   "cell_type": "code",
   "execution_count": null,
   "id": "8b3ed02e-35e5-45f6-8fb1-5061b16e338b",
   "metadata": {},
   "outputs": [],
   "source": [
    "import numpy as np\n",
    "\n",
    "\n",
    "female_gt = (\n",
    "    base_adata.X.toarray().mean(axis=0)\n",
    "    if hasattr(base_adata.X, \"toarray\")\n",
    "    else base_adata.X.mean(axis=0)\n",
    ")\n",
    "\n",
    "\n",
    "#    Gt for the male is now the held out dataset\n",
    "male_gt = (\n",
    "    subset_adata.X.toarray().mean(axis=0)\n",
    "    if hasattr(subset_adata.X, \"toarray\")\n",
    "    else subset_adata.X.mean(axis=0)\n",
    ")"
   ]
  },
  {
   "cell_type": "code",
   "execution_count": null,
   "id": "e4f46267-d459-45af-b5a0-2c3dac0ed5c4",
   "metadata": {},
   "outputs": [],
   "source": [
    "# 2. Predicted means\n",
    "base_mean = rec_base.mean(axis=0).ravel()\n",
    "cf_mean   = rec_cf.mean(axis=0).ravel()"
   ]
  },
  {
   "cell_type": "code",
   "execution_count": null,
   "id": "5711998d-008e-46d1-822c-50ef40079d72",
   "metadata": {},
   "outputs": [],
   "source": [
    "f_m = np.sqrt(np.mean((base_mean - male_gt)**2)) #pred-F --- TM\n",
    "m_m = np.sqrt(np.mean((cf_mean - male_gt)**2)) # pred_M --- TM\n",
    "f_f  =np.sqrt(np.mean((base_mean - female_gt)**2)) # pref F ----- TF\n",
    "m_f = np.sqrt(np.mean((cf_mean - female_gt)**2)) # pref M ---- TF\n",
    "\n",
    "print(f\"RMSE pred F --- TM: {f_m:.4f}\")\n",
    "print(f\"RMSE pred M --- TM (counterfactual)  : {m_m:.4f}\")\n",
    "print(f\"RMSE pred F ----- TF : {f_f:.4f}\")\n",
    "print(f\"RMSE pred M ---- TF (counterfactual)  : {m_f:.4f}\")"
   ]
  },
  {
   "cell_type": "code",
   "execution_count": null,
   "id": "2a3a47db-712d-4890-a863-29581d781c6f",
   "metadata": {},
   "outputs": [],
   "source": [
    "import numpy as np\n",
    "import seaborn as sns\n",
    "import matplotlib.pyplot as plt\n",
    "\n",
    "# Log-transform the data\n",
    "log_male_gt = np.log1p(male_gt)\n",
    "log_cf_pred = np.log1p(cf_mean)\n",
    "log_baseline_pred = np.log1p(base_mean)\n",
    "\n",
    "# Scatter plot of log-transformed ground truth vs. predictions\n",
    "fig, ax = plt.subplots(figsize=(10, 6))\n",
    "\n",
    "sns.scatterplot(\n",
    "    x=log_male_gt, y=log_cf_pred,\n",
    "    alpha=0.7, ax=ax\n",
    ")\n",
    "\n",
    "sns.scatterplot(\n",
    "    x=log_male_gt, y=log_baseline_pred,\n",
    "    alpha=0.7, ax=ax\n",
    ")\n",
    "\n",
    "\n",
    "# Identity line (in log space)\n",
    "mn = min(log_male_gt.min(), log_male_gt.min())\n",
    "mx = max(log_male_gt.max(), log_male_gt.max())\n",
    "ax.plot([mn, mx], [mn, mx], ls=\"--\", color=\"red\")\n",
    "\n",
    "\n",
    "ax.set_xlabel(\"Log Ground Truth (Male)\")\n",
    "ax.set_ylabel(\"Log Predicted Mean Expression\")\n",
    "ax.set_title(\"Leave One Out analysis\" )\n",
    "ax.legend(loc=\"upper left\")\n",
    "ax.grid(False)\n",
    "plt.tight_layout()\n",
    "plt.show()\n"
   ]
  },
  {
   "cell_type": "code",
   "execution_count": null,
   "id": "a78ec189-c051-4a91-9491-4471d33cfc69",
   "metadata": {},
   "outputs": [],
   "source": [
    "import matplotlib.pyplot as plt\n",
    "\n",
    "# Define RMSE values\n",
    "rmse_data = [\n",
    "    [\"0.0266\", \"0.2154\"],  # True Female\n",
    "    [\"0.9370\", \"0.8817\"],  # True Male\n",
    "]\n",
    "\n",
    "# Define labels\n",
    "column_labels = [\"Pred Replicate 2\", \"Pred Replicate 1 (CF)\"]\n",
    "row_labels = [\"True Replicate 2\", \"True Replicate 1\"]\n",
    "\n",
    "# Create the figure and axis\n",
    "fig, ax = plt.subplots(figsize=(6, 2))\n",
    "ax.axis('tight')\n",
    "ax.axis('off')\n",
    "\n",
    "# Create the table\n",
    "table = ax.table(\n",
    "    cellText=rmse_data,\n",
    "    rowLabels=row_labels,\n",
    "    colLabels=column_labels,\n",
    "    cellLoc='center',\n",
    "    loc='center'\n",
    ")\n",
    "\n",
    "table.scale(1, 2)  # Increase row height\n",
    "table.auto_set_font_size(False)\n",
    "table.set_fontsize(12)\n",
    "\n",
    "# Color the lower row cells\n",
    "# Note: Rows and columns are 1-indexed in table.get_celld()\n",
    "table[(2, 0)].set_facecolor(\"orange\")  # True Male, Pred Female\n",
    "table[(2, 1)].set_facecolor(\"lightblue\")  # True Male, Pred Male\n",
    "\n",
    "plt.title(\"RMSE between Predictions and Ground truth\", pad=20)\n",
    "plt.tight_layout()\n",
    "plt.show()"
   ]
  }
 ],
 "metadata": {
  "kernelspec": {
   "display_name": "Python 3 ",
   "language": "python",
   "name": "python3"
  },
  "language_info": {
   "codemirror_mode": {
    "name": "ipython",
    "version": 3
   },
   "file_extension": ".py",
   "mimetype": "text/x-python",
   "name": "python",
   "nbconvert_exporter": "python",
   "pygments_lexer": "ipython3",
   "version": "3.12.10"
  }
 },
 "nbformat": 4,
 "nbformat_minor": 5
}

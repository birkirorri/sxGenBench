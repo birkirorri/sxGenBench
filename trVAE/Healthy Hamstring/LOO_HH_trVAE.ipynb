{
 "cells": [
  {
   "cell_type": "code",
   "execution_count": null,
   "id": "c446b746-dbb4-4299-8d79-cce30ee08036",
   "metadata": {},
   "outputs": [],
   "source": [
    "import os \n",
    "os.chdir(\"../\")\n",
    "import warnings"
   ]
  },
  {
   "cell_type": "code",
   "execution_count": null,
   "id": "9977d1b0-08e2-48ff-a8e8-93e5c675fcb2",
   "metadata": {
    "scrolled": true
   },
   "outputs": [],
   "source": [
    "pip install scarches numpy anndata scvi pandas==2.2.3"
   ]
  },
  {
   "cell_type": "code",
   "execution_count": null,
   "id": "0d896b4c-4e8c-42ca-b94c-86ca382ee888",
   "metadata": {},
   "outputs": [],
   "source": [
    "import scanpy as sc\n",
    "import torch\n",
    "import scarches as sca\n",
    "from scarches.dataset.trvae.data_handling import remove_sparsity\n",
    "import matplotlib.pyplot as plt\n",
    "import numpy as np\n",
    "import gdown"
   ]
  },
  {
   "cell_type": "code",
   "execution_count": null,
   "id": "092ff6c0-7616-405c-9c47-2c9bb95aca61",
   "metadata": {},
   "outputs": [],
   "source": [
    "sc.settings.set_figure_params(dpi=200, frameon=False)\n",
    "sc.set_figure_params(dpi=200)\n",
    "sc.set_figure_params(figsize=(4, 4))\n",
    "torch.set_printoptions(precision=3, sci_mode=False, edgeitems=7)"
   ]
  },
  {
   "cell_type": "code",
   "execution_count": null,
   "id": "d1f8ecf4-dcc0-409a-aa6d-ddaef9c99743",
   "metadata": {},
   "outputs": [],
   "source": [
    "adata= sc.read('/work/trvae_new/New_fixed_data/healthy_hamstring_processed_adata_raw.h5ad')"
   ]
  },
  {
   "cell_type": "code",
   "execution_count": null,
   "id": "9d20ddc7-e40c-4375-b416-4a50908636b6",
   "metadata": {},
   "outputs": [],
   "source": [
    "adata"
   ]
  },
  {
   "cell_type": "code",
   "execution_count": null,
   "id": "6ddd680d-f110-4b71-9f4a-2333a8f8f8be",
   "metadata": {},
   "outputs": [],
   "source": [
    "# Subset the data\n",
    "subset_mask = (adata.obs['sex'] == 'male') & (adata.obs['cell_type'] == 'slow muscle cell')\n",
    "subset_adata = adata[subset_mask].copy()  \n",
    "train_adata = adata[~subset_mask].copy()  # Training data is everything except the subset"
   ]
  },
  {
   "cell_type": "code",
   "execution_count": null,
   "id": "63c27129-4686-4600-85d9-5babdd4f60b0",
   "metadata": {},
   "outputs": [],
   "source": [
    "check_mask = (train_adata.obs[\"sex\"] == \"male\") & (train_adata.obs[\"cell_type\"] == \"slow muscle cell\")\n",
    "\n",
    "\n",
    "num_bad_cells = check_mask.sum()\n",
    "\n",
    "print(f\"Number of male slow muscle cells in train_adata: {num_bad_cells}\")\n"
   ]
  },
  {
   "cell_type": "code",
   "execution_count": null,
   "id": "9f1f9c26-9d15-496e-8963-9665814a620c",
   "metadata": {},
   "outputs": [],
   "source": [
    "early_stopping_kwargs = {\n",
    "    \"early_stopping_metric\": \"val_unweighted_loss\",\n",
    "    \"threshold\": 0.001,\n",
    "    \"patience\": 40,\n",
    "    \"reduce_lr\": True,\n",
    "    \"lr_patience\": 25,\n",
    "    \"lr_factor\": 0.1,\n",
    "}"
   ]
  },
  {
   "cell_type": "code",
   "execution_count": null,
   "id": "668385a2-643e-405a-b83b-d066d0d9efd9",
   "metadata": {},
   "outputs": [],
   "source": [
    "train_adata"
   ]
  },
  {
   "cell_type": "code",
   "execution_count": null,
   "id": "8d1963b5-62b8-490d-b671-6ef9fa783c3f",
   "metadata": {},
   "outputs": [],
   "source": [
    "# 2) Make sure 'sex' is categorical/string\n",
    "train_adata.obs['sex'] = train_adata.obs['sex'].astype(str)\n",
    "conditions = ['female', 'male']                 # both levels appear in train_adata\n",
    "\n",
    "# 3) Initialize TRVAE conditioned on sex\n",
    "trvae = sca.models.TRVAE(\n",
    "    adata         = train_adata,\n",
    "    condition_key = 'sex',\n",
    "    conditions    = conditions,\n",
    "    hidden_layer_sizes = [128, 128],\n",
    ")\n",
    "\n",
    "# 4) Train exactly as before\n",
    "trvae.train(n_epochs=200, alpha_epoch_anneal=200, early_stopping_kwargs=early_stopping_kwargs)"
   ]
  },
  {
   "cell_type": "code",
   "execution_count": null,
   "id": "c8ee034e-8800-4f4e-aefc-9906f2a0217b",
   "metadata": {},
   "outputs": [],
   "source": [
    "adata"
   ]
  },
  {
   "cell_type": "code",
   "execution_count": null,
   "id": "d61ff4b9-eb67-45e9-b31f-921b350a4b5c",
   "metadata": {},
   "outputs": [],
   "source": [
    "trvae"
   ]
  },
  {
   "cell_type": "code",
   "execution_count": null,
   "id": "8d183be2-e821-4e57-8ed9-223900fb2d32",
   "metadata": {},
   "outputs": [],
   "source": [
    "trvae.save(\"/work/trvae_new/LOO_trVAE/LOO_HH_trvae_Gpu_run.h5ad\")"
   ]
  },
  {
   "cell_type": "code",
   "execution_count": null,
   "id": "1e2c267d-fa5d-45ec-9c0b-fd4a5123a9ee",
   "metadata": {},
   "outputs": [],
   "source": [
    "from scarches.trainers.trvae._utils import make_dataset, custom_collate"
   ]
  },
  {
   "cell_type": "code",
   "execution_count": null,
   "id": "9846e620-112f-4b7e-9c3f-5d714e2ad2b8",
   "metadata": {},
   "outputs": [],
   "source": [
    "# With Gpu run this instead: \n",
    "\n",
    "def predict_trvae(model, adata, condition_key, batch_size=128):\n",
    "    # evaluation mode\n",
    "    model.model.eval()\n",
    "\n",
    "    # Create a dataset and dataloader for prediction\n",
    "    predict_data, _ = make_dataset(\n",
    "        adata,\n",
    "        train_frac=1.0,\n",
    "        condition_key=condition_key,\n",
    "        cell_type_keys=None, \n",
    "        condition_encoder=model.model.condition_encoder,\n",
    "        cell_type_encoder=None, \n",
    "    )\n",
    "    # Create dataloader \n",
    "    dataloader = torch.utils.data.DataLoader(\n",
    "        dataset=predict_data,\n",
    "        batch_size=batch_size,\n",
    "        shuffle=False,\n",
    "        collate_fn=custom_collate,\n",
    "        num_workers=0,\n",
    "    )\n",
    "\n",
    "    # store results\n",
    "    latent_list = []\n",
    "    reconstructed_list = []\n",
    "\n",
    "\n",
    "    # Perform prediction, moves each part of the data that the device the model is trained on \n",
    "    with torch.no_grad():\n",
    "        for batch_data in dataloader:\n",
    "            for k,v in batch_data.items():\n",
    "                batch_data[k] = v.to(model.trainer.device)\n",
    "\n",
    "            # sum across features → shape [batch_size]\n",
    "            sf = batch_data[\"x\"].sum(dim=1)  \n",
    "            # expand into [batch_size, n_genes]\n",
    "            size_factor_view = sf.unsqueeze(1).expand(\n",
    "                batch_data[\"x\"].size(0),\n",
    "                batch_data[\"x\"].size(1)\n",
    "            )\n",
    "\n",
    "            # log‐transform\n",
    "            x_log = torch.log1p(batch_data[\"x\"])\n",
    "            z1_mean, z1_log_var = model.model.encoder(x_log, batch_data[\"batch\"])\n",
    "            latent = model.model.sampling(z1_mean, z1_log_var)\n",
    "            latent_list.append(latent.cpu().numpy())\n",
    "\n",
    "            outputs = model.model.decoder(latent, batch_data[\"batch\"])\n",
    "            recon_x, _ = outputs\n",
    "            sf_rate = size_factor_view * recon_x\n",
    "            reconstructed_list.append(sf_rate.cpu().numpy())\n",
    "\n",
    "\n",
    "            \n",
    "\n",
    "    latent = np.concatenate(latent_list, axis=0)\n",
    "    reconstructed = np.concatenate(reconstructed_list, axis=0)\n",
    "\n",
    "    return latent, reconstructed"
   ]
  },
  {
   "cell_type": "code",
   "execution_count": null,
   "id": "f9792b9b-8cdd-456c-8340-2143ddb80636",
   "metadata": {},
   "outputs": [],
   "source": [
    "# 1. Select your baseline (female slow‐muscle) cells from train_adata\n",
    "base_adata = train_adata[\n",
    "    (train_adata.obs['cell_type'] == 'slow muscle cell') &\n",
    "    (train_adata.obs['sex']       == 'female')\n",
    "].copy()"
   ]
  },
  {
   "cell_type": "code",
   "execution_count": null,
   "id": "39a5e67b-f8b6-4d85-8566-616b3c05356f",
   "metadata": {},
   "outputs": [],
   "source": [
    "\n",
    "# 2. Make sure you’ve got predict_trvae in scope (run its cell!), then call:\n",
    "latent_base, rec_base = predict_trvae(\n",
    "    trvae,\n",
    "    base_adata,\n",
    "    condition_key=\"sex\",\n",
    "    batch_size=128\n",
    ")\n"
   ]
  },
  {
   "cell_type": "code",
   "execution_count": null,
   "id": "a47e67d1-1c54-4d34-b9be-7922306919c0",
   "metadata": {},
   "outputs": [],
   "source": [
    "# 3. Flip the sex label on the exact same cells\n",
    "cf_adata = base_adata.copy()\n",
    "cf_adata.obs['sex'] = 'male'\n"
   ]
  },
  {
   "cell_type": "code",
   "execution_count": null,
   "id": "99a7e668-cd2c-49cf-971e-d3d068064372",
   "metadata": {},
   "outputs": [],
   "source": [
    "\n",
    "latent_cf, rec_cf = predict_trvae(\n",
    "    trvae,\n",
    "    cf_adata,\n",
    "    condition_key='sex',\n",
    "    batch_size=128\n",
    ")\n"
   ]
  },
  {
   "cell_type": "code",
   "execution_count": null,
   "id": "34a8188b-821e-42cc-bfbc-01543009d8cc",
   "metadata": {},
   "outputs": [],
   "source": [
    "import numpy as np\n",
    "\n",
    "\n",
    "female_gt = (\n",
    "    base_adata.X.toarray().mean(axis=0)\n",
    "    if hasattr(base_adata.X, \"toarray\")\n",
    "    else base_adata.X.mean(axis=0)\n",
    ")\n",
    "\n",
    "\n",
    "#    Gt for the male is now the held out dataset\n",
    "male_gt = (\n",
    "    subset_adata.X.toarray().mean(axis=0)\n",
    "    if hasattr(subset_adata.X, \"toarray\")\n",
    "    else subset_adata.X.mean(axis=0)\n",
    ")"
   ]
  },
  {
   "cell_type": "code",
   "execution_count": null,
   "id": "0c8b542d-d04d-4919-b4b6-16d6b1f73ca8",
   "metadata": {},
   "outputs": [],
   "source": [
    "# 2. Predicted means\n",
    "base_mean = rec_base.mean(axis=0).ravel()\n",
    "cf_mean   = rec_cf.mean(axis=0).ravel()"
   ]
  },
  {
   "cell_type": "code",
   "execution_count": null,
   "id": "0881e230-533d-4b1a-8a26-a865928a34d5",
   "metadata": {},
   "outputs": [],
   "source": [
    "f_m = np.sqrt(np.mean((base_mean - male_gt)**2)) #pred-F --- TM\n",
    "m_m = np.sqrt(np.mean((cf_mean - male_gt)**2)) # pred_M --- TM\n",
    "f_f  =np.sqrt(np.mean((base_mean - female_gt)**2)) # pref F ----- TF\n",
    "m_f = np.sqrt(np.mean((cf_mean - female_gt)**2)) # pref M ---- TF\n",
    "\n",
    "print(f\"RMSE pred F --- TM: {f_m:.4f}\")\n",
    "print(f\"RMSE pred M --- TM (counterfactual)  : {m_m:.4f}\")\n",
    "print(f\"RMSE pred F ----- TF : {f_f:.4f}\")\n",
    "print(f\"RMSE pred M ---- TF (counterfactual)  : {m_f:.4f}\")"
   ]
  },
  {
   "cell_type": "code",
   "execution_count": null,
   "id": "d8cbdd06-0e98-4f5e-9413-81b6cd966085",
   "metadata": {},
   "outputs": [],
   "source": [
    "import numpy as np\n",
    "import seaborn as sns\n",
    "import matplotlib.pyplot as plt\n",
    "\n",
    "# Log-transform the data\n",
    "log_male_gt = np.log1p(male_gt)\n",
    "log_cf_pred = np.log1p(cf_mean)\n",
    "log_baseline_pred = np.log1p(base_mean)\n",
    "\n",
    "# Scatter plot of log-transformed ground truth vs. predictions\n",
    "fig, ax = plt.subplots(figsize=(10, 6))\n",
    "\n",
    "sns.scatterplot(\n",
    "    x=log_male_gt, y=log_cf_pred,\n",
    "    alpha=0.7, ax=ax\n",
    ")\n",
    "\n",
    "sns.scatterplot(\n",
    "    x=log_male_gt, y=log_baseline_pred,\n",
    "    alpha=0.7, ax=ax\n",
    ")\n",
    "\n",
    "# Identity line (in log space)\n",
    "mn = min(log_male_gt.min(), log_male_gt.min())\n",
    "mx = max(log_male_gt.max(), log_male_gt.max())\n",
    "ax.plot([mn, mx], [mn, mx], ls=\"--\", color=\"red\")\n",
    "\n",
    "\n",
    "ax.set_xlabel(\"Log Ground Truth (Male)\")\n",
    "ax.set_ylabel(\"Log Predicted Mean Expression\")\n",
    "ax.set_title(\"Leave One Out analysis\" )\n",
    "ax.legend(loc=\"upper left\")\n",
    "ax.grid(False)\n",
    "plt.tight_layout()\n",
    "plt.show()\n"
   ]
  },
  {
   "cell_type": "code",
   "execution_count": null,
   "id": "01307149-47d8-48b1-89f0-943f0961ef8b",
   "metadata": {},
   "outputs": [],
   "source": [
    "import matplotlib.pyplot as plt\n",
    "\n",
    "# Define RMSE values\n",
    "rmse_data = [\n",
    "    [\"0.0295\", \"0.2754\"],  # True Female\n",
    "    [\"0.3912\", \"0.3333\"],  # True Male\n",
    "]\n",
    "\n",
    "# Define labels\n",
    "column_labels = [\"Pred Female\", \"Pred Male (CF)\"]\n",
    "row_labels = [\"True Female\", \"True Male\"]\n",
    "\n",
    "# Create the figure and axis\n",
    "fig, ax = plt.subplots(figsize=(6, 2))\n",
    "ax.axis('tight')\n",
    "ax.axis('off')\n",
    "\n",
    "# Create the table\n",
    "table = ax.table(\n",
    "    cellText=rmse_data,\n",
    "    rowLabels=row_labels,\n",
    "    colLabels=column_labels,\n",
    "    cellLoc='center',\n",
    "    loc='center'\n",
    ")\n",
    "\n",
    "table.scale(1, 2)  # Increase row height\n",
    "table.auto_set_font_size(False)\n",
    "table.set_fontsize(12)\n",
    "\n",
    "# Color the lower row cells\n",
    "# Note: Rows and columns are 1-indexed in table.get_celld()\n",
    "table[(2, 0)].set_facecolor(\"orange\")  # True Male, Pred Female\n",
    "table[(2, 1)].set_facecolor(\"lightblue\")  # True Male, Pred Male\n",
    "\n",
    "plt.title(\"RMSE between Predictions and Ground truth\", pad=20)\n",
    "plt.tight_layout()\n",
    "plt.show()\n"
   ]
  },
  {
   "cell_type": "code",
   "execution_count": null,
   "id": "8ebb37a8-86aa-4ea5-ba77-c11c7074b4e2",
   "metadata": {},
   "outputs": [],
   "source": []
  }
 ],
 "metadata": {
  "kernelspec": {
   "display_name": "Python 3 ",
   "language": "python",
   "name": "python3"
  },
  "language_info": {
   "codemirror_mode": {
    "name": "ipython",
    "version": 3
   },
   "file_extension": ".py",
   "mimetype": "text/x-python",
   "name": "python",
   "nbconvert_exporter": "python",
   "pygments_lexer": "ipython3",
   "version": "3.12.10"
  }
 },
 "nbformat": 4,
 "nbformat_minor": 5
}

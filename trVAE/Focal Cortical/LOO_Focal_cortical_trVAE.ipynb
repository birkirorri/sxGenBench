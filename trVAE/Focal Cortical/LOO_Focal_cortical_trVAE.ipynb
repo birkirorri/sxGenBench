{
 "cells": [
  {
   "cell_type": "code",
   "execution_count": null,
   "id": "54293e34-331b-4fa7-9de0-2842cb27d5f4",
   "metadata": {},
   "outputs": [],
   "source": [
    "import os \n",
    "os.chdir(\"../\")\n",
    "import warnings"
   ]
  },
  {
   "cell_type": "code",
   "execution_count": null,
   "id": "287c843c-1c33-4693-b06a-e5543f73ecba",
   "metadata": {
    "scrolled": true
   },
   "outputs": [],
   "source": [
    "pip install scarches numpy anndata scvi pandas==2.2.3"
   ]
  },
  {
   "cell_type": "code",
   "execution_count": null,
   "id": "92bdad56-9a8a-4a6d-8301-3b1e0bd96e01",
   "metadata": {},
   "outputs": [],
   "source": [
    "import scanpy as sc\n",
    "import torch\n",
    "import scarches as sca\n",
    "from scarches.dataset.trvae.data_handling import remove_sparsity\n",
    "import matplotlib.pyplot as plt\n",
    "import numpy as np\n",
    "import gdown"
   ]
  },
  {
   "cell_type": "code",
   "execution_count": null,
   "id": "67bdc947-ee98-4e69-9ba1-fc911b0c1a0c",
   "metadata": {},
   "outputs": [],
   "source": [
    "sc.settings.set_figure_params(dpi=200, frameon=False)\n",
    "sc.set_figure_params(dpi=200)\n",
    "sc.set_figure_params(figsize=(4, 4))\n",
    "torch.set_printoptions(precision=3, sci_mode=False, edgeitems=7)"
   ]
  },
  {
   "cell_type": "code",
   "execution_count": null,
   "id": "0bf95390-af84-4d3a-82ec-7fc7206ee7c2",
   "metadata": {},
   "outputs": [],
   "source": [
    "adata= sc.read('/work/trvae_new/New_fixed_data/focal_cortical_processed_RAW.h5ad')"
   ]
  },
  {
   "cell_type": "code",
   "execution_count": null,
   "id": "65f13b27-ac91-4718-9053-f84759177d9b",
   "metadata": {},
   "outputs": [],
   "source": [
    "adata"
   ]
  },
  {
   "cell_type": "code",
   "execution_count": null,
   "id": "3a1d80f0-b1d3-4239-96b4-01806b324307",
   "metadata": {},
   "outputs": [],
   "source": [
    "# Subset the data\n",
    "subset_mask = (adata.obs['sex'] == 'male') & (adata.obs['cell_type'] == 'microglial cell')\n",
    "subset_adata = adata[subset_mask].copy()  \n",
    "train_adata = adata[~subset_mask].copy()  # Training data is everything except the subset"
   ]
  },
  {
   "cell_type": "code",
   "execution_count": null,
   "id": "4d21ea98-c9ee-4888-82ba-a2d3a6609201",
   "metadata": {},
   "outputs": [],
   "source": [
    "early_stopping_kwargs = {\n",
    "    \"early_stopping_metric\": \"val_unweighted_loss\",\n",
    "    \"threshold\": 0.001,\n",
    "    \"patience\": 40,\n",
    "    \"reduce_lr\": True,\n",
    "    \"lr_patience\": 25,\n",
    "    \"lr_factor\": 0.1,\n",
    "}"
   ]
  },
  {
   "cell_type": "code",
   "execution_count": null,
   "id": "3b274581-2c2b-4a68-95f0-b8e0685d2241",
   "metadata": {},
   "outputs": [],
   "source": [
    "# 2) Make sure 'sex' is categorical/string\n",
    "train_adata.obs['sex'] = train_adata.obs['sex'].astype(str)\n",
    "conditions = ['female', 'male']                 # both levels appear in train_adata\n",
    "\n",
    "# 3) Initialize TRVAE conditioned on sex\n",
    "trvae = sca.models.TRVAE(\n",
    "    adata         = train_adata,\n",
    "    condition_key = 'sex',\n",
    "    conditions    = conditions,\n",
    "    hidden_layer_sizes = [128, 128],\n",
    ")\n",
    "\n",
    "# 4) Train exactly as before\n",
    "trvae.train(n_epochs=200, alpha_epoch_anneal=200, early_stopping_kwargs=early_stopping_kwargs)"
   ]
  },
  {
   "cell_type": "code",
   "execution_count": null,
   "id": "71ba7f96-cb07-4371-864b-ba92ddbf8597",
   "metadata": {},
   "outputs": [],
   "source": [
    "trvae"
   ]
  },
  {
   "cell_type": "code",
   "execution_count": null,
   "id": "dc3631e0-6078-4515-ba3e-1abd40f2e42b",
   "metadata": {},
   "outputs": [],
   "source": [
    "trvae.save(\"/work/trvae_new/LOO_trVAE/LOO_Focal_cortical_trvae_Gpu_run.h5ad\")"
   ]
  },
  {
   "cell_type": "code",
   "execution_count": null,
   "id": "bfb202b1-f12f-4e0f-b688-b6d0563e1414",
   "metadata": {},
   "outputs": [],
   "source": [
    "from scarches.trainers.trvae._utils import make_dataset, custom_collate"
   ]
  },
  {
   "cell_type": "code",
   "execution_count": null,
   "id": "1a9bd5b3-84c9-47a7-9432-5702e6e04024",
   "metadata": {},
   "outputs": [],
   "source": [
    "# With Gpu run this instead: \n",
    "\n",
    "def predict_trvae(model, adata, condition_key, batch_size=128):\n",
    "    # evaluation mode\n",
    "    model.model.eval()\n",
    "\n",
    "    # Create a dataset and dataloader for prediction\n",
    "    predict_data, _ = make_dataset(\n",
    "        adata,\n",
    "        train_frac=1.0,\n",
    "        condition_key=condition_key,\n",
    "        cell_type_keys=None, \n",
    "        condition_encoder=model.model.condition_encoder,\n",
    "        cell_type_encoder=None, \n",
    "    )\n",
    "    # Create dataloader \n",
    "    dataloader = torch.utils.data.DataLoader(\n",
    "        dataset=predict_data,\n",
    "        batch_size=batch_size,\n",
    "        shuffle=False,\n",
    "        collate_fn=custom_collate,\n",
    "        num_workers=0,\n",
    "    )\n",
    "\n",
    "    # store results\n",
    "    latent_list = []\n",
    "    reconstructed_list = []\n",
    "\n",
    "\n",
    "    # Perform prediction, moves each part of the data that the device the model is trained on \n",
    "    with torch.no_grad():\n",
    "        for batch_data in dataloader:\n",
    "            for k,v in batch_data.items():\n",
    "                batch_data[k] = v.to(model.trainer.device)\n",
    "\n",
    "            # sum across features → shape [batch_size]\n",
    "            sf = batch_data[\"x\"].sum(dim=1)  \n",
    "            # expand into [batch_size, n_genes]\n",
    "            size_factor_view = sf.unsqueeze(1).expand(\n",
    "                batch_data[\"x\"].size(0),\n",
    "                batch_data[\"x\"].size(1)\n",
    "            )\n",
    "\n",
    "            # log‐transform\n",
    "            x_log = torch.log1p(batch_data[\"x\"])\n",
    "            z1_mean, z1_log_var = model.model.encoder(x_log, batch_data[\"batch\"])\n",
    "            latent = model.model.sampling(z1_mean, z1_log_var)\n",
    "            latent_list.append(latent.cpu().numpy())\n",
    "\n",
    "            outputs = model.model.decoder(latent, batch_data[\"batch\"])\n",
    "            recon_x, _ = outputs\n",
    "            sf_rate = size_factor_view * recon_x\n",
    "            reconstructed_list.append(sf_rate.cpu().numpy())\n",
    "\n",
    "\n",
    "            \n",
    "\n",
    "    latent = np.concatenate(latent_list, axis=0)\n",
    "    reconstructed = np.concatenate(reconstructed_list, axis=0)\n",
    "\n",
    "    return latent, reconstructed"
   ]
  },
  {
   "cell_type": "code",
   "execution_count": null,
   "id": "d4601d96-165b-424c-9f13-7e5258b3ac8d",
   "metadata": {},
   "outputs": [],
   "source": [
    "# 1. Select your baseline (female slow‐muscle) cells from train_adata\n",
    "base_adata = train_adata[\n",
    "    (train_adata.obs['cell_type'] == 'microglial cell') &\n",
    "    (train_adata.obs['sex']       == 'female')\n",
    "].copy()\n"
   ]
  },
  {
   "cell_type": "code",
   "execution_count": null,
   "id": "1510c43e-7965-464d-bbb0-5bbe5dc58475",
   "metadata": {},
   "outputs": [],
   "source": [
    "\n",
    "# 2. Make sure you’ve got predict_trvae in scope (run its cell!), then call:\n",
    "latent_base, rec_base = predict_trvae(\n",
    "    trvae,\n",
    "    base_adata,\n",
    "    condition_key='sex',\n",
    "    batch_size=128\n",
    ")\n"
   ]
  },
  {
   "cell_type": "code",
   "execution_count": null,
   "id": "e4d5ebe8-1026-4938-a92a-568d19193ea2",
   "metadata": {},
   "outputs": [],
   "source": [
    "# 3. Flip the sex label on the exact same cells\n",
    "cf_adata = base_adata.copy()\n",
    "cf_adata.obs['sex'] = 'male'"
   ]
  },
  {
   "cell_type": "code",
   "execution_count": null,
   "id": "a1549acb-1809-4f83-ac55-2741f724f956",
   "metadata": {},
   "outputs": [],
   "source": [
    "\n",
    "\n",
    "latent_cf, rec_cf = predict_trvae(\n",
    "    trvae,\n",
    "    cf_adata,\n",
    "    condition_key='sex',\n",
    "    batch_size=128\n",
    ")"
   ]
  },
  {
   "cell_type": "code",
   "execution_count": null,
   "id": "7bb28df7-34aa-41af-b6f2-636a0c7186bb",
   "metadata": {},
   "outputs": [],
   "source": [
    "import numpy as np\n",
    "\n",
    "\n",
    "female_gt = (\n",
    "    base_adata.X.toarray().mean(axis=0)\n",
    "    if hasattr(base_adata.X, \"toarray\")\n",
    "    else base_adata.X.mean(axis=0)\n",
    ")\n",
    "\n",
    "\n",
    "#    Gt for the male is now the held out dataset\n",
    "male_gt = (\n",
    "    subset_adata.X.toarray().mean(axis=0)\n",
    "    if hasattr(subset_adata.X, \"toarray\")\n",
    "    else subset_adata.X.mean(axis=0)\n",
    ")"
   ]
  },
  {
   "cell_type": "code",
   "execution_count": null,
   "id": "37ac3639-293e-4443-bac7-820a443d00af",
   "metadata": {},
   "outputs": [],
   "source": [
    "# 2. Predicted means\n",
    "base_mean = rec_base.mean(axis=0).ravel()\n",
    "cf_mean   = rec_cf.mean(axis=0).ravel()"
   ]
  },
  {
   "cell_type": "code",
   "execution_count": null,
   "id": "687bc080-6ecf-4cf2-98fa-6a492cc11e78",
   "metadata": {},
   "outputs": [],
   "source": [
    "f_m = np.sqrt(np.mean((base_mean - male_gt)**2)) #pred-F --- TM\n",
    "m_m = np.sqrt(np.mean((cf_mean - male_gt)**2)) # pred_M --- TM\n",
    "f_f  =np.sqrt(np.mean((base_mean - female_gt)**2)) # pref F ----- TF\n",
    "m_f = np.sqrt(np.mean((cf_mean - female_gt)**2)) # pref M ---- TF\n",
    "\n",
    "print(f\"RMSE pred F --- TM: {f_m:.4f}\")\n",
    "print(f\"RMSE pred M --- TM (counterfactual)  : {m_m:.4f}\")\n",
    "print(f\"RMSE pred F ----- TF : {f_f:.4f}\")\n",
    "print(f\"RMSE pred M ---- TF (counterfactual)  : {m_f:.4f}\")"
   ]
  },
  {
   "cell_type": "code",
   "execution_count": null,
   "id": "7c7ba4ca-aaa0-4237-bc73-0f12d04d81f2",
   "metadata": {},
   "outputs": [],
   "source": [
    "import numpy as np\n",
    "import seaborn as sns\n",
    "import matplotlib.pyplot as plt\n",
    "\n",
    "# Log-transform the data\n",
    "log_male_gt = np.log1p(male_gt)\n",
    "log_cf_pred = np.log1p(cf_mean)\n",
    "log_baseline_pred = np.log1p(base_mean)\n",
    "\n",
    "# Scatter plot of log-transformed ground truth vs. predictions\n",
    "fig, ax = plt.subplots(figsize=(10, 6))\n",
    "\n",
    "sns.scatterplot(\n",
    "    x=log_male_gt, y=log_cf_pred,\n",
    "    alpha=0.7, ax=ax\n",
    ")\n",
    "\n",
    "sns.scatterplot(\n",
    "    x=log_male_gt, y=log_baseline_pred,\n",
    "    alpha=0.7, ax=ax\n",
    ")\n",
    "\n",
    "# Identity line (in log space)\n",
    "mn = min(log_male_gt.min(), log_male_gt.min())\n",
    "mx = max(log_male_gt.max(), log_male_gt.max())\n",
    "ax.plot([mn, mx], [mn, mx], ls=\"--\", color=\"red\")\n",
    "\n",
    "\n",
    "ax.set_xlabel(\"Log Ground Truth (Male)\")\n",
    "ax.set_ylabel(\"Log Predicted Mean Expression\")\n",
    "ax.set_title(\"Leave One Out analysis\" )\n",
    "ax.legend(loc=\"upper left\")\n",
    "ax.grid(False)\n",
    "plt.tight_layout()\n",
    "plt.show()\n"
   ]
  },
  {
   "cell_type": "code",
   "execution_count": null,
   "id": "9b7c9432-674f-47b4-8e81-207342430940",
   "metadata": {},
   "outputs": [],
   "source": [
    "import matplotlib.pyplot as plt\n",
    "\n",
    "# Define RMSE values\n",
    "rmse_data = [\n",
    "    [\"0.0804\", \"0.2103\"],  # True Female\n",
    "    [\"0.2438\", \"0.2858\"],  # True Male\n",
    "]\n",
    "\n",
    "# Define labels\n",
    "column_labels = [\"Pred Female\", \"Pred Male (CF)\"]\n",
    "row_labels = [\"True Female\", \"True Male\"]\n",
    "\n",
    "# Create the figure and axis\n",
    "fig, ax = plt.subplots(figsize=(6, 2))\n",
    "ax.axis('tight')\n",
    "ax.axis('off')\n",
    "\n",
    "# Create the table\n",
    "table = ax.table(\n",
    "    cellText=rmse_data,\n",
    "    rowLabels=row_labels,\n",
    "    colLabels=column_labels,\n",
    "    cellLoc='center',\n",
    "    loc='center'\n",
    ")\n",
    "\n",
    "table.scale(1, 2)  # Increase row height\n",
    "table.auto_set_font_size(False)\n",
    "table.set_fontsize(12)\n",
    "\n",
    "# Color the lower row cells\n",
    "# Note: Rows and columns are 1-indexed in table.get_celld()\n",
    "table[(2, 0)].set_facecolor(\"orange\")  # True Male, Pred Female\n",
    "table[(2, 1)].set_facecolor(\"lightblue\")  # True Male, Pred Male\n",
    "\n",
    "plt.title(\"RMSE between Predictions and Ground truth\", pad=20)\n",
    "plt.tight_layout()\n",
    "plt.show()\n"
   ]
  }
 ],
 "metadata": {
  "kernelspec": {
   "display_name": "Python 3 ",
   "language": "python",
   "name": "python3"
  },
  "language_info": {
   "codemirror_mode": {
    "name": "ipython",
    "version": 3
   },
   "file_extension": ".py",
   "mimetype": "text/x-python",
   "name": "python",
   "nbconvert_exporter": "python",
   "pygments_lexer": "ipython3",
   "version": "3.12.10"
  }
 },
 "nbformat": 4,
 "nbformat_minor": 5
}

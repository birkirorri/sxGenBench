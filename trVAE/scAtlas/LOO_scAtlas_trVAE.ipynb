{
 "cells": [
  {
   "cell_type": "code",
   "execution_count": null,
   "id": "4df39f69-a934-4609-abe0-32892eae7bfe",
   "metadata": {},
   "outputs": [],
   "source": []
  },
  {
   "cell_type": "code",
   "execution_count": null,
   "id": "b9226d01-ae92-4f19-8eee-dbcacef4c955",
   "metadata": {},
   "outputs": [],
   "source": [
    "import os \n",
    "os.chdir(\"../\")\n",
    "import warnings"
   ]
  },
  {
   "cell_type": "code",
   "execution_count": null,
   "id": "43510cb9-45b8-4af0-8690-a874d05fbc61",
   "metadata": {
    "scrolled": true
   },
   "outputs": [],
   "source": [
    "pip install scarches numpy anndata scvi pandas==2.2.3"
   ]
  },
  {
   "cell_type": "code",
   "execution_count": null,
   "id": "b2c99f75-81bf-4c1e-9de7-94bf4cbe71b3",
   "metadata": {},
   "outputs": [],
   "source": [
    "import scanpy as sc\n",
    "import torch\n",
    "import scarches as sca\n",
    "from scarches.dataset.trvae.data_handling import remove_sparsity\n",
    "import matplotlib.pyplot as plt\n",
    "import numpy as np\n",
    "import gdown"
   ]
  },
  {
   "cell_type": "code",
   "execution_count": null,
   "id": "e16de90b-e1f7-4f6f-86fa-521d8d98b39b",
   "metadata": {},
   "outputs": [],
   "source": [
    "sc.settings.set_figure_params(dpi=200, frameon=False)\n",
    "sc.set_figure_params(dpi=200)\n",
    "sc.set_figure_params(figsize=(4, 4))\n",
    "torch.set_printoptions(precision=3, sci_mode=False, edgeitems=7)"
   ]
  },
  {
   "cell_type": "code",
   "execution_count": null,
   "id": "fd70869d-5ede-4220-be3e-e694d74c188a",
   "metadata": {},
   "outputs": [],
   "source": [
    "adata= sc.read('/work/trvae_new/New_fixed_data/scAtlas_Human_vascular_cells_processed_RAW_1.h5ad')"
   ]
  },
  {
   "cell_type": "code",
   "execution_count": null,
   "id": "e9319cd9-1e67-4e08-9cbe-3059b41c7672",
   "metadata": {},
   "outputs": [],
   "source": []
  },
  {
   "cell_type": "code",
   "execution_count": null,
   "id": "0e7f0548-a092-40de-a219-fcd6505ef5d0",
   "metadata": {},
   "outputs": [],
   "source": [
    "adata"
   ]
  },
  {
   "cell_type": "code",
   "execution_count": null,
   "id": "68f34789-fc87-455a-9b48-d37677dccf28",
   "metadata": {},
   "outputs": [],
   "source": [
    "# Subset the data\n",
    "subset_mask = (adata.obs['sex'] == 'male') & (adata.obs['cell_type'] == 'endothelial cell')\n",
    "subset_adata = adata[subset_mask].copy()  \n",
    "train_adata = adata[~subset_mask].copy()  # Training data is everything except the subset"
   ]
  },
  {
   "cell_type": "code",
   "execution_count": null,
   "id": "2fe14171-4d5b-4261-b7ba-c5064f4d3aa2",
   "metadata": {},
   "outputs": [],
   "source": [
    "check_mask = (train_adata.obs[\"sex\"] == \"male\") & (train_adata.obs[\"cell_type\"] == \"endothelial cell\")\n",
    "\n",
    "\n",
    "num_bad_cells = check_mask.sum()\n",
    "\n",
    "print(f\"Number of male slow muscle cells in train_adata: {num_bad_cells}\")\n"
   ]
  },
  {
   "cell_type": "code",
   "execution_count": null,
   "id": "38687b40-d57c-4927-bde0-9dd61972df56",
   "metadata": {},
   "outputs": [],
   "source": [
    "early_stopping_kwargs = {\n",
    "    \"early_stopping_metric\": \"val_unweighted_loss\",\n",
    "    \"threshold\": 0.001,\n",
    "    \"patience\": 40,\n",
    "    \"reduce_lr\": True,\n",
    "    \"lr_patience\": 25,\n",
    "    \"lr_factor\": 0.1,\n",
    "}"
   ]
  },
  {
   "cell_type": "code",
   "execution_count": null,
   "id": "0f08494d-4df3-47d6-9bca-c10d6f1cf565",
   "metadata": {},
   "outputs": [],
   "source": [
    "# 2) Make sure 'sex' is categorical/string\n",
    "train_adata.obs['sex'] = train_adata.obs['sex'].astype(str)\n",
    "conditions = ['female', 'male']                 # both levels appear in train_adata\n",
    "\n",
    "# 3) Initialize TRVAE conditioned on sex\n",
    "trvae = sca.models.TRVAE(\n",
    "    adata         = train_adata,\n",
    "    condition_key = 'sex',\n",
    "    conditions    = conditions,\n",
    "    hidden_layer_sizes = [128, 128],\n",
    ")\n",
    "\n",
    "# 4) Train exactly as before\n",
    "trvae.train(n_epochs=200, alpha_epoch_anneal=200, early_stopping_kwargs=early_stopping_kwargs)"
   ]
  },
  {
   "cell_type": "code",
   "execution_count": null,
   "id": "747157ca-d777-4bec-a14a-e04a4dc647fc",
   "metadata": {},
   "outputs": [],
   "source": [
    "trvae"
   ]
  },
  {
   "cell_type": "code",
   "execution_count": null,
   "id": "fbbb9982-ed37-42b4-8817-ca1863243848",
   "metadata": {},
   "outputs": [],
   "source": [
    "trvae.save(\"/work/trvae_new/LOO_trVAE/LOO_scAtlas_trvae_Gpu_run.h5ad\")"
   ]
  },
  {
   "cell_type": "code",
   "execution_count": null,
   "id": "d36e5666-dcb8-42e3-a67b-054da990c975",
   "metadata": {},
   "outputs": [],
   "source": [
    "from scarches.trainers.trvae._utils import make_dataset, custom_collate"
   ]
  },
  {
   "cell_type": "code",
   "execution_count": null,
   "id": "72703f54-8356-4de2-a50d-b1c8c4c8ddf8",
   "metadata": {},
   "outputs": [],
   "source": [
    "# With Gpu run this instead: \n",
    "\n",
    "def predict_trvae(model, adata, condition_key, batch_size=128):\n",
    "    # evaluation mode\n",
    "    model.model.eval()\n",
    "\n",
    "    # Create a dataset and dataloader for prediction\n",
    "    predict_data, _ = make_dataset(\n",
    "        adata,\n",
    "        train_frac=1.0,\n",
    "        condition_key=condition_key,\n",
    "        cell_type_keys=None, \n",
    "        condition_encoder=model.model.condition_encoder,\n",
    "        cell_type_encoder=None, \n",
    "    )\n",
    "    # Create dataloader \n",
    "    dataloader = torch.utils.data.DataLoader(\n",
    "        dataset=predict_data,\n",
    "        batch_size=batch_size,\n",
    "        shuffle=False,\n",
    "        collate_fn=custom_collate,\n",
    "        num_workers=0,\n",
    "    )\n",
    "\n",
    "    # store results\n",
    "    latent_list = []\n",
    "    reconstructed_list = []\n",
    "\n",
    "\n",
    "    # Perform prediction, moves each part of the data that the device the model is trained on \n",
    "    with torch.no_grad():\n",
    "        for batch_data in dataloader:\n",
    "            for k,v in batch_data.items():\n",
    "                batch_data[k] = v.to(model.trainer.device)\n",
    "\n",
    "            # sum across features → shape [batch_size]\n",
    "            sf = batch_data[\"x\"].sum(dim=1)  \n",
    "            # expand into [batch_size, n_genes]\n",
    "            size_factor_view = sf.unsqueeze(1).expand(\n",
    "                batch_data[\"x\"].size(0),\n",
    "                batch_data[\"x\"].size(1)\n",
    "            )\n",
    "\n",
    "            # log‐transform\n",
    "            x_log = torch.log1p(batch_data[\"x\"])\n",
    "            z1_mean, z1_log_var = model.model.encoder(x_log, batch_data[\"batch\"])\n",
    "            latent = model.model.sampling(z1_mean, z1_log_var)\n",
    "            latent_list.append(latent.cpu().numpy())\n",
    "\n",
    "            outputs = model.model.decoder(latent, batch_data[\"batch\"])\n",
    "            recon_x, _ = outputs\n",
    "            sf_rate = size_factor_view * recon_x\n",
    "            reconstructed_list.append(sf_rate.cpu().numpy())\n",
    "\n",
    "\n",
    "            \n",
    "\n",
    "    latent = np.concatenate(latent_list, axis=0)\n",
    "    reconstructed = np.concatenate(reconstructed_list, axis=0)\n",
    "\n",
    "    return latent, reconstructed"
   ]
  },
  {
   "cell_type": "code",
   "execution_count": null,
   "id": "e8ce0514-c204-416e-bb29-a138d4d105b1",
   "metadata": {},
   "outputs": [],
   "source": [
    "# 1. Select your baseline (female slow‐muscle) cells from train_adata\n",
    "base_adata = train_adata[\n",
    "    (train_adata.obs['cell_type'] == 'endothelial cell') &\n",
    "    (train_adata.obs['sex']       == 'female')\n",
    "].copy()"
   ]
  },
  {
   "cell_type": "code",
   "execution_count": null,
   "id": "446ecc31-eb96-4ae9-b82d-c30bef3dc78e",
   "metadata": {},
   "outputs": [],
   "source": [
    "\n",
    "\n",
    "# 2. Make sure you’ve got predict_trvae in scope (run its cell!), then call:\n",
    "latent_base, rec_base = predict_trvae(\n",
    "    trvae,\n",
    "    base_adata,\n",
    "    condition_key='sex',\n",
    "    batch_size=128\n",
    ")\n"
   ]
  },
  {
   "cell_type": "code",
   "execution_count": null,
   "id": "5d22d8fc-b211-4825-a04e-136c35feab64",
   "metadata": {},
   "outputs": [],
   "source": [
    "# 3. Flip the sex label on the exact same cells\n",
    "cf_adata = base_adata.copy()\n",
    "cf_adata.obs['sex'] = 'male'"
   ]
  },
  {
   "cell_type": "code",
   "execution_count": null,
   "id": "2f1192e2-3e18-451e-a3cf-c046a9a00719",
   "metadata": {},
   "outputs": [],
   "source": [
    "\n",
    "\n",
    "latent_cf, rec_cf = predict_trvae(\n",
    "    trvae,\n",
    "    cf_adata,\n",
    "    condition_key='sex',\n",
    "    batch_size=128\n",
    ")\n"
   ]
  },
  {
   "cell_type": "code",
   "execution_count": null,
   "id": "818bee3f-c8ce-4ead-965f-c3554f452f69",
   "metadata": {},
   "outputs": [],
   "source": [
    "import numpy as np\n",
    "\n",
    "\n",
    "female_gt = (\n",
    "    base_adata.X.toarray().mean(axis=0)\n",
    "    if hasattr(base_adata.X, \"toarray\")\n",
    "    else base_adata.X.mean(axis=0)\n",
    ")\n",
    "\n",
    "\n",
    "#    Gt for the male is now the held out dataset\n",
    "male_gt = (\n",
    "    subset_adata.X.toarray().mean(axis=0)\n",
    "    if hasattr(subset_adata.X, \"toarray\")\n",
    "    else subset_adata.X.mean(axis=0)\n",
    ")"
   ]
  },
  {
   "cell_type": "code",
   "execution_count": null,
   "id": "9c215040-44d2-4fa6-950d-b7f51b38e702",
   "metadata": {},
   "outputs": [],
   "source": [
    "# 2. Predicted means\n",
    "base_mean = rec_base.mean(axis=0).ravel()\n",
    "cf_mean   = rec_cf.mean(axis=0).ravel()"
   ]
  },
  {
   "cell_type": "code",
   "execution_count": null,
   "id": "3b8889e8-ffc0-4c57-805f-f0c3997a3668",
   "metadata": {},
   "outputs": [],
   "source": [
    "f_m = np.sqrt(np.mean((base_mean - male_gt)**2)) #pred-F --- TM\n",
    "m_m = np.sqrt(np.mean((cf_mean - male_gt)**2)) # pred_M --- TM\n",
    "f_f  =np.sqrt(np.mean((base_mean - female_gt)**2)) # pref F ----- TF\n",
    "m_f = np.sqrt(np.mean((cf_mean - female_gt)**2)) # pref M ---- TF\n",
    "\n",
    "print(f\"RMSE pred F --- TM: {f_m:.4f}\")\n",
    "print(f\"RMSE pred M --- TM (counterfactual)  : {m_m:.4f}\")\n",
    "print(f\"RMSE pred F ----- TF : {f_f:.4f}\")\n",
    "print(f\"RMSE pred M ---- TF (counterfactual)  : {m_f:.4f}\")"
   ]
  },
  {
   "cell_type": "code",
   "execution_count": null,
   "id": "b2e8cbb7-46cf-4ce9-ac05-16b6b1f68c41",
   "metadata": {},
   "outputs": [],
   "source": [
    "import numpy as np\n",
    "import seaborn as sns\n",
    "import matplotlib.pyplot as plt\n",
    "\n",
    "# Log-transform the data\n",
    "log_male_gt = np.log1p(male_gt)\n",
    "log_cf_pred = np.log1p(cf_mean)\n",
    "log_baseline_pred = np.log1p(base_mean)\n",
    "\n",
    "# Scatter plot of log-transformed ground truth vs. predictions\n",
    "fig, ax = plt.subplots(figsize=(10, 6))\n",
    "\n",
    "sns.scatterplot(\n",
    "    x=log_male_gt, y=log_cf_pred,\n",
    "    alpha=0.7, ax=ax\n",
    ")\n",
    "\n",
    "sns.scatterplot(\n",
    "    x=log_male_gt, y=log_baseline_pred,\n",
    "    alpha=0.7, ax=ax\n",
    ")\n",
    "\n",
    "# Identity line (in log space)\n",
    "mn = min(log_male_gt.min(), log_male_gt.min())\n",
    "mx = max(log_male_gt.max(), log_male_gt.max())\n",
    "ax.plot([mn, mx], [mn, mx], ls=\"--\", color=\"red\")\n",
    "\n",
    "\n",
    "ax.set_xlabel(\"Log Ground Truth (Male)\")\n",
    "ax.set_ylabel(\"Log Predicted Mean Expression\")\n",
    "ax.set_title(\"Leave One Out analysis\" )\n",
    "ax.legend(loc=\"upper left\")\n",
    "ax.grid(False)\n",
    "plt.tight_layout()\n",
    "plt.show()\n"
   ]
  },
  {
   "cell_type": "code",
   "execution_count": null,
   "id": "d2462a85-dd3b-4b6f-802b-32da0e484258",
   "metadata": {},
   "outputs": [],
   "source": [
    "import matplotlib.pyplot as plt\n",
    "\n",
    "# Define RMSE values\n",
    "rmse_data = [\n",
    "    [\"0.0194\", \"0.1845\"],  # True Female\n",
    "    [\"0.1475\", \"0.2625\"],  # True Male\n",
    "]\n",
    "\n",
    "# Define labels\n",
    "column_labels = [\"Pred Female\", \"Pred Male (CF)\"]\n",
    "row_labels = [\"True Female\", \"True Male\"]\n",
    "\n",
    "# Create the figure and axis\n",
    "fig, ax = plt.subplots(figsize=(6, 2))\n",
    "ax.axis('tight')\n",
    "ax.axis('off')\n",
    "\n",
    "# Create the table\n",
    "table = ax.table(\n",
    "    cellText=rmse_data,\n",
    "    rowLabels=row_labels,\n",
    "    colLabels=column_labels,\n",
    "    cellLoc='center',\n",
    "    loc='center'\n",
    ")\n",
    "\n",
    "table.scale(1, 2)  # Increase row height\n",
    "table.auto_set_font_size(False)\n",
    "table.set_fontsize(12)\n",
    "\n",
    "# Color the lower row cells\n",
    "# Note: Rows and columns are 1-indexed in table.get_celld()\n",
    "table[(2, 0)].set_facecolor(\"orange\")  # True Male, Pred Female\n",
    "table[(2, 1)].set_facecolor(\"lightblue\")  # True Male, Pred Male\n",
    "\n",
    "plt.title(\"RMSE between Predictions and Ground truth\", pad=20)\n",
    "plt.tight_layout()\n",
    "plt.show()\n"
   ]
  }
 ],
 "metadata": {
  "kernelspec": {
   "display_name": "Python 3 ",
   "language": "python",
   "name": "python3"
  },
  "language_info": {
   "codemirror_mode": {
    "name": "ipython",
    "version": 3
   },
   "file_extension": ".py",
   "mimetype": "text/x-python",
   "name": "python",
   "nbconvert_exporter": "python",
   "pygments_lexer": "ipython3",
   "version": "3.12.10"
  }
 },
 "nbformat": 4,
 "nbformat_minor": 5
}

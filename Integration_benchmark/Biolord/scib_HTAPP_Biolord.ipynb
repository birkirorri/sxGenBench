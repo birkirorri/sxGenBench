{
 "cells": [
  {
   "cell_type": "code",
   "execution_count": null,
   "id": "59f48c86-61b0-48de-8ae4-2dab4386dbe5",
   "metadata": {
    "scrolled": true
   },
   "outputs": [],
   "source": [
    "pip install scib"
   ]
  },
  {
   "cell_type": "code",
   "execution_count": null,
   "id": "4a93ad64-c830-4a6d-8c37-260eab24befd",
   "metadata": {},
   "outputs": [],
   "source": [
    "import scib\n",
    "import scanpy as sc"
   ]
  },
  {
   "cell_type": "code",
   "execution_count": null,
   "id": "514a2082-d530-4fd0-a7fb-c1ff314f2bd6",
   "metadata": {},
   "outputs": [],
   "source": [
    "test_adata = sc.read(\"/work/SCIB/scib_Biolord/remoived_batch/biolord_HTAPP__fix_final_removed_batch_effect.h5ad\")"
   ]
  },
  {
   "cell_type": "code",
   "execution_count": null,
   "id": "6d72a942-3262-4ae0-92fa-43438a1de052",
   "metadata": {},
   "outputs": [],
   "source": [
    "celltype_batch_counts = test_adata.obs.groupby([\"cell_type\", \"replicate\"]).size().unstack(fill_value=0)\n",
    "print(celltype_batch_counts)"
   ]
  },
  {
   "cell_type": "code",
   "execution_count": null,
   "id": "73a164f4-c334-46ed-bcb8-92f4989efcff",
   "metadata": {},
   "outputs": [],
   "source": [
    "reconstructed_data = sc.read(\"/work/SCIB/scib_Biolord/remoived_batch/biolord_HTAPP__fix_final_removed_batch_effect.h5ad\")"
   ]
  },
  {
   "cell_type": "code",
   "execution_count": null,
   "id": "00ce2f89-9d1d-425d-a4e2-92d8b7f7bb94",
   "metadata": {},
   "outputs": [],
   "source": [
    "def get_isolated_labels_from_adata(adata, label_key, batch_key, iso_threshold=None, verbose=True):\n",
    "    import warnings\n",
    "    import pandas as pd\n",
    "\n",
    "    tmp = adata.obs[[label_key, batch_key]].drop_duplicates()\n",
    "    batch_per_lab = tmp.groupby(label_key).agg({batch_key: \"count\"})\n",
    "\n",
    "    # threshold for determining when label is considered isolated\n",
    "    if iso_threshold is None:\n",
    "        iso_threshold = batch_per_lab.min().tolist()[0]\n",
    "\n",
    "    if iso_threshold == adata.obs[batch_key].nunique():\n",
    "        warnings.warn(\n",
    "            \"iso_threshold is equal to number of batches in data, no isolated labels will be found\",\n",
    "            stacklevel=2,\n",
    "        )\n",
    "        return []\n",
    "\n",
    "    if verbose:\n",
    "        print(f\"isolated labels: no more than {iso_threshold} batches per label\")\n",
    "\n",
    "    labels = batch_per_lab[batch_per_lab[batch_key] <= iso_threshold].index.tolist()\n",
    "\n",
    "    if len(labels) == 0 and verbose:\n",
    "        print(\"No isolated labels with less than iso_threshold batches.\")\n",
    "\n",
    "    return labels\n",
    "\n"
   ]
  },
  {
   "cell_type": "code",
   "execution_count": null,
   "id": "22b2df8a-ae2a-47c6-9ef9-b983b4d3f499",
   "metadata": {},
   "outputs": [],
   "source": [
    "isolated = get_isolated_labels_from_adata(\n",
    "    test_adata,\n",
    "    label_key=\"cell_type\",\n",
    "    batch_key=\"replicate\",  # or whatever your batch key is\n",
    "    iso_threshold=None,     # let it auto-determine\n",
    "    verbose=True\n",
    ")\n",
    "print(isolated)\n"
   ]
  },
  {
   "cell_type": "code",
   "execution_count": null,
   "id": "f50039fa-ff65-4fe3-81e7-6bd6ee335d0b",
   "metadata": {},
   "outputs": [],
   "source": [
    "test_adata.obs[\"dpt_pseudotime\"] = 0"
   ]
  },
  {
   "cell_type": "code",
   "execution_count": null,
   "id": "56fdef22-8f87-4ab6-8a8b-9c69d99eb0c8",
   "metadata": {
    "scrolled": true
   },
   "outputs": [],
   "source": [
    "# Final  version with test_adata \n",
    "\n",
    "results = scib.metrics.metrics_fast(\n",
    "    test_adata,         # original dataset\n",
    "    reconstructed_data,   # the dataset with the reconstruction\n",
    "    batch_key=\"donor_id\",\n",
    "    label_key=\"cell_type\",\n",
    "    embed=\"X_reconstructed_HTAPP\",   # specify embedding in reconstructed dataset\n",
    "\n",
    ")\n",
    "\n",
    "\n",
    "print(results)\n",
    "\n",
    "\n"
   ]
  },
  {
   "cell_type": "code",
   "execution_count": null,
   "id": "f83402fc-7352-4a7c-9ea0-a51e61942840",
   "metadata": {
    "scrolled": true
   },
   "outputs": [],
   "source": [
    "# Final  version with adata \n",
    "kwargs = {\"organism\":\"human\"}\n",
    "results = scib.metrics.metrics_all(\n",
    "    test_adata,         # original dataset\n",
    "    reconstructed_data,   # the dataset with the reconstruction\n",
    "    batch_key=\"replicate\",\n",
    "    label_key=\"cell_type\",\n",
    "    embed=\"X_reconstructed\",   # specify embedding in reconstructed dataset, \n",
    "    **kwargs\n",
    ")\n",
    "\n",
    "\n",
    "print(results)"
   ]
  },
  {
   "cell_type": "code",
   "execution_count": null,
   "id": "19bdf461-422d-4981-baf1-03a9db6f445a",
   "metadata": {
    "scrolled": true
   },
   "outputs": [],
   "source": [
    "#Removed batch effect\n",
    "# Final  version with adata \n",
    "kwargs = {\"organism\":\"human\"}\n",
    "results = scib.metrics.metrics_all(\n",
    "    test_adata,         # original dataset\n",
    "    reconstructed_data,   # the dataset with the reconstruction\n",
    "    batch_key=\"replicate\",\n",
    "    label_key=\"cell_type\",\n",
    "    embed=\"X_reconstructed\",   # specify embedding in reconstructed dataset, \n",
    "    **kwargs\n",
    ")\n",
    "\n",
    "\n",
    "print(results)"
   ]
  },
  {
   "cell_type": "code",
   "execution_count": null,
   "id": "1019113c-177d-4fbd-95ef-03a8a5e68146",
   "metadata": {},
   "outputs": [],
   "source": []
  }
 ],
 "metadata": {
  "kernelspec": {
   "display_name": "Python 3 ",
   "language": "python",
   "name": "python3"
  },
  "language_info": {
   "codemirror_mode": {
    "name": "ipython",
    "version": 3
   },
   "file_extension": ".py",
   "mimetype": "text/x-python",
   "name": "python",
   "nbconvert_exporter": "python",
   "pygments_lexer": "ipython3",
   "version": "3.12.10"
  }
 },
 "nbformat": 4,
 "nbformat_minor": 5
}

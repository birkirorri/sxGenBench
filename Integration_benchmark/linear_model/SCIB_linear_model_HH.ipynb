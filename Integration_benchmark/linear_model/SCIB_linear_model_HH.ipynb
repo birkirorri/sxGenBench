{
 "cells": [
  {
   "cell_type": "code",
   "execution_count": null,
   "id": "fa5af61a-4e2b-469b-a07e-93791309cc8c",
   "metadata": {
    "scrolled": true
   },
   "outputs": [],
   "source": [
    "pip install anndata2ri"
   ]
  },
  {
   "cell_type": "code",
   "execution_count": null,
   "id": "b98cc161-d837-490c-a812-56c08246c2bb",
   "metadata": {},
   "outputs": [],
   "source": [
    "import scib\n",
    "import scanpy as sc\n",
    "import rpy2\n",
    "import anndata2ri"
   ]
  },
  {
   "cell_type": "code",
   "execution_count": null,
   "id": "63142d56-3ba6-4d49-b5b4-0d7301e07657",
   "metadata": {},
   "outputs": [],
   "source": [
    "test_adata = sc.read(\"/work/SCIB/scib_linear_model/new_fixed_data/adata_post_with_latent_and_reconstructed_HH_Linear_model_fixed.h5ad\")"
   ]
  },
  {
   "cell_type": "code",
   "execution_count": null,
   "id": "0150720d-9f31-4bc0-adad-a1c10bbfc497",
   "metadata": {},
   "outputs": [],
   "source": [
    "test_adata"
   ]
  },
  {
   "cell_type": "code",
   "execution_count": null,
   "id": "e013a2cf-7865-4c35-b265-3646f0c05b6a",
   "metadata": {},
   "outputs": [],
   "source": [
    "reconstructed_data = sc.read(\"/work/SCIB/scib_linear_model/new_fixed_data/adata_post_with_latent_and_reconstructed_HH_Linear_model_fixed.h5ad\")"
   ]
  },
  {
   "cell_type": "code",
   "execution_count": null,
   "id": "5513071e-0736-480d-b4ba-778587ae2e4b",
   "metadata": {},
   "outputs": [],
   "source": [
    "reconstructed_data.obs[\"library_uuid\"]"
   ]
  },
  {
   "cell_type": "code",
   "execution_count": null,
   "id": "29470f46-35d6-41ad-90c1-6c8d98328f18",
   "metadata": {
    "scrolled": true
   },
   "outputs": [],
   "source": [
    "# Final  version with test_adata \n",
    "\n",
    "results = scib.metrics.metrics_fast(\n",
    "    test_adata,         # original dataset\n",
    "    reconstructed_data,   # the dataset with the reconstruction\n",
    "    batch_key=\"library_uuid\",\n",
    "    label_key=\"cell_type\",\n",
    "    embed = \"X_reconstructed\",\n",
    "    **kwargs\n",
    ")\n",
    "print(results)"
   ]
  },
  {
   "cell_type": "code",
   "execution_count": null,
   "id": "46fd4366-050e-46de-98b1-d0f71675dded",
   "metadata": {},
   "outputs": [],
   "source": [
    "test_adata.obs[\"dpt_pseudotime\"] = 0"
   ]
  },
  {
   "cell_type": "code",
   "execution_count": null,
   "id": "575e4de2-6db7-45b1-b612-58291525d437",
   "metadata": {
    "scrolled": true
   },
   "outputs": [],
   "source": [
    "# Final  version with adata \n",
    "kwargs = {\"organism\":\"human\"}\n",
    "results = scib.metrics.metrics_all(\n",
    "    test_adata,         # original dataset\n",
    "    reconstructed_data,   # the dataset with the reconstruction\n",
    "    batch_key=\"library_uuid\",\n",
    "    label_key=\"cell_type\",\n",
    "    embed=\"X_reconstructed\",\n",
    "    **kwargs\n",
    ")\n",
    "\n",
    "\n",
    "print(results)"
   ]
  },
  {
   "cell_type": "code",
   "execution_count": null,
   "id": "b2b9869e-7caf-40a8-be56-237f97755558",
   "metadata": {
    "scrolled": true
   },
   "outputs": [],
   "source": [
    "# Final  version with adata \n",
    "kwargs = {\"organism\":\"human\"}\n",
    "results = scib.metrics.metrics_all(\n",
    "    test_adata,         # original dataset\n",
    "    reconstructed_data,   # the dataset with the reconstruction\n",
    "    batch_key=\"suspension_id\",\n",
    "    label_key=\"cell_type\",\n",
    "    embed=\"X_pca\",   # specify embedding in reconstructed dataset, \n",
    "    **kwargs\n",
    ")\n",
    "print(results)"
   ]
  },
  {
   "cell_type": "code",
   "execution_count": null,
   "id": "93752326-8777-407f-9d1a-9539d5d6d230",
   "metadata": {},
   "outputs": [],
   "source": [
    "print(\"Shape of X_reconstructed:\", reconstructed_data.obsm[\"X_reconstructed\"].shape)\n",
    "print(\"Shape of original data:\", test_adata.X.shape)\n"
   ]
  },
  {
   "cell_type": "code",
   "execution_count": null,
   "id": "7c0949b8-56b5-4968-88a3-b90492c8ed47",
   "metadata": {},
   "outputs": [],
   "source": [
    "test_adata.obs"
   ]
  },
  {
   "cell_type": "code",
   "execution_count": null,
   "id": "48db19b4-3d39-4c78-ba70-dac7b35b708b",
   "metadata": {},
   "outputs": [],
   "source": [
    "reconstructed_data.obsm[\"X_reconstructed\"]"
   ]
  },
  {
   "cell_type": "code",
   "execution_count": null,
   "id": "2ef48ee5-fd44-432f-8686-f45f493282e6",
   "metadata": {},
   "outputs": [],
   "source": [
    "test_adata_2 = sc.read(\"/work/SCIB/scib_linear_model/adata_post_with_latent_and_reconstructed_HH_Linear_model_fixed_RAW_CHECK.h5ad\")"
   ]
  },
  {
   "cell_type": "code",
   "execution_count": null,
   "id": "ba142215-9e89-49ff-a886-d1491d106deb",
   "metadata": {},
   "outputs": [],
   "source": [
    "test_adata_2"
   ]
  },
  {
   "cell_type": "code",
   "execution_count": null,
   "id": "22243c50-d0b6-4821-b01e-55bc21b3965f",
   "metadata": {},
   "outputs": [],
   "source": [
    "reconstructed_data_2 = sc.read(\"/work/SCIB/scib_linear_model/adata_post_with_latent_and_reconstructed_HH_Linear_model_fixed_RAW_CHECK.h5ad\")"
   ]
  },
  {
   "cell_type": "code",
   "execution_count": null,
   "id": "0b692f85-a57f-4541-b30f-b2c97af32bce",
   "metadata": {},
   "outputs": [],
   "source": [
    "reconstructed_data_2.obsm[\"X_reconstructed\"]"
   ]
  },
  {
   "cell_type": "code",
   "execution_count": null,
   "id": "f4f267b5-4176-4e27-9f30-6e63fefd5ec8",
   "metadata": {
    "scrolled": true
   },
   "outputs": [],
   "source": [
    "# Final  version with adata \n",
    "kwargs = {\"organism\":\"human\"}\n",
    "results = scib.metrics.metrics_all(\n",
    "    test_adata,         # original dataset\n",
    "    reconstructed_data,   # the dataset with the reconstruction\n",
    "    batch_key=\"suspension_derivation_process\",\n",
    "    label_key=\"cell_type\",\n",
    "    embed=\"X_reconstructed\",   # specify embedding in reconstructed dataset, \n",
    "    **kwargs\n",
    ")\n",
    "\n",
    "\n",
    "print(results)"
   ]
  },
  {
   "cell_type": "code",
   "execution_count": null,
   "id": "1f7bbf7b-f2ab-4830-a9fd-19fa8a783f66",
   "metadata": {},
   "outputs": [],
   "source": [
    "test_adata.obs[\"mapped_reference_assembly\"]"
   ]
  },
  {
   "cell_type": "code",
   "execution_count": null,
   "id": "1fb7d489-f7eb-406b-bfb2-fcbbacc5ca7d",
   "metadata": {},
   "outputs": [],
   "source": [
    "test_adata"
   ]
  },
  {
   "cell_type": "code",
   "execution_count": null,
   "id": "70f9f739-4e55-4ee2-8251-8b895afc1d2b",
   "metadata": {
    "scrolled": true
   },
   "outputs": [],
   "source": [
    "# Final  version with adata \n",
    "kwargs = {\"organism\":\"human\"}\n",
    "results = scib.metrics.metrics_all(\n",
    "    test_adata,         # original dataset\n",
    "    reconstructed_data,   # the dataset with the reconstruction\n",
    "    batch_key=\"library_uuid\",\n",
    "    label_key=\"cell_type\",\n",
    "    embed=\"X_reconstructed\",   # specify embedding in reconstructed dataset, \n",
    "    **kwargs\n",
    ")\n",
    "\n",
    "\n",
    "print(results)"
   ]
  },
  {
   "cell_type": "code",
   "execution_count": null,
   "id": "f7308337-c260-49dd-94a1-703a48d088dd",
   "metadata": {},
   "outputs": [],
   "source": []
  }
 ],
 "metadata": {
  "kernelspec": {
   "display_name": "Python 3 ",
   "language": "python",
   "name": "python3"
  },
  "language_info": {
   "codemirror_mode": {
    "name": "ipython",
    "version": 3
   },
   "file_extension": ".py",
   "mimetype": "text/x-python",
   "name": "python",
   "nbconvert_exporter": "python",
   "pygments_lexer": "ipython3",
   "version": "3.12.10"
  }
 },
 "nbformat": 4,
 "nbformat_minor": 5
}

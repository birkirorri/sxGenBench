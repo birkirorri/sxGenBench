{
 "cells": [
  {
   "cell_type": "code",
   "execution_count": null,
   "id": "e94582d8-6ab1-4a4c-98b8-1dc8d30275b8",
   "metadata": {},
   "outputs": [],
   "source": []
  },
  {
   "cell_type": "code",
   "execution_count": null,
   "id": "d5ae160f-c902-4e0d-88c9-1a9b3ea2d592",
   "metadata": {},
   "outputs": [],
   "source": [
    "import scib\n",
    "import scanpy as sc\n",
    "import rpy2\n",
    "import anndata2ri"
   ]
  },
  {
   "cell_type": "code",
   "execution_count": null,
   "id": "15870a37-9c13-4768-850c-11e8fba51b06",
   "metadata": {},
   "outputs": [],
   "source": [
    "test_adata = sc.read(\"/work/SCIB/scib_linear_model/new_fixed_data/adata_post_with_latent_and_reconstructed_scaltas_Linear_model_fixed.h5ad\")"
   ]
  },
  {
   "cell_type": "code",
   "execution_count": null,
   "id": "0ccd1667-fa11-432d-88aa-3fb480f96457",
   "metadata": {},
   "outputs": [],
   "source": [
    "test_adata"
   ]
  },
  {
   "cell_type": "code",
   "execution_count": null,
   "id": "21151e7d-3b8d-400a-abdd-739310360af3",
   "metadata": {},
   "outputs": [],
   "source": [
    "reconstructed_data = sc.read(\"/work/SCIB/scib_linear_model/new_fixed_data/adata_post_with_latent_and_reconstructed_scaltas_Linear_model_fixed.h5ad\")"
   ]
  },
  {
   "cell_type": "code",
   "execution_count": null,
   "id": "f2e18e0b-70c1-4648-ae66-c69e8e789627",
   "metadata": {},
   "outputs": [],
   "source": [
    "reconstructed_data"
   ]
  },
  {
   "cell_type": "code",
   "execution_count": null,
   "id": "e2acd2a1-e3e3-48a8-b6e5-af0d18dbb726",
   "metadata": {
    "scrolled": true
   },
   "outputs": [],
   "source": [
    "# Final  version with test_adata \n",
    "\n",
    "results = scib.metrics.metrics_fast(\n",
    "    test_adata,         # original dataset\n",
    "    reconstructed_data,   # the dataset with the reconstruction\n",
    "    batch_key=\"donor_id\",\n",
    "    label_key=\"cell_type\",\n",
    "    embed=\"CPA_pred\",   # specify embedding in reconstructed dataset\n",
    "\n",
    ")\n",
    "\n",
    "\n",
    "print(results)\n",
    "\n",
    "\n"
   ]
  },
  {
   "cell_type": "code",
   "execution_count": null,
   "id": "8bb620e6-5bd0-45f8-b6fb-b988675327c2",
   "metadata": {},
   "outputs": [],
   "source": [
    "test_adata.obs[\"dpt_pseudotime\"] = 0"
   ]
  },
  {
   "cell_type": "code",
   "execution_count": null,
   "id": "ef222c7b-644d-47b3-8890-34c7fee6c6d1",
   "metadata": {
    "scrolled": true
   },
   "outputs": [],
   "source": [
    "# Final  version with adata \n",
    "kwargs = {\"organism\":\"human\"}\n",
    "results = scib.metrics.metrics_all(\n",
    "    test_adata,         # original dataset\n",
    "    reconstructed_data,   # the dataset with the reconstruction\n",
    "    batch_key=\"donor_id\",\n",
    "    label_key=\"cell_type\",\n",
    "    embed=\"X_reconstructed\",   # specify embedding in reconstructed dataset, \n",
    "    **kwargs\n",
    ")\n",
    "\n",
    "\n",
    "print(results)"
   ]
  },
  {
   "cell_type": "code",
   "execution_count": null,
   "id": "0267f950-8800-4dab-a8cf-8e1a73a8bcd1",
   "metadata": {
    "scrolled": true
   },
   "outputs": [],
   "source": [
    "from scib.metrics.metrics import metrics\n",
    "\n",
    "results = metrics(\n",
    "    test_adata,             # original AnnData\n",
    "    reconstructed_data,     # AnnData with your embedding / reconstruction\n",
    "    batch_key=\"donor_id\",\n",
    "    label_key=\"cell_type\",\n",
    "    embed=\"X_reconstructed\",  # if you want silhouette + neighbors on your reconstructed embedding\n",
    "    # --- FLAGS (defaults are True unless you override) ---\n",
    "    isolated_labels_asw_=True,\n",
    "    silhouette_=True,\n",
    "    hvg_score_=False,         # ← disable HVG overlap\n",
    "    graph_conn_=True,\n",
    "    pcr_=True,\n",
    "    isolated_labels_f1_=True,\n",
    "    trajectory_=True,\n",
    "    nmi_=True,\n",
    "    ari_=True,\n",
    "    cell_cycle_=True,\n",
    "    kBET_=True,\n",
    "    ilisi_=True,\n",
    "    clisi_=True,\n",
    "    # --- your extra kwargs, e.g. organism ---\n",
    "    organism=\"human\",\n",
    ")\n",
    "print(results)"
   ]
  },
  {
   "cell_type": "code",
   "execution_count": null,
   "id": "a86e473b-e704-4236-b283-e58451429148",
   "metadata": {},
   "outputs": [],
   "source": [
    "test_adata"
   ]
  },
  {
   "cell_type": "code",
   "execution_count": null,
   "id": "e63dd32c-2a76-4bb4-a3e5-8b8621b78bef",
   "metadata": {},
   "outputs": [],
   "source": [
    "test_adata.obs[\"donor_id\"]"
   ]
  },
  {
   "cell_type": "code",
   "execution_count": null,
   "id": "20eff108-6077-41e8-b2be-6663bee27127",
   "metadata": {},
   "outputs": [],
   "source": []
  }
 ],
 "metadata": {
  "kernelspec": {
   "display_name": "Python 3 ",
   "language": "python",
   "name": "python3"
  },
  "language_info": {
   "codemirror_mode": {
    "name": "ipython",
    "version": 3
   },
   "file_extension": ".py",
   "mimetype": "text/x-python",
   "name": "python",
   "nbconvert_exporter": "python",
   "pygments_lexer": "ipython3",
   "version": "3.12.10"
  }
 },
 "nbformat": 4,
 "nbformat_minor": 5
}

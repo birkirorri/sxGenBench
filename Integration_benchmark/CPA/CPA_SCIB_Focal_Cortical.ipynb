{
 "cells": [
  {
   "cell_type": "code",
   "execution_count": null,
   "id": "455cc532-6236-41c7-b6eb-b53cc1360368",
   "metadata": {},
   "outputs": [],
   "source": [
    "import scib\n",
    "import scanpy as sc"
   ]
  },
  {
   "cell_type": "code",
   "execution_count": null,
   "id": "93dfa058-9a04-4831-97ff-dcf55cd8d273",
   "metadata": {},
   "outputs": [],
   "source": [
    "test_adata = sc.read(\"/work/SCIB/scib_CPA/new_fixed_data_CPA/adata_focal_cortical_with_CPA_pred_new_raw.h5ad\")"
   ]
  },
  {
   "cell_type": "code",
   "execution_count": null,
   "id": "fdc859f9-2c16-4901-a003-db8a2038ba2c",
   "metadata": {},
   "outputs": [],
   "source": [
    "test_adata"
   ]
  },
  {
   "cell_type": "code",
   "execution_count": null,
   "id": "fe89ec51-5033-4fba-8f68-07f6101e4973",
   "metadata": {},
   "outputs": [],
   "source": [
    "reconstructed_data = sc.read(\"/work/SCIB/scib_CPA/new_fixed_data_CPA/adata_focal_cortical_with_CPA_pred_new_raw.h5ad\")"
   ]
  },
  {
   "cell_type": "code",
   "execution_count": null,
   "id": "4e6aa359-bc2c-480a-915b-15e194b92b1e",
   "metadata": {},
   "outputs": [],
   "source": [
    "reconstructed_data"
   ]
  },
  {
   "cell_type": "code",
   "execution_count": null,
   "id": "50d523c4-c41e-4dd3-a9c2-08584f995ebd",
   "metadata": {},
   "outputs": [],
   "source": [
    "test_adata.obs[\"dpt_pseudotime\"] = 0"
   ]
  },
  {
   "cell_type": "code",
   "execution_count": null,
   "id": "d67ab9b7-aed4-4345-985c-3dfb1a46c201",
   "metadata": {
    "scrolled": true
   },
   "outputs": [],
   "source": [
    "# Final  version with adata \n",
    "kwargs = {\"organism\":\"human\"}\n",
    "results = scib.metrics.metrics_all(\n",
    "    test_adata,         # original dataset\n",
    "    reconstructed_data,   # the dataset with the reconstruction\n",
    "    batch_key=\"donor_id\",\n",
    "    label_key=\"cell_type\",\n",
    "    embed=\"CPA_pred\",   # specify embedding in reconstructed dataset, \n",
    "    **kwargs\n",
    ")\n",
    "\n",
    "\n",
    "print(results)"
   ]
  },
  {
   "cell_type": "code",
   "execution_count": null,
   "id": "a0e67a68-e24c-4da1-9a2c-d25ddf47b73a",
   "metadata": {
    "scrolled": true
   },
   "outputs": [],
   "source": [
    "from scib.metrics.metrics import metrics\n",
    "\n",
    "results = metrics(\n",
    "    test_adata,             # original AnnData\n",
    "    reconstructed_data,     # AnnData with your embedding / reconstruction\n",
    "    batch_key=\"donor_id\",\n",
    "    label_key=\"cell_type\",\n",
    "    embed=\"CPA_pred\",  # if you want silhouette + neighbors on your reconstructed embedding\n",
    "    # --- FLAGS (defaults are True unless you override) ---\n",
    "    isolated_labels_asw_=True,\n",
    "    silhouette_=True,\n",
    "    hvg_score_=False,         # ← disable HVG overlap\n",
    "    graph_conn_=True,\n",
    "    pcr_=True,\n",
    "    isolated_labels_f1_=True,\n",
    "    trajectory_=True,\n",
    "    nmi_=True,\n",
    "    ari_=True,\n",
    "    cell_cycle_=True,\n",
    "    kBET_=True,\n",
    "    ilisi_=True,\n",
    "    clisi_=True,\n",
    "    # --- your extra kwargs, e.g. organism ---\n",
    "    organism=\"human\",\n",
    ")\n",
    "print(results)\n"
   ]
  },
  {
   "cell_type": "code",
   "execution_count": null,
   "id": "1463dadd-d7f8-4909-95cf-e85fc5e05baf",
   "metadata": {},
   "outputs": [],
   "source": []
  }
 ],
 "metadata": {
  "kernelspec": {
   "display_name": "Python 3 ",
   "language": "python",
   "name": "python3"
  },
  "language_info": {
   "codemirror_mode": {
    "name": "ipython",
    "version": 3
   },
   "file_extension": ".py",
   "mimetype": "text/x-python",
   "name": "python",
   "nbconvert_exporter": "python",
   "pygments_lexer": "ipython3",
   "version": "3.12.9"
  }
 },
 "nbformat": 4,
 "nbformat_minor": 5
}

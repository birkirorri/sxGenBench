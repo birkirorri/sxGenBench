{
 "cells": [
  {
   "cell_type": "code",
   "execution_count": null,
   "id": "da4e379e-c828-4fde-bea5-2f9f253909c8",
   "metadata": {
    "scrolled": true
   },
   "outputs": [],
   "source": [
    "pip install scib"
   ]
  },
  {
   "cell_type": "code",
   "execution_count": null,
   "id": "91b02eb1-e9be-498f-91f3-cc94d4d7bd9f",
   "metadata": {},
   "outputs": [],
   "source": [
    "import scib\n",
    "import scanpy as sc"
   ]
  },
  {
   "cell_type": "code",
   "execution_count": null,
   "id": "7ec911ba-ba0f-414b-b578-ab5c5bf88fec",
   "metadata": {},
   "outputs": [],
   "source": [
    "adata = sc.read(\"SCIB/scib_CPA/adata_HH_with_CPA_pred_new_raw_3.h5ad\")"
   ]
  },
  {
   "cell_type": "code",
   "execution_count": null,
   "id": "c72ff916-bd16-4fd1-aa50-2393380dc12b",
   "metadata": {},
   "outputs": [],
   "source": []
  },
  {
   "cell_type": "code",
   "execution_count": null,
   "id": "619a1944-6a8b-4b05-a0d6-55ffe0e23f50",
   "metadata": {},
   "outputs": [],
   "source": [
    "adata."
   ]
  },
  {
   "cell_type": "code",
   "execution_count": null,
   "id": "dac9d7cb-d735-4905-9687-ea2710e5033f",
   "metadata": {},
   "outputs": [],
   "source": [
    "adata_reconstr = sc.read(\"scib_CPA/adata_with_CPA_pred.h5ad\")"
   ]
  },
  {
   "cell_type": "code",
   "execution_count": null,
   "id": "de3fca2e-2430-4a70-9e37-abc3a442cd87",
   "metadata": {},
   "outputs": [],
   "source": [
    "adata_reconstr.obsm"
   ]
  },
  {
   "cell_type": "code",
   "execution_count": null,
   "id": "bfd5976c-b6f5-4520-b9d4-31114094b7f0",
   "metadata": {},
   "outputs": [],
   "source": [
    "cpa_pred = adata_reconstr.obsm[\"CPA_pred\"]"
   ]
  },
  {
   "cell_type": "code",
   "execution_count": null,
   "id": "b6daef90-af36-451b-86e8-74106ab5a7f2",
   "metadata": {},
   "outputs": [],
   "source": [
    "pca_orginal = adata.obsm[\"X_pca\"]"
   ]
  },
  {
   "cell_type": "code",
   "execution_count": null,
   "id": "c6cd35a2-1505-4866-9a09-3f89fd01cf76",
   "metadata": {},
   "outputs": [],
   "source": [
    "adata.obs[\"donor_id\"]"
   ]
  },
  {
   "cell_type": "code",
   "execution_count": null,
   "id": "c909f6d2-a632-4bb0-8bb0-23aa0c65f37a",
   "metadata": {},
   "outputs": [],
   "source": [
    "adata_int = adata_reconstr"
   ]
  },
  {
   "cell_type": "code",
   "execution_count": null,
   "id": "8fb91911-b5ea-40aa-93c0-3576bc8af0c2",
   "metadata": {},
   "outputs": [],
   "source": [
    "results = scib.metrics.metrics_fast(\n",
    "    adata,         # original dataset\n",
    "    adata_reconstr,   # integrated dataset with CPA_pred\n",
    "    batch_key=\"donor_id\",\n",
    "    label_key=\"cell_type\",\n",
    "    embed=\"CPA_pred\"   # specify that the embedding to use is CPA_pred\n",
    ")\n"
   ]
  },
  {
   "cell_type": "code",
   "execution_count": null,
   "id": "c12de877-f231-43cd-a00e-4a1866b07065",
   "metadata": {},
   "outputs": [],
   "source": [
    "print(results)"
   ]
  },
  {
   "cell_type": "code",
   "execution_count": null,
   "id": "95e8033b-b41f-4b69-abea-1b321c936fc9",
   "metadata": {},
   "outputs": [],
   "source": [
    "import scib\n",
    "\n",
    "# Specify the batch key and label key\n",
    "batch_key = \"donor_id\"  # or any other batch information column in .obs\n",
    "label_key = \"cell_type\"  # or any other biological label column in .obs\n",
    "\n",
    "# Run the metrics_fast function with the original and integrated datasets\n",
    "results = scib.metrics.metrics_fast(\n",
    "    adata,                 # original dataset\n",
    "    adata_int,            # integrated dataset (with 'X_reconstructed')\n",
    "    batch_key=batch_key,   # key for batch information in .obs\n",
    "    label_key=label_key    # key for biological labels in .obs\n",
    ")\n",
    "\n",
    "# Print or examine the results\n",
    "print(results)\n"
   ]
  },
  {
   "cell_type": "code",
   "execution_count": null,
   "id": "e1c5ef84-9b20-463e-a578-65dfad73e259",
   "metadata": {},
   "outputs": [],
   "source": []
  }
 ],
 "metadata": {
  "kernelspec": {
   "display_name": "Python 3 ",
   "language": "python",
   "name": "python3"
  },
  "language_info": {
   "codemirror_mode": {
    "name": "ipython",
    "version": 3
   },
   "file_extension": ".py",
   "mimetype": "text/x-python",
   "name": "python",
   "nbconvert_exporter": "python",
   "pygments_lexer": "ipython3",
   "version": "3.12.10"
  }
 },
 "nbformat": 4,
 "nbformat_minor": 5
}

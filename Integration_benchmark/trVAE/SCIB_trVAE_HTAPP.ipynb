{
 "cells": [
  {
   "cell_type": "code",
   "execution_count": null,
   "id": "6c51f240-3142-4be5-ae5d-868106867ac4",
   "metadata": {},
   "outputs": [],
   "source": [
    "import scib\n",
    "import scanpy as sc"
   ]
  },
  {
   "cell_type": "code",
   "execution_count": null,
   "id": "b51b43c4-7b25-4129-8a4d-37faf50219a2",
   "metadata": {},
   "outputs": [],
   "source": [
    "test_adata = sc.read(\"/work/SCIB/scib_trVAE/NEW_datasets_TRVAE/adata_post_with_latent_and_reconstructed_HTAPP_trVAE_RAW.h5ad\")"
   ]
  },
  {
   "cell_type": "code",
   "execution_count": null,
   "id": "b3765109-31e4-492c-8a21-230c8aeac5c0",
   "metadata": {},
   "outputs": [],
   "source": [
    "test_adata"
   ]
  },
  {
   "cell_type": "code",
   "execution_count": null,
   "id": "0da56084-b5e7-4611-8949-c9e69f692fcc",
   "metadata": {},
   "outputs": [],
   "source": [
    "reconstructed_data = sc.read(\"/work/SCIB/scib_trVAE/NEW_datasets_TRVAE/adata_post_with_latent_and_reconstructed_HTAPP_trVAE_RAW.h5ad\")"
   ]
  },
  {
   "cell_type": "code",
   "execution_count": null,
   "id": "5406afcf-4f73-4d8a-b1ce-b7d611240cea",
   "metadata": {},
   "outputs": [],
   "source": [
    "reconstructed_data"
   ]
  },
  {
   "cell_type": "code",
   "execution_count": null,
   "id": "af0ed2ea-b282-490d-a52f-62e3528d63cd",
   "metadata": {},
   "outputs": [],
   "source": [
    "test_adata.obs[\"dpt_pseudotime\"] = 0"
   ]
  },
  {
   "cell_type": "code",
   "execution_count": null,
   "id": "bf003672-2a9d-43f3-85d5-86282a6f1c2f",
   "metadata": {
    "scrolled": true
   },
   "outputs": [],
   "source": [
    "# Final  version with adata \n",
    "kwargs = {\"organism\":\"human\"}\n",
    "results = scib.metrics.metrics_all(\n",
    "    test_adata,         # original dataset\n",
    "    reconstructed_data,   # the dataset with the reconstruction\n",
    "    batch_key=\"replicate\",\n",
    "    label_key=\"cell_type\",\n",
    "    embed=\"X_reconstructed\",     # specify embedding in reconstructed dataset, \n",
    "    **kwargs\n",
    ")\n",
    "\n",
    "\n",
    "print(results)"
   ]
  },
  {
   "cell_type": "code",
   "execution_count": null,
   "id": "fce21e2a-640a-49ef-af10-8ba5a36aadea",
   "metadata": {},
   "outputs": [],
   "source": []
  }
 ],
 "metadata": {
  "kernelspec": {
   "display_name": "Python 3 ",
   "language": "python",
   "name": "python3"
  },
  "language_info": {
   "codemirror_mode": {
    "name": "ipython",
    "version": 3
   },
   "file_extension": ".py",
   "mimetype": "text/x-python",
   "name": "python",
   "nbconvert_exporter": "python",
   "pygments_lexer": "ipython3",
   "version": "3.12.10"
  }
 },
 "nbformat": 4,
 "nbformat_minor": 5
}

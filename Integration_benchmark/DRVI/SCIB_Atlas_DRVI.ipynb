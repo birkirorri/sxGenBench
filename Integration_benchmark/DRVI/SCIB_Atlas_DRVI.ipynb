{
 "cells": [
  {
   "cell_type": "code",
   "execution_count": null,
   "id": "0ea40e91-d806-4c10-ac19-ea2873cbce44",
   "metadata": {},
   "outputs": [],
   "source": [
    "import scib\n",
    "import scanpy as sc"
   ]
  },
  {
   "cell_type": "code",
   "execution_count": null,
   "id": "32d13556-7c07-4d9a-a058-f5eb0cee500f",
   "metadata": {},
   "outputs": [],
   "source": [
    "test_adata = sc.read(\"/work/SCIB/scib_DRVI/batch_remove_data/adata_post_with_latent_and_reconstructed_scAtlas_DRVI_raw_batch_remvoed.h5ad\")"
   ]
  },
  {
   "cell_type": "code",
   "execution_count": null,
   "id": "bd57e6be-24cf-4fb6-8654-af811e81c948",
   "metadata": {},
   "outputs": [],
   "source": [
    "test_adata"
   ]
  },
  {
   "cell_type": "code",
   "execution_count": null,
   "id": "26a152e0-2b8b-4f0c-82f6-adf235090e50",
   "metadata": {},
   "outputs": [],
   "source": [
    "reconstructed_data = sc.read(\"/work/SCIB/scib_DRVI/batch_remove_data/adata_post_with_latent_and_reconstructed_scAtlas_DRVI_raw_batch_remvoed.h5ad\")"
   ]
  },
  {
   "cell_type": "code",
   "execution_count": null,
   "id": "536ef236-00d9-487a-afc0-00f9de9c65e1",
   "metadata": {},
   "outputs": [],
   "source": [
    "reconstructed_data"
   ]
  },
  {
   "cell_type": "code",
   "execution_count": null,
   "id": "03763d93-222f-4688-83e6-e1b89f2e4683",
   "metadata": {},
   "outputs": [],
   "source": [
    "test_adata.obs[\"dpt_pseudotime\"] = 0"
   ]
  },
  {
   "cell_type": "code",
   "execution_count": null,
   "id": "d8c342f5-b836-47c2-b3cd-76b974f99731",
   "metadata": {
    "scrolled": true
   },
   "outputs": [],
   "source": [
    "# Final  version with adata \n",
    "kwargs = {\"organism\":\"human\"}\n",
    "results = scib.metrics.metrics_all(\n",
    "    test_adata,         # original dataset\n",
    "    reconstructed_data,   # the dataset with the reconstruction\n",
    "    batch_key=\"donor_id\",\n",
    "    label_key=\"cell_type\",\n",
    "    embed=\"X_reconstructed\",   # specify embedding in reconstructed dataset, \n",
    "    **kwargs\n",
    ")\n",
    "\n",
    "\n",
    "print(results)"
   ]
  },
  {
   "cell_type": "code",
   "execution_count": null,
   "id": "a9ddf153-8002-4fb5-b108-98f3105dd1fb",
   "metadata": {
    "scrolled": true
   },
   "outputs": [],
   "source": [
    "from scib.metrics.metrics import metrics\n",
    "\n",
    "results = metrics(\n",
    "    test_adata,             # original AnnData\n",
    "    reconstructed_data,     # AnnData with your embedding / reconstruction\n",
    "    batch_key=\"donor_id\",\n",
    "    label_key=\"cell_type\",\n",
    "    embed=\"X_reconstructed\",  \n",
    "    isolated_labels_asw_=True,\n",
    "    silhouette_=True,\n",
    "    hvg_score_=False,         # ← disable HVG overlap\n",
    "    graph_conn_=True,\n",
    "    pcr_=True,\n",
    "    isolated_labels_f1_=True,\n",
    "    trajectory_=True,\n",
    "    nmi_=True,\n",
    "    ari_=True,\n",
    "    cell_cycle_=True,\n",
    "    kBET_=True,\n",
    "    ilisi_=True,\n",
    "    clisi_=True,\n",
    "    #  extra kwargs\n",
    "    organism=\"human\",\n",
    ")\n",
    "print(results)\n"
   ]
  },
  {
   "cell_type": "code",
   "execution_count": null,
   "id": "90da595d-b7f3-4d54-9b66-89897163c8bb",
   "metadata": {},
   "outputs": [],
   "source": []
  }
 ],
 "metadata": {
  "kernelspec": {
   "display_name": "Python 3 ",
   "language": "python",
   "name": "python3"
  },
  "language_info": {
   "codemirror_mode": {
    "name": "ipython",
    "version": 3
   },
   "file_extension": ".py",
   "mimetype": "text/x-python",
   "name": "python",
   "nbconvert_exporter": "python",
   "pygments_lexer": "ipython3",
   "version": "3.12.10"
  }
 },
 "nbformat": 4,
 "nbformat_minor": 5
}

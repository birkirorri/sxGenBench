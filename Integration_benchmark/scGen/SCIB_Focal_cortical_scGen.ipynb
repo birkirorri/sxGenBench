{
 "cells": [
  {
   "cell_type": "code",
   "execution_count": null,
   "id": "9c600380-bb4b-4b5e-85eb-c01c08afbcda",
   "metadata": {},
   "outputs": [],
   "source": [
    "import scib\n",
    "import scanpy as sc"
   ]
  },
  {
   "cell_type": "code",
   "execution_count": null,
   "id": "6a77d37f-c723-47c8-8107-6cae1f7b972d",
   "metadata": {},
   "outputs": [],
   "source": [
    "test_adata = sc.read(\"/work/SCIB/scib_scGen/new_fixed_datasets_scgen/adata_post_with_latent_and_reconstructed_focal_cortical_scGen_raw_fixed.h5ad\")"
   ]
  },
  {
   "cell_type": "code",
   "execution_count": null,
   "id": "2c6588ae-772e-45d3-a05d-113edff623d9",
   "metadata": {},
   "outputs": [],
   "source": [
    "test_adata.obs[\"assay_ontology_term_id\"]"
   ]
  },
  {
   "cell_type": "code",
   "execution_count": null,
   "id": "c8bdf6d3-40ff-48d1-b040-9593a6ee7f17",
   "metadata": {},
   "outputs": [],
   "source": [
    "def test_batch_effects(test_adata, basis='umap.rna.harmony', min_unique=2, max_unique=50):\n",
    "    import matplotlib.pyplot as plt\n",
    "    import scanpy as sc\n",
    "\n",
    "    for col in test_adata.obs.columns:\n",
    "        n_unique = test_adata.obs[col].nunique()\n",
    "        if test_adata.obs[col].dtype.name == 'category' and min_unique <= n_unique <= max_unique:\n",
    "            print(f\"Plotting {col} ({n_unique} unique values)\")\n",
    "            sc.pl.embedding(test_adata, basis=basis, color=col, title=f\"Colored by {col}\", frameon=False)\n"
   ]
  },
  {
   "cell_type": "code",
   "execution_count": null,
   "id": "6749c448-a2a4-47c9-9fd2-76a86ec71318",
   "metadata": {},
   "outputs": [],
   "source": [
    "test_batch_effects(test_adata)"
   ]
  },
  {
   "cell_type": "code",
   "execution_count": null,
   "id": "3309b78f-96a1-46b3-af35-c5b6e9a9b97a",
   "metadata": {},
   "outputs": [],
   "source": [
    "reconstructed_data = sc.read(\"/work/SCIB/scib_scGen/new_fixed_datasets_scgen/adata_post_with_latent_and_reconstructed_focal_cortical_scGen_raw_fixed.h5ad\")"
   ]
  },
  {
   "cell_type": "code",
   "execution_count": null,
   "id": "c1750085-27ed-4108-94df-d3aee387854c",
   "metadata": {},
   "outputs": [],
   "source": [
    "reconstructed_data"
   ]
  },
  {
   "cell_type": "code",
   "execution_count": null,
   "id": "0f61c151-88d7-43b7-a8e4-b6e2b2b5b1e6",
   "metadata": {
    "scrolled": true
   },
   "outputs": [],
   "source": [
    "# Final  version with test_adata \n",
    "\n",
    "results = scib.metrics.metrics_fast(\n",
    "    test_adata,         # original dataset\n",
    "    reconstructed_data,   # the dataset with the reconstruction\n",
    "    batch_key=\"donor_id\",\n",
    "    label_key=\"cell_type\",\n",
    "    embed=\"CPA_pred\",   # specify embedding in reconstructed dataset\n",
    "\n",
    ")\n",
    "\n",
    "\n",
    "print(results)\n",
    "\n"
   ]
  },
  {
   "cell_type": "code",
   "execution_count": null,
   "id": "7199d887-9f09-4406-b922-71c8cb421561",
   "metadata": {},
   "outputs": [],
   "source": [
    "test_adata.obs[\"dpt_pseudotime\"] = 0"
   ]
  },
  {
   "cell_type": "code",
   "execution_count": null,
   "id": "72c87e5b-90eb-4ff6-9818-c642ca627da7",
   "metadata": {
    "scrolled": true
   },
   "outputs": [],
   "source": [
    "from scib.metrics.metrics import metrics\n",
    "\n",
    "results = metrics(\n",
    "    test_adata,             # original AnnData\n",
    "    reconstructed_data,     # AnnData with your embedding / reconstruction\n",
    "    batch_key=\"donor_id\",\n",
    "    label_key=\"cell_type\",\n",
    "    embed=\"X_reconstructed\",  # if you want silhouette + neighbors on your reconstructed embedding\n",
    "    # --- FLAGS (defaults are True unless you override) ---\n",
    "    isolated_labels_asw_=True,\n",
    "    silhouette_=True,\n",
    "    hvg_score_=False,         # ← disable HVG overlap\n",
    "    graph_conn_=True,\n",
    "    pcr_=True,\n",
    "    isolated_labels_f1_=True,\n",
    "    trajectory_=True,\n",
    "    nmi_=True,\n",
    "    ari_=True,\n",
    "    cell_cycle_=True,\n",
    "    kBET_=True,\n",
    "    ilisi_=True,\n",
    "    clisi_=True,\n",
    "    # --- your extra kwargs, e.g. organism ---\n",
    "    organism=\"human\",\n",
    ")\n",
    "print(results)\n"
   ]
  },
  {
   "cell_type": "code",
   "execution_count": null,
   "id": "ead2a407-7ca4-4d74-a6fa-d22c96a1e9de",
   "metadata": {},
   "outputs": [],
   "source": []
  },
  {
   "cell_type": "code",
   "execution_count": null,
   "id": "81be7acf-a627-433b-9b02-b6c54a589277",
   "metadata": {},
   "outputs": [],
   "source": [
    "sc.pl.umap(test_adata, color=[\"donor_id\", \"mapped_reference_annotation\"])"
   ]
  }
 ],
 "metadata": {
  "kernelspec": {
   "display_name": "Python 3 ",
   "language": "python",
   "name": "python3"
  },
  "language_info": {
   "codemirror_mode": {
    "name": "ipython",
    "version": 3
   },
   "file_extension": ".py",
   "mimetype": "text/x-python",
   "name": "python",
   "nbconvert_exporter": "python",
   "pygments_lexer": "ipython3",
   "version": "3.12.10"
  }
 },
 "nbformat": 4,
 "nbformat_minor": 5
}

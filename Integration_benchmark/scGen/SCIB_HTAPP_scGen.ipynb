{
 "cells": [
  {
   "cell_type": "code",
   "execution_count": null,
   "id": "03048f91-b7cf-40ba-914f-5823b18541e0",
   "metadata": {},
   "outputs": [],
   "source": [
    "import scib\n",
    "import scanpy as sc"
   ]
  },
  {
   "cell_type": "code",
   "execution_count": null,
   "id": "45a4f1c2-f3ec-4221-b47b-386acbc736b2",
   "metadata": {},
   "outputs": [],
   "source": [
    "test_adata = sc.read(\"/work/SCIB/scib_scGen/batch_removed_data/adata_post_with_latent_and_reconstructed_HTAPP_scGen_final_raw_batch_remove.h5ad\")"
   ]
  },
  {
   "cell_type": "code",
   "execution_count": null,
   "id": "ba3bdcf0-ec19-492b-bc89-c7f1c52db41a",
   "metadata": {},
   "outputs": [],
   "source": [
    "celltype_batch_counts = test_adata.obs.groupby([\"cell_type\", \"replicate\"]).size().unstack(fill_value=0)\n",
    "print(celltype_batch_counts)\n"
   ]
  },
  {
   "cell_type": "code",
   "execution_count": null,
   "id": "0bd2f63c-e7b9-436f-8b43-17958684991a",
   "metadata": {},
   "outputs": [],
   "source": [
    "reconstructed_data = sc.read(\"/work/SCIB/scib_scGen/batch_removed_data/adata_post_with_latent_and_reconstructed_HTAPP_scGen_final_raw_batch_remove.h5ad\")"
   ]
  },
  {
   "cell_type": "code",
   "execution_count": null,
   "id": "8ff1f94a-7e1c-4c3b-a9b2-8bf8e54d54c1",
   "metadata": {},
   "outputs": [],
   "source": [
    "test_adata.obs[\"dpt_pseudotime\"] = 0"
   ]
  },
  {
   "cell_type": "code",
   "execution_count": null,
   "id": "4f3edb75-9a35-4078-8e77-4eb59440bd03",
   "metadata": {
    "scrolled": true
   },
   "outputs": [],
   "source": [
    "# Final  version with adata \n",
    "kwargs = {\"organism\":\"human\"}\n",
    "results = scib.metrics.metrics_all(\n",
    "    test_adata,         # original dataset\n",
    "    reconstructed_data,   # the dataset with the reconstruction\n",
    "    batch_key=\"replicate\",\n",
    "    label_key=\"cell_type\",\n",
    "    embed=\"X_reconstructed\",   # specify embedding in reconstructed dataset, \n",
    "    **kwargs\n",
    ")\n",
    "\n",
    "\n",
    "print(results)"
   ]
  },
  {
   "cell_type": "code",
   "execution_count": null,
   "id": "d0e77c03-96ff-4f0f-b23c-bb5d7c7afe26",
   "metadata": {},
   "outputs": [],
   "source": []
  }
 ],
 "metadata": {
  "kernelspec": {
   "display_name": "Python 3 ",
   "language": "python",
   "name": "python3"
  },
  "language_info": {
   "codemirror_mode": {
    "name": "ipython",
    "version": 3
   },
   "file_extension": ".py",
   "mimetype": "text/x-python",
   "name": "python",
   "nbconvert_exporter": "python",
   "pygments_lexer": "ipython3",
   "version": "3.12.10"
  }
 },
 "nbformat": 4,
 "nbformat_minor": 5
}

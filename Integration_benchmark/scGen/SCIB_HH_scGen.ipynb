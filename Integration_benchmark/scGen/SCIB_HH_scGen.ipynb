{
 "cells": [
  {
   "cell_type": "code",
   "execution_count": null,
   "id": "bfcd8c8e-9ff7-47f6-b85b-eae4ab8e2961",
   "metadata": {},
   "outputs": [],
   "source": [
    "import scib\n",
    "import scanpy as sc"
   ]
  },
  {
   "cell_type": "code",
   "execution_count": null,
   "id": "715fff8e-78d9-46e9-a6ac-f12e9af189f6",
   "metadata": {},
   "outputs": [],
   "source": [
    "test_adata = sc.read(\"/work/SCIB/scib_scGen/batch_removed_data/scGen_HH_raw_fix_adata_post_with_latent_and_recon_batch_removed (1).h5ad\")"
   ]
  },
  {
   "cell_type": "code",
   "execution_count": null,
   "id": "4846aefa-4a9e-48f1-8bcf-c8516aea4be5",
   "metadata": {},
   "outputs": [],
   "source": []
  },
  {
   "cell_type": "code",
   "execution_count": null,
   "id": "df6cb973-5252-4a73-9cdf-c01b3dfc403b",
   "metadata": {},
   "outputs": [],
   "source": [
    "test_adata"
   ]
  },
  {
   "cell_type": "code",
   "execution_count": null,
   "id": "4eb68592-76ca-4aad-b4e9-133dfcdadeb3",
   "metadata": {},
   "outputs": [],
   "source": [
    "test_adata_check = sc.read(\"/work/test_adata_CHECKING.h5ad\")"
   ]
  },
  {
   "cell_type": "code",
   "execution_count": null,
   "id": "50397267-fde1-4b99-a0f4-dfa686b04768",
   "metadata": {},
   "outputs": [],
   "source": [
    "test_adata_check"
   ]
  },
  {
   "cell_type": "code",
   "execution_count": null,
   "id": "46dd3b27-a968-4835-a252-4979527a1fdb",
   "metadata": {},
   "outputs": [],
   "source": [
    "reconstructed_data = sc.read(\"/work/SCIB/scib_scGen/batch_removed_data/scGen_HH_raw_fix_adata_post_with_latent_and_recon_batch_removed (1).h5ad\")"
   ]
  },
  {
   "cell_type": "code",
   "execution_count": null,
   "id": "41d4d4c1-870e-403a-9910-8c77bc23db11",
   "metadata": {},
   "outputs": [],
   "source": [
    "reconstructed_data"
   ]
  },
  {
   "cell_type": "code",
   "execution_count": null,
   "id": "2d42aa6d-e8a7-47e5-a8ad-2001bbfe4b96",
   "metadata": {
    "scrolled": true
   },
   "outputs": [],
   "source": [
    "# Final  version with test_adata \n",
    "\n",
    "results = scib.metrics.metrics_fast(\n",
    "    test_adata,         # original dataset\n",
    "    reconstructed_data,   # the dataset with the reconstruction\n",
    "    batch_key=\"donor_id\",\n",
    "    label_key=\"cell_type\",\n",
    "    embed=\"CPA_pred\",   # specify embedding in reconstructed dataset\n",
    "\n",
    ")\n",
    "\n",
    "\n",
    "print(results)\n",
    "\n",
    "\n"
   ]
  },
  {
   "cell_type": "code",
   "execution_count": null,
   "id": "61455051-dda7-4eff-af5f-b93e50208884",
   "metadata": {},
   "outputs": [],
   "source": [
    "test_adata.obs[\"dpt_pseudotime\"] = 0"
   ]
  },
  {
   "cell_type": "code",
   "execution_count": null,
   "id": "80ba86da-d00a-4d99-afe3-d629eacfc80d",
   "metadata": {
    "scrolled": true
   },
   "outputs": [],
   "source": [
    "# Final  version with adata \n",
    "kwargs = {\"organism\":\"human\"}\n",
    "results = scib.metrics.metrics_all(\n",
    "    test_adata,         # original dataset\n",
    "    reconstructed_data,   # the dataset with the reconstruction\n",
    "    batch_key=\"donor_id\",\n",
    "    label_key=\"cell_type\",\n",
    "    embed=\"X_reconstructed\",   # specify embedding in reconstructed dataset, \n",
    "    **kwargs\n",
    ")\n",
    "\n",
    "\n",
    "print(results)"
   ]
  },
  {
   "cell_type": "code",
   "execution_count": null,
   "id": "149cf029-50c6-40e1-9e09-0cbfd6163752",
   "metadata": {
    "scrolled": true
   },
   "outputs": [],
   "source": [
    "from scib.metrics.metrics import metrics\n",
    "\n",
    "results = metrics(\n",
    "    test_adata,             # original AnnData\n",
    "    reconstructed_data,     # AnnData with your embedding / reconstruction\n",
    "    batch_key=\"donor_id\",\n",
    "    label_key=\"cell_type\",\n",
    "    embed=\"X_reconstructed\",  # if you want silhouette + neighbors on your reconstructed embedding\n",
    "    # --- FLAGS (defaults are True unless you override) ---\n",
    "    isolated_labels_asw_=True,\n",
    "    silhouette_=True,\n",
    "    hvg_score_=False,         # ← disable HVG overlap\n",
    "    graph_conn_=True,\n",
    "    pcr_=True,\n",
    "    isolated_labels_f1_=True,\n",
    "    trajectory_=True,\n",
    "    nmi_=True,\n",
    "    ari_=True,\n",
    "    cell_cycle_=True,\n",
    "    kBET_=True,\n",
    "    ilisi_=True,\n",
    "    clisi_=True,\n",
    "    # --- your extra kwargs, e.g. organism ---\n",
    "    organism=\"human\",\n",
    ")\n",
    "print(results)"
   ]
  },
  {
   "cell_type": "code",
   "execution_count": null,
   "id": "10d0f34f-b084-4916-9225-6d54a0d58a90",
   "metadata": {},
   "outputs": [],
   "source": [
    "test_adata_check.obs[\"dpt_pseudotime\"] = 0"
   ]
  },
  {
   "cell_type": "code",
   "execution_count": null,
   "id": "59d2e5eb-6e88-4fdc-8541-0bdddf8eb79c",
   "metadata": {
    "scrolled": true
   },
   "outputs": [],
   "source": [
    "###EXTRA CHECK###\n",
    "\n",
    "from scib.metrics.metrics import metrics\n",
    "\n",
    "results = metrics(\n",
    "    test_adata_check,             # original AnnData\n",
    "    reconstructed_data,     # AnnData with your embedding / reconstruction\n",
    "    batch_key=\"donor_id\",\n",
    "    label_key=\"cell_type\",\n",
    "    embed=\"X_reconstructed\",  # if you want silhouette + neighbors on your reconstructed embedding\n",
    "    # --- FLAGS (defaults are True unless you override) ---\n",
    "    isolated_labels_asw_=True,\n",
    "    silhouette_=True,\n",
    "    hvg_score_=False,         # ← disable HVG overlap\n",
    "    graph_conn_=True,\n",
    "    pcr_=True,\n",
    "    isolated_labels_f1_=True,\n",
    "    trajectory_=True,\n",
    "    nmi_=True,\n",
    "    ari_=True,\n",
    "    cell_cycle_=True,\n",
    "    kBET_=True,\n",
    "    ilisi_=True,\n",
    "    clisi_=True,\n",
    "    # --- your extra kwargs, e.g. organism ---\n",
    "    organism=\"human\",\n",
    ")\n",
    "print(results)"
   ]
  },
  {
   "cell_type": "code",
   "execution_count": null,
   "id": "23217868-f77e-4d45-b7be-c46e44340701",
   "metadata": {},
   "outputs": [],
   "source": []
  }
 ],
 "metadata": {
  "kernelspec": {
   "display_name": "Python 3 ",
   "language": "python",
   "name": "python3"
  },
  "language_info": {
   "codemirror_mode": {
    "name": "ipython",
    "version": 3
   },
   "file_extension": ".py",
   "mimetype": "text/x-python",
   "name": "python",
   "nbconvert_exporter": "python",
   "pygments_lexer": "ipython3",
   "version": "3.12.10"
  }
 },
 "nbformat": 4,
 "nbformat_minor": 5
}

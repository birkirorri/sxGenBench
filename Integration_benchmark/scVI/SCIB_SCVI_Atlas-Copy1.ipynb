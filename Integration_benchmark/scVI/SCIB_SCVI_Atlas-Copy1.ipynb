{
 "cells": [
  {
   "cell_type": "code",
   "execution_count": null,
   "id": "6e869a41-fa6e-43dc-a80e-9c5ab70c928a",
   "metadata": {
    "scrolled": true
   },
   "outputs": [],
   "source": [
    "pip install scib"
   ]
  },
  {
   "cell_type": "code",
   "execution_count": null,
   "id": "8331f2d5-a7d9-49dc-9dd7-80104c10c209",
   "metadata": {},
   "outputs": [],
   "source": [
    "import scib\n",
    "import scanpy as sc"
   ]
  },
  {
   "cell_type": "code",
   "execution_count": null,
   "id": "ad108c6c-7b57-4325-bcee-20f47ff82520",
   "metadata": {},
   "outputs": [],
   "source": [
    "test_adata = sc.read(\"/work/SCIB/scib_scVI/new_batch/adata_post_with_latent_and_reconstructed_SCALTAS_RERUN_finalbatch_2.h5ad\")"
   ]
  },
  {
   "cell_type": "code",
   "execution_count": null,
   "id": "257513cc-33f7-4186-9bda-0415d3e8c1bc",
   "metadata": {},
   "outputs": [],
   "source": [
    "test_adata"
   ]
  },
  {
   "cell_type": "code",
   "execution_count": null,
   "id": "702f43cc-d5f3-490b-acd1-c0b124db64c2",
   "metadata": {},
   "outputs": [],
   "source": [
    "reconstructed_data = sc.read(\"/work/SCIB/scib_scVI/new_batch/adata_post_with_latent_and_reconstructed_SCALTAS_RERUN_finalbatch_2.h5ad\")"
   ]
  },
  {
   "cell_type": "code",
   "execution_count": null,
   "id": "4d2b8947-9195-4554-8baf-d777a36c9757",
   "metadata": {},
   "outputs": [],
   "source": [
    "reconstructed_data"
   ]
  },
  {
   "cell_type": "code",
   "execution_count": null,
   "id": "ef4e7358-0b15-4b07-87e7-0bd6c044594f",
   "metadata": {},
   "outputs": [],
   "source": [
    "test_adata.obs[\"dpt_pseudotime\"] = 0"
   ]
  },
  {
   "cell_type": "code",
   "execution_count": null,
   "id": "13651cfa-01a5-491b-ac78-c4455e8ff310",
   "metadata": {
    "scrolled": true
   },
   "outputs": [],
   "source": [
    "from scib.metrics.metrics import metrics\n",
    "\n",
    "results = metrics(\n",
    "    test_adata,             # original AnnData\n",
    "    reconstructed_data,     # AnnData with your embedding / reconstruction\n",
    "    batch_key=\"donor_id\",\n",
    "    label_key=\"cell_type\",\n",
    "    embed=\"X_reconstructed\",  # if you want silhouette + neighbors on your reconstructed embedding\n",
    "    # --- FLAGS (defaults are True unless you override) ---\n",
    "    isolated_labels_asw_=True,\n",
    "    silhouette_=True,\n",
    "    hvg_score_=False,         # ← disable HVG overlap\n",
    "    graph_conn_=True,\n",
    "    pcr_=True,\n",
    "    isolated_labels_f1_=True,\n",
    "    trajectory_=True,\n",
    "    nmi_=True,\n",
    "    ari_=True,\n",
    "    cell_cycle_=True,\n",
    "    kBET_=True,\n",
    "    ilisi_=True,\n",
    "    clisi_=True,\n",
    "    # --- your extra kwargs, e.g. organism ---\n",
    "    organism=\"human\",\n",
    ")\n",
    "print(results)\n"
   ]
  },
  {
   "cell_type": "code",
   "execution_count": null,
   "id": "414f9f49-2e2c-4ca7-aa07-a593d5418c16",
   "metadata": {},
   "outputs": [],
   "source": []
  }
 ],
 "metadata": {
  "kernelspec": {
   "display_name": "Python 3 ",
   "language": "python",
   "name": "python3"
  },
  "language_info": {
   "codemirror_mode": {
    "name": "ipython",
    "version": 3
   },
   "file_extension": ".py",
   "mimetype": "text/x-python",
   "name": "python",
   "nbconvert_exporter": "python",
   "pygments_lexer": "ipython3",
   "version": "3.12.10"
  }
 },
 "nbformat": 4,
 "nbformat_minor": 5
}

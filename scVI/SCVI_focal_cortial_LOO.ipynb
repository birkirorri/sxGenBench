{
 "cells": [
  {
   "cell_type": "code",
   "execution_count": null,
   "id": "53975994-dfac-4dbc-92d3-96f730024979",
   "metadata": {},
   "outputs": [],
   "source": [
    "import os\n",
    "import tempfile\n",
    "import scanpy as sc\n",
    "import scvi\n",
    "import seaborn as sns\n",
    "import torch\n",
    "\n",
    "import numpy as np\n",
    "from sklearn.metrics import r2_score, mean_squared_error, mean_absolute_error"
   ]
  },
  {
   "cell_type": "code",
   "execution_count": null,
   "id": "75190c0a-48a1-4482-993c-c937210b6114",
   "metadata": {},
   "outputs": [],
   "source": [
    "#scvi.settings.seed = 0\n",
    "print(\"Last run with scvi-tools version:\", scvi.__version__) # 1.2.2 when running cpu but 1.2.1 when running GPU"
   ]
  },
  {
   "cell_type": "code",
   "execution_count": null,
   "id": "cce1b5f7-45ef-48d8-b435-407c3b6a1ee7",
   "metadata": {},
   "outputs": [],
   "source": [
    "adata = sc.read(\"/work/SCVI_models/Focal_cortical_RAW/focal_cortical_processed_RAW.h5ad\")"
   ]
  },
  {
   "cell_type": "code",
   "execution_count": null,
   "id": "12700b8b-4e90-4b23-b7c9-b798556f0415",
   "metadata": {},
   "outputs": [],
   "source": [
    "adata"
   ]
  },
  {
   "cell_type": "code",
   "execution_count": null,
   "id": "a869db40-79f1-4bde-b8d8-f604e009e2f3",
   "metadata": {},
   "outputs": [],
   "source": [
    "# Subset the data\n",
    "subset_mask = (adata.obs['sex'] == 'male') & (adata.obs['cell_type'] == 'microglial cell')\n",
    "subset_adata = adata[subset_mask].copy()  \n",
    "train_adata = adata[~subset_mask].copy()  # Training data is everything except the subset"
   ]
  },
  {
   "cell_type": "code",
   "execution_count": null,
   "id": "cd6aa19b-78b9-4b7d-a90f-4fa47463a781",
   "metadata": {},
   "outputs": [],
   "source": [
    "train_adata"
   ]
  },
  {
   "cell_type": "code",
   "execution_count": null,
   "id": "641f316b-8a65-488a-b11f-99346686ab0d",
   "metadata": {},
   "outputs": [],
   "source": [
    "subset_adata"
   ]
  },
  {
   "cell_type": "code",
   "execution_count": null,
   "id": "6bf18fa2-6bca-42d7-a088-2e2d12fe8a71",
   "metadata": {},
   "outputs": [],
   "source": [
    "subset_adata.obs[\"cell_type\"]"
   ]
  },
  {
   "cell_type": "code",
   "execution_count": null,
   "id": "e630e6f5-8de5-4db3-9d17-6ef25a4dc743",
   "metadata": {},
   "outputs": [],
   "source": [
    "print(train_adata.obs.groupby(['sex', 'cell_type']).size())"
   ]
  },
  {
   "cell_type": "code",
   "execution_count": null,
   "id": "9d7322d0-0e2f-4487-8bef-7334fd37e8e3",
   "metadata": {},
   "outputs": [],
   "source": [
    "train_adata.obs[\"cell_type\"]"
   ]
  },
  {
   "cell_type": "code",
   "execution_count": null,
   "id": "09cbe363-83ee-4fe1-b2c6-99e02c9d0380",
   "metadata": {},
   "outputs": [],
   "source": [
    "scvi.model.SCVI.setup_anndata(\n",
    "    train_adata,\n",
    "    layer=None,\n",
    "    categorical_covariate_keys=[\"cell_type\", \"sex\", \"donor_id\", \"development_stage_ontology_term_id\", \"tissue\", \"lateralization\"],\n",
    "    continuous_covariate_keys=None,\n",
    ")"
   ]
  },
  {
   "cell_type": "code",
   "execution_count": null,
   "id": "082462f0-b588-470f-a98a-3d129bb97da3",
   "metadata": {},
   "outputs": [],
   "source": [
    "model = scvi.model.SCVI(train_adata, n_layers=2, n_latent=30, gene_likelihood=\"nb\")"
   ]
  },
  {
   "cell_type": "code",
   "execution_count": null,
   "id": "5b4f847a-0f4d-4931-b2d5-e77f70f68ad3",
   "metadata": {},
   "outputs": [],
   "source": [
    "model"
   ]
  },
  {
   "cell_type": "code",
   "execution_count": null,
   "id": "ff0b194e-9377-40a7-b438-baf1ddf7f08c",
   "metadata": {},
   "outputs": [],
   "source": [
    "model.train()"
   ]
  },
  {
   "cell_type": "code",
   "execution_count": null,
   "id": "7ac6a06b-a429-49e9-a3e8-278a74f3bca8",
   "metadata": {},
   "outputs": [],
   "source": [
    "model.save(\"/work/SCVI_models/LOO_models_SCVI_NEW/SCVI_focal_fortical_LOO_raw_fixed_data\")"
   ]
  },
  {
   "cell_type": "code",
   "execution_count": null,
   "id": "4eef1c9a-d38a-4bec-8a28-6eaa928931ac",
   "metadata": {},
   "outputs": [],
   "source": [
    "# 1. Define the two subsets:\n",
    "#    - true male slow‐muscle cells (the “ground truth” we withheld)\n",
    "#true_male = adata[(adata.obs[\"sex\"] == \"male\") &\n",
    " #                 (adata.obs[\"cell_type\"] == \"microglial cell\")].copy()\n",
    "\n",
    "\n",
    "#    - female slow‐muscle cells (these are in the training AnnData)\n",
    "female_microglial = train_adata[(train_adata.obs[\"sex\"] == \"female\") &\n",
    "                          (train_adata.obs[\"cell_type\"] == \"microglial cell\")].copy()"
   ]
  },
  {
   "cell_type": "code",
   "execution_count": null,
   "id": "3ec1b1bc-91da-4a55-9c6a-33ac307d9725",
   "metadata": {},
   "outputs": [],
   "source": [
    "library_female=female_microglial.X.sum(axis = 1)"
   ]
  },
  {
   "cell_type": "code",
   "execution_count": null,
   "id": "f14f9af2-3d44-4bda-bf97-9461dbeaad44",
   "metadata": {},
   "outputs": [],
   "source": [
    "# 2. Baseline prediction: leave them as female\n",
    "#    would be same as rec2 in biolord\n",
    "y_pred_base = model.get_normalized_expression(\n",
    "    female_microglial, return_numpy=True\n",
    ")  # shape: (n_cells, n_genes)"
   ]
  },
  {
   "cell_type": "code",
   "execution_count": null,
   "id": "9cf1fc08-9b41-422d-8359-bc797e74ab0b",
   "metadata": {},
   "outputs": [],
   "source": [
    "library_female=female_microglial.X.sum(axis = 1)"
   ]
  },
  {
   "cell_type": "code",
   "execution_count": null,
   "id": "dc98ef4a-bae6-44a9-9bf3-02cea2be343b",
   "metadata": {},
   "outputs": [],
   "source": [
    "library_female = np.array(library_female.flatten())"
   ]
  },
  {
   "cell_type": "code",
   "execution_count": null,
   "id": "82b84e49-aa4a-4b59-a8c7-d97f4d31a3bc",
   "metadata": {},
   "outputs": [],
   "source": [
    "rec_female = (library_female * y_pred_base.T ).T"
   ]
  },
  {
   "cell_type": "code",
   "execution_count": null,
   "id": "d1a3eadc-ba2b-49a3-92a4-08a650c9078d",
   "metadata": {},
   "outputs": [],
   "source": [
    "# 3. Counterfactual prediction: flip sex → male\n",
    "cf = female_microglial.copy()\n",
    "cf.obs[\"sex\"] = \"male\""
   ]
  },
  {
   "cell_type": "code",
   "execution_count": null,
   "id": "e26b5e70-46eb-4064-8694-c28e0a2d9246",
   "metadata": {},
   "outputs": [],
   "source": [
    "y_pred_cf = model.get_normalized_expression(\n",
    "    cf, return_numpy=True\n",
    ")"
   ]
  },
  {
   "cell_type": "code",
   "execution_count": null,
   "id": "976cce8d-1145-4274-87f5-59b177f99c9a",
   "metadata": {},
   "outputs": [],
   "source": []
  },
  {
   "cell_type": "code",
   "execution_count": null,
   "id": "2be6f0f8-ffed-4118-a1c1-e1770af26a76",
   "metadata": {},
   "outputs": [],
   "source": [
    "library_counter = np.array(library_counter.flatten())"
   ]
  },
  {
   "cell_type": "code",
   "execution_count": null,
   "id": "9bcc7151-54ea-47d8-a149-0fa46e2744c8",
   "metadata": {},
   "outputs": [],
   "source": [
    "library_counter=cf.X.sum(axis = 1)"
   ]
  },
  {
   "cell_type": "code",
   "execution_count": null,
   "id": "fc593b11-5cad-4c03-b0a6-c14e940604bb",
   "metadata": {},
   "outputs": [],
   "source": [
    "rec_cf_male = (library_counter * y_pred_cf.T ).T"
   ]
  },
  {
   "cell_type": "code",
   "execution_count": null,
   "id": "1c7217d4-dd74-43b7-9058-e612f0e1c5ec",
   "metadata": {},
   "outputs": [],
   "source": []
  },
  {
   "cell_type": "code",
   "execution_count": null,
   "id": "5d3cde90-14c6-4ca7-bf26-5e13f7706bb8",
   "metadata": {},
   "outputs": [],
   "source": [
    "#  Compute per-gene prediction means \n",
    "baseline_pred_mean = np.asarray(rec_female.mean(axis=0)).ravel()\n",
    "cf_pred_mean = np.asarray(rec_cf_male.mean(axis=0)).ravel()"
   ]
  },
  {
   "cell_type": "code",
   "execution_count": null,
   "id": "8d8601a1-56b4-40dc-a3a1-432bc255a3f7",
   "metadata": {},
   "outputs": [],
   "source": [
    "# 4. Rescale to counts using each cell’s library size (if you want raw‐count scale)\n",
    "lib = np.array(female_microglial.X.sum(axis=1)).flatten()  # (n_cells,)\n",
    "rec2 = (lib[:, None] * y_pred_base)   # baseline\n",
    "rec  = (lib[:, None] * y_pred_cf)     # counterfactual"
   ]
  },
  {
   "cell_type": "code",
   "execution_count": null,
   "id": "4d275e8d-0e07-47b5-8c25-bb8ba2fb650e",
   "metadata": {},
   "outputs": [],
   "source": [
    "# Compute per-gene ground-truth means\n",
    "# Gt for females is now females with hepatocytes\n",
    "\n",
    "female_gt = (\n",
    "    female_microglial.X.toarray().mean(axis=0)\n",
    "    if hasattr(female_microglial.X, \"toarray\")\n",
    "    else female_microglial.X.mean(axis=0)\n",
    ")\n",
    "\n",
    "\n",
    "#    Gt for the male is now the held out dataset\n",
    "male_gt = (\n",
    "    subset_adata.X.toarray().mean(axis=0)\n",
    "    if hasattr(subset_adata.X, \"toarray\")\n",
    "    else subset_adata.X.mean(axis=0)\n",
    ")\n"
   ]
  },
  {
   "cell_type": "code",
   "execution_count": null,
   "id": "73875209-670a-4f0b-aebb-3c65a9d99978",
   "metadata": {},
   "outputs": [],
   "source": [
    "f_m = np.sqrt(np.mean((baseline_pred_mean - male_gt)**2)) #pred-F --- TM\n",
    "m_m = np.sqrt(np.mean((cf_pred_mean - male_gt)**2)) # pred_M --- TM\n",
    "f_f  =np.sqrt(np.mean((baseline_pred_mean - female_gt)**2)) # pref F ----- TF\n",
    "m_f = np.sqrt(np.mean((cf_pred_mean - female_gt)**2)) # pref M ---- TF\n",
    "\n",
    "print(f\"RMSE pred F --- TM: {f_m:.4f}\")\n",
    "print(f\"RMSE pred M --- TM (counterfactual)  : {m_m:.4f}\")\n",
    "print(f\"RMSE pred F ----- TF : {f_f:.4f}\")\n",
    "print(f\"RMSE pred M ---- TF (counterfactual)  : {m_f:.4f}\")"
   ]
  },
  {
   "cell_type": "code",
   "execution_count": null,
   "id": "1b16c0d9-7f90-43ea-bd78-0019f82966a5",
   "metadata": {},
   "outputs": [],
   "source": [
    "print(\"log_male_gt shape:\", log_male_gt.shape)\n",
    "print(\"log_cf_pred shape:\", log_cf_pred.shape)\n",
    "print(\"log_baseline_pred shape:\", log_baseline_pred.shape)\n"
   ]
  },
  {
   "cell_type": "code",
   "execution_count": null,
   "id": "de3a53f6-400a-4527-9995-3ecb9da67fbf",
   "metadata": {},
   "outputs": [],
   "source": [
    "cf_pred_mean = np.asarray(rec_cf_male.mean(axis=0)).ravel()\n",
    "baseline_pred_mean = np.asarray(rec_female.mean(axis=0)).ravel()"
   ]
  },
  {
   "cell_type": "code",
   "execution_count": null,
   "id": "6ee87de2-692b-4574-bd0b-6f9fee37bdcc",
   "metadata": {},
   "outputs": [],
   "source": [
    "print(\"log_male_gt shape:\", log_male_gt.shape)\n",
    "print(\"log_cf_pred shape:\", cf_pred_mean.shape)\n",
    "print(\"log_baseline_pred shape:\", baseline_pred_mean.shape)"
   ]
  },
  {
   "cell_type": "code",
   "execution_count": null,
   "id": "9156471e-777c-4a02-af31-ee110bc5727e",
   "metadata": {},
   "outputs": [],
   "source": []
  },
  {
   "cell_type": "code",
   "execution_count": null,
   "id": "08b662b0-0b73-4d4d-a052-710b1ace7bd1",
   "metadata": {},
   "outputs": [],
   "source": []
  },
  {
   "cell_type": "code",
   "execution_count": null,
   "id": "82236285-6992-4d48-9dcb-5e3d602a7e71",
   "metadata": {},
   "outputs": [],
   "source": [
    "import numpy as np\n",
    "import seaborn as sns\n",
    "import matplotlib.pyplot as plt\n",
    "\n",
    "# Ensure arrays are 1D\n",
    "log_male_gt = np.log1p(male_gt).ravel()\n",
    "log_cf_pred = np.log1p(cf_pred_mean).ravel()\n",
    "log_baseline_pred = np.log1p(baseline_pred_mean).ravel()\n",
    "\n",
    "# Create the figure and axis\n",
    "fig, ax = plt.subplots(figsize=(10, 6))\n",
    "\n",
    "# Scatter: Counterfactual (Female → Male)\n",
    "sns.scatterplot(\n",
    "    x=log_male_gt, y=log_cf_pred,\n",
    "    alpha=0.7, ax=ax\n",
    ")\n",
    "\n",
    "# Scatter: Baseline (Female → Female)\n",
    "sns.scatterplot(\n",
    "    x=log_male_gt, y=log_baseline_pred,\n",
    "    alpha=0.7, ax=ax\n",
    ")\n",
    "\n",
    "# Identity line\n",
    "mn = min(log_male_gt.min(), log_male_gt.min())\n",
    "mx = max(log_male_gt.max(), log_male_gt.max())\n",
    "ax.plot([mn, mx], [mn, mx], ls=\"--\", color=\"red\")\n",
    "\n",
    "# Labels and legend\n",
    "ax.set_xlabel(\"Log Ground Truth (Male)\")\n",
    "ax.set_ylabel(\"Log Predicted Mean Expression\")\n",
    "ax.set_title(\"Leave-One-Out Analysis\")\n",
    "ax.legend(loc=\"upper left\")\n",
    "plt.tight_layout()\n",
    "plt.show()\n"
   ]
  },
  {
   "cell_type": "code",
   "execution_count": null,
   "id": "44cadf6c-b220-4855-a606-0e498ddb6c51",
   "metadata": {},
   "outputs": [],
   "source": [
    "import matplotlib.pyplot as plt\n",
    "\n",
    "# Define RMSE values\n",
    "rmse_data = [\n",
    "    [\"0.0342\", \"0.0706\"],  # True Female\n",
    "    [\"0.1729\", \"0.1921\"],  # True Male\n",
    "]\n",
    "0.1729\n",
    "# Define labels\n",
    "column_labels = [\"Pred Female\", \"Pred Male (CF)\"]\n",
    "row_labels = [\"True Female\", \"True Male\"]\n",
    "\n",
    "# Create the figure and axis\n",
    "fig, ax = plt.subplots(figsize=(6, 2))\n",
    "ax.axis('tight')\n",
    "ax.axis('off')\n",
    "\n",
    "# Create the table\n",
    "table = ax.table(\n",
    "    cellText=rmse_data,\n",
    "    rowLabels=row_labels,\n",
    "    colLabels=column_labels,\n",
    "    cellLoc='center',\n",
    "    loc='center'\n",
    ")\n",
    "\n",
    "table.scale(1, 2)  # Increase row height\n",
    "table.auto_set_font_size(False)\n",
    "table.set_fontsize(12)\n",
    "\n",
    "# Color the lower row cells\n",
    "# Note: Rows and columns are 1-indexed in table.get_celld()\n",
    "table[(2, 0)].set_facecolor(\"orange\")  # True Male, Pred Female\n",
    "table[(2, 1)].set_facecolor(\"lightblue\")  # True Male, Pred Male\n",
    "\n",
    "plt.title(\"RMSE between Predictions and Ground truth\", pad=20)\n",
    "plt.tight_layout()\n",
    "plt.show()\n"
   ]
  },
  {
   "cell_type": "code",
   "execution_count": null,
   "id": "f82ab9db-dea1-4e09-909a-7814236e0311",
   "metadata": {},
   "outputs": [],
   "source": []
  }
 ],
 "metadata": {
  "kernelspec": {
   "display_name": "Python 3 ",
   "language": "python",
   "name": "python3"
  },
  "language_info": {
   "codemirror_mode": {
    "name": "ipython",
    "version": 3
   },
   "file_extension": ".py",
   "mimetype": "text/x-python",
   "name": "python",
   "nbconvert_exporter": "python",
   "pygments_lexer": "ipython3",
   "version": "3.12.10"
  }
 },
 "nbformat": 4,
 "nbformat_minor": 5
}

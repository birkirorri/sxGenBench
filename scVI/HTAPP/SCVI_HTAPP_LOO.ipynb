{
 "cells": [
  {
   "cell_type": "code",
   "execution_count": null,
   "id": "39e927bd-58ae-4eaa-bb1c-6a8587f2cb21",
   "metadata": {},
   "outputs": [],
   "source": [
    "import os\n",
    "import tempfile\n",
    "import scanpy as sc\n",
    "import scvi\n",
    "import seaborn as sns\n",
    "import torch\n",
    "\n",
    "import numpy as np\n",
    "from sklearn.metrics import r2_score, mean_squared_error, mean_absolute_error"
   ]
  },
  {
   "cell_type": "code",
   "execution_count": null,
   "id": "f5130ecd-5bdc-41d4-b783-d02618452096",
   "metadata": {},
   "outputs": [],
   "source": [
    "#scvi.settings.seed = 0\n",
    "print(\"Last run with scvi-tools version:\", scvi.__version__) # 1.2.2 when running cpu but 1.2.1 when running GPU"
   ]
  },
  {
   "cell_type": "code",
   "execution_count": null,
   "id": "60379634-1620-46df-863f-ef0beea18a78",
   "metadata": {},
   "outputs": [],
   "source": [
    "sc.set_figure_params(figsize=(6, 6), frameon=False)\n",
    "sns.set_theme()\n",
    "torch.set_float32_matmul_precision(\"high\")\n",
    "save_dir = tempfile.TemporaryDirectory()\n",
    "\n",
    "%config InlineBackend.print_figure_kwargs={\"facecolor\": \"w\"}\n",
    "%config InlineBackend.figure_format=\"retina\""
   ]
  },
  {
   "cell_type": "code",
   "execution_count": null,
   "id": "4c007fe9-bf58-414f-871f-bcfd76f7bde2",
   "metadata": {},
   "outputs": [],
   "source": [
    "adata = sc.read(\"/work/SCVI_models/HTAPP_rawdata/HTAPP_997_processed_raw_FINAL.h5ad\")"
   ]
  },
  {
   "cell_type": "code",
   "execution_count": null,
   "id": "90a3daa5-6e5a-4269-abcf-f414da25be8e",
   "metadata": {},
   "outputs": [],
   "source": [
    "adata"
   ]
  },
  {
   "cell_type": "code",
   "execution_count": null,
   "id": "48130117-7ffe-40ed-9c39-ae687401829f",
   "metadata": {},
   "outputs": [],
   "source": [
    "# Subset the data\n",
    "subset_mask = (adata.obs['replicate'] == '1') & (adata.obs['cell_type'] == 'hepatocyte')\n",
    "subset_adata = adata[subset_mask].copy()  \n",
    "train_adata = adata[~subset_mask].copy()  # Training data is everything except the subset"
   ]
  },
  {
   "cell_type": "code",
   "execution_count": null,
   "id": "700f1751-9d9f-4c32-b0b5-808047edf3ab",
   "metadata": {},
   "outputs": [],
   "source": [
    "train_adata"
   ]
  },
  {
   "cell_type": "code",
   "execution_count": null,
   "id": "25d92079-aa0b-419f-bad0-a340b41441cb",
   "metadata": {},
   "outputs": [],
   "source": [
    "subset_adata"
   ]
  },
  {
   "cell_type": "code",
   "execution_count": null,
   "id": "9e5ad884-ecd6-4f30-9e11-dc5de46255f9",
   "metadata": {},
   "outputs": [],
   "source": [
    "subset_adata.obs[\"cell_type\"]"
   ]
  },
  {
   "cell_type": "code",
   "execution_count": null,
   "id": "022c9e0c-66d5-4280-bbc5-3a2e9dd5e330",
   "metadata": {},
   "outputs": [],
   "source": [
    "print(train_adata.obs.groupby(['replicate', 'cell_type']).size())"
   ]
  },
  {
   "cell_type": "code",
   "execution_count": null,
   "id": "27c3a9ac-e553-49af-9df5-41f17222163b",
   "metadata": {},
   "outputs": [],
   "source": [
    "train_adata.obs[\"cell_type\"]"
   ]
  },
  {
   "cell_type": "code",
   "execution_count": null,
   "id": "9da5f286-62cd-4e30-861e-4c5bdbaab737",
   "metadata": {},
   "outputs": [],
   "source": [
    "scvi.model.SCVI.setup_anndata(\n",
    "    train_adata,\n",
    "    layer=None,\n",
    "    categorical_covariate_keys=[\"cell_type\", \"cnv_pass_mal\", \"replicate\", \"compartments\", \"Phase\"],\n",
    "    continuous_covariate_keys=None,\n",
    ")"
   ]
  },
  {
   "cell_type": "code",
   "execution_count": null,
   "id": "476fc12a-ac3b-4cc2-be92-698398229481",
   "metadata": {},
   "outputs": [],
   "source": [
    "model = scvi.model.SCVI(train_adata, n_layers=2, n_latent=30, gene_likelihood=\"nb\")"
   ]
  },
  {
   "cell_type": "code",
   "execution_count": null,
   "id": "4af380e1-3a26-40ed-a063-762cf728edb7",
   "metadata": {},
   "outputs": [],
   "source": [
    "model"
   ]
  },
  {
   "cell_type": "code",
   "execution_count": null,
   "id": "254f2515-8825-4627-8096-99133b6a84e1",
   "metadata": {},
   "outputs": [],
   "source": [
    "model.train()"
   ]
  },
  {
   "cell_type": "code",
   "execution_count": null,
   "id": "344fb979-aeeb-4c4a-8229-be9de88ef398",
   "metadata": {},
   "outputs": [],
   "source": [
    "model.save(\"/work/SCVI_models/LOO_models_SCVI_NEW/SCVI_HTAPP_LOO_raw_fixed_data\")"
   ]
  },
  {
   "cell_type": "code",
   "execution_count": null,
   "id": "d44e6097-907d-40ae-8935-14729775cb08",
   "metadata": {},
   "outputs": [],
   "source": [
    "cf_adata.obs.columns.get_loc(\"sex\")"
   ]
  },
  {
   "cell_type": "code",
   "execution_count": null,
   "id": "914c1e65-f434-4499-8e8c-210f2a775ca8",
   "metadata": {},
   "outputs": [],
   "source": [
    "cf_adata.obs.columns"
   ]
  },
  {
   "cell_type": "code",
   "execution_count": null,
   "id": "69d89ca7-d0db-4598-812f-9766609b0a3d",
   "metadata": {},
   "outputs": [],
   "source": [
    "# 1. Define the two subsets:\n",
    "\n",
    "#    - female slow‐muscle cells (these are in the training AnnData)\n",
    "replicate_2_hepatocyte = train_adata[(train_adata.obs[\"replicate\"] == \"2\") &\n",
    "                          (train_adata.obs[\"cell_type\"] == \"hepatocyte\")].copy()\n",
    "\n",
    "#female_endothelial"
   ]
  },
  {
   "cell_type": "code",
   "execution_count": null,
   "id": "cda91e6e-1171-4560-b721-cd2df2c8b180",
   "metadata": {},
   "outputs": [],
   "source": [
    "library_rep2=replicate_2_hepatocyte.X.sum(axis = 1)"
   ]
  },
  {
   "cell_type": "code",
   "execution_count": null,
   "id": "4d1ab140-2df3-4ff4-abba-1ae6492006e3",
   "metadata": {},
   "outputs": [],
   "source": [
    "# 2. Baseline prediction: leave them as female\n",
    "#    would be same as rec2 in biolord\n",
    "y_pred_base = model.get_normalized_expression(\n",
    "    replicate_2_hepatocyte, return_numpy=True\n",
    ")  # shape: (n_cells, n_genes)"
   ]
  },
  {
   "cell_type": "code",
   "execution_count": null,
   "id": "ef276f8a-d5bd-4b80-8ed9-bb205faf3c51",
   "metadata": {},
   "outputs": [],
   "source": [
    "library_rep2=replicate_2_hepatocyte.X.sum(axis = 1)"
   ]
  },
  {
   "cell_type": "code",
   "execution_count": null,
   "id": "5eb798ad-8d48-4a1e-af78-22ef73c2461d",
   "metadata": {},
   "outputs": [],
   "source": [
    "library_rep2 = np.array(library_rep2.flatten())"
   ]
  },
  {
   "cell_type": "code",
   "execution_count": null,
   "id": "60e9c5eb-0ccf-4bc7-aadc-94fec5ee26b3",
   "metadata": {},
   "outputs": [],
   "source": [
    "rec_female = (library_rep2 * y_pred_base.T ).T"
   ]
  },
  {
   "cell_type": "code",
   "execution_count": null,
   "id": "a7027b60-62d4-479f-82b1-c2cf9f0697b5",
   "metadata": {},
   "outputs": [],
   "source": [
    "# 3. Counterfactual prediction: flip sex → male\n",
    "cf = replicate_2_hepatocyte.copy()\n",
    "cf.obs[\"replicate\"] = \"1\""
   ]
  },
  {
   "cell_type": "code",
   "execution_count": null,
   "id": "859a7520-52ab-4ea6-8d61-7fb80fa7e609",
   "metadata": {},
   "outputs": [],
   "source": [
    "y_pred_cf = model.get_normalized_expression(\n",
    "    cf, return_numpy=True\n",
    ")"
   ]
  },
  {
   "cell_type": "code",
   "execution_count": null,
   "id": "966ea4c9-ea52-43af-948e-eb5691d5a199",
   "metadata": {},
   "outputs": [],
   "source": [
    "library_counter=cf.X.sum(axis = 1)"
   ]
  },
  {
   "cell_type": "code",
   "execution_count": null,
   "id": "9a0687f6-9084-4265-ba7b-a0f8e03b8d89",
   "metadata": {},
   "outputs": [],
   "source": [
    "library_counter = np.array(library_counter.flatten())"
   ]
  },
  {
   "cell_type": "code",
   "execution_count": null,
   "id": "0b1c1056-0506-47c6-b5fe-ddf4f45ff9b4",
   "metadata": {},
   "outputs": [],
   "source": [
    "rec_cf_rep1 = (library_counter * y_pred_cf.T ).T"
   ]
  },
  {
   "cell_type": "code",
   "execution_count": null,
   "id": "626cafb6-6318-4c3f-a86d-22ba10944d17",
   "metadata": {},
   "outputs": [],
   "source": [
    "#  Compute per-gene prediction means \n",
    "baseline_pred_mean = np.asarray(rec_female.mean(axis=0)).ravel()\n",
    "cf_pred_mean = np.asarray(rec_cf_rep1.mean(axis=0)).ravel()"
   ]
  },
  {
   "cell_type": "code",
   "execution_count": null,
   "id": "13360ddf-328e-44ef-84d4-99070e104a7d",
   "metadata": {},
   "outputs": [],
   "source": [
    "# Compute per-gene ground-truth means\n",
    "# Gt for females is now females with hepatocytes\n",
    "\n",
    "rep_2_gt = (\n",
    "    replicate_2_hepatocyte.X.toarray().mean(axis=0)\n",
    "    if hasattr(replicate_2_hepatocyte.X, \"toarray\")\n",
    "    else replicate_2_hepatocyte.X.mean(axis=0)\n",
    ")\n",
    "\n",
    "\n",
    "#    Gt for the male is now the held out dataset\n",
    "rep_1_gt = (\n",
    "    subset_adata.X.toarray().mean(axis=0)\n",
    "    if hasattr(subset_adata.X, \"toarray\")\n",
    "    else subset_adata.X.mean(axis=0)\n",
    ")\n"
   ]
  },
  {
   "cell_type": "code",
   "execution_count": null,
   "id": "cda31307-26c1-4119-b4a7-45df4f33b76b",
   "metadata": {},
   "outputs": [],
   "source": [
    "f_m = np.sqrt(np.mean((baseline_pred_mean - rep_1_gt)**2)) #pred-F --- TM\n",
    "m_m = np.sqrt(np.mean((cf_pred_mean - rep_1_gt)**2)) # pred_M --- TM\n",
    "f_f  =np.sqrt(np.mean((baseline_pred_mean - rep_2_gt)**2)) # pref F ----- TF\n",
    "m_f = np.sqrt(np.mean((cf_pred_mean - rep_2_gt)**2)) # pref M ---- TF\n",
    "\n",
    "print(f\"RMSE pred F --- TM: {f_m:.4f}\")\n",
    "print(f\"RMSE pred M --- TM (counterfactual)  : {m_m:.4f}\")\n",
    "print(f\"RMSE pred F ----- TF : {f_f:.4f}\")\n",
    "print(f\"RMSE pred M ---- TF (counterfactual)  : {m_f:.4f}\")"
   ]
  },
  {
   "cell_type": "code",
   "execution_count": null,
   "id": "9c751da8-86fd-4948-9923-e996ca020896",
   "metadata": {},
   "outputs": [],
   "source": [
    "import matplotlib.pyplot as plt\n",
    "\n",
    "# Define RMSE values\n",
    "rmse_data = [\n",
    "    [\"0.0334\", \"0.0334\"],  # True Female\n",
    "    [\"0.9251\", \"1.1490\"],  # True Male\n",
    "]\n",
    "\n",
    "# Define labels\n",
    "column_labels = [\"Pred Female\", \"Pred Male (CF)\"]\n",
    "row_labels = [\"True Female\", \"True Male\"]\n",
    "\n",
    "# Create the figure and axis\n",
    "fig, ax = plt.subplots(figsize=(6, 2))\n",
    "ax.axis('tight')\n",
    "ax.axis('off')\n",
    "\n",
    "# Create the table\n",
    "table = ax.table(\n",
    "    cellText=rmse_data,\n",
    "    rowLabels=row_labels,\n",
    "    colLabels=column_labels,\n",
    "    cellLoc='center',\n",
    "    loc='center'\n",
    ")\n",
    "\n",
    "table.scale(1, 2)  # Increase row height\n",
    "table.auto_set_font_size(False)\n",
    "table.set_fontsize(12)\n",
    "\n",
    "# Color the lower row cells\n",
    "# Note: Rows and columns are 1-indexed in table.get_celld()\n",
    "table[(2, 0)].set_facecolor(\"orange\")  # True Male, Pred Female\n",
    "table[(2, 1)].set_facecolor(\"lightblue\")  # True Male, Pred Male\n",
    "\n",
    "plt.title(\"RMSE between Predictions and Ground truth\", pad=20)\n",
    "plt.tight_layout()\n",
    "plt.show()\n"
   ]
  },
  {
   "cell_type": "code",
   "execution_count": null,
   "id": "1fe1e0cb-0c23-424b-b0ba-6e11f2c03d2d",
   "metadata": {},
   "outputs": [],
   "source": [
    "import numpy as np\n",
    "import seaborn as sns\n",
    "import matplotlib.pyplot as plt\n",
    "\n",
    "# Ensure arrays are 1D\n",
    "log_male_gt = np.log1p(rep_1_gt).ravel()\n",
    "log_cf_pred = np.log1p(cf_pred_mean).ravel()\n",
    "log_baseline_pred = np.log1p(baseline_pred_mean).ravel()\n",
    "\n",
    "# Create the figure and axis\n",
    "fig, ax = plt.subplots(figsize=(10, 6))\n",
    "\n",
    "# Scatter: Counterfactual (Female → Male)\n",
    "sns.scatterplot(\n",
    "    x=log_male_gt, y=log_cf_pred,\n",
    "    alpha=0.7, ax=ax\n",
    ")\n",
    "\n",
    "# Scatter: Baseline (Female → Female)\n",
    "sns.scatterplot(\n",
    "    x=log_male_gt, y=log_baseline_pred,\n",
    "    alpha=0.7, ax=ax, label=\"Baseline (F→F)\"\n",
    ")\n",
    "\n",
    "# Identity line\n",
    "mn = min(log_male_gt.min(), log_male_gt.min())\n",
    "mx = max(log_male_gt.max(), log_male_gt.max())\n",
    "ax.plot([mn, mx], [mn, mx], ls=\"--\", color=\"red\")\n",
    "\n",
    "# Labels and legend\n",
    "ax.set_xlabel(\"Log Ground Truth (Male)\")\n",
    "ax.set_ylabel(\"Log Predicted Mean Expression\")\n",
    "ax.set_title(\"Leave-One-Out Analysis: Log-Transformed Predictions\")\n",
    "ax.legend(loc=\"upper left\")\n",
    "plt.tight_layout()\n",
    "plt.show()\n"
   ]
  }
 ],
 "metadata": {
  "kernelspec": {
   "display_name": "Python 3 ",
   "language": "python",
   "name": "python3"
  },
  "language_info": {
   "codemirror_mode": {
    "name": "ipython",
    "version": 3
   },
   "file_extension": ".py",
   "mimetype": "text/x-python",
   "name": "python",
   "nbconvert_exporter": "python",
   "pygments_lexer": "ipython3",
   "version": "3.12.10"
  }
 },
 "nbformat": 4,
 "nbformat_minor": 5
}

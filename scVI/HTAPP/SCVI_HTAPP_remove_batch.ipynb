{
 "cells": [
  {
   "cell_type": "code",
   "execution_count": null,
   "id": "72f05bcd-4a16-4540-b843-a7895ad01ace",
   "metadata": {},
   "outputs": [],
   "source": [
    "import os\n",
    "import tempfile\n",
    "\n",
    "import scanpy as sc\n",
    "import scvi\n",
    "import seaborn as sns\n",
    "import torch\n",
    "import numpy as np\n",
    "from sklearn.metrics import r2_score, mean_squared_error, mean_absolute_error"
   ]
  },
  {
   "cell_type": "code",
   "execution_count": null,
   "id": "8651f2b9-6d39-4d2f-a659-19a196ca9641",
   "metadata": {},
   "outputs": [],
   "source": [
    "adata = sc.read(\"/work/SCVI_models/HTAPP_rawdata/HTAPP_997_processed_raw_FINAL.h5ad\")"
   ]
  },
  {
   "cell_type": "code",
   "execution_count": null,
   "id": "d5e43c94-3cb6-4940-94cc-5d74f93488ea",
   "metadata": {},
   "outputs": [],
   "source": [
    "adata"
   ]
  },
  {
   "cell_type": "code",
   "execution_count": null,
   "id": "2827ad20-f0c7-4e62-a13a-67de4a4b473f",
   "metadata": {},
   "outputs": [],
   "source": [
    "adata.obs[\"sex\"]"
   ]
  },
  {
   "cell_type": "code",
   "execution_count": null,
   "id": "26770fe5-9e6f-4330-947f-8cb9af3d21dd",
   "metadata": {},
   "outputs": [],
   "source": [
    "from sklearn.model_selection import train_test_split\n",
    "import numpy as np\n",
    "\n",
    "split_key = \"split\"\n",
    "adata.obs[split_key] = \"train\"\n",
    "idx = list(range(len(adata)))\n",
    "idx_train, idx_test = train_test_split(adata.obs_names, test_size=0.1, random_state=42)\n",
    "adata.obs.loc[idx_train, split_key] = \"train\"\n",
    "adata.obs.loc[idx_test, split_key] = \"test\"\n",
    "\n",
    "\n",
    "# Filter the data to use only the training set and make a copy\n",
    "adata_train = adata[adata.obs[split_key] == \"train\"].copy()\n",
    "adata_test = adata[adata.obs[split_key] == \"test\"].copy()\n"
   ]
  },
  {
   "cell_type": "code",
   "execution_count": null,
   "id": "4c43a6a1-5c5d-45d8-97cf-e6edd57c57ea",
   "metadata": {},
   "outputs": [],
   "source": [
    "scvi.model.SCVI.setup_anndata(adata_train, layer=None, batch_key=\"replicate\")"
   ]
  },
  {
   "cell_type": "code",
   "execution_count": null,
   "id": "d77bbc1c-c8ff-43ac-8f92-5e2cc426c034",
   "metadata": {},
   "outputs": [],
   "source": [
    "model = scvi.model.SCVI(adata_train, n_layers=2, n_latent=30, gene_likelihood=\"nb\")"
   ]
  },
  {
   "cell_type": "code",
   "execution_count": null,
   "id": "365cc3cc-e97c-444b-b5db-c31cbdbc6b92",
   "metadata": {},
   "outputs": [],
   "source": [
    "model"
   ]
  },
  {
   "cell_type": "code",
   "execution_count": null,
   "id": "e9e7bb50-2d08-4b6e-8d03-16777ddbabc0",
   "metadata": {
    "scrolled": true
   },
   "outputs": [],
   "source": [
    "model.train()"
   ]
  },
  {
   "cell_type": "code",
   "execution_count": null,
   "id": "97000e57-8723-4ecf-a3ec-2c4bba9dce6a",
   "metadata": {},
   "outputs": [],
   "source": [
    "model.save(\"work/SCVI_models/HTAPP_SCVImodel_final_raw_may\")"
   ]
  },
  {
   "cell_type": "code",
   "execution_count": null,
   "id": "c49682f7-cb5c-401f-843f-b9c9b022b905",
   "metadata": {},
   "outputs": [],
   "source": [
    "model = scvi.model.SCVI.load(\"work/SCVI_models/HTAPP_SCVImodel_final\", adata=adata_train)"
   ]
  },
  {
   "cell_type": "code",
   "execution_count": null,
   "id": "114b5e25-3ac3-4c66-b5a5-655ff969ace7",
   "metadata": {},
   "outputs": [],
   "source": [
    "library=adata_test.X.sum(axis = 1)\n",
    "#library = adata_test.X.sum(axis = 1)"
   ]
  },
  {
   "cell_type": "code",
   "execution_count": null,
   "id": "025710c3-1971-431c-8fb5-58f8ba7bcf95",
   "metadata": {},
   "outputs": [],
   "source": [
    "# Define the expected categories as used in training.\n",
    "expected_categories = [\n",
    "    'malignant cell', \n",
    "    'endothelial cell of hepatic sinusoid',\n",
    "    'blood vessel endothelial cell', \n",
    "    'fibroblast',\n",
    "    'blood vessel smooth muscle cell', \n",
    "    'hepatic stellate cell', \n",
    "    'hepatocyte',\n",
    "    'neuron', \n",
    "    'macrophage', \n",
    "    'T cell'\n",
    "]\n",
    "\n",
    "# Filter adata_test to include only the expected categories.\n",
    "adata_test = adata_test[adata_test.obs[\"cell_type\"].isin(expected_categories), :].copy()\n"
   ]
  },
  {
   "cell_type": "code",
   "execution_count": null,
   "id": "73bb4c56-0fb4-4c37-b0c8-a6ad047934e8",
   "metadata": {},
   "outputs": [],
   "source": [
    "y_pred = model.get_normalized_expression(adata_test, return_numpy=True)"
   ]
  },
  {
   "cell_type": "code",
   "execution_count": null,
   "id": "26995add-b946-40de-91e7-f8c0806cb036",
   "metadata": {},
   "outputs": [],
   "source": [
    "library = np.array(library.flatten())"
   ]
  },
  {
   "cell_type": "code",
   "execution_count": null,
   "id": "07b00d88-e389-4c69-b304-11a5c0deee2a",
   "metadata": {},
   "outputs": [],
   "source": [
    "y_true = adata_test.X.toarray() if hasattr(adata_test.X, 'toarray') else np.array(adata_test.X)"
   ]
  },
  {
   "cell_type": "code",
   "execution_count": null,
   "id": "d0bbfd08-4c2c-4a4c-8526-b387bf7f41ca",
   "metadata": {},
   "outputs": [],
   "source": [
    "rec = (library * y_pred.T ).T"
   ]
  },
  {
   "cell_type": "code",
   "execution_count": null,
   "id": "b54219bf-8e78-44f4-a7fd-64391b43bf15",
   "metadata": {},
   "outputs": [],
   "source": [
    "y_pred"
   ]
  },
  {
   "cell_type": "code",
   "execution_count": null,
   "id": "ef77ff3a-9bf5-4d76-9c7c-bf5dfcb8e68a",
   "metadata": {},
   "outputs": [],
   "source": [
    "rec"
   ]
  },
  {
   "cell_type": "code",
   "execution_count": null,
   "id": "3d2e2ff9-4e19-4a76-86d7-1a10587ae540",
   "metadata": {},
   "outputs": [],
   "source": [
    "print(rec.shape)"
   ]
  },
  {
   "cell_type": "code",
   "execution_count": null,
   "id": "0e989bcc-4a1e-41cc-9186-6a23ac3ea5a9",
   "metadata": {},
   "outputs": [],
   "source": [
    "# If rec is an AnnData object, extract the X attribute (i.e., the data matrix)\n",
    "import anndata\n",
    "if isinstance(rec, anndata.AnnData):\n",
    "    rec = rec.X\n",
    "\n",
    "# Now, rec should be a numpy array or sparse matrix, which is what obsm expects\n",
    "adata_test.obsm[\"X_reconstructed\"] = rec\n",
    "\n",
    "# Save the entire object with the reconstructed data\n",
    "adata_test.write(\"adata_post_with_latent_and_reconstructed_HTAPP_SCVI_final_after_fix_batch.h5ad\")"
   ]
  },
  {
   "cell_type": "code",
   "execution_count": null,
   "id": "c9cc7dfa-0eff-452f-a4df-70b8ab89a188",
   "metadata": {},
   "outputs": [],
   "source": [
    "# Getting latent variables\n",
    "\n",
    "latent = model.get_latent_representation(adata, batch_size = 256)\n",
    "\n",
    "# Generate gene expression predictions (e.g., imputation) for a subset of data\n",
    "#predicted_gene_expression = model.get_sample()\n"
   ]
  }
 ],
 "metadata": {
  "kernelspec": {
   "display_name": "Python 3 ",
   "language": "python",
   "name": "python3"
  },
  "language_info": {
   "codemirror_mode": {
    "name": "ipython",
    "version": 3
   },
   "file_extension": ".py",
   "mimetype": "text/x-python",
   "name": "python",
   "nbconvert_exporter": "python",
   "pygments_lexer": "ipython3",
   "version": "3.12.10"
  }
 },
 "nbformat": 4,
 "nbformat_minor": 5
}

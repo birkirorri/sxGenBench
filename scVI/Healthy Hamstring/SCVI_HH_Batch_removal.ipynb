{
 "cells": [
  {
   "cell_type": "code",
   "execution_count": null,
   "id": "3d6a17c6-98b0-4e1b-9123-c8902f8b7e95",
   "metadata": {
    "scrolled": true
   },
   "outputs": [],
   "source": [
    "pip install -U scvi-tools"
   ]
  },
  {
   "cell_type": "code",
   "execution_count": null,
   "id": "cc3bbdd1-e50b-45fd-a874-6e5126f13b78",
   "metadata": {
    "scrolled": true
   },
   "outputs": [],
   "source": [
    "pip install scanpy"
   ]
  },
  {
   "cell_type": "code",
   "execution_count": null,
   "id": "3f7850c4-bafe-4142-9443-18dda344ba85",
   "metadata": {},
   "outputs": [],
   "source": [
    "import os\n",
    "import tempfile\n",
    "import scanpy as sc\n",
    "import scvi\n",
    "import seaborn as sns\n",
    "import torch\n",
    "\n",
    "import numpy as np\n",
    "from sklearn.metrics import r2_score, mean_squared_error, mean_absolute_error"
   ]
  },
  {
   "cell_type": "code",
   "execution_count": null,
   "id": "17f4de2e-e0a3-43ae-b9f9-d369ceb42943",
   "metadata": {},
   "outputs": [],
   "source": [
    "adata = sc.read(\"/work/SCVI_models/batch_removal_runs/healthy_hamstring_processed_adata_raw_nonormalization (1).h5ad\")"
   ]
  },
  {
   "cell_type": "code",
   "execution_count": null,
   "id": "025e402a-f8b9-4afb-92b1-c6ef2493dbcd",
   "metadata": {},
   "outputs": [],
   "source": [
    "adata"
   ]
  },
  {
   "cell_type": "code",
   "execution_count": null,
   "id": "0039415e-f88d-48bf-86fa-99d80005476c",
   "metadata": {},
   "outputs": [],
   "source": [
    "print(\"Min:\", adata.X.min(), \"Max:\", adata.X.max(), \"Mean:\", adata.X.mean())"
   ]
  },
  {
   "cell_type": "code",
   "execution_count": null,
   "id": "a438ca48-b3ee-44c8-ba1c-0a648c66ae5e",
   "metadata": {},
   "outputs": [],
   "source": [
    "#scvi.settings.seed = 0\n",
    "print(\"Last run with scvi-tools version:\", scvi.__version__) # 1.2.2 when running cpu but 1.2.1 when running GPU"
   ]
  },
  {
   "cell_type": "code",
   "execution_count": null,
   "id": "2a292ce7-636e-483f-9735-4fdf2583c1ae",
   "metadata": {},
   "outputs": [],
   "source": [
    "sc.set_figure_params(figsize=(6, 6), frameon=False)\n",
    "sns.set_theme()\n",
    "torch.set_float32_matmul_precision(\"high\")\n",
    "save_dir = tempfile.TemporaryDirectory()\n",
    "\n",
    "%config InlineBackend.print_figure_kwargs={\"facecolor\": \"w\"}\n",
    "%config InlineBackend.figure_format=\"retina\""
   ]
  },
  {
   "cell_type": "code",
   "execution_count": null,
   "id": "89e92ee7-b716-4ab2-a6c6-cd1a13ec1742",
   "metadata": {},
   "outputs": [],
   "source": [
    "from sklearn.model_selection import train_test_split\n",
    "import numpy as np\n",
    "\n",
    "split_key = \"split\"\n",
    "adata.obs[split_key] = \"train\"\n",
    "idx = list(range(len(adata)))\n",
    "idx_train, idx_test = train_test_split(adata.obs_names, test_size=0.1, random_state=42)\n",
    "adata.obs.loc[idx_train, split_key] = \"train\"\n",
    "adata.obs.loc[idx_test, split_key] = \"test\"\n",
    "\n",
    "\n",
    "# Filter the data to use only the training set and make a copy\n",
    "adata_train = adata[adata.obs[split_key] == \"train\"].copy()\n",
    "adata_test = adata[adata.obs[split_key] == \"test\"].copy()\n"
   ]
  },
  {
   "cell_type": "code",
   "execution_count": null,
   "id": "e70f5201-754d-4193-bb45-3a00d45f3d1e",
   "metadata": {
    "scrolled": true
   },
   "outputs": [],
   "source": [
    "#adata_raw.X[:10, :10]  # peek at first 10x10 values\n",
    "bla = adata_raw.X.toarray()  # If it's a sparse matrix\n",
    "bla.X[:10, :10]  # peek at first 10x10 values\n"
   ]
  },
  {
   "cell_type": "code",
   "execution_count": null,
   "id": "5317149a-53cd-44b0-bf94-dcc3f012fa1d",
   "metadata": {},
   "outputs": [],
   "source": [
    "scvi.model.SCVI.setup_anndata(adata_train, layer=None, batch_key=\"donor_id\")"
   ]
  },
  {
   "cell_type": "code",
   "execution_count": null,
   "id": "95ee89c1-b1ff-4a01-adf5-446fec17bad4",
   "metadata": {},
   "outputs": [],
   "source": [
    "model = scvi.model.SCVI(adata_train, n_layers=2, n_latent=30, gene_likelihood=\"nb\")"
   ]
  },
  {
   "cell_type": "code",
   "execution_count": null,
   "id": "3b13e3c3-88e8-4bb7-ad08-8a184abcb0cd",
   "metadata": {},
   "outputs": [],
   "source": [
    "model"
   ]
  },
  {
   "cell_type": "code",
   "execution_count": null,
   "id": "1a4db299-0c22-47d4-812e-55789c890144",
   "metadata": {
    "scrolled": true
   },
   "outputs": [],
   "source": [
    "model.train()"
   ]
  },
  {
   "cell_type": "code",
   "execution_count": null,
   "id": "58d3afa6-8424-4a66-b4b4-d1e87542c026",
   "metadata": {},
   "outputs": [],
   "source": [
    "import os\n",
    "os.chdir('SCVI_models')  # Provide the new path here"
   ]
  },
  {
   "cell_type": "code",
   "execution_count": null,
   "id": "180b8f5f-3012-4b59-9277-8d1c78b40704",
   "metadata": {},
   "outputs": [],
   "source": [
    "#model_dir = os.path.join(save_dir.name, \"scvi_model_HH_1\")\n",
    "#model.save(model_dir, overwrite=True)\n",
    "\n",
    "\n",
    "model.save(\"/work/SCVI_models/may_models/SCVI_rerun_HH__final_batch\")"
   ]
  },
  {
   "cell_type": "code",
   "execution_count": null,
   "id": "6f00999a-cb1c-42ee-8f03-9c57cb299691",
   "metadata": {
    "scrolled": true
   },
   "outputs": [],
   "source": [
    "# model.load: \n",
    "model = scvi.model.SCVI.load(\"/work/SCVI_models/new_models/SCVI_HH_newpredict_model_final_batch\", adata=adata_train)"
   ]
  },
  {
   "cell_type": "code",
   "execution_count": null,
   "id": "efce19f5-ce83-42b4-a0d3-335d0242d71d",
   "metadata": {},
   "outputs": [],
   "source": [
    "library=adata_test.X.sum(axis = 1)\n",
    "#library = adata_test.X.sum(axis = 1)"
   ]
  },
  {
   "cell_type": "code",
   "execution_count": null,
   "id": "7be5e142-8b32-47e8-9777-ad98bdc30bc9",
   "metadata": {},
   "outputs": [],
   "source": [
    "y_pred = model.get_normalized_expression(adata_test, return_numpy=True)"
   ]
  },
  {
   "cell_type": "code",
   "execution_count": null,
   "id": "f77302dd-60e2-4551-988d-6e3b84c5ffbb",
   "metadata": {},
   "outputs": [],
   "source": [
    "library = adata_test.X.sum(axis=1)"
   ]
  },
  {
   "cell_type": "code",
   "execution_count": null,
   "id": "48e82b45-cad0-4d6f-a429-c8fffbcb5400",
   "metadata": {},
   "outputs": [],
   "source": [
    "library = np.array(library.flatten())"
   ]
  },
  {
   "cell_type": "code",
   "execution_count": null,
   "id": "5366d04d-9895-46c5-b94a-9e01adf2e4f5",
   "metadata": {},
   "outputs": [],
   "source": [
    "y_true = adata_test.X.toarray() if hasattr(adata_test.X, 'toarray') else np.array(adata_test.X)"
   ]
  },
  {
   "cell_type": "code",
   "execution_count": null,
   "id": "3248986a-521a-4c20-a1b9-b1356be5619b",
   "metadata": {},
   "outputs": [],
   "source": [
    "rec = (library * y_pred.T ).T"
   ]
  },
  {
   "cell_type": "code",
   "execution_count": null,
   "id": "1a8e262e-defe-4b5e-93dd-1256241aa212",
   "metadata": {},
   "outputs": [],
   "source": [
    "#rec = rec.flatten()"
   ]
  },
  {
   "cell_type": "code",
   "execution_count": null,
   "id": "2c58c25e-9874-440e-a860-19f861aba268",
   "metadata": {},
   "outputs": [],
   "source": [
    "y_pred"
   ]
  },
  {
   "cell_type": "code",
   "execution_count": null,
   "id": "5b891eac-2736-4a43-90e5-3e75886adccb",
   "metadata": {},
   "outputs": [],
   "source": [
    "rec"
   ]
  },
  {
   "cell_type": "code",
   "execution_count": null,
   "id": "18827a06-a58a-4dcf-b1a9-8e52d612c65a",
   "metadata": {},
   "outputs": [],
   "source": [
    "# 1. Get ground truth expression (dense array)\n",
    "y_true = adata_test.X.toarray() if hasattr(adata_test.X, 'toarray') else np.array(adata_test.X)\n",
    "\n",
    "\n",
    "# Check shapes before computing R²\n",
    "print(\"y_true shape:\", y_true.shape)\n",
    "print(\"y_pred shape:\", rec.shape)"
   ]
  },
  {
   "cell_type": "code",
   "execution_count": null,
   "id": "2711bd4d-719f-45f0-8326-53023b8879be",
   "metadata": {},
   "outputs": [],
   "source": [
    "# If rec is an AnnData object, extract the X attribute (i.e., the data matrix)\n",
    "import anndata\n",
    "if isinstance(rec, anndata.AnnData):\n",
    "    rec = rec.X\n",
    "\n",
    "# Now, rec should be a numpy array or sparse matrix, which is what obsm expects\n",
    "adata_test.obsm[\"X_reconstructed\"] = rec\n",
    "\n",
    "# Save the entire object with the reconstructed data\n",
    "adata_test.write(\"adata_with_latent_and_reconstructed_HH_SCVI_after_fix_batch.h5ad\")\n"
   ]
  }
 ],
 "metadata": {
  "kernelspec": {
   "display_name": "Python 3 ",
   "language": "python",
   "name": "python3"
  },
  "language_info": {
   "codemirror_mode": {
    "name": "ipython",
    "version": 3
   },
   "file_extension": ".py",
   "mimetype": "text/x-python",
   "name": "python",
   "nbconvert_exporter": "python",
   "pygments_lexer": "ipython3",
   "version": "3.12.10"
  }
 },
 "nbformat": 4,
 "nbformat_minor": 5
}

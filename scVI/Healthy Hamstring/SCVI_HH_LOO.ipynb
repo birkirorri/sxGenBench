{
 "cells": [
  {
   "cell_type": "code",
   "execution_count": null,
   "id": "9df7290a-bdf0-4840-a7b5-518c995377af",
   "metadata": {
    "scrolled": true
   },
   "outputs": [],
   "source": [
    "pip install -U scvi-tools"
   ]
  },
  {
   "cell_type": "code",
   "execution_count": null,
   "id": "862f2eec-3a7a-49a5-a5ab-d1072f65fdb5",
   "metadata": {
    "scrolled": true
   },
   "outputs": [],
   "source": [
    "pip install scanpy"
   ]
  },
  {
   "cell_type": "code",
   "execution_count": null,
   "id": "e8af745a-5661-47db-8d52-406447b7793a",
   "metadata": {},
   "outputs": [],
   "source": [
    "import os\n",
    "import tempfile\n",
    "import scanpy as sc\n",
    "import scvi\n",
    "import seaborn as sns\n",
    "import torch\n",
    "\n",
    "import numpy as np\n",
    "from sklearn.metrics import r2_score, mean_squared_error, mean_absolute_error"
   ]
  },
  {
   "cell_type": "code",
   "execution_count": null,
   "id": "ef8c22fb-de19-42eb-a3ee-521457dcf76c",
   "metadata": {},
   "outputs": [],
   "source": [
    "#scvi.settings.seed = 0\n",
    "print(\"Last run with scvi-tools version:\", scvi.__version__) # 1.2.2 when running cpu but 1.2.1 when running GPU"
   ]
  },
  {
   "cell_type": "code",
   "execution_count": null,
   "id": "5eabee31-31ee-43f6-881a-44e379866957",
   "metadata": {},
   "outputs": [],
   "source": [
    "adata = sc.read(\"/work/SCVI_models/HH_raw_data/healthy_hamstring_processed_adata_raw_nonormalization.h5ad\")"
   ]
  },
  {
   "cell_type": "code",
   "execution_count": null,
   "id": "24df54f3-4e02-45ea-9f6f-27ab8d79f8e2",
   "metadata": {},
   "outputs": [],
   "source": [
    "adata"
   ]
  },
  {
   "cell_type": "code",
   "execution_count": null,
   "id": "dbe2343e-a42f-4f4b-8358-537fdf7fd472",
   "metadata": {},
   "outputs": [],
   "source": [
    "# Subset the data\n",
    "subset_mask = (adata.obs['sex'] == 'male') & (adata.obs['cell_type'] == 'slow muscle cell')\n",
    "subset_adata = adata[subset_mask].copy()  \n",
    "train_adata = adata[~subset_mask].copy()  # Training data is everything except the subset"
   ]
  },
  {
   "cell_type": "code",
   "execution_count": null,
   "id": "e60227ad-d8c8-42cf-8cb9-af442390a8de",
   "metadata": {},
   "outputs": [],
   "source": [
    "train_adata"
   ]
  },
  {
   "cell_type": "code",
   "execution_count": null,
   "id": "e377955a-84a1-4ae0-80ab-5980e0c7c694",
   "metadata": {},
   "outputs": [],
   "source": [
    "subset_adata"
   ]
  },
  {
   "cell_type": "code",
   "execution_count": null,
   "id": "bd165296-12a2-40b6-851b-a1e4225a3ae4",
   "metadata": {},
   "outputs": [],
   "source": [
    "subset_adata.obs[\"cell_type\"]"
   ]
  },
  {
   "cell_type": "code",
   "execution_count": null,
   "id": "f3ba193e-3801-4acf-b82b-91933e09cc18",
   "metadata": {},
   "outputs": [],
   "source": [
    "print(train_adata.obs.groupby(['sex', 'cell_type']).size())"
   ]
  },
  {
   "cell_type": "code",
   "execution_count": null,
   "id": "41f48aee-ca0d-44d2-9e28-c94623df3be5",
   "metadata": {},
   "outputs": [],
   "source": [
    "train_adata.obs[\"cell_type\"]"
   ]
  },
  {
   "cell_type": "code",
   "execution_count": null,
   "id": "7b0156d3-97e7-408f-979e-459d7f91234f",
   "metadata": {},
   "outputs": [],
   "source": [
    "scvi.model.SCVI.setup_anndata(\n",
    "    train_adata,\n",
    "    layer=None,\n",
    "    categorical_covariate_keys=[\"cell_type\", \"sex\", \"donor_id\", \"development_stage_ontology_term_id\", \"development_stage\"],\n",
    "    continuous_covariate_keys=None,\n",
    ")"
   ]
  },
  {
   "cell_type": "code",
   "execution_count": null,
   "id": "4558cb8c-1452-4de5-ad39-7eb40a3be7da",
   "metadata": {},
   "outputs": [],
   "source": [
    "model = scvi.model.SCVI(train_adata, n_layers=2, n_latent=30, gene_likelihood=\"nb\")"
   ]
  },
  {
   "cell_type": "code",
   "execution_count": null,
   "id": "0351244e-98b2-425a-a50a-938881c86753",
   "metadata": {},
   "outputs": [],
   "source": [
    "model"
   ]
  },
  {
   "cell_type": "code",
   "execution_count": null,
   "id": "6fd2af41-1b49-4be4-bcb2-068a487dabf7",
   "metadata": {},
   "outputs": [],
   "source": [
    "model.train()"
   ]
  },
  {
   "cell_type": "code",
   "execution_count": null,
   "id": "1b7c7a8b-270f-4fa2-b92b-18e55f077805",
   "metadata": {},
   "outputs": [],
   "source": [
    "model.save(\"/work/SCVI_models/LOO_models_SCVI_NEW/SCVI_HH_LOO_raw_fixed_data\")"
   ]
  },
  {
   "cell_type": "code",
   "execution_count": null,
   "id": "e18bcea8-b94a-437e-8bbc-1e754dede91e",
   "metadata": {},
   "outputs": [],
   "source": [
    "model.load(\"/work/SCVI_models/LOO_models_SCVI/SCVI_HH_LOO_Male_slow_cell_gpu_run\", adata = train_adata)"
   ]
  },
  {
   "cell_type": "code",
   "execution_count": null,
   "id": "d25bf96f-2ba1-4f28-8e40-4428e228618e",
   "metadata": {},
   "outputs": [],
   "source": [
    "model.is_trained\n",
    "model.is_trained = True\n",
    "model"
   ]
  },
  {
   "cell_type": "code",
   "execution_count": null,
   "id": "8b7d77c8-97a8-4ca7-bb1d-fe58cb905aaf",
   "metadata": {},
   "outputs": [],
   "source": [
    "cf_adata.obs.columns.get_loc(\"sex\")"
   ]
  },
  {
   "cell_type": "code",
   "execution_count": null,
   "id": "bfb3130a-de09-41b5-bf0a-36902c113b50",
   "metadata": {},
   "outputs": [],
   "source": [
    "cf_adata.obs.columns"
   ]
  },
  {
   "cell_type": "code",
   "execution_count": null,
   "id": "03b565db-8bfe-4856-bd45-f2abf6996926",
   "metadata": {},
   "outputs": [],
   "source": [
    "female_slow = train_adata[\n",
    "    (train_adata.obs[\"sex\"] == \"female\") &\n",
    "    (train_adata.obs[\"cell_type\"] == \"slow muscle cell\")\n",
    "].copy()"
   ]
  },
  {
   "cell_type": "code",
   "execution_count": null,
   "id": "acca4252-c9e8-460d-9633-e82b55c71c07",
   "metadata": {},
   "outputs": [],
   "source": [
    "library_female=female_slow.X.sum(axis = 1)"
   ]
  },
  {
   "cell_type": "code",
   "execution_count": null,
   "id": "015e477d-4f1c-4bcc-a09c-6fb8ee8f99e3",
   "metadata": {},
   "outputs": [],
   "source": [
    "# 2. Baseline prediction: leave them as female\n",
    "#    would be same as rec2 in biolord\n",
    "y_pred_base = model.get_normalized_expression(\n",
    "    female_slow, return_numpy=True\n",
    ")"
   ]
  },
  {
   "cell_type": "code",
   "execution_count": null,
   "id": "1c398cc3-5533-488a-9388-1a64eb28b119",
   "metadata": {},
   "outputs": [],
   "source": [
    "library_female=female_slow.X.sum(axis = 1)"
   ]
  },
  {
   "cell_type": "code",
   "execution_count": null,
   "id": "51e93afe-9b04-44ac-8278-09ad5311c320",
   "metadata": {},
   "outputs": [],
   "source": [
    "library_female = np.array(library_female.flatten())"
   ]
  },
  {
   "cell_type": "code",
   "execution_count": null,
   "id": "046b250e-88a5-4e0a-b459-acacbe200e92",
   "metadata": {},
   "outputs": [],
   "source": [
    "rec_female = (library_female * y_pred_base.T ).T"
   ]
  },
  {
   "cell_type": "code",
   "execution_count": null,
   "id": "16e452d0-2d14-4742-8d21-d5d36ee99938",
   "metadata": {},
   "outputs": [],
   "source": [
    "# 3. Counterfactual prediction: flip sex → male\n",
    "cf = female_slow.copy()\n",
    "cf.obs[\"sex\"] = \"male\""
   ]
  },
  {
   "cell_type": "code",
   "execution_count": null,
   "id": "acc3eb66-ff3b-4909-a7d0-47ec9afbf54b",
   "metadata": {},
   "outputs": [],
   "source": [
    "# 3. Counterfactual prediction: flip sex → male\n",
    "cf_pred = model.get_normalized_expression(\n",
    "    cf, return_numpy=True\n",
    ")"
   ]
  },
  {
   "cell_type": "code",
   "execution_count": null,
   "id": "d0a640d8-bd33-4279-bd79-e3a4dd2967f2",
   "metadata": {},
   "outputs": [],
   "source": [
    "library_counter=cf.X.sum(axis = 1)"
   ]
  },
  {
   "cell_type": "code",
   "execution_count": null,
   "id": "cbf7a2fe-7e39-4609-a1fa-b8d9e9dc3f5a",
   "metadata": {},
   "outputs": [],
   "source": [
    "library_counter = np.array(library_counter.flatten())"
   ]
  },
  {
   "cell_type": "code",
   "execution_count": null,
   "id": "bd479033-404a-4960-99fc-1eeb34738d96",
   "metadata": {},
   "outputs": [],
   "source": [
    "rec_cf_male = (library_counter * cf_pred.T ).T"
   ]
  },
  {
   "cell_type": "code",
   "execution_count": null,
   "id": "cf4face8-3e6e-4cae-a3fa-6788a97e80b6",
   "metadata": {},
   "outputs": [],
   "source": [
    "#  Compute per-gene prediction means \n",
    "baseline_pred_mean = np.asarray(rec_female.mean(axis=0)).ravel()\n",
    "cf_pred_mean = np.asarray(rec_cf_male.mean(axis=0)).ravel()"
   ]
  },
  {
   "cell_type": "code",
   "execution_count": null,
   "id": "4109b469-dcac-41a9-8d5d-2566b53c8988",
   "metadata": {},
   "outputs": [],
   "source": [
    "# Compute per-gene ground-truth means\n",
    "# Gt for females is now females with hepatocytes\n",
    "\n",
    "female_gt = (\n",
    "    female_slow.X.toarray().mean(axis=0)\n",
    "    if hasattr(female_slow.X, \"toarray\")\n",
    "    else female_slow.X.mean(axis=0)\n",
    ")\n",
    "\n",
    "\n",
    "#    Gt for the male is now the held out dataset\n",
    "male_gt = (\n",
    "    subset_adata.X.toarray().mean(axis=0)\n",
    "    if hasattr(subset_adata.X, \"toarray\")\n",
    "    else subset_adata.X.mean(axis=0)\n",
    ")\n"
   ]
  },
  {
   "cell_type": "code",
   "execution_count": null,
   "id": "b4c74330-2771-4d05-b6fc-ec47e0a9a15a",
   "metadata": {},
   "outputs": [],
   "source": [
    "import pandas as pd"
   ]
  },
  {
   "cell_type": "code",
   "execution_count": null,
   "id": "3d81b51f-ecb9-436f-b296-0f500d520a90",
   "metadata": {},
   "outputs": [],
   "source": [
    "female_slow.X"
   ]
  },
  {
   "cell_type": "code",
   "execution_count": null,
   "id": "c3e78fcb-0c04-4f2e-a289-aa5db0fb858b",
   "metadata": {},
   "outputs": [],
   "source": [
    "cf.obs[\"sex\"] = pd.Categorical(cf.obs[\"sex\"], categories=[\"female\", \"male\"])"
   ]
  },
  {
   "cell_type": "code",
   "execution_count": null,
   "id": "d0744203-7301-4795-ade7-68e710b525df",
   "metadata": {},
   "outputs": [],
   "source": [
    "#  Compute per-gene prediction means \n",
    "baseline_pred_mean = np.asarray(y_pred_base.mean(axis=0)).ravel()\n",
    "cf_pred_mean = np.asarray(cf_pred.mean(axis=0)).ravel()"
   ]
  },
  {
   "cell_type": "code",
   "execution_count": null,
   "id": "d49e2a53-fbaf-4855-96cd-be7a5477803d",
   "metadata": {},
   "outputs": [],
   "source": [
    "f_m = np.sqrt(np.mean((baseline_pred_mean - male_gt)**2)) #pred-F --- TM\n",
    "m_m = np.sqrt(np.mean((cf_pred_mean - male_gt)**2)) # pred_M --- TM\n",
    "f_f  =np.sqrt(np.mean((baseline_pred_mean - female_gt)**2)) # pref F ----- TF\n",
    "m_f = np.sqrt(np.mean((cf_pred_mean - female_gt)**2)) # pref M ---- TF\n",
    "\n",
    "print(f\"RMSE pred F --- TM: {f_m:.4f}\")\n",
    "print(f\"RMSE pred M --- TM (counterfactual)  : {m_m:.4f}\")\n",
    "print(f\"RMSE pred F ----- TF : {f_f:.4f}\")\n",
    "print(f\"RMSE pred M ---- TF (counterfactual)  : {m_f:.4f}\")"
   ]
  },
  {
   "cell_type": "code",
   "execution_count": null,
   "id": "6fef72b8-b2b5-4123-b4e8-d79bf9f7c93a",
   "metadata": {},
   "outputs": [],
   "source": [
    "import matplotlib.pyplot as plt\n",
    "\n",
    "# Define RMSE values\n",
    "rmse_data = [\n",
    "    [\"0.0730\", \"0.1222\"],  # True Female\n",
    "    [\"0.4007\", \"0.3272\"],  # True Male\n",
    "]\n",
    "\n",
    "# Define labels\n",
    "column_labels = [\"Pred Female\", \"Pred Male (CF)\"]\n",
    "row_labels = [\"True Female\", \"True Male\"]\n",
    "\n",
    "# Create the figure and axis\n",
    "fig, ax = plt.subplots(figsize=(6, 2))\n",
    "ax.axis('tight')\n",
    "ax.axis('off')\n",
    "\n",
    "# Create the table\n",
    "table = ax.table(\n",
    "    cellText=rmse_data,\n",
    "    rowLabels=row_labels,\n",
    "    colLabels=column_labels,\n",
    "    cellLoc='center',\n",
    "    loc='center'\n",
    ")\n",
    "\n",
    "table.scale(1, 2)  # Increase row height\n",
    "table.auto_set_font_size(False)\n",
    "table.set_fontsize(12)\n",
    "\n",
    "# Color the lower row cells\n",
    "# Note: Rows and columns are 1-indexed in table.get_celld()\n",
    "table[(2, 0)].set_facecolor(\"orange\")  # True Male, Pred Female\n",
    "table[(2, 1)].set_facecolor(\"lightblue\")  # True Male, Pred Male\n",
    "\n",
    "plt.title(\"RMSE between Predictions and Ground truth\", pad=20)\n",
    "plt.tight_layout()\n",
    "plt.show()\n"
   ]
  },
  {
   "cell_type": "code",
   "execution_count": null,
   "id": "e91e75f2-afe0-4bab-bc00-488c616ddda3",
   "metadata": {},
   "outputs": [],
   "source": [
    "import numpy as np\n",
    "import seaborn as sns\n",
    "import matplotlib.pyplot as plt\n",
    "\n",
    "# Ensure arrays are 1D\n",
    "log_male_gt = np.log1p(male_gt).ravel()\n",
    "log_cf_pred = np.log1p(cf_pred_mean).ravel()\n",
    "log_baseline_pred = np.log1p(baseline_pred_mean).ravel()\n",
    "\n",
    "# Create the figure and axis\n",
    "fig, ax = plt.subplots(figsize=(10, 6))\n",
    "\n",
    "# Scatter: Counterfactual (Female → Male)\n",
    "sns.scatterplot(\n",
    "    x=log_male_gt, y=log_cf_pred,\n",
    "    alpha=0.7, ax=ax\n",
    ")\n",
    "\n",
    "# Scatter: Baseline (Female → Female)\n",
    "sns.scatterplot(\n",
    "    x=log_male_gt, y=log_baseline_pred,\n",
    "    alpha=0.7, ax=ax\n",
    ")\n",
    "\n",
    "# Identity line\n",
    "mn = min(log_male_gt.min(), log_male_gt.min())\n",
    "mx = max(log_male_gt.max(), log_male_gt.max())\n",
    "ax.plot([mn, mx], [mn, mx], ls=\"--\", color=\"red\")\n",
    "\n",
    "# Labels and legend\n",
    "ax.set_xlabel(\"Log Ground Truth (Male)\")\n",
    "ax.set_ylabel(\"Log Predicted Mean Expression\")\n",
    "ax.set_title(\"Leave-One-Out Analysis\")\n",
    "ax.legend(loc=\"upper left\")\n",
    "plt.tight_layout()\n",
    "plt.show()\n"
   ]
  }
 ],
 "metadata": {
  "kernelspec": {
   "display_name": "Python 3 ",
   "language": "python",
   "name": "python3"
  },
  "language_info": {
   "codemirror_mode": {
    "name": "ipython",
    "version": 3
   },
   "file_extension": ".py",
   "mimetype": "text/x-python",
   "name": "python",
   "nbconvert_exporter": "python",
   "pygments_lexer": "ipython3",
   "version": "3.12.10"
  }
 },
 "nbformat": 4,
 "nbformat_minor": 5
}

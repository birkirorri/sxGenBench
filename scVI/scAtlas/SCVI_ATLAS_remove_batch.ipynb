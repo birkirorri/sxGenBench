{
 "cells": [
  {
   "cell_type": "code",
   "execution_count": null,
   "id": "9e3cb3e5-10cc-4a6f-87c2-740385a54ffb",
   "metadata": {
    "scrolled": true
   },
   "outputs": [],
   "source": [
    "pip install -U scvi-tools"
   ]
  },
  {
   "cell_type": "code",
   "execution_count": null,
   "id": "409eae37-b759-4359-bbca-f4923baa8ab4",
   "metadata": {
    "scrolled": true
   },
   "outputs": [],
   "source": [
    "pip install scanpy"
   ]
  },
  {
   "cell_type": "code",
   "execution_count": null,
   "id": "cbfad499-8b22-498a-b14b-6250f8967339",
   "metadata": {},
   "outputs": [],
   "source": [
    "import os\n",
    "import tempfile\n",
    "\n",
    "import scanpy as sc\n",
    "import scvi\n",
    "import seaborn as sns\n",
    "import torch\n",
    "import numpy as np\n",
    "from sklearn.metrics import r2_score, mean_squared_error, mean_absolute_error"
   ]
  },
  {
   "cell_type": "code",
   "execution_count": null,
   "id": "e4f3d2e0-f344-4faf-8cca-2f864be71c5e",
   "metadata": {},
   "outputs": [],
   "source": [
    "adata = sc.read(\"/work/SCVI_models/scAtlas_data/atlas_raw/scAtlas_Human_vascular_cells_processed_RAW_1.h5ad\")"
   ]
  },
  {
   "cell_type": "code",
   "execution_count": null,
   "id": "8a3c9e0c-de62-4653-9ec9-869ba81c0856",
   "metadata": {
    "scrolled": true
   },
   "outputs": [],
   "source": [
    "adata"
   ]
  },
  {
   "cell_type": "code",
   "execution_count": null,
   "id": "ebdead8a-f5a0-41f9-874b-7411800e7dfd",
   "metadata": {},
   "outputs": [],
   "source": [
    "adata.X.sum(0)"
   ]
  },
  {
   "cell_type": "code",
   "execution_count": null,
   "id": "8a0f1b7a-502e-41ed-91a6-3d14884e9f6d",
   "metadata": {},
   "outputs": [],
   "source": [
    "from sklearn.model_selection import train_test_split\n",
    "import numpy as np\n",
    "\n",
    "split_key = \"split\"\n",
    "adata.obs[split_key] = \"train\"\n",
    "idx = list(range(len(adata)))\n",
    "idx_train, idx_test = train_test_split(adata.obs_names, test_size=0.1, random_state=42)\n",
    "adata.obs.loc[idx_train, split_key] = \"train\"\n",
    "adata.obs.loc[idx_test, split_key] = \"test\"\n",
    "\n",
    "\n",
    "# Filter the data to use only the training set and make a copy\n",
    "adata_train = adata[adata.obs[split_key] == \"train\"].copy()\n",
    "adata_test = adata[adata.obs[split_key] == \"test\"].copy()\n"
   ]
  },
  {
   "cell_type": "code",
   "execution_count": null,
   "id": "0cf3552a-8b37-4cb1-86d8-f1ead1b930c0",
   "metadata": {},
   "outputs": [],
   "source": [
    "scvi.model.SCVI.setup_anndata(adata_train, layer=None, batch_key=\"donor_id\")"
   ]
  },
  {
   "cell_type": "code",
   "execution_count": null,
   "id": "5fad0dbd-449a-4549-b954-6836e3b28100",
   "metadata": {},
   "outputs": [],
   "source": [
    "model = scvi.model.SCVI(adata_train, n_layers=2, n_latent=30, gene_likelihood=\"nb\")"
   ]
  },
  {
   "cell_type": "code",
   "execution_count": null,
   "id": "cbd52b13-b266-42be-9967-bd35588c17bf",
   "metadata": {},
   "outputs": [],
   "source": [
    "model"
   ]
  },
  {
   "cell_type": "code",
   "execution_count": null,
   "id": "3778da02-9b60-4377-9162-fd080e6e362b",
   "metadata": {
    "scrolled": true
   },
   "outputs": [],
   "source": [
    "model.train()"
   ]
  },
  {
   "cell_type": "code",
   "execution_count": null,
   "id": "e6363ddb-f449-4e0a-9f2d-5b64ba5138d9",
   "metadata": {},
   "outputs": [],
   "source": [
    "model.save(\"work/work/SCVI_models/may_models/SCVI_rerun_ATLAS_final_batch\")"
   ]
  },
  {
   "cell_type": "code",
   "execution_count": null,
   "id": "b038939e-ba9a-4ff4-80ee-d2037d744205",
   "metadata": {},
   "outputs": [],
   "source": [
    "model = scvi.model.SCVI.load(\"work/work/SCVI_models/may_models/SCVI_rerun_ATLAS_final_batch\", adata=adata_train)"
   ]
  },
  {
   "cell_type": "code",
   "execution_count": null,
   "id": "3d898aca-633c-4319-a8b8-30cd653d40e7",
   "metadata": {},
   "outputs": [],
   "source": [
    "library=adata_test.X.sum(axis = 1)\n",
    "#library = adata_test.X.sum(axis = 1)"
   ]
  },
  {
   "cell_type": "code",
   "execution_count": null,
   "id": "8f273644-650e-4a07-b16c-449886139fd3",
   "metadata": {},
   "outputs": [],
   "source": [
    "y_pred = model.get_normalized_expression(adata_test, return_numpy=True)"
   ]
  },
  {
   "cell_type": "code",
   "execution_count": null,
   "id": "6e3bdc0e-058b-4f42-8925-e6b188a02bb5",
   "metadata": {},
   "outputs": [],
   "source": [
    "library = adata_test.X.sum(axis=1)"
   ]
  },
  {
   "cell_type": "code",
   "execution_count": null,
   "id": "b012b72d-8915-49a6-880d-74a9b2ab7dfa",
   "metadata": {},
   "outputs": [],
   "source": [
    "library = np.array(library.flatten())"
   ]
  },
  {
   "cell_type": "code",
   "execution_count": null,
   "id": "e5e78b89-bc0b-4b8f-83ec-84aa0f180bc8",
   "metadata": {},
   "outputs": [],
   "source": [
    "y_true = adata_test.X.toarray() if hasattr(adata_test.X, 'toarray') else np.array(adata_test.X)"
   ]
  },
  {
   "cell_type": "code",
   "execution_count": null,
   "id": "847d09d7-9db8-4f51-a578-472ab436f04b",
   "metadata": {},
   "outputs": [],
   "source": [
    "rec = (library * y_pred.T ).T"
   ]
  },
  {
   "cell_type": "code",
   "execution_count": null,
   "id": "4b336c2c-cccb-4d1d-a40e-9bc03dc9f44a",
   "metadata": {},
   "outputs": [],
   "source": [
    "y_pred"
   ]
  },
  {
   "cell_type": "code",
   "execution_count": null,
   "id": "8fef540c-a495-4916-be50-241e8aca837b",
   "metadata": {},
   "outputs": [],
   "source": [
    "rec"
   ]
  },
  {
   "cell_type": "code",
   "execution_count": null,
   "id": "ab82b57e-e1f0-4afe-8670-8d5c0a8c4fe1",
   "metadata": {},
   "outputs": [],
   "source": [
    "print(rec.shape)"
   ]
  },
  {
   "cell_type": "code",
   "execution_count": null,
   "id": "b32ce71e-adb0-477c-91db-0497b752efc1",
   "metadata": {},
   "outputs": [],
   "source": [
    "# If rec is an AnnData object, extract the X attribute (i.e., the data matrix)\n",
    "import anndata\n",
    "if isinstance(rec, anndata.AnnData):\n",
    "    rec = rec.X\n",
    "\n",
    "# Now, rec should be a numpy array or sparse matrix, which is what obsm expects\n",
    "adata_test.obsm[\"X_reconstructed\"] = rec\n",
    "\n",
    "# Save the entire object with the reconstructed data\n",
    "adata_test.write(\"adata_post_with_latent_and_reconstructed_SCALTAS_RERUN_finalbatch_2.h5ad\")\n"
   ]
  },
  {
   "cell_type": "code",
   "execution_count": null,
   "id": "e88d3918-259d-4016-ac8f-97b86dbef443",
   "metadata": {},
   "outputs": [],
   "source": [
    "y_true = adata_test.X.toarray() if hasattr(adata_test.X, 'toarray') else np.array(adata_test.X)"
   ]
  },
  {
   "cell_type": "code",
   "execution_count": null,
   "id": "b0f4e2b2-dba7-4a48-a8a9-7cb0e22ca9d7",
   "metadata": {},
   "outputs": [],
   "source": [
    "# Getting latent variables\n",
    "latent = model.get_latent_representation(adata,batch_size = 256)\n"
   ]
  }
 ],
 "metadata": {
  "kernelspec": {
   "display_name": "Python 3 ",
   "language": "python",
   "name": "python3"
  },
  "language_info": {
   "codemirror_mode": {
    "name": "ipython",
    "version": 3
   },
   "file_extension": ".py",
   "mimetype": "text/x-python",
   "name": "python",
   "nbconvert_exporter": "python",
   "pygments_lexer": "ipython3",
   "version": "3.12.10"
  }
 },
 "nbformat": 4,
 "nbformat_minor": 5
}

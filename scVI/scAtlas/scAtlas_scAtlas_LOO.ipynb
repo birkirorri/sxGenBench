{
 "cells": [
  {
   "cell_type": "code",
   "execution_count": null,
   "id": "57026fe5-ef44-4116-bbab-15bfab0df95e",
   "metadata": {},
   "outputs": [],
   "source": [
    "import os\n",
    "import tempfile\n",
    "import scanpy as sc\n",
    "import scvi\n",
    "import seaborn as sns\n",
    "import torch\n",
    "\n",
    "import numpy as np\n",
    "from sklearn.metrics import r2_score, mean_squared_error, mean_absolute_error"
   ]
  },
  {
   "cell_type": "code",
   "execution_count": null,
   "id": "621338a8-5c2b-42fc-bcc0-f80bdc91890f",
   "metadata": {},
   "outputs": [],
   "source": [
    "#scvi.settings.seed = 0\n",
    "print(\"Last run with scvi-tools version:\", scvi.__version__) # 1.2.2 when running cpu but 1.2.1 when running GPU"
   ]
  },
  {
   "cell_type": "code",
   "execution_count": null,
   "id": "b2142d9e-f84e-4ab7-8b0d-402ac8b903c0",
   "metadata": {},
   "outputs": [],
   "source": [
    "sc.set_figure_params(figsize=(6, 6), frameon=False)\n",
    "sns.set_theme()\n",
    "torch.set_float32_matmul_precision(\"high\")\n",
    "save_dir = tempfile.TemporaryDirectory()\n",
    "\n",
    "%config InlineBackend.print_figure_kwargs={\"facecolor\": \"w\"}\n",
    "%config InlineBackend.figure_format=\"retina\""
   ]
  },
  {
   "cell_type": "code",
   "execution_count": null,
   "id": "4df8864e-bc57-4727-8313-fa8575066af1",
   "metadata": {},
   "outputs": [],
   "source": [
    "adata = sc.read(\"/work/SCVI_models/scAtlas_data/atlas_raw/scAtlas_Human_vascular_cells_processed_RAW_1.h5ad\")"
   ]
  },
  {
   "cell_type": "code",
   "execution_count": null,
   "id": "d471f167-13d8-4c51-95a7-5b253e2c0b36",
   "metadata": {},
   "outputs": [],
   "source": [
    "adata"
   ]
  },
  {
   "cell_type": "code",
   "execution_count": null,
   "id": "9b9c0871-7c05-4003-b942-20eedfb953de",
   "metadata": {},
   "outputs": [],
   "source": [
    "# Subset the data\n",
    "subset_mask = (adata.obs['sex'] == 'male') & (adata.obs['cell_type'] == 'endothelial cell')\n",
    "subset_adata = adata[subset_mask].copy()  \n",
    "train_adata = adata[~subset_mask].copy()  # Training data is everything except the subset"
   ]
  },
  {
   "cell_type": "code",
   "execution_count": null,
   "id": "f36f5986-a483-456f-b8bc-e9aca52066ef",
   "metadata": {},
   "outputs": [],
   "source": [
    "train_adata"
   ]
  },
  {
   "cell_type": "code",
   "execution_count": null,
   "id": "777428fc-cf59-4658-9afc-ebb4a9341480",
   "metadata": {},
   "outputs": [],
   "source": [
    "subset_adata"
   ]
  },
  {
   "cell_type": "code",
   "execution_count": null,
   "id": "f97c6f06-d0f4-4907-bc4d-597205a7ca2f",
   "metadata": {},
   "outputs": [],
   "source": [
    "subset_adata.obs[\"cell_type\"]"
   ]
  },
  {
   "cell_type": "code",
   "execution_count": null,
   "id": "18231194-48a6-425d-883f-8dc972655967",
   "metadata": {},
   "outputs": [],
   "source": [
    "print(train_adata.obs.groupby(['sex', 'cell_type']).size())"
   ]
  },
  {
   "cell_type": "code",
   "execution_count": null,
   "id": "e05aa7c5-0fb4-4a36-bd2a-343bfdd8c1ec",
   "metadata": {},
   "outputs": [],
   "source": [
    "train_adata.obs[\"cell_type\"]"
   ]
  },
  {
   "cell_type": "code",
   "execution_count": null,
   "id": "e01acc48-b7c4-40f8-b60d-c2f8af0d56ba",
   "metadata": {},
   "outputs": [],
   "source": [
    "scvi.model.SCVI.setup_anndata(\n",
    "    train_adata,\n",
    "    layer=None,\n",
    "    categorical_covariate_keys=[\"cell_type\", \"sex\", \"self_reported_ethnicity\", \"bmi_group\", \"donor_id\", \"surgery\", \"fat_type\", \"tissue\"],\n",
    "    continuous_covariate_keys=None,\n",
    ")"
   ]
  },
  {
   "cell_type": "code",
   "execution_count": null,
   "id": "1f411f52-c0e5-4f92-914b-38f30521e4e8",
   "metadata": {},
   "outputs": [],
   "source": [
    "model = scvi.model.SCVI(train_adata, n_layers=2, n_latent=30, gene_likelihood=\"nb\")"
   ]
  },
  {
   "cell_type": "code",
   "execution_count": null,
   "id": "c36a1fd4-4f1d-475c-9fdc-7a3fedbf8860",
   "metadata": {},
   "outputs": [],
   "source": [
    "model"
   ]
  },
  {
   "cell_type": "code",
   "execution_count": null,
   "id": "e9c3ef97-32ae-4da4-a504-99ca7b5fccd3",
   "metadata": {},
   "outputs": [],
   "source": [
    "model.train()"
   ]
  },
  {
   "cell_type": "code",
   "execution_count": null,
   "id": "d9433951-f745-45d5-958d-ef0d67ead8ff",
   "metadata": {},
   "outputs": [],
   "source": [
    "model.save(\"/work/SCVI_models/LOO_models_SCVI_NEW/SCVI_scAtlas_LOO_raw_fixed_data\")"
   ]
  },
  {
   "cell_type": "code",
   "execution_count": null,
   "id": "8e4a5324-a01e-46d3-8880-1fcb9c6542f3",
   "metadata": {},
   "outputs": [],
   "source": [
    "cf_adata.obs.columns.get_loc(\"sex\")"
   ]
  },
  {
   "cell_type": "code",
   "execution_count": null,
   "id": "ac5a2643-57c6-453e-bb3f-85d1c28fb28e",
   "metadata": {},
   "outputs": [],
   "source": [
    "model"
   ]
  },
  {
   "cell_type": "code",
   "execution_count": null,
   "id": "7cb52705-03f1-4d29-9f56-0b9b1623a5e2",
   "metadata": {},
   "outputs": [],
   "source": [
    "cf_adata.obs.columns"
   ]
  },
  {
   "cell_type": "code",
   "execution_count": null,
   "id": "91d2de75-13c4-4806-906e-25c538c45145",
   "metadata": {},
   "outputs": [],
   "source": [
    "# 1. Define the two subsets:\n",
    "\n",
    "#    - female slow‐muscle cells (these are in the training AnnData)\n",
    "female_endothelial = train_adata[(train_adata.obs[\"sex\"] == \"female\") &\n",
    "                          (train_adata.obs[\"cell_type\"] == \"endothelial cell\")].copy()"
   ]
  },
  {
   "cell_type": "code",
   "execution_count": null,
   "id": "2f9757e5-bc42-4214-a20e-0376745cc947",
   "metadata": {},
   "outputs": [],
   "source": [
    "library_female=female_endothelial.X.sum(axis = 1)"
   ]
  },
  {
   "cell_type": "code",
   "execution_count": null,
   "id": "1f12c7fc-44f0-4b04-a410-1958627ac10c",
   "metadata": {},
   "outputs": [],
   "source": [
    "# 2. Baseline prediction: leave them as female\n",
    "#    would be same as rec2 in biolord\n",
    "y_pred_base = model.get_normalized_expression(\n",
    "    female_endothelial, return_numpy=True\n",
    ")  # shape: (n_cells, n_genes)"
   ]
  },
  {
   "cell_type": "code",
   "execution_count": null,
   "id": "5f4d6fea-5256-42de-80f5-9c912a2f2fda",
   "metadata": {},
   "outputs": [],
   "source": [
    "library_female=female_endothelial.X.sum(axis = 1)"
   ]
  },
  {
   "cell_type": "code",
   "execution_count": null,
   "id": "43f073a7-d622-4a8a-a5a7-da16541ebcc3",
   "metadata": {},
   "outputs": [],
   "source": [
    "library_female = np.array(library_female.flatten())"
   ]
  },
  {
   "cell_type": "code",
   "execution_count": null,
   "id": "5ebca32e-e067-4aaa-87bd-1c24043fca29",
   "metadata": {},
   "outputs": [],
   "source": [
    "rec_female = (library_female * y_pred_base.T ).T"
   ]
  },
  {
   "cell_type": "code",
   "execution_count": null,
   "id": "22ee0a9d-5290-4a62-aff5-19fc12d29218",
   "metadata": {},
   "outputs": [],
   "source": [
    "# 3. Counterfactual prediction: flip sex → male\n",
    "cf = female_endothelial.copy()\n",
    "cf.obs[\"sex\"] = \"male\""
   ]
  },
  {
   "cell_type": "code",
   "execution_count": null,
   "id": "7e38c669-1ffc-44c1-bfd4-884457ef1661",
   "metadata": {},
   "outputs": [],
   "source": [
    "\n",
    "y_pred_cf = model.get_normalized_expression(\n",
    "    cf, return_numpy=True\n",
    ")"
   ]
  },
  {
   "cell_type": "code",
   "execution_count": null,
   "id": "663de319-60a8-45e1-b157-3e724da0cde2",
   "metadata": {},
   "outputs": [],
   "source": [
    "library_counter=cf.X.sum(axis = 1)"
   ]
  },
  {
   "cell_type": "code",
   "execution_count": null,
   "id": "6c74421e-a5da-40f3-a46f-65e285a11e52",
   "metadata": {},
   "outputs": [],
   "source": [
    "library_counter = np.array(library_counter.flatten())"
   ]
  },
  {
   "cell_type": "code",
   "execution_count": null,
   "id": "b6408960-4af3-4d9e-b214-f9808e28fd1c",
   "metadata": {},
   "outputs": [],
   "source": [
    "rec_cf_male = (library_counter * y_pred_cf.T ).T"
   ]
  },
  {
   "cell_type": "code",
   "execution_count": null,
   "id": "b5f974c7-9ed8-401a-af6e-75534f544b9f",
   "metadata": {},
   "outputs": [],
   "source": [
    "#  Compute per-gene prediction means \n",
    "baseline_pred_mean = np.asarray(rec_female.mean(axis=0)).ravel()\n",
    "cf_pred_mean = np.asarray(rec_cf_male.mean(axis=0)).ravel()"
   ]
  },
  {
   "cell_type": "code",
   "execution_count": null,
   "id": "8830d5a6-cb21-404e-970f-c1514e2a28e1",
   "metadata": {},
   "outputs": [],
   "source": [
    "# Compute per-gene ground-truth means\n",
    "# Gt for females is now females with hepatocytes\n",
    "\n",
    "female_gt = (\n",
    "    female_endothelial.X.toarray().mean(axis=0)\n",
    "    if hasattr(female_endothelial.X, \"toarray\")\n",
    "    else female_endothelial.X.mean(axis=0)\n",
    ")\n",
    "\n",
    "\n",
    "#    Gt for the male is now the held out dataset\n",
    "male_gt = (\n",
    "    subset_adata.X.toarray().mean(axis=0)\n",
    "    if hasattr(subset_adata.X, \"toarray\")\n",
    "    else subset_adata.X.mean(axis=0)\n",
    ")\n"
   ]
  },
  {
   "cell_type": "code",
   "execution_count": null,
   "id": "9fcfb6f4-3b80-4a31-ad29-c4cade63ac1c",
   "metadata": {},
   "outputs": [],
   "source": [
    "f_m = np.sqrt(np.mean((baseline_pred_mean - male_gt)**2)) #pred-F --- TM\n",
    "m_m = np.sqrt(np.mean((cf_pred_mean - male_gt)**2)) # pred_M --- TM\n",
    "f_f  =np.sqrt(np.mean((baseline_pred_mean - female_gt)**2)) # pref F ----- TF\n",
    "m_f = np.sqrt(np.mean((cf_pred_mean - female_gt)**2)) # pref M ---- TF\n",
    "\n",
    "print(f\"RMSE pred F --- TM: {f_m:.4f}\")\n",
    "print(f\"RMSE pred M --- TM (counterfactual)  : {m_m:.4f}\")\n",
    "print(f\"RMSE pred F ----- TF : {f_f:.4f}\")\n",
    "print(f\"RMSE pred M ---- TF (counterfactual)  : {m_f:.4f}\")"
   ]
  },
  {
   "cell_type": "code",
   "execution_count": null,
   "id": "9339af0b-a0eb-496b-8c21-64233db67f21",
   "metadata": {},
   "outputs": [],
   "source": [
    "import matplotlib.pyplot as plt\n",
    "\n",
    "# Define RMSE values\n",
    "rmse_data = [\n",
    "    [\"0.0226\", \"0.1314\"],  # True Female\n",
    "    [\"0.1464\", \"0.2254\"],  # True Male\n",
    "]\n",
    "\n",
    "# Define labels\n",
    "column_labels = [\"Pred Female\", \"Pred Male (CF)\"]\n",
    "row_labels = [\"True Female\", \"True Male\"]\n",
    "\n",
    "# Create the figure and axis\n",
    "fig, ax = plt.subplots(figsize=(6, 2))\n",
    "ax.axis('tight')\n",
    "ax.axis('off')\n",
    "\n",
    "# Create the table\n",
    "table = ax.table(\n",
    "    cellText=rmse_data,\n",
    "    rowLabels=row_labels,\n",
    "    colLabels=column_labels,\n",
    "    cellLoc='center',\n",
    "    loc='center'\n",
    ")\n",
    "\n",
    "table.scale(1, 2)  # Increase row height\n",
    "table.auto_set_font_size(False)\n",
    "table.set_fontsize(12)\n",
    "\n",
    "# Color the lower row cells\n",
    "# Note: Rows and columns are 1-indexed in table.get_celld()\n",
    "table[(2, 0)].set_facecolor(\"orange\")  # True Male, Pred Female\n",
    "table[(2, 1)].set_facecolor(\"lightblue\")  # True Male, Pred Male\n",
    "\n",
    "plt.title(\"RMSE between Predictions and Ground truth\", pad=20)\n",
    "plt.tight_layout()\n",
    "plt.show()\n"
   ]
  },
  {
   "cell_type": "code",
   "execution_count": null,
   "id": "672c117c-5aaa-425f-aa81-4abcf5d8298a",
   "metadata": {},
   "outputs": [],
   "source": [
    "import numpy as np\n",
    "import seaborn as sns\n",
    "import matplotlib.pyplot as plt\n",
    "\n",
    "# Ensure arrays are 1D\n",
    "log_male_gt = np.log1p(male_gt).ravel()\n",
    "log_cf_pred = np.log1p(cf_pred_mean).ravel()\n",
    "log_baseline_pred = np.log1p(baseline_pred_mean).ravel()\n",
    "\n",
    "# Create the figure and axis\n",
    "fig, ax = plt.subplots(figsize=(10, 6))\n",
    "\n",
    "# Scatter: Counterfactual (Female → Male)\n",
    "sns.scatterplot(\n",
    "    x=log_male_gt, y=log_cf_pred,\n",
    "    alpha=0.7, ax=ax\n",
    ")\n",
    "\n",
    "# Scatter: Baseline (Female → Female)\n",
    "sns.scatterplot(\n",
    "    x=log_male_gt, y=log_baseline_pred,\n",
    "    alpha=0.7, ax=ax\n",
    ")\n",
    "\n",
    "# Identity line\n",
    "mn = min(log_male_gt.min(), log_male_gt.min())\n",
    "mx = max(log_male_gt.max(), log_male_gt.max())\n",
    "ax.plot([mn, mx], [mn, mx], ls=\"--\", color=\"red\")\n",
    "\n",
    "# Labels and legend\n",
    "ax.set_xlabel(\"Log Ground Truth (Male)\")\n",
    "ax.set_ylabel(\"Log Predicted Mean Expression\")\n",
    "ax.set_title(\"Leave-One-Out Analysis\")\n",
    "ax.legend(loc=\"upper left\")\n",
    "plt.tight_layout()\n",
    "plt.show()\n"
   ]
  }
 ],
 "metadata": {
  "kernelspec": {
   "display_name": "Python 3 ",
   "language": "python",
   "name": "python3"
  },
  "language_info": {
   "codemirror_mode": {
    "name": "ipython",
    "version": 3
   },
   "file_extension": ".py",
   "mimetype": "text/x-python",
   "name": "python",
   "nbconvert_exporter": "python",
   "pygments_lexer": "ipython3",
   "version": "3.12.10"
  }
 },
 "nbformat": 4,
 "nbformat_minor": 5
}

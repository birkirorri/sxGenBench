{
 "cells": [
  {
   "cell_type": "code",
   "execution_count": null,
   "id": "91ad8c2c-3b7e-4c50-81a2-0851b713e3b2",
   "metadata": {},
   "outputs": [],
   "source": [
    "import scanpy as sc\n",
    "import pandas as pd\n",
    "import numpy as np\n",
    "import seaborn as sns\n",
    "import os\n",
    "sc.settings.verbosity = 0\n",
    "sc.settings.set_figure_params(\n",
    "    dpi=80,\n",
    "    facecolor=\"white\",\n",
    "    frameon=False,\n",
    ")\n",
    "import matplotlib.pyplot as plt"
   ]
  },
  {
   "cell_type": "code",
   "execution_count": null,
   "id": "9e74e9e4-d426-4c9d-94fa-4bfb25b9b0e2",
   "metadata": {},
   "outputs": [],
   "source": [
    "adata = sc.read_h5ad(filename = \"Data/scAtlas_Human_vascular_cells.h5ad\")"
   ]
  },
  {
   "cell_type": "code",
   "execution_count": null,
   "id": "8ca949a3-acac-4c18-b32e-5a7a60249561",
   "metadata": {},
   "outputs": [],
   "source": [
    "adata"
   ]
  },
  {
   "cell_type": "code",
   "execution_count": null,
   "id": "45477b6f-8a99-430d-a12e-ca6c664b6ebf",
   "metadata": {},
   "outputs": [],
   "source": [
    "adata_raw = adata.raw.to_adata()"
   ]
  },
  {
   "cell_type": "code",
   "execution_count": null,
   "id": "e1ca8a5d-9a60-45a1-9fc6-334e69ca1b98",
   "metadata": {},
   "outputs": [],
   "source": [
    "import os\n",
    "\n",
    "# Change to a directory you have access to, like your home directory or a relative path\n",
    "results_dir = \"./SCAtlas_Human_Vascular_cells_preprocessing/Raw_data_preprocessed\"\n",
    "\n",
    "# Create the directory if it doesn't exist\n",
    "os.makedirs(results_dir, exist_ok=True)\n",
    "\n",
    "# Now write the file\n",
    "results_file = os.path.join(results_dir, \"scAtlas_Human_vascular_cells_processed_RAW_1.h5ad\")\n",
    "adata_raw.write(results_file)\n"
   ]
  },
  {
   "cell_type": "code",
   "execution_count": null,
   "id": "daa16a45-c43c-46c4-b629-451c50da7a0d",
   "metadata": {},
   "outputs": [],
   "source": [
    "adata_raw"
   ]
  },
  {
   "cell_type": "code",
   "execution_count": null,
   "id": "db3e3ac5-fd31-4834-b9f1-b4316021def0",
   "metadata": {},
   "outputs": [],
   "source": [
    "# Filtering low quality cells\n",
    "\n",
    "# mitochondrial genes\n",
    "adata_raw.var[\"mt\"] = adata_raw.var_names.str.startswith(\"mt-\")\n",
    "# ribosomal genes\n",
    "adata_raw.var[\"ribo\"] = adata_raw.var_names.str.startswith((\"RPS\", \"RPL\"))\n",
    "# hemoglobin genes.\n",
    "adata_raw.var[\"hb\"] = adata_raw.var_names.str.contains((\"^HB[^(P)]\"))"
   ]
  },
  {
   "cell_type": "code",
   "execution_count": null,
   "id": "d207ff6e-3e1e-43ec-8ec2-af8ee4ce51f5",
   "metadata": {},
   "outputs": [],
   "source": [
    "sc.pp.calculate_qc_metrics(\n",
    "    adata_raw, qc_vars=[\"mt\", \"ribo\", \"hb\"], inplace=True, percent_top=[20], log1p=True\n",
    ")\n",
    "adata_raw"
   ]
  },
  {
   "cell_type": "code",
   "execution_count": null,
   "id": "96748749-484c-49df-bfb1-09d2795cdf9f",
   "metadata": {},
   "outputs": [],
   "source": [
    "adata_raw.var_names_make_unique()"
   ]
  },
  {
   "cell_type": "code",
   "execution_count": null,
   "id": "08488e75-8fa8-4980-b834-63d992e09f58",
   "metadata": {},
   "outputs": [],
   "source": [
    "sc.pl.highest_expr_genes(adata_raw, n_top=20)"
   ]
  },
  {
   "cell_type": "code",
   "execution_count": null,
   "id": "cb8d2d02-8af9-42c8-8ebb-9225550efcea",
   "metadata": {},
   "outputs": [],
   "source": [
    "print(\"Min:\", adata_raw.X.min(), \"Max:\", adata_raw.X.max(), \"Mean:\", adata_raw.X.mean())"
   ]
  },
  {
   "cell_type": "code",
   "execution_count": null,
   "id": "2a5fd49d-96db-4a2a-b68f-558f758f7ba6",
   "metadata": {},
   "outputs": [],
   "source": [
    "sc.pp.filter_cells(adata_raw, min_genes=200)\n",
    "sc.pp.filter_genes(adata_raw, min_cells=3)"
   ]
  },
  {
   "cell_type": "code",
   "execution_count": null,
   "id": "e42c08e5-9582-445a-82e7-cdb3cbbf2a3c",
   "metadata": {},
   "outputs": [],
   "source": [
    "adata_raw = adata_raw[adata_raw.obs.n_genes_by_counts < 4000, :]\n",
    "adata_raw = adata_raw[adata_raw.obs.pct_counts_mt < 10, :].copy()"
   ]
  },
  {
   "cell_type": "code",
   "execution_count": null,
   "id": "967323f8-8b6f-46ab-8d94-475cdadffd6a",
   "metadata": {},
   "outputs": [],
   "source": [
    "adata_raw.write(results_file)"
   ]
  },
  {
   "cell_type": "code",
   "execution_count": null,
   "id": "9cb44c8d-5705-4440-8f3e-bd2bcc47164b",
   "metadata": {},
   "outputs": [],
   "source": [
    "adata_normalized = adata_raw.copy()"
   ]
  },
  {
   "cell_type": "code",
   "execution_count": null,
   "id": "529d03aa-f314-4481-8b84-f4b70d5d8a9c",
   "metadata": {},
   "outputs": [],
   "source": [
    "sc.pp.normalize_total(adata_normalized, target_sum=1e4)\n",
    "sc.pp.log1p(adata_normalized)"
   ]
  },
  {
   "cell_type": "code",
   "execution_count": null,
   "id": "6d2f11ab-4702-4fd7-9884-0d674f917f0f",
   "metadata": {},
   "outputs": [],
   "source": [
    "import os\n",
    "\n",
    "# Change to a directory you have access to, like your home directory or a relative path\n",
    "results_dir = \"./SCAtlas_Human_Vascular_cells_preprocessing/normalized_preprocessed\"\n",
    "\n",
    "# Create the directory if it doesn't exist\n",
    "os.makedirs(results_dir, exist_ok=True)\n",
    "\n",
    "# Now write the file\n",
    "results_file = os.path.join(results_dir, \"scAtlas_Human_vascular_cells_processed_normalized.h5ad\")\n",
    "adata_normalized.write(results_file)\n"
   ]
  },
  {
   "cell_type": "code",
   "execution_count": null,
   "id": "1ea02edb-f69c-4eb0-a548-5bcd09dfd8b8",
   "metadata": {},
   "outputs": [],
   "source": [
    "adata_normalized.write(results_file)\n"
   ]
  },
  {
   "cell_type": "code",
   "execution_count": null,
   "id": "9e378de9-8ab1-4a59-9548-48c0199ca8c7",
   "metadata": {},
   "outputs": [],
   "source": [
    "print(\"Min:\", adata_raw.X.min(), \"Max:\", adata_raw.X.max(), \"Mean:\", adata_raw.X.mean())"
   ]
  },
  {
   "cell_type": "code",
   "execution_count": null,
   "id": "09d43278-58b0-4aac-9af8-84f44d8d7ef8",
   "metadata": {},
   "outputs": [],
   "source": [
    "print(\"Min:\", adata_normalized.X.min(), \"Max:\", adata_normalized.X.max(), \"Mean:\", adata_normalized.X.mean())"
   ]
  },
  {
   "cell_type": "code",
   "execution_count": null,
   "id": "f1467f7b-5bcf-49e2-a2a4-686807c0945f",
   "metadata": {},
   "outputs": [],
   "source": [
    "adata_raw"
   ]
  },
  {
   "cell_type": "code",
   "execution_count": null,
   "id": "e4cc89b0-a04c-4f95-9843-6e204eb14ad6",
   "metadata": {},
   "outputs": [],
   "source": [
    "adata_raw.X.sum(0)"
   ]
  },
  {
   "cell_type": "code",
   "execution_count": null,
   "id": "089a7513-b314-4d1a-b3bf-3c9d0f864fb1",
   "metadata": {},
   "outputs": [],
   "source": [
    "adata_normalized"
   ]
  },
  {
   "cell_type": "code",
   "execution_count": null,
   "id": "e31f73a0-5177-4669-9937-71aece1a30af",
   "metadata": {},
   "outputs": [],
   "source": [
    "sc.read(\"/work/SCAtllas_Human_Vascular_cells_preprocessing/SCAtlas_Human_Vascular_cells_preprocessing/normalized_preprocessed/scAtlas_Human_vascular_cells_processed_normalized.h5ad\")"
   ]
  },
  {
   "cell_type": "code",
   "execution_count": null,
   "id": "c6542de2-582e-4f41-8ad2-f6775682d35f",
   "metadata": {},
   "outputs": [],
   "source": []
  }
 ],
 "metadata": {
  "kernelspec": {
   "display_name": "Python 3 ",
   "language": "python",
   "name": "python3"
  },
  "language_info": {
   "codemirror_mode": {
    "name": "ipython",
    "version": 3
   },
   "file_extension": ".py",
   "mimetype": "text/x-python",
   "name": "python",
   "nbconvert_exporter": "python",
   "pygments_lexer": "ipython3",
   "version": "3.12.10"
  }
 },
 "nbformat": 4,
 "nbformat_minor": 5
}

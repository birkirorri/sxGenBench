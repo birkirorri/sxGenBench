{
 "cells": [
  {
   "cell_type": "code",
   "execution_count": null,
   "id": "3154d96a-9c5f-40df-9372-ece2fa4ccb87",
   "metadata": {},
   "outputs": [],
   "source": [
    "import scanpy as sc\n",
    "import pandas as pd\n",
    "import numpy as np\n",
    "import seaborn as sns\n",
    "import os\n",
    "import matplotlib.pyplot as plt\n",
    "sc.settings.verbosity = 0\n",
    "sc.settings.set_figure_params(\n",
    "    dpi=80,\n",
    "    facecolor=\"white\",\n",
    "    frameon=False,\n",
    ")\n"
   ]
  },
  {
   "cell_type": "code",
   "execution_count": null,
   "id": "9bbfa54c-c989-44a5-a4fe-8653f20226ce",
   "metadata": {},
   "outputs": [],
   "source": [
    "adata = sc.read_h5ad(\"/work/HTAP_preprocess/HTAPP_997_scRNA.h5ad\")"
   ]
  },
  {
   "cell_type": "code",
   "execution_count": null,
   "id": "a0443ad3-e1a3-419d-bd3b-48e0366e4f14",
   "metadata": {},
   "outputs": [],
   "source": [
    "adata"
   ]
  },
  {
   "cell_type": "code",
   "execution_count": null,
   "id": "8a674d4f-4c0d-4c81-8ce7-d4ab800031f3",
   "metadata": {},
   "outputs": [],
   "source": [
    "adata_raw = adata.raw.to_adata()"
   ]
  },
  {
   "cell_type": "code",
   "execution_count": null,
   "id": "f78c6302-0c11-4e78-8c4f-ad923f29406a",
   "metadata": {},
   "outputs": [],
   "source": [
    "import os\n",
    "\n",
    "results_dir = \"HTAP_preprocess/Final_version_Unnormalized\"\n",
    "\n",
    "# Create the directory if it doesn't exist\n",
    "os.makedirs(results_dir, exist_ok=True)\n",
    "\n",
    "# Now write the file\n",
    "results_file = os.path.join(results_dir,\"HTAPP_997_processed_raw_FINAL.h5ad\")\n",
    "adata_raw.write(results_file)"
   ]
  },
  {
   "cell_type": "code",
   "execution_count": null,
   "id": "e50c2884-99fc-4774-95ed-72f5ed1440f0",
   "metadata": {},
   "outputs": [],
   "source": [
    "adata_raw"
   ]
  },
  {
   "cell_type": "code",
   "execution_count": null,
   "id": "07b9059f-ba26-4dce-ab6a-29907112637d",
   "metadata": {},
   "outputs": [],
   "source": [
    "# Filtering low quality cells\n",
    "\n",
    "# mitochondrial genes\n",
    "adata_raw.var[\"mt\"] = adata_raw.var_names.str.startswith(\"mt-\")\n",
    "# ribosomal genes\n",
    "adata_raw.var[\"ribo\"] = adata_raw.var_names.str.startswith((\"RPS\", \"RPL\"))\n",
    "# hemoglobin genes.\n",
    "adata_raw.var[\"hb\"] = adata_raw.var_names.str.contains((\"^HB[^(P)]\"))"
   ]
  },
  {
   "cell_type": "code",
   "execution_count": null,
   "id": "5e668d03-006c-4222-a113-a00783f18480",
   "metadata": {},
   "outputs": [],
   "source": [
    "sc.pp.calculate_qc_metrics(\n",
    "    adata_raw, qc_vars=[\"mt\", \"ribo\", \"hb\"], inplace=True, percent_top=[20], log1p=True\n",
    ")\n",
    "adata_raw"
   ]
  },
  {
   "cell_type": "code",
   "execution_count": null,
   "id": "32f07a5d-3ceb-42e7-8618-3c2242b008e6",
   "metadata": {},
   "outputs": [],
   "source": [
    "adata_raw.var_names_make_unique()"
   ]
  },
  {
   "cell_type": "code",
   "execution_count": null,
   "id": "eec0ed02-a0be-44da-a56d-e00e3d30a7a8",
   "metadata": {},
   "outputs": [],
   "source": [
    "sc.pl.highest_expr_genes(adata_raw, n_top=20)"
   ]
  },
  {
   "cell_type": "code",
   "execution_count": null,
   "id": "d863b524-3754-4ae0-b23d-b88d16a94214",
   "metadata": {},
   "outputs": [],
   "source": [
    "print(\"Min:\", adata_raw.X.min(), \"Max:\", adata_raw.X.max(), \"Mean:\", adata_raw.X.mean())"
   ]
  },
  {
   "cell_type": "code",
   "execution_count": null,
   "id": "5114e892-46c9-455b-9aa8-cd526976c26d",
   "metadata": {},
   "outputs": [],
   "source": [
    "sc.pp.filter_cells(adata_raw, min_genes=200)\n",
    "sc.pp.filter_genes(adata_raw, min_cells=3)"
   ]
  },
  {
   "cell_type": "code",
   "execution_count": null,
   "id": "1f32b013-51b1-4407-b7c5-17b41d8e3f9c",
   "metadata": {},
   "outputs": [],
   "source": [
    "adata_raw.X.sum(0)"
   ]
  },
  {
   "cell_type": "code",
   "execution_count": null,
   "id": "2feb3c3b-0371-4355-b383-80b9ed421cf2",
   "metadata": {},
   "outputs": [],
   "source": [
    "adata_raw = adata_raw[adata_raw.obs.n_genes_by_counts < 4300, :] # Filter out cells with high number of genes\n",
    "adata_raw = adata_raw[adata_raw.obs.pct_counts_mt < 10, :].copy()"
   ]
  },
  {
   "cell_type": "code",
   "execution_count": null,
   "id": "ae52607e-d6ad-4af8-aef6-11a9eb54e37d",
   "metadata": {},
   "outputs": [],
   "source": [
    "adata_raw"
   ]
  },
  {
   "cell_type": "code",
   "execution_count": null,
   "id": "61923915-298b-4fcd-bc67-cc913217dc87",
   "metadata": {},
   "outputs": [],
   "source": [
    "# Generate scatter plot and return axis object\n",
    "ax = sc.pl.scatter(adata, x=\"total_counts\", y=\"n_genes_by_counts\", show=False)\n",
    "\n",
    "# Add a red horizontal line at y = 2500\n",
    "ax.axhline(y=4300, color='red', linestyle='--', linewidth=1.5)\n",
    "\n",
    "# Show the modified plot\n",
    "plt.show()"
   ]
  },
  {
   "cell_type": "code",
   "execution_count": null,
   "id": "3f8232b9-0eae-4cf7-9b51-d8e700678c52",
   "metadata": {},
   "outputs": [],
   "source": [
    "adata_raw.write(results_file)"
   ]
  },
  {
   "cell_type": "code",
   "execution_count": null,
   "id": "ed96443c-84b1-4a2d-828a-bece47885c04",
   "metadata": {},
   "outputs": [],
   "source": [
    "adata_normalized = adata_raw.copy()"
   ]
  },
  {
   "cell_type": "code",
   "execution_count": null,
   "id": "82ef92c0-a2a4-409f-8edf-ea34153dea9f",
   "metadata": {},
   "outputs": [],
   "source": [
    "sc.pp.normalize_total(adata_normalized, target_sum=1e4)\n",
    "sc.pp.log1p(adata_normalized)"
   ]
  },
  {
   "cell_type": "code",
   "execution_count": null,
   "id": "b8737615-bcee-4848-bfdb-4174b5c8d369",
   "metadata": {},
   "outputs": [],
   "source": [
    "import os\n",
    "\n",
    "results_dir = \"HTAP_preprocess/Final_version_normalized\"\n",
    "\n",
    "# Create the directory if it doesn't exist\n",
    "os.makedirs(results_dir, exist_ok=True)\n",
    "\n",
    "# Now write the file\n",
    "results_file = os.path.join(results_dir,\"HTAPP_997_processed_normalized_FINAL.h5ad\")\n",
    "adata_normalized.write(results_file)"
   ]
  },
  {
   "cell_type": "code",
   "execution_count": null,
   "id": "e5bdb702-4cb6-427e-921a-960fe1553225",
   "metadata": {},
   "outputs": [],
   "source": [
    "adata_normalized.write(results_file)"
   ]
  },
  {
   "cell_type": "code",
   "execution_count": null,
   "id": "4e3cf205-d17d-4f8f-836c-36b8c0e4f8cb",
   "metadata": {},
   "outputs": [],
   "source": [
    "print(\"Min:\", adata_raw.X.min(), \"Max:\", adata_raw.X.max(), \"Mean:\", adata_raw.X.mean())"
   ]
  },
  {
   "cell_type": "code",
   "execution_count": null,
   "id": "8b47efac-5e04-46ae-899e-14d0546ec78b",
   "metadata": {},
   "outputs": [],
   "source": [
    "print(\"Min:\", adata_normalized.X.min(), \"Max:\", adata_normalized.X.max(), \"Mean:\", adata_normalized.X.mean())"
   ]
  },
  {
   "cell_type": "code",
   "execution_count": null,
   "id": "0b981e99-b8cc-40b8-ba91-903bcce51e88",
   "metadata": {},
   "outputs": [],
   "source": [
    "sc.read(\"/work/HTAP_preprocess/HTAP_preprocess/Final_version_normalized/HTAPP_997_processed_normalized_FINAL.h5ad\")"
   ]
  },
  {
   "cell_type": "code",
   "execution_count": null,
   "id": "73cdc0f7-4559-4f90-bfb5-7568c97c5309",
   "metadata": {},
   "outputs": [],
   "source": [
    "sc.read(\"/work/HTAP_preprocess/HTAP_preprocess/Final_version_Unnormalized/HTAPP_997_processed_raw_FINAL.h5ad\")"
   ]
  },
  {
   "cell_type": "code",
   "execution_count": null,
   "id": "87332170-1d94-4963-8ef4-81782534ff78",
   "metadata": {},
   "outputs": [],
   "source": []
  }
 ],
 "metadata": {
  "kernelspec": {
   "display_name": "Python 3 ",
   "language": "python",
   "name": "python3"
  },
  "language_info": {
   "codemirror_mode": {
    "name": "ipython",
    "version": 3
   },
   "file_extension": ".py",
   "mimetype": "text/x-python",
   "name": "python",
   "nbconvert_exporter": "python",
   "pygments_lexer": "ipython3",
   "version": "3.12.9"
  }
 },
 "nbformat": 4,
 "nbformat_minor": 5
}

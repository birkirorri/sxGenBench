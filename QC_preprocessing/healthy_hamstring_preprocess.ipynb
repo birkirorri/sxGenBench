{
 "cells": [
  {
   "cell_type": "code",
   "execution_count": null,
   "id": "335bcc10-0f4f-4c00-8a5e-167e6eba81b3",
   "metadata": {},
   "outputs": [],
   "source": [
    "import scanpy as sc\n",
    "import pandas as pd\n",
    "import numpy as np\n",
    "import seaborn as sns\n",
    "import os\n",
    "import matplotlib.pyplot as plt\n",
    "sc.settings.verbosity = 0\n",
    "sc.settings.set_figure_params(\n",
    "    dpi=80,\n",
    "    facecolor=\"white\",\n",
    "    frameon=False,\n",
    ")\n"
   ]
  },
  {
   "cell_type": "code",
   "execution_count": null,
   "id": "231f31a4-3bfc-48df-b12b-bdf5fd61e395",
   "metadata": {
    "scrolled": true
   },
   "outputs": [],
   "source": [
    "pip install scanpy"
   ]
  },
  {
   "cell_type": "code",
   "execution_count": null,
   "id": "119d2b33-52d6-42db-bcdd-5fc063e09eb0",
   "metadata": {},
   "outputs": [],
   "source": [
    "adata = sc.read_h5ad(\"healthy_hamstring_tendon.h5ad\")"
   ]
  },
  {
   "cell_type": "code",
   "execution_count": null,
   "id": "a332c045-d61d-4793-8a68-90edc1a026f7",
   "metadata": {},
   "outputs": [],
   "source": [
    "adata"
   ]
  },
  {
   "cell_type": "code",
   "execution_count": null,
   "id": "14aaee71-a7bd-4e89-aa63-da2c4e688784",
   "metadata": {},
   "outputs": [],
   "source": [
    "adata_raw = adata.raw.to_adata()"
   ]
  },
  {
   "cell_type": "code",
   "execution_count": null,
   "id": "2549c1cc-511c-4faf-a567-a66da6d9aac2",
   "metadata": {},
   "outputs": [],
   "source": [
    "import os\n",
    "\n",
    "# Change to a directory you have access to, like your home directory or a relative path\n",
    "results_dir = \"./healthy_hamstring/write/final_versions\"\n",
    "\n",
    "# Create the directory if it doesn't exist\n",
    "os.makedirs(results_dir, exist_ok=True)\n",
    "\n",
    "# Now write the file\n",
    "results_file = os.path.join(results_dir, \"healthy_hamstring_processed_adata_raw_nonormalization.h5ad\")\n",
    "adata_raw.write(results_file)\n"
   ]
  },
  {
   "cell_type": "code",
   "execution_count": null,
   "id": "f3f9d879-82fb-4b3e-a87e-47d3c11e250d",
   "metadata": {},
   "outputs": [],
   "source": [
    "adata_raw"
   ]
  },
  {
   "cell_type": "code",
   "execution_count": null,
   "id": "407ef4b2-0834-48fa-8e3b-886a18f0ac50",
   "metadata": {},
   "outputs": [],
   "source": [
    "# Filtering low quality cells\n",
    "\n",
    "# mitochondrial genes\n",
    "adata_raw.var[\"mt\"] = adata_raw.var_names.str.startswith(\"mt-\")\n",
    "# ribosomal genes\n",
    "adata_raw.var[\"ribo\"] = adata_raw.var_names.str.startswith((\"RPS\", \"RPL\"))\n",
    "# hemoglobin genes.\n",
    "adata_raw.var[\"hb\"] = adata_raw.var_names.str.contains((\"^HB[^(P)]\"))"
   ]
  },
  {
   "cell_type": "code",
   "execution_count": null,
   "id": "b1585485-31cb-4f0b-a74d-57c00aa74326",
   "metadata": {},
   "outputs": [],
   "source": [
    "sc.pp.calculate_qc_metrics(\n",
    "    adata_raw, qc_vars=[\"mt\", \"ribo\", \"hb\"], inplace=True, percent_top=[20], log1p=True\n",
    ")\n",
    "adata_raw"
   ]
  },
  {
   "cell_type": "code",
   "execution_count": null,
   "id": "3ef4f13d-d463-4ef2-b748-6f86c6445d0a",
   "metadata": {},
   "outputs": [],
   "source": [
    "p1 = sns.displot(adata_raw.obs[\"total_counts\"], bins=100, kde=False)\n",
    "# sc.pl.violin(adata, 'total_counts')\n",
    "p2 = sc.pl.violin(adata_raw, \"tissue\")\n",
    "p3 = sc.pl.scatter(adata_raw, \"total_counts\", \"n_genes_by_counts\", color=\"mt\")"
   ]
  },
  {
   "cell_type": "code",
   "execution_count": null,
   "id": "a2e0e916-d329-4f2a-a0c4-9f3e1dfae988",
   "metadata": {},
   "outputs": [],
   "source": [
    "adata_raw.var_names_make_unique()"
   ]
  },
  {
   "cell_type": "code",
   "execution_count": null,
   "id": "02d6ffd3-77b7-4fee-bf14-2a9806264772",
   "metadata": {},
   "outputs": [],
   "source": [
    "sc.pl.highest_expr_genes(adata_raw, n_top=20)"
   ]
  },
  {
   "cell_type": "code",
   "execution_count": null,
   "id": "f69b24b3-da9b-4640-a4f3-a8ee25e07c8b",
   "metadata": {},
   "outputs": [],
   "source": [
    "print(\"Min:\", adata_raw.X.min(), \"Max:\", adata_raw.X.max(), \"Mean:\", adata_raw.X.mean())"
   ]
  },
  {
   "cell_type": "code",
   "execution_count": null,
   "id": "31f3316f-7fd7-4f82-9fb4-119473c7d4d4",
   "metadata": {},
   "outputs": [],
   "source": []
  },
  {
   "cell_type": "code",
   "execution_count": null,
   "id": "5be08bac-622f-49a0-800a-0314649d13a8",
   "metadata": {},
   "outputs": [],
   "source": [
    "sc.pp.filter_cells(adata_raw, min_genes=200)\n",
    "sc.pp.filter_genes(adata_raw, min_cells=3)"
   ]
  },
  {
   "cell_type": "code",
   "execution_count": null,
   "id": "04cdb49c-7f6b-4565-a11b-1b7ed9fbbb05",
   "metadata": {},
   "outputs": [],
   "source": [
    "import matplotlib.pyplot as plt\n",
    "import scanpy as sc\n",
    "\n",
    "# Generate scatter plot and return axis object\n",
    "ax = sc.pl.scatter(adata_raw, x=\"total_counts\", y=\"n_genes_by_counts\", show=False)\n",
    "\n",
    "# Add a red horizontal line at y = 2500\n",
    "ax.axhline(y=2500, color='red', linestyle='--', linewidth=1.5)\n",
    "\n",
    "# Show the modified plot\n",
    "plt.show()\n",
    "\n"
   ]
  },
  {
   "cell_type": "code",
   "execution_count": null,
   "id": "1ce3de13-70c2-4bb0-accf-9a927a1c32cb",
   "metadata": {},
   "outputs": [],
   "source": [
    "adata_raw = adata_raw[adata_raw.obs.n_genes_by_counts < 2500, :]\n",
    "adata_raw = adata_raw[adata_raw.obs.pct_counts_mt < 10, :].copy()"
   ]
  },
  {
   "cell_type": "code",
   "execution_count": null,
   "id": "8bc666bc-2eb3-440c-bb36-58660a8e5a95",
   "metadata": {},
   "outputs": [],
   "source": [
    "adata_raw"
   ]
  },
  {
   "cell_type": "code",
   "execution_count": null,
   "id": "24e6cb15-8655-4bec-a7a7-655248bcbacd",
   "metadata": {},
   "outputs": [],
   "source": [
    "adata_raw.write(results_file)"
   ]
  },
  {
   "cell_type": "code",
   "execution_count": null,
   "id": "e4e397d2-9027-41be-ac94-7a856467f366",
   "metadata": {},
   "outputs": [],
   "source": [
    "adata_normalized.write(results_file)"
   ]
  },
  {
   "cell_type": "code",
   "execution_count": null,
   "id": "995a7918-412f-41d9-8822-1c968390a79e",
   "metadata": {},
   "outputs": [],
   "source": [
    "import os\n",
    "\n",
    "# Change to a directory you have access to, like your home directory or a relative path\n",
    "results_dir = \"./healthy_hamstring/write/final_versions/normalized_data\"\n",
    "\n",
    "# Create the directory if it doesn't exist\n",
    "os.makedirs(results_dir, exist_ok=True)\n",
    "\n",
    "# Now write the file\n",
    "results_file = os.path.join(results_dir, \"healthy_hamstring_processed_adata_raw_normalized.h5ad\")\n",
    "adata.write(results_file)"
   ]
  },
  {
   "cell_type": "code",
   "execution_count": null,
   "id": "850ab388-44d4-4950-983d-058294d64679",
   "metadata": {},
   "outputs": [],
   "source": [
    "adata_normalized = adata_raw.copy()"
   ]
  },
  {
   "cell_type": "code",
   "execution_count": null,
   "id": "2ed793ed-7fc9-4f93-bf1f-9ddd3dce7dd4",
   "metadata": {},
   "outputs": [],
   "source": [
    "sc.pp.normalize_total(adata_normalized, target_sum=1e4)\n",
    "sc.pp.log1p(adata_normalized)"
   ]
  },
  {
   "cell_type": "code",
   "execution_count": null,
   "id": "daf942da-be50-4871-b29f-d21eb1dc7991",
   "metadata": {},
   "outputs": [],
   "source": []
  },
  {
   "cell_type": "code",
   "execution_count": null,
   "id": "5ef9d7a6-faad-4f92-be05-9f134cc5b722",
   "metadata": {},
   "outputs": [],
   "source": [
    "print(\"Min:\", adata_normalized.X.min(), \"Max:\", adata_normalized.X.max(), \"Mean:\", adata_normalized.X.mean())"
   ]
  },
  {
   "cell_type": "code",
   "execution_count": null,
   "id": "1ed0d9ab-9d71-4ab8-8a7e-12d711709a43",
   "metadata": {},
   "outputs": [],
   "source": [
    "sc.pp.filter_cells(adata_raw, min_genes=200)\n",
    "sc.pp.filter_genes(adata_raw, min_cells=3)\n",
    "adata_raw = adata_raw[adata_raw.obs.n_genes_by_counts < 2500, :]\n",
    "adata_raw = adata_raw[adata_raw.obs.pct_counts_mt < 10, :].copy()"
   ]
  },
  {
   "cell_type": "code",
   "execution_count": null,
   "id": "d72d001a-704c-4869-837e-c6ea53b36240",
   "metadata": {},
   "outputs": [],
   "source": [
    "#save adata_check_raw\n",
    "sc.pp.normalize_total(adata_check_raw)\n",
    "sc.pp.log1p(adata_check_raw)\n",
    "#save norm"
   ]
  },
  {
   "cell_type": "code",
   "execution_count": null,
   "id": "e4cd46e5-7c83-44d7-a272-3e4793a32bfd",
   "metadata": {},
   "outputs": [],
   "source": [
    "print(\"Min:\", adata.X.min(), \"Max:\", adata.X.max(), \"Mean:\", adata.X.mean())"
   ]
  },
  {
   "cell_type": "code",
   "execution_count": null,
   "id": "f23f16b4-4417-4913-bd76-2594901b2d4e",
   "metadata": {},
   "outputs": [],
   "source": [
    "print(\"Min:\", adata_check_raw.X.min(), \"Max:\", adata_check_raw.X.max(), \"Mean:\", adata_check_raw.X.mean())"
   ]
  },
  {
   "cell_type": "code",
   "execution_count": null,
   "id": "ce08003a-de57-4b24-b41b-76e1959ab8a4",
   "metadata": {},
   "outputs": [],
   "source": [
    "adata2 = sc.read(\"healthy_hamstring/write/healthy_hamstring_processed_test2.h5ad\")"
   ]
  },
  {
   "cell_type": "code",
   "execution_count": null,
   "id": "5d79773c-df54-4492-a192-a864c1a7aa25",
   "metadata": {},
   "outputs": [],
   "source": [
    "adata2"
   ]
  },
  {
   "cell_type": "code",
   "execution_count": null,
   "id": "32783bad-8cc5-4381-a976-3270b44d3e9c",
   "metadata": {},
   "outputs": [],
   "source": [
    "adata.obs[\"donor_id\"]"
   ]
  },
  {
   "cell_type": "code",
   "execution_count": null,
   "id": "cda11e34-3922-43bd-b1b2-74b2f4144e8c",
   "metadata": {},
   "outputs": [],
   "source": [
    "adata.obs[\"mitoRatio\"]"
   ]
  },
  {
   "cell_type": "code",
   "execution_count": null,
   "id": "954faaca-b6d9-4013-b2ac-4fb915f160a1",
   "metadata": {},
   "outputs": [],
   "source": [
    "fig, axs = plt.subplots(1, 2, figsize=(18, 5))\n",
    "for i, c in enumerate([\"cell_type\", \"disease\"]):\n",
    "    sc.pl.umap(adata, color=[c], ax=axs[i], show=False)\n",
    "    axs[i].set_axis_off()\n",
    "plt.tight_layout()\n",
    "plt.show()"
   ]
  }
 ],
 "metadata": {
  "kernelspec": {
   "display_name": "Python 3 ",
   "language": "python",
   "name": "python3"
  },
  "language_info": {
   "codemirror_mode": {
    "name": "ipython",
    "version": 3
   },
   "file_extension": ".py",
   "mimetype": "text/x-python",
   "name": "python",
   "nbconvert_exporter": "python",
   "pygments_lexer": "ipython3",
   "version": "3.12.10"
  }
 },
 "nbformat": 4,
 "nbformat_minor": 5
}

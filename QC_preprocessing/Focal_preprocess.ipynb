{
 "cells": [
  {
   "cell_type": "code",
   "execution_count": null,
   "id": "9768d506-dd81-4312-b1c0-f028a062402d",
   "metadata": {},
   "outputs": [],
   "source": [
    "import scanpy as sc\n",
    "import pandas as pd\n",
    "import numpy as np\n",
    "import seaborn as sns\n",
    "import os\n",
    "import matplotlib.pyplot as plt\n",
    "sc.settings.verbosity = 0\n",
    "sc.settings.set_figure_params(\n",
    "    dpi=80,\n",
    "    facecolor=\"white\",\n",
    "    frameon=False,\n",
    ")\n"
   ]
  },
  {
   "cell_type": "code",
   "execution_count": null,
   "id": "4f5f90aa-43a3-4bbf-8ee1-c9ebbcc36254",
   "metadata": {},
   "outputs": [],
   "source": [
    "adata = sc.read_h5ad(\"/work/focal_crtical_prepr/focal_cortical.h5ad\")"
   ]
  },
  {
   "cell_type": "code",
   "execution_count": null,
   "id": "3e833a76-f449-498c-acea-8d78498c3403",
   "metadata": {},
   "outputs": [],
   "source": [
    "adata"
   ]
  },
  {
   "cell_type": "code",
   "execution_count": null,
   "id": "0c06bd7f-9aee-4257-853a-a881d2348822",
   "metadata": {},
   "outputs": [],
   "source": [
    "adata_raw = adata.raw.to_adata()"
   ]
  },
  {
   "cell_type": "code",
   "execution_count": null,
   "id": "2f33355f-6749-4f74-ad95-a5a74598745e",
   "metadata": {},
   "outputs": [],
   "source": [
    "import os\n",
    "\n",
    "results_dir = \"focal_crtical_prepr/Raw_preprocessed\"\n",
    "\n",
    "# Create the directory if it doesn't exist\n",
    "os.makedirs(results_dir, exist_ok=True)\n",
    "\n",
    "# Now write the file\n",
    "results_file = os.path.join(results_dir,\"focal_cortical_processed_RAW.h5ad\")\n",
    "adata_raw.write(results_file)"
   ]
  },
  {
   "cell_type": "code",
   "execution_count": null,
   "id": "d70a266f-01c9-4cf3-9794-ea3a304202f3",
   "metadata": {},
   "outputs": [],
   "source": [
    "adata_raw"
   ]
  },
  {
   "cell_type": "code",
   "execution_count": null,
   "id": "e946c2ae-a157-4ef4-80e7-4a4a29658bd7",
   "metadata": {},
   "outputs": [],
   "source": [
    "# Filtering low quality cells\n",
    "\n",
    "# mitochondrial genes\n",
    "adata_raw.var[\"mt\"] = adata_raw.var_names.str.startswith(\"mt-\")\n",
    "# ribosomal genes\n",
    "adata_raw.var[\"ribo\"] = adata_raw.var_names.str.startswith((\"RPS\", \"RPL\"))\n",
    "# hemoglobin genes.\n",
    "adata_raw.var[\"hb\"] = adata_raw.var_names.str.contains((\"^HB[^(P)]\"))"
   ]
  },
  {
   "cell_type": "code",
   "execution_count": null,
   "id": "cb03a504-f899-4ae8-b095-f1865b4e638e",
   "metadata": {},
   "outputs": [],
   "source": [
    "sc.pp.calculate_qc_metrics(\n",
    "    adata_raw, qc_vars=[\"mt\", \"ribo\", \"hb\"], inplace=True, percent_top=[20], log1p=True\n",
    ")\n",
    "adata_raw"
   ]
  },
  {
   "cell_type": "code",
   "execution_count": null,
   "id": "21d44f22-8221-4a5f-a341-31ab938acd2f",
   "metadata": {},
   "outputs": [],
   "source": [
    "sc.pl.highest_expr_genes(adata_raw, n_top=20)"
   ]
  },
  {
   "cell_type": "code",
   "execution_count": null,
   "id": "28986d08-608c-4971-b323-e108ab518454",
   "metadata": {},
   "outputs": [],
   "source": [
    "print(\"Min:\", adata_raw.X.min(), \"Max:\", adata_raw.X.max(), \"Mean:\", adata_raw.X.mean())"
   ]
  },
  {
   "cell_type": "code",
   "execution_count": null,
   "id": "f8504410-8a4c-4502-ab3d-0c289b0e7dbb",
   "metadata": {},
   "outputs": [],
   "source": [
    "sc.pp.filter_cells(adata_raw, min_genes=200)\n",
    "sc.pp.filter_genes(adata_raw, min_cells=3)"
   ]
  },
  {
   "cell_type": "code",
   "execution_count": null,
   "id": "459fb5fa-aa6f-4d05-94c9-44b70ce29dc5",
   "metadata": {},
   "outputs": [],
   "source": [
    "adata_raw"
   ]
  },
  {
   "cell_type": "code",
   "execution_count": null,
   "id": "492261c3-ef59-49d5-923a-196fdc268c09",
   "metadata": {},
   "outputs": [],
   "source": [
    "# Generate scatter plot and return axis object\n",
    "ax = sc.pl.scatter(adata_raw, x=\"total_counts\", y=\"n_genes_by_counts\", show=False)\n",
    "\n",
    "# Add a red horizontal line at y = 2500\n",
    "ax.axhline(y=4000, color='red', linestyle='--', linewidth=1.5)\n",
    "\n",
    "# Show the modified plot\n",
    "plt.show()"
   ]
  },
  {
   "cell_type": "code",
   "execution_count": null,
   "id": "564b1e9a-9171-4775-9441-78eba1b04a0a",
   "metadata": {},
   "outputs": [],
   "source": [
    "adata_raw = adata_raw[adata_raw.obs.n_genes_by_counts < 4000, :]\n",
    "adata_raw = adata_raw[adata_raw.obs.pct_counts_mt < 10, :].copy()"
   ]
  },
  {
   "cell_type": "code",
   "execution_count": null,
   "id": "815306d8-6024-4c57-a722-daf964a83d86",
   "metadata": {},
   "outputs": [],
   "source": [
    "adata_raw"
   ]
  },
  {
   "cell_type": "code",
   "execution_count": null,
   "id": "e6e6c306-b64c-4279-9c0c-fea756956df4",
   "metadata": {},
   "outputs": [],
   "source": [
    "adata_raw.write(results_file)"
   ]
  },
  {
   "cell_type": "code",
   "execution_count": null,
   "id": "4b2ff818-aec1-4f59-b942-32237810669b",
   "metadata": {},
   "outputs": [],
   "source": [
    "adata_normalized = adata_raw.copy()"
   ]
  },
  {
   "cell_type": "code",
   "execution_count": null,
   "id": "0a614c4b-087e-4a5c-83bb-0f6797244b08",
   "metadata": {},
   "outputs": [],
   "source": [
    "sc.pp.normalize_total(adata_normalized, target_sum=1e4)\n",
    "sc.pp.log1p(adata_normalized)"
   ]
  },
  {
   "cell_type": "code",
   "execution_count": null,
   "id": "e192238e-caea-46f2-aa34-fbc4c78e1402",
   "metadata": {},
   "outputs": [],
   "source": [
    "import os\n",
    "\n",
    "results_dir = \"focal_crtical_prepr/Normalized_preprocessed\"\n",
    "\n",
    "# Create the directory if it doesn't exist\n",
    "os.makedirs(results_dir, exist_ok=True)\n",
    "\n",
    "# Now write the file\n",
    "results_file = os.path.join(results_dir,\"focal_cortical_processed_normalized.h5ad\")\n",
    "adata_normalized.write(results_file)"
   ]
  },
  {
   "cell_type": "code",
   "execution_count": null,
   "id": "20ac941e-d322-4373-95cc-d78c60a0a222",
   "metadata": {},
   "outputs": [],
   "source": [
    "adata_normalized.write(results_file)"
   ]
  },
  {
   "cell_type": "code",
   "execution_count": null,
   "id": "6d87b349-f620-4a10-9079-e65ac5b807be",
   "metadata": {},
   "outputs": [],
   "source": [
    "#print(\"Min:\", adata_raw.X.min(), \"Max:\", adata_raw.X.max(), \"Mean:\", adata_raw.X.mean())"
   ]
  },
  {
   "cell_type": "code",
   "execution_count": null,
   "id": "7bbe759a-818b-4ccb-a6f7-2a28decee8a7",
   "metadata": {},
   "outputs": [],
   "source": [
    "#print(\"Min:\", adata_normalized.X.min(), \"Max:\", adata_normalized.X.max(), \"Mean:\", adata_normalized.X.mean())"
   ]
  },
  {
   "cell_type": "code",
   "execution_count": null,
   "id": "651f67ed-1215-4c53-b32a-e92888995192",
   "metadata": {},
   "outputs": [],
   "source": [
    "adata_raw"
   ]
  },
  {
   "cell_type": "code",
   "execution_count": null,
   "id": "73e93378-24ca-49ea-8412-0d70a39d095d",
   "metadata": {},
   "outputs": [],
   "source": [
    "adata_normalized"
   ]
  },
  {
   "cell_type": "code",
   "execution_count": null,
   "id": "697f60b9-2e5a-44ba-a7df-48886fdab74c",
   "metadata": {},
   "outputs": [],
   "source": []
  },
  {
   "cell_type": "code",
   "execution_count": null,
   "id": "6eaa7ad6-5fed-41f5-b51c-e6268375c701",
   "metadata": {},
   "outputs": [],
   "source": []
  }
 ],
 "metadata": {
  "kernelspec": {
   "display_name": "Python 3 ",
   "language": "python",
   "name": "python3"
  },
  "language_info": {
   "codemirror_mode": {
    "name": "ipython",
    "version": 3
   },
   "file_extension": ".py",
   "mimetype": "text/x-python",
   "name": "python",
   "nbconvert_exporter": "python",
   "pygments_lexer": "ipython3",
   "version": "3.12.9"
  }
 },
 "nbformat": 4,
 "nbformat_minor": 5
}

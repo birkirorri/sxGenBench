{
 "cells": [
  {
   "cell_type": "code",
   "execution_count": 1,
   "id": "00b25689-f80c-4c48-88b1-b20b1ee947ca",
   "metadata": {
    "scrolled": true
   },
   "outputs": [
    {
     "name": "stdout",
     "output_type": "stream",
     "text": [
      "Defaulting to user installation because normal site-packages is not writeable\n",
      "\u001b[33mDEPRECATION: Loading egg at /usr/local/lib/python3.12/dist-packages/dill-0.3.9-py3.12.egg is deprecated. pip 25.1 will enforce this behaviour change. A possible replacement is to use pip for package installation. Discussion can be found at https://github.com/pypa/pip/issues/12330\u001b[0m\u001b[33m\n",
      "\u001b[0m\u001b[33mDEPRECATION: Loading egg at /usr/local/lib/python3.12/dist-packages/lightning_thunder-0.2.0.dev0-py3.12.egg is deprecated. pip 25.1 will enforce this behaviour change. A possible replacement is to use pip for package installation. Discussion can be found at https://github.com/pypa/pip/issues/12330\u001b[0m\u001b[33m\n",
      "\u001b[0m\u001b[33mDEPRECATION: Loading egg at /usr/local/lib/python3.12/dist-packages/lightning_utilities-0.12.0.dev0-py3.12.egg is deprecated. pip 25.1 will enforce this behaviour change. A possible replacement is to use pip for package installation. Discussion can be found at https://github.com/pypa/pip/issues/12330\u001b[0m\u001b[33m\n",
      "\u001b[0m\u001b[33mDEPRECATION: Loading egg at /usr/local/lib/python3.12/dist-packages/looseversion-1.3.0-py3.12.egg is deprecated. pip 25.1 will enforce this behaviour change. A possible replacement is to use pip for package installation. Discussion can be found at https://github.com/pypa/pip/issues/12330\u001b[0m\u001b[33m\n",
      "\u001b[0m\u001b[33mDEPRECATION: Loading egg at /usr/local/lib/python3.12/dist-packages/nvfuser-0.2.23a0+6627725-py3.12-linux-x86_64.egg is deprecated. pip 25.1 will enforce this behaviour change. A possible replacement is to use pip for package installation. Discussion can be found at https://github.com/pypa/pip/issues/12330\u001b[0m\u001b[33m\n",
      "\u001b[0m\u001b[33mDEPRECATION: Loading egg at /usr/local/lib/python3.12/dist-packages/opt_einsum-3.4.0-py3.12.egg is deprecated. pip 25.1 will enforce this behaviour change. A possible replacement is to use pip for package installation. Discussion can be found at https://github.com/pypa/pip/issues/12330\u001b[0m\u001b[33m\n",
      "Looking in indexes: https://pypi.org/simple, https://pypi.ngc.nvidia.com\n",
      "Collecting biolord\n",
      "  Downloading biolord-0.0.3-py3-none-any.whl.metadata (5.3 kB)\n",
      "Collecting anndata (from biolord)\n",
      "  Downloading anndata-0.11.4-py3-none-any.whl.metadata (9.3 kB)\n",
      "Requirement already satisfied: rich in /usr/local/lib/python3.12/dist-packages (from biolord) (13.9.4)\n",
      "Collecting scanpy (from biolord)\n",
      "  Downloading scanpy-1.11.1-py3-none-any.whl.metadata (9.9 kB)\n",
      "Requirement already satisfied: scikit-learn in /usr/local/lib/python3.12/dist-packages (from biolord) (1.6.1)\n",
      "Collecting scvi-tools (from biolord)\n",
      "  Downloading scvi_tools-1.3.1.post1-py3-none-any.whl.metadata (22 kB)\n",
      "Collecting session-info (from biolord)\n",
      "  Downloading session_info-1.0.1-py3-none-any.whl.metadata (5.1 kB)\n",
      "Requirement already satisfied: torch in /usr/local/lib/python3.12/dist-packages (from biolord) (2.6.0a0+ecf3bae40a.nv25.1)\n",
      "Collecting array-api-compat!=1.5,>1.4 (from anndata->biolord)\n",
      "  Downloading array_api_compat-1.12.0-py3-none-any.whl.metadata (2.5 kB)\n",
      "Collecting h5py>=3.7 (from anndata->biolord)\n",
      "  Downloading h5py-3.13.0-cp312-cp312-manylinux_2_17_x86_64.manylinux2014_x86_64.whl.metadata (2.5 kB)\n",
      "Collecting natsort (from anndata->biolord)\n",
      "  Downloading natsort-8.4.0-py3-none-any.whl.metadata (21 kB)\n",
      "Requirement already satisfied: numpy>=1.23 in /usr/local/lib/python3.12/dist-packages (from anndata->biolord) (1.26.4)\n",
      "Collecting packaging>=24.2 (from anndata->biolord)\n",
      "  Downloading packaging-25.0-py3-none-any.whl.metadata (3.3 kB)\n",
      "Requirement already satisfied: pandas!=2.1.0rc0,!=2.1.2,>=1.4 in /usr/local/lib/python3.12/dist-packages (from anndata->biolord) (2.2.2)\n",
      "Requirement already satisfied: scipy>1.8 in /usr/local/lib/python3.12/dist-packages (from anndata->biolord) (1.14.1)\n",
      "Requirement already satisfied: markdown-it-py>=2.2.0 in /usr/local/lib/python3.12/dist-packages (from rich->biolord) (3.0.0)\n",
      "Requirement already satisfied: pygments<3.0.0,>=2.13.0 in /usr/local/lib/python3.12/dist-packages (from rich->biolord) (2.18.0)\n",
      "Requirement already satisfied: joblib in /usr/local/lib/python3.12/dist-packages (from scanpy->biolord) (1.4.2)\n",
      "Collecting legacy-api-wrap>=1.4 (from scanpy->biolord)\n",
      "  Downloading legacy_api_wrap-1.4.1-py3-none-any.whl.metadata (2.1 kB)\n",
      "Requirement already satisfied: matplotlib>=3.7 in /usr/local/lib/python3.12/dist-packages (from scanpy->biolord) (3.10.0)\n",
      "Requirement already satisfied: networkx>=2.7 in /usr/local/lib/python3.12/dist-packages (from scanpy->biolord) (3.4.2)\n",
      "Requirement already satisfied: numba>=0.57 in /usr/local/lib/python3.12/dist-packages (from scanpy->biolord) (0.59.1)\n",
      "Collecting patsy!=1.0.0 (from scanpy->biolord)\n",
      "  Downloading patsy-1.0.1-py2.py3-none-any.whl.metadata (3.3 kB)\n",
      "Collecting pynndescent>=0.5 (from scanpy->biolord)\n",
      "  Downloading pynndescent-0.5.13-py3-none-any.whl.metadata (6.8 kB)\n",
      "Collecting scikit-learn (from biolord)\n",
      "  Downloading scikit_learn-1.5.2-cp312-cp312-manylinux_2_17_x86_64.manylinux2014_x86_64.whl.metadata (13 kB)\n",
      "Collecting seaborn>=0.13 (from scanpy->biolord)\n",
      "  Downloading seaborn-0.13.2-py3-none-any.whl.metadata (5.4 kB)\n",
      "Collecting session-info2 (from scanpy->biolord)\n",
      "  Downloading session_info2-0.1.2-py3-none-any.whl.metadata (2.5 kB)\n",
      "Collecting statsmodels>=0.13 (from scanpy->biolord)\n",
      "  Downloading statsmodels-0.14.4-cp312-cp312-manylinux_2_17_x86_64.manylinux2014_x86_64.whl.metadata (9.2 kB)\n",
      "Requirement already satisfied: tqdm in /usr/local/lib/python3.12/dist-packages (from scanpy->biolord) (4.67.1)\n",
      "Requirement already satisfied: typing-extensions in /usr/local/lib/python3.12/dist-packages (from scanpy->biolord) (4.12.2)\n",
      "Collecting umap-learn!=0.5.0,>=0.5 (from scanpy->biolord)\n",
      "  Downloading umap_learn-0.5.7-py3-none-any.whl.metadata (21 kB)\n",
      "Requirement already satisfied: threadpoolctl>=3.1.0 in /usr/local/lib/python3.12/dist-packages (from scikit-learn->biolord) (3.5.0)\n",
      "Collecting docrep>=0.3.2 (from scvi-tools->biolord)\n",
      "  Downloading docrep-0.3.2.tar.gz (33 kB)\n",
      "  Preparing metadata (setup.py) ... \u001b[?25ldone\n",
      "\u001b[?25hCollecting flax (from scvi-tools->biolord)\n",
      "  Downloading flax-0.10.6-py3-none-any.whl.metadata (11 kB)\n",
      "Collecting jax (from scvi-tools->biolord)\n",
      "  Downloading jax-0.6.0-py3-none-any.whl.metadata (22 kB)\n",
      "Collecting jaxlib (from scvi-tools->biolord)\n",
      "  Downloading jaxlib-0.6.0-cp312-cp312-manylinux2014_x86_64.whl.metadata (1.2 kB)\n",
      "Collecting lightning>=2.0 (from scvi-tools->biolord)\n",
      "  Downloading lightning-2.5.1.post0-py3-none-any.whl.metadata (39 kB)\n",
      "Collecting ml-collections>=0.1.1 (from scvi-tools->biolord)\n",
      "  Downloading ml_collections-1.1.0-py3-none-any.whl.metadata (22 kB)\n",
      "Collecting mudata>=0.1.2 (from scvi-tools->biolord)\n",
      "  Downloading mudata-0.3.1-py3-none-any.whl.metadata (8.3 kB)\n",
      "Collecting numba>=0.57 (from scanpy->biolord)\n",
      "  Downloading numba-0.61.2-cp312-cp312-manylinux2014_x86_64.manylinux_2_17_x86_64.whl.metadata (2.8 kB)\n",
      "Collecting numpyro>=0.12.1 (from scvi-tools->biolord)\n",
      "  Downloading numpyro-0.18.0-py3-none-any.whl.metadata (37 kB)\n",
      "Collecting optax (from scvi-tools->biolord)\n",
      "  Downloading optax-0.2.4-py3-none-any.whl.metadata (8.3 kB)\n",
      "Collecting pyro-ppl>=1.6.0 (from scvi-tools->biolord)\n",
      "  Downloading pyro_ppl-1.9.1-py3-none-any.whl.metadata (7.8 kB)\n",
      "Collecting sparse>=0.14.0 (from scvi-tools->biolord)\n",
      "  Downloading sparse-0.16.0-py2.py3-none-any.whl.metadata (5.3 kB)\n",
      "Requirement already satisfied: tensorboard>=2.0 in /usr/local/lib/python3.12/dist-packages (from scvi-tools->biolord) (2.16.2)\n",
      "Requirement already satisfied: torchmetrics>=0.11.0 in /usr/local/lib/python3.12/dist-packages (from scvi-tools->biolord) (1.6.1)\n",
      "Collecting xarray>=2023.2.0 (from scvi-tools->biolord)\n",
      "  Downloading xarray-2025.4.0-py3-none-any.whl.metadata (12 kB)\n",
      "Collecting stdlib_list (from session-info->biolord)\n",
      "  Downloading stdlib_list-0.11.1-py3-none-any.whl.metadata (3.3 kB)\n",
      "Requirement already satisfied: filelock in /usr/local/lib/python3.12/dist-packages (from torch->biolord) (3.16.1)\n",
      "Requirement already satisfied: jinja2 in /usr/local/lib/python3.12/dist-packages (from torch->biolord) (3.1.4)\n",
      "Requirement already satisfied: fsspec in /usr/local/lib/python3.12/dist-packages (from torch->biolord) (2024.10.0)\n",
      "Requirement already satisfied: setuptools in /usr/local/lib/python3.12/dist-packages (from torch->biolord) (70.3.0)\n",
      "Requirement already satisfied: sympy==1.13.1 in /usr/local/lib/python3.12/dist-packages (from torch->biolord) (1.13.1)\n",
      "Requirement already satisfied: mpmath<1.4,>=1.1.0 in /usr/local/lib/python3.12/dist-packages (from sympy==1.13.1->torch->biolord) (1.3.0)\n",
      "Requirement already satisfied: six in /usr/local/lib/python3.12/dist-packages (from docrep>=0.3.2->scvi-tools->biolord) (1.17.0)\n",
      "Requirement already satisfied: PyYAML<8.0,>=5.4 in /usr/local/lib/python3.12/dist-packages (from lightning>=2.0->scvi-tools->biolord) (6.0.2)\n",
      "Requirement already satisfied: lightning-utilities<2.0,>=0.10.0 in /usr/local/lib/python3.12/dist-packages/lightning_utilities-0.12.0.dev0-py3.12.egg (from lightning>=2.0->scvi-tools->biolord) (0.12.0.dev0)\n",
      "Collecting packaging>=24.2 (from anndata->biolord)\n",
      "  Downloading packaging-24.2-py3-none-any.whl.metadata (3.2 kB)\n",
      "Requirement already satisfied: pytorch-lightning in /usr/local/lib/python3.12/dist-packages (from lightning>=2.0->scvi-tools->biolord) (2.5.0.post0)\n",
      "Requirement already satisfied: mdurl~=0.1 in /usr/local/lib/python3.12/dist-packages (from markdown-it-py>=2.2.0->rich->biolord) (0.1.2)\n",
      "Requirement already satisfied: contourpy>=1.0.1 in /usr/local/lib/python3.12/dist-packages (from matplotlib>=3.7->scanpy->biolord) (1.3.1)\n",
      "Requirement already satisfied: cycler>=0.10 in /usr/local/lib/python3.12/dist-packages (from matplotlib>=3.7->scanpy->biolord) (0.12.1)\n",
      "Requirement already satisfied: fonttools>=4.22.0 in /usr/local/lib/python3.12/dist-packages (from matplotlib>=3.7->scanpy->biolord) (4.55.3)\n",
      "Requirement already satisfied: kiwisolver>=1.3.1 in /usr/local/lib/python3.12/dist-packages (from matplotlib>=3.7->scanpy->biolord) (1.4.8)\n",
      "Requirement already satisfied: pillow>=8 in /usr/local/lib/python3.12/dist-packages (from matplotlib>=3.7->scanpy->biolord) (11.1.0)\n",
      "Requirement already satisfied: pyparsing>=2.3.1 in /usr/local/lib/python3.12/dist-packages (from matplotlib>=3.7->scanpy->biolord) (3.2.1)\n",
      "Requirement already satisfied: python-dateutil>=2.7 in /usr/local/lib/python3.12/dist-packages (from matplotlib>=3.7->scanpy->biolord) (2.9.0.post0)\n",
      "Requirement already satisfied: absl-py in /usr/local/lib/python3.12/dist-packages (from ml-collections>=0.1.1->scvi-tools->biolord) (2.1.0)\n",
      "Collecting llvmlite<0.45,>=0.44.0dev0 (from numba>=0.57->scanpy->biolord)\n",
      "  Downloading llvmlite-0.44.0-cp312-cp312-manylinux_2_17_x86_64.manylinux2014_x86_64.whl.metadata (5.0 kB)\n",
      "Collecting multipledispatch (from numpyro>=0.12.1->scvi-tools->biolord)\n",
      "  Downloading multipledispatch-1.0.0-py3-none-any.whl.metadata (3.8 kB)\n",
      "Collecting ml_dtypes>=0.5.0 (from jax->scvi-tools->biolord)\n",
      "  Downloading ml_dtypes-0.5.1-cp312-cp312-manylinux_2_17_x86_64.manylinux2014_x86_64.whl.metadata (21 kB)\n",
      "Requirement already satisfied: opt_einsum in /usr/local/lib/python3.12/dist-packages/opt_einsum-3.4.0-py3.12.egg (from jax->scvi-tools->biolord) (3.4.0)\n",
      "Requirement already satisfied: pytz>=2020.1 in /usr/local/lib/python3.12/dist-packages (from pandas!=2.1.0rc0,!=2.1.2,>=1.4->anndata->biolord) (2023.4)\n",
      "Requirement already satisfied: tzdata>=2022.7 in /usr/local/lib/python3.12/dist-packages (from pandas!=2.1.0rc0,!=2.1.2,>=1.4->anndata->biolord) (2024.2)\n",
      "Collecting pyro-api>=0.1.1 (from pyro-ppl>=1.6.0->scvi-tools->biolord)\n",
      "  Downloading pyro_api-0.1.2-py3-none-any.whl.metadata (2.5 kB)\n",
      "Requirement already satisfied: grpcio>=1.48.2 in /usr/local/lib/python3.12/dist-packages (from tensorboard>=2.0->scvi-tools->biolord) (1.62.1)\n",
      "Requirement already satisfied: markdown>=2.6.8 in /usr/local/lib/python3.12/dist-packages (from tensorboard>=2.0->scvi-tools->biolord) (3.7)\n",
      "Requirement already satisfied: protobuf!=4.24.0,>=3.19.6 in /usr/local/lib/python3.12/dist-packages (from tensorboard>=2.0->scvi-tools->biolord) (4.24.4)\n",
      "Requirement already satisfied: tensorboard-data-server<0.8.0,>=0.7.0 in /usr/local/lib/python3.12/dist-packages (from tensorboard>=2.0->scvi-tools->biolord) (0.7.2)\n",
      "Requirement already satisfied: werkzeug>=1.0.1 in /usr/local/lib/python3.12/dist-packages (from tensorboard>=2.0->scvi-tools->biolord) (3.1.3)\n",
      "Requirement already satisfied: msgpack in /usr/local/lib/python3.12/dist-packages (from flax->scvi-tools->biolord) (1.1.0)\n",
      "Collecting orbax-checkpoint (from flax->scvi-tools->biolord)\n",
      "  Downloading orbax_checkpoint-0.11.13-py3-none-any.whl.metadata (2.0 kB)\n",
      "Collecting tensorstore (from flax->scvi-tools->biolord)\n",
      "  Downloading tensorstore-0.1.75-cp312-cp312-manylinux_2_17_x86_64.manylinux2014_x86_64.whl.metadata (21 kB)\n",
      "Collecting treescope>=0.1.7 (from flax->scvi-tools->biolord)\n",
      "  Downloading treescope-0.1.9-py3-none-any.whl.metadata (6.6 kB)\n",
      "Requirement already satisfied: MarkupSafe>=2.0 in /usr/local/lib/python3.12/dist-packages (from jinja2->torch->biolord) (3.0.2)\n",
      "Collecting chex>=0.1.87 (from optax->scvi-tools->biolord)\n",
      "  Downloading chex-0.1.89-py3-none-any.whl.metadata (17 kB)\n",
      "Collecting etils[epy] (from optax->scvi-tools->biolord)\n",
      "  Downloading etils-1.12.2-py3-none-any.whl.metadata (6.5 kB)\n",
      "Requirement already satisfied: toolz>=0.9.0 in /usr/local/lib/python3.12/dist-packages (from chex>=0.1.87->optax->scvi-tools->biolord) (1.0.0)\n",
      "Requirement already satisfied: aiohttp!=4.0.0a0,!=4.0.0a1 in /usr/local/lib/python3.12/dist-packages (from fsspec[http]<2026.0,>=2022.5.0->lightning>=2.0->scvi-tools->biolord) (3.11.10)\n",
      "Requirement already satisfied: nest_asyncio in /usr/local/lib/python3.12/dist-packages (from orbax-checkpoint->flax->scvi-tools->biolord) (1.6.0)\n",
      "Collecting humanize (from orbax-checkpoint->flax->scvi-tools->biolord)\n",
      "  Downloading humanize-4.12.3-py3-none-any.whl.metadata (7.8 kB)\n",
      "Collecting simplejson>=3.16.0 (from orbax-checkpoint->flax->scvi-tools->biolord)\n",
      "  Downloading simplejson-3.20.1-cp312-cp312-manylinux_2_5_x86_64.manylinux1_x86_64.manylinux_2_17_x86_64.manylinux2014_x86_64.whl.metadata (3.2 kB)\n",
      "Requirement already satisfied: aiohappyeyeballs>=2.3.0 in /usr/local/lib/python3.12/dist-packages (from aiohttp!=4.0.0a0,!=4.0.0a1->fsspec[http]<2026.0,>=2022.5.0->lightning>=2.0->scvi-tools->biolord) (2.4.4)\n",
      "Requirement already satisfied: aiosignal>=1.1.2 in /usr/local/lib/python3.12/dist-packages (from aiohttp!=4.0.0a0,!=4.0.0a1->fsspec[http]<2026.0,>=2022.5.0->lightning>=2.0->scvi-tools->biolord) (1.3.2)\n",
      "Requirement already satisfied: attrs>=17.3.0 in /usr/local/lib/python3.12/dist-packages (from aiohttp!=4.0.0a0,!=4.0.0a1->fsspec[http]<2026.0,>=2022.5.0->lightning>=2.0->scvi-tools->biolord) (24.2.0)\n",
      "Requirement already satisfied: frozenlist>=1.1.1 in /usr/local/lib/python3.12/dist-packages (from aiohttp!=4.0.0a0,!=4.0.0a1->fsspec[http]<2026.0,>=2022.5.0->lightning>=2.0->scvi-tools->biolord) (1.5.0)\n",
      "Requirement already satisfied: multidict<7.0,>=4.5 in /usr/local/lib/python3.12/dist-packages (from aiohttp!=4.0.0a0,!=4.0.0a1->fsspec[http]<2026.0,>=2022.5.0->lightning>=2.0->scvi-tools->biolord) (6.1.0)\n",
      "Requirement already satisfied: propcache>=0.2.0 in /usr/local/lib/python3.12/dist-packages (from aiohttp!=4.0.0a0,!=4.0.0a1->fsspec[http]<2026.0,>=2022.5.0->lightning>=2.0->scvi-tools->biolord) (0.2.1)\n",
      "Requirement already satisfied: yarl<2.0,>=1.17.0 in /usr/local/lib/python3.12/dist-packages (from aiohttp!=4.0.0a0,!=4.0.0a1->fsspec[http]<2026.0,>=2022.5.0->lightning>=2.0->scvi-tools->biolord) (1.18.3)\n",
      "Collecting importlib_resources (from etils[epy]->optax->scvi-tools->biolord)\n",
      "  Downloading importlib_resources-6.5.2-py3-none-any.whl.metadata (3.9 kB)\n",
      "Requirement already satisfied: zipp in /usr/local/lib/python3.12/dist-packages (from etils[epy]->optax->scvi-tools->biolord) (3.21.0)\n",
      "Requirement already satisfied: idna>=2.0 in /usr/local/lib/python3.12/dist-packages (from yarl<2.0,>=1.17.0->aiohttp!=4.0.0a0,!=4.0.0a1->fsspec[http]<2026.0,>=2022.5.0->lightning>=2.0->scvi-tools->biolord) (3.10)\n",
      "Downloading biolord-0.0.3-py3-none-any.whl (23 kB)\n",
      "Downloading anndata-0.11.4-py3-none-any.whl (144 kB)\n",
      "Downloading scanpy-1.11.1-py3-none-any.whl (2.1 MB)\n",
      "\u001b[2K   \u001b[90m━━━━━━━━━━━━━━━━━━━━━━━━━━━━━━━━━━━━━━━━\u001b[0m \u001b[32m2.1/2.1 MB\u001b[0m \u001b[31m59.5 MB/s\u001b[0m eta \u001b[36m0:00:00\u001b[0m\n",
      "Downloading scikit_learn-1.5.2-cp312-cp312-manylinux_2_17_x86_64.manylinux2014_x86_64.whl (12.9 MB)\n",
      "\u001b[2K   \u001b[90m━━━━━━━━━━━━━━━━━━━━━━━━━━━━━━━━━━━━━━━━\u001b[0m \u001b[32m12.9/12.9 MB\u001b[0m \u001b[31m200.3 MB/s\u001b[0m eta \u001b[36m0:00:00\u001b[0m\n",
      "\u001b[?25hDownloading scvi_tools-1.3.1.post1-py3-none-any.whl (535 kB)\n",
      "\u001b[2K   \u001b[90m━━━━━━━━━━━━━━━━━━━━━━━━━━━━━━━━━━━━━━━\u001b[0m \u001b[32m535.4/535.4 kB\u001b[0m \u001b[31m719.7 MB/s\u001b[0m eta \u001b[36m0:00:00\u001b[0m\n",
      "Downloading session_info-1.0.1-py3-none-any.whl (9.1 kB)\n",
      "Downloading array_api_compat-1.12.0-py3-none-any.whl (58 kB)\n",
      "Downloading h5py-3.13.0-cp312-cp312-manylinux_2_17_x86_64.manylinux2014_x86_64.whl (4.9 MB)\n",
      "\u001b[2K   \u001b[90m━━━━━━━━━━━━━━━━━━━━━━━━━━━━━━━━━━━━━━━━\u001b[0m \u001b[32m4.9/4.9 MB\u001b[0m \u001b[31m279.4 MB/s\u001b[0m eta \u001b[36m0:00:00\u001b[0m\n",
      "\u001b[?25hDownloading legacy_api_wrap-1.4.1-py3-none-any.whl (10.0 kB)\n",
      "Downloading lightning-2.5.1.post0-py3-none-any.whl (819 kB)\n",
      "\u001b[2K   \u001b[90m━━━━━━━━━━━━━━━━━━━━━━━━━━━━━━━━━━━━━━━\u001b[0m \u001b[32m819.0/819.0 kB\u001b[0m \u001b[31m663.8 MB/s\u001b[0m eta \u001b[36m0:00:00\u001b[0m\n",
      "Downloading ml_collections-1.1.0-py3-none-any.whl (76 kB)\n",
      "Downloading mudata-0.3.1-py3-none-any.whl (41 kB)\n",
      "Downloading numba-0.61.2-cp312-cp312-manylinux2014_x86_64.manylinux_2_17_x86_64.whl (3.9 MB)\n",
      "\u001b[2K   \u001b[90m━━━━━━━━━━━━━━━━━━━━━━━━━━━━━━━━━━━━━━━━\u001b[0m \u001b[32m3.9/3.9 MB\u001b[0m \u001b[31m229.5 MB/s\u001b[0m eta \u001b[36m0:00:00\u001b[0m\n",
      "\u001b[?25hDownloading numpyro-0.18.0-py3-none-any.whl (365 kB)\n",
      "Downloading jax-0.6.0-py3-none-any.whl (2.3 MB)\n",
      "\u001b[2K   \u001b[90m━━━━━━━━━━━━━━━━━━━━━━━━━━━━━━━━━━━━━━━━\u001b[0m \u001b[32m2.3/2.3 MB\u001b[0m \u001b[31m714.5 MB/s\u001b[0m eta \u001b[36m0:00:00\u001b[0m\n",
      "\u001b[?25hDownloading jaxlib-0.6.0-cp312-cp312-manylinux2014_x86_64.whl (87.8 MB)\n",
      "\u001b[2K   \u001b[90m━━━━━━━━━━━━━━━━━━━━━━━━━━━━━━━━━━━━━━━━\u001b[0m \u001b[32m87.8/87.8 MB\u001b[0m \u001b[31m150.7 MB/s\u001b[0m eta \u001b[36m0:00:00\u001b[0ma \u001b[36m0:00:01\u001b[0m\n",
      "\u001b[?25hDownloading packaging-24.2-py3-none-any.whl (65 kB)\n",
      "Downloading patsy-1.0.1-py2.py3-none-any.whl (232 kB)\n",
      "Downloading pynndescent-0.5.13-py3-none-any.whl (56 kB)\n",
      "Downloading pyro_ppl-1.9.1-py3-none-any.whl (755 kB)\n",
      "\u001b[2K   \u001b[90m━━━━━━━━━━━━━━━━━━━━━━━━━━━━━━━━━━━━━━━\u001b[0m \u001b[32m756.0/756.0 kB\u001b[0m \u001b[31m681.7 MB/s\u001b[0m eta \u001b[36m0:00:00\u001b[0m\n",
      "\u001b[?25hDownloading seaborn-0.13.2-py3-none-any.whl (294 kB)\n",
      "Downloading sparse-0.16.0-py2.py3-none-any.whl (147 kB)\n",
      "Downloading statsmodels-0.14.4-cp312-cp312-manylinux_2_17_x86_64.manylinux2014_x86_64.whl (10.7 MB)\n",
      "\u001b[2K   \u001b[90m━━━━━━━━━━━━━━━━━━━━━━━━━━━━━━━━━━━━━━━━\u001b[0m \u001b[32m10.7/10.7 MB\u001b[0m \u001b[31m237.5 MB/s\u001b[0m eta \u001b[36m0:00:00\u001b[0m\n",
      "\u001b[?25hDownloading umap_learn-0.5.7-py3-none-any.whl (88 kB)\n",
      "Downloading xarray-2025.4.0-py3-none-any.whl (1.3 MB)\n",
      "\u001b[2K   \u001b[90m━━━━━━━━━━━━━━━━━━━━━━━━━━━━━━━━━━━━━━━━\u001b[0m \u001b[32m1.3/1.3 MB\u001b[0m \u001b[31m336.7 MB/s\u001b[0m eta \u001b[36m0:00:00\u001b[0m\n",
      "\u001b[?25hDownloading flax-0.10.6-py3-none-any.whl (447 kB)\n",
      "Downloading natsort-8.4.0-py3-none-any.whl (38 kB)\n",
      "Downloading optax-0.2.4-py3-none-any.whl (319 kB)\n",
      "Downloading session_info2-0.1.2-py3-none-any.whl (14 kB)\n",
      "Downloading stdlib_list-0.11.1-py3-none-any.whl (83 kB)\n",
      "Downloading chex-0.1.89-py3-none-any.whl (99 kB)\n",
      "Downloading llvmlite-0.44.0-cp312-cp312-manylinux_2_17_x86_64.manylinux2014_x86_64.whl (42.4 MB)\n",
      "\u001b[2K   \u001b[90m━━━━━━━━━━━━━━━━━━━━━━━━━━━━━━━━━━━━━━━━\u001b[0m \u001b[32m42.4/42.4 MB\u001b[0m \u001b[31m221.6 MB/s\u001b[0m eta \u001b[36m0:00:00\u001b[0m\n",
      "\u001b[?25hDownloading ml_dtypes-0.5.1-cp312-cp312-manylinux_2_17_x86_64.manylinux2014_x86_64.whl (4.7 MB)\n",
      "\u001b[2K   \u001b[90m━━━━━━━━━━━━━━━━━━━━━━━━━━━━━━━━━━━━━━━━\u001b[0m \u001b[32m4.7/4.7 MB\u001b[0m \u001b[31m105.3 MB/s\u001b[0m eta \u001b[36m0:00:00\u001b[0m\n",
      "\u001b[?25hDownloading pyro_api-0.1.2-py3-none-any.whl (11 kB)\n",
      "Downloading treescope-0.1.9-py3-none-any.whl (182 kB)\n",
      "Downloading multipledispatch-1.0.0-py3-none-any.whl (12 kB)\n",
      "Downloading orbax_checkpoint-0.11.13-py3-none-any.whl (442 kB)\n",
      "Downloading tensorstore-0.1.75-cp312-cp312-manylinux_2_17_x86_64.manylinux2014_x86_64.whl (18.8 MB)\n",
      "\u001b[2K   \u001b[90m━━━━━━━━━━━━━━━━━━━━━━━━━━━━━━━━━━━━━━━━\u001b[0m \u001b[32m18.8/18.8 MB\u001b[0m \u001b[31m55.7 MB/s\u001b[0m eta \u001b[36m0:00:00\u001b[0ma \u001b[36m0:00:01\u001b[0m\n",
      "Downloading simplejson-3.20.1-cp312-cp312-manylinux_2_5_x86_64.manylinux1_x86_64.manylinux_2_17_x86_64.manylinux2014_x86_64.whl (152 kB)\n",
      "Downloading etils-1.12.2-py3-none-any.whl (167 kB)\n",
      "Downloading humanize-4.12.3-py3-none-any.whl (128 kB)\n",
      "Downloading importlib_resources-6.5.2-py3-none-any.whl (37 kB)\n",
      "Building wheels for collected packages: docrep\n",
      "  Building wheel for docrep (setup.py) ... \u001b[?25done\n",
      "\u001b[?25h  Created wheel for docrep: filename=docrep-0.3.2-py3-none-any.whl size=19876 sha256=1a0360e3850d33b5ad01737ebf6dc67ee375d70308d7f432163e6bb710711beb\n",
      "  Stored in directory: /tmp/pip-ephem-wheel-cache-aiqzi06y/wheels/d6/19/ee/0a6a1793d91c449563b49ccab57ce52da3e6fab7614836bd8c\n",
      "Successfully built docrep\n",
      "Installing collected packages: pyro-api, multipledispatch, treescope, stdlib_list, simplejson, session-info2, patsy, packaging, natsort, ml_dtypes, ml-collections, llvmlite, legacy-api-wrap, importlib_resources, humanize, h5py, etils, docrep, array-api-compat, tensorstore, session-info, scikit-learn, numba, jaxlib, xarray, statsmodels, sparse, seaborn, pyro-ppl, pynndescent, jax, anndata, umap-learn, orbax-checkpoint, numpyro, mudata, chex, scanpy, optax, lightning, flax, scvi-tools, biolord\n",
      "\u001b[31mERROR: pip's dependency resolver does not currently take into account all the packages that are installed. This behaviour is the source of the following dependency conflicts.\n",
      "nvidia-dali-cuda120 1.45.0 requires six<=1.16,>=1.16, but you have six 1.17.0 which is incompatible.\u001b[0m\u001b[31m\n",
      "\u001b[0mSuccessfully installed anndata-0.11.4 array-api-compat-1.12.0 biolord-0.0.3 chex-0.1.89 docrep-0.3.2 etils-1.12.2 flax-0.10.6 h5py-3.13.0 humanize-4.12.3 importlib_resources-6.5.2 jax-0.6.0 jaxlib-0.6.0 legacy-api-wrap-1.4.1 lightning-2.5.1.post0 llvmlite-0.44.0 ml-collections-1.1.0 ml_dtypes-0.5.1 mudata-0.3.1 multipledispatch-1.0.0 natsort-8.4.0 numba-0.61.2 numpyro-0.18.0 optax-0.2.4 orbax-checkpoint-0.11.13 packaging-24.2 patsy-1.0.1 pynndescent-0.5.13 pyro-api-0.1.2 pyro-ppl-1.9.1 scanpy-1.11.1 scikit-learn-1.5.2 scvi-tools-1.3.1.post1 seaborn-0.13.2 session-info-1.0.1 session-info2-0.1.2 simplejson-3.20.1 sparse-0.16.0 statsmodels-0.14.4 stdlib_list-0.11.1 tensorstore-0.1.75 treescope-0.1.9 umap-learn-0.5.7 xarray-2025.4.0\n",
      "Note: you may need to restart the kernel to use updated packages.\n"
     ]
    }
   ],
   "source": [
    "pip install biolord"
   ]
  },
  {
   "cell_type": "code",
   "execution_count": 2,
   "id": "e0294a91-d898-40fd-a789-5dedf5f5ef67",
   "metadata": {
    "scrolled": true
   },
   "outputs": [
    {
     "name": "stdout",
     "output_type": "stream",
     "text": [
      "Collecting lamindb\n",
      "  Downloading lamindb-1.5.3-py3-none-any.whl.metadata (2.8 kB)\n",
      "Collecting lamin_utils==0.14.0 (from lamindb)\n",
      "  Downloading lamin_utils-0.14.0-py2.py3-none-any.whl.metadata (939 bytes)\n",
      "Collecting lamin_cli==1.4.0 (from lamindb)\n",
      "  Downloading lamin_cli-1.4.0-py2.py3-none-any.whl.metadata (337 bytes)\n",
      "Collecting lamindb_setup==1.5.2 (from lamindb_setup[aws]==1.5.2->lamindb)\n",
      "  Downloading lamindb_setup-1.5.2-py3-none-any.whl.metadata (1.8 kB)\n",
      "Requirement already satisfied: pyyaml in /opt/conda/lib/python3.12/site-packages (from lamindb) (6.0.2)\n",
      "Collecting pyarrow (from lamindb)\n",
      "  Downloading pyarrow-20.0.0-cp312-cp312-manylinux_2_28_x86_64.whl.metadata (3.3 kB)\n",
      "Collecting pandera (from lamindb)\n",
      "  Downloading pandera-0.23.1-py3-none-any.whl.metadata (18 kB)\n",
      "Requirement already satisfied: typing_extensions!=4.6.0 in /opt/conda/lib/python3.12/site-packages (from lamindb) (4.12.2)\n",
      "Requirement already satisfied: python-dateutil in /opt/conda/lib/python3.12/site-packages (from lamindb) (2.9.0)\n",
      "Collecting scipy<1.15.0 (from lamindb)\n",
      "  Downloading scipy-1.14.1-cp312-cp312-manylinux_2_17_x86_64.manylinux2014_x86_64.whl.metadata (60 kB)\n",
      "Requirement already satisfied: pandas>=2.0.0 in /opt/conda/lib/python3.12/site-packages (from lamindb) (2.2.3)\n",
      "Requirement already satisfied: anndata<=0.11.4,>=0.8.0 in /opt/conda/lib/python3.12/site-packages (from lamindb) (0.11.4)\n",
      "Requirement already satisfied: fsspec in /opt/conda/lib/python3.12/site-packages (from lamindb) (2025.3.2)\n",
      "Collecting graphviz (from lamindb)\n",
      "  Downloading graphviz-0.20.3-py3-none-any.whl.metadata (12 kB)\n",
      "Collecting psycopg2-binary (from lamindb)\n",
      "  Downloading psycopg2_binary-2.9.10-cp312-cp312-manylinux_2_17_x86_64.manylinux2014_x86_64.whl.metadata (4.9 kB)\n",
      "Collecting rich-click>=1.7 (from lamin_cli==1.4.0->lamindb)\n",
      "  Downloading rich_click-1.8.8-py3-none-any.whl.metadata (7.9 kB)\n",
      "Collecting django<5.2,>=5.1 (from lamindb_setup==1.5.2->lamindb_setup[aws]==1.5.2->lamindb)\n",
      "  Downloading django-5.1.9-py3-none-any.whl.metadata (4.1 kB)\n",
      "Collecting dj_database_url<3.0.0,>=1.3.0 (from lamindb_setup==1.5.2->lamindb_setup[aws]==1.5.2->lamindb)\n",
      "  Downloading dj_database_url-2.3.0-py3-none-any.whl.metadata (12 kB)\n",
      "Collecting pydantic-settings (from lamindb_setup==1.5.2->lamindb_setup[aws]==1.5.2->lamindb)\n",
      "  Downloading pydantic_settings-2.9.1-py3-none-any.whl.metadata (3.8 kB)\n",
      "Collecting appdirs<2.0.0 (from lamindb_setup==1.5.2->lamindb_setup[aws]==1.5.2->lamindb)\n",
      "  Downloading appdirs-1.4.4-py2.py3-none-any.whl.metadata (9.0 kB)\n",
      "Requirement already satisfied: requests in /opt/conda/lib/python3.12/site-packages (from lamindb_setup==1.5.2->lamindb_setup[aws]==1.5.2->lamindb) (2.32.3)\n",
      "Collecting universal_pathlib==0.2.6 (from lamindb_setup==1.5.2->lamindb_setup[aws]==1.5.2->lamindb)\n",
      "  Downloading universal_pathlib-0.2.6-py3-none-any.whl.metadata (25 kB)\n",
      "Collecting botocore<2.0.0 (from lamindb_setup==1.5.2->lamindb_setup[aws]==1.5.2->lamindb)\n",
      "  Downloading botocore-1.38.16-py3-none-any.whl.metadata (5.7 kB)\n",
      "Collecting supabase<=2.15.0,>=2.8.1 (from lamindb_setup==1.5.2->lamindb_setup[aws]==1.5.2->lamindb)\n",
      "  Downloading supabase-2.15.0-py3-none-any.whl.metadata (11 kB)\n",
      "Collecting gotrue<=2.12.0 (from lamindb_setup==1.5.2->lamindb_setup[aws]==1.5.2->lamindb)\n",
      "  Downloading gotrue-2.12.0-py3-none-any.whl.metadata (6.1 kB)\n",
      "Requirement already satisfied: pyjwt<3.0.0 in /opt/conda/lib/python3.12/site-packages (from lamindb_setup==1.5.2->lamindb_setup[aws]==1.5.2->lamindb) (2.9.0)\n",
      "Requirement already satisfied: psutil in /opt/conda/lib/python3.12/site-packages (from lamindb_setup==1.5.2->lamindb_setup[aws]==1.5.2->lamindb) (6.1.0)\n",
      "Requirement already satisfied: packaging in /opt/conda/lib/python3.12/site-packages (from lamindb_setup==1.5.2->lamindb_setup[aws]==1.5.2->lamindb) (24.2)\n",
      "Collecting urllib3<2 (from lamindb_setup[aws]==1.5.2->lamindb)\n",
      "  Downloading urllib3-1.26.20-py2.py3-none-any.whl.metadata (50 kB)\n",
      "Collecting aiobotocore<3.0.0,>=2.5.4 (from aiobotocore[boto3]<3.0.0,>=2.5.4; extra == \"aws\"->lamindb_setup[aws]==1.5.2->lamindb)\n",
      "  Downloading aiobotocore-2.22.0-py3-none-any.whl.metadata (24 kB)\n",
      "Collecting s3fs!=2024.10.0,<=2025.3.2,>=2023.12.2 (from lamindb_setup[aws]==1.5.2->lamindb)\n",
      "  Downloading s3fs-2025.3.2-py3-none-any.whl.metadata (1.9 kB)\n",
      "Requirement already satisfied: array-api-compat!=1.5,>1.4 in /opt/conda/lib/python3.12/site-packages (from anndata<=0.11.4,>=0.8.0->lamindb) (1.11.2)\n",
      "Requirement already satisfied: h5py>=3.7 in /opt/conda/lib/python3.12/site-packages (from anndata<=0.11.4,>=0.8.0->lamindb) (3.13.0)\n",
      "Requirement already satisfied: natsort in /opt/conda/lib/python3.12/site-packages (from anndata<=0.11.4,>=0.8.0->lamindb) (8.4.0)\n",
      "Requirement already satisfied: numpy>=1.23 in /opt/conda/lib/python3.12/site-packages (from anndata<=0.11.4,>=0.8.0->lamindb) (2.1.3)\n",
      "Requirement already satisfied: pytz>=2020.1 in /opt/conda/lib/python3.12/site-packages (from pandas>=2.0.0->lamindb) (2024.2)\n",
      "Requirement already satisfied: tzdata>=2022.7 in /opt/conda/lib/python3.12/site-packages (from pandas>=2.0.0->lamindb) (2024.2)\n",
      "Requirement already satisfied: six>=1.5 in /opt/conda/lib/python3.12/site-packages (from python-dateutil->lamindb) (1.16.0)\n",
      "Requirement already satisfied: pydantic in /opt/conda/lib/python3.12/site-packages (from pandera->lamindb) (2.9.2)\n",
      "Collecting typeguard (from pandera->lamindb)\n",
      "  Downloading typeguard-4.4.2-py3-none-any.whl.metadata (3.8 kB)\n",
      "Collecting typing_inspect>=0.6.0 (from pandera->lamindb)\n",
      "  Downloading typing_inspect-0.9.0-py3-none-any.whl.metadata (1.5 kB)\n",
      "Requirement already satisfied: aiohttp<4.0.0,>=3.9.2 in /opt/conda/lib/python3.12/site-packages (from aiobotocore<3.0.0,>=2.5.4->aiobotocore[boto3]<3.0.0,>=2.5.4; extra == \"aws\"->lamindb_setup[aws]==1.5.2->lamindb) (3.11.18)\n",
      "Collecting aioitertools<1.0.0,>=0.5.1 (from aiobotocore<3.0.0,>=2.5.4->aiobotocore[boto3]<3.0.0,>=2.5.4; extra == \"aws\"->lamindb_setup[aws]==1.5.2->lamindb)\n",
      "  Downloading aioitertools-0.12.0-py3-none-any.whl.metadata (3.8 kB)\n",
      "Collecting botocore<2.0.0 (from lamindb_setup==1.5.2->lamindb_setup[aws]==1.5.2->lamindb)\n",
      "  Downloading botocore-1.37.3-py3-none-any.whl.metadata (5.7 kB)\n",
      "Collecting jmespath<2.0.0,>=0.7.1 (from aiobotocore<3.0.0,>=2.5.4->aiobotocore[boto3]<3.0.0,>=2.5.4; extra == \"aws\"->lamindb_setup[aws]==1.5.2->lamindb)\n",
      "  Downloading jmespath-1.0.1-py3-none-any.whl.metadata (7.6 kB)\n",
      "Requirement already satisfied: multidict<7.0.0,>=6.0.0 in /opt/conda/lib/python3.12/site-packages (from aiobotocore<3.0.0,>=2.5.4->aiobotocore[boto3]<3.0.0,>=2.5.4; extra == \"aws\"->lamindb_setup[aws]==1.5.2->lamindb) (6.4.3)\n",
      "Collecting wrapt<2.0.0,>=1.10.10 (from aiobotocore<3.0.0,>=2.5.4->aiobotocore[boto3]<3.0.0,>=2.5.4; extra == \"aws\"->lamindb_setup[aws]==1.5.2->lamindb)\n",
      "  Downloading wrapt-1.17.2-cp312-cp312-manylinux_2_5_x86_64.manylinux1_x86_64.manylinux_2_17_x86_64.manylinux2014_x86_64.whl.metadata (6.4 kB)\n",
      "Collecting boto3<1.37.4,>=1.37.2 (from aiobotocore[boto3]<3.0.0,>=2.5.4; extra == \"aws\"->lamindb_setup[aws]==1.5.2->lamindb)\n",
      "  Downloading boto3-1.37.3-py3-none-any.whl.metadata (6.6 kB)\n",
      "Collecting asgiref<4,>=3.8.1 (from django<5.2,>=5.1->lamindb_setup==1.5.2->lamindb_setup[aws]==1.5.2->lamindb)\n",
      "  Downloading asgiref-3.8.1-py3-none-any.whl.metadata (9.3 kB)\n",
      "Collecting sqlparse>=0.3.1 (from django<5.2,>=5.1->lamindb_setup==1.5.2->lamindb_setup[aws]==1.5.2->lamindb)\n",
      "  Downloading sqlparse-0.5.3-py3-none-any.whl.metadata (3.9 kB)\n",
      "Requirement already satisfied: httpx<0.29,>=0.26 in /opt/conda/lib/python3.12/site-packages (from httpx[http2]<0.29,>=0.26->gotrue<=2.12.0->lamindb_setup==1.5.2->lamindb_setup[aws]==1.5.2->lamindb) (0.27.2)\n",
      "Collecting pyjwt<3.0.0 (from lamindb_setup==1.5.2->lamindb_setup[aws]==1.5.2->lamindb)\n",
      "  Downloading PyJWT-2.10.1-py3-none-any.whl.metadata (4.0 kB)\n",
      "Collecting pytest-mock<4.0.0,>=3.14.0 (from gotrue<=2.12.0->lamindb_setup==1.5.2->lamindb_setup[aws]==1.5.2->lamindb)\n",
      "  Downloading pytest_mock-3.14.0-py3-none-any.whl.metadata (3.8 kB)\n",
      "Requirement already satisfied: annotated-types>=0.6.0 in /opt/conda/lib/python3.12/site-packages (from pydantic->pandera->lamindb) (0.7.0)\n",
      "Requirement already satisfied: pydantic-core==2.23.4 in /opt/conda/lib/python3.12/site-packages (from pydantic->pandera->lamindb) (2.23.4)\n",
      "Requirement already satisfied: click>=7 in /opt/conda/lib/python3.12/site-packages (from rich-click>=1.7->lamin_cli==1.4.0->lamindb) (8.1.7)\n",
      "Requirement already satisfied: rich>=10.7 in /opt/conda/lib/python3.12/site-packages (from rich-click>=1.7->lamin_cli==1.4.0->lamindb) (14.0.0)\n",
      "Collecting postgrest<1.1,>0.19 (from supabase<=2.15.0,>=2.8.1->lamindb_setup==1.5.2->lamindb_setup[aws]==1.5.2->lamindb)\n",
      "  Downloading postgrest-1.0.1-py3-none-any.whl.metadata (3.5 kB)\n",
      "Collecting realtime<2.5.0,>=2.4.0 (from supabase<=2.15.0,>=2.8.1->lamindb_setup==1.5.2->lamindb_setup[aws]==1.5.2->lamindb)\n",
      "  Downloading realtime-2.4.3-py3-none-any.whl.metadata (6.7 kB)\n",
      "Collecting storage3<0.12,>=0.10 (from supabase<=2.15.0,>=2.8.1->lamindb_setup==1.5.2->lamindb_setup[aws]==1.5.2->lamindb)\n",
      "  Downloading storage3-0.11.3-py3-none-any.whl.metadata (1.8 kB)\n",
      "Collecting supafunc<0.10,>=0.9 (from supabase<=2.15.0,>=2.8.1->lamindb_setup==1.5.2->lamindb_setup[aws]==1.5.2->lamindb)\n",
      "  Downloading supafunc-0.9.4-py3-none-any.whl.metadata (1.2 kB)\n",
      "Requirement already satisfied: mypy-extensions>=0.3.0 in /opt/conda/lib/python3.12/site-packages (from typing_inspect>=0.6.0->pandera->lamindb) (1.0.0)\n",
      "Collecting python-dotenv>=0.21.0 (from pydantic-settings->lamindb_setup==1.5.2->lamindb_setup[aws]==1.5.2->lamindb)\n",
      "  Downloading python_dotenv-1.1.0-py3-none-any.whl.metadata (24 kB)\n",
      "Collecting typing-inspection>=0.4.0 (from pydantic-settings->lamindb_setup==1.5.2->lamindb_setup[aws]==1.5.2->lamindb)\n",
      "  Downloading typing_inspection-0.4.0-py3-none-any.whl.metadata (2.6 kB)\n",
      "Requirement already satisfied: charset-normalizer<4,>=2 in /opt/conda/lib/python3.12/site-packages (from requests->lamindb_setup==1.5.2->lamindb_setup[aws]==1.5.2->lamindb) (3.4.0)\n",
      "Requirement already satisfied: idna<4,>=2.5 in /opt/conda/lib/python3.12/site-packages (from requests->lamindb_setup==1.5.2->lamindb_setup[aws]==1.5.2->lamindb) (3.10)\n",
      "Requirement already satisfied: certifi>=2017.4.17 in /opt/conda/lib/python3.12/site-packages (from requests->lamindb_setup==1.5.2->lamindb_setup[aws]==1.5.2->lamindb) (2024.8.30)\n",
      "Requirement already satisfied: aiohappyeyeballs>=2.3.0 in /opt/conda/lib/python3.12/site-packages (from aiohttp<4.0.0,>=3.9.2->aiobotocore<3.0.0,>=2.5.4->aiobotocore[boto3]<3.0.0,>=2.5.4; extra == \"aws\"->lamindb_setup[aws]==1.5.2->lamindb) (2.6.1)\n",
      "Requirement already satisfied: aiosignal>=1.1.2 in /opt/conda/lib/python3.12/site-packages (from aiohttp<4.0.0,>=3.9.2->aiobotocore<3.0.0,>=2.5.4->aiobotocore[boto3]<3.0.0,>=2.5.4; extra == \"aws\"->lamindb_setup[aws]==1.5.2->lamindb) (1.3.2)\n",
      "Requirement already satisfied: attrs>=17.3.0 in /opt/conda/lib/python3.12/site-packages (from aiohttp<4.0.0,>=3.9.2->aiobotocore<3.0.0,>=2.5.4->aiobotocore[boto3]<3.0.0,>=2.5.4; extra == \"aws\"->lamindb_setup[aws]==1.5.2->lamindb) (24.2.0)\n",
      "Requirement already satisfied: frozenlist>=1.1.1 in /opt/conda/lib/python3.12/site-packages (from aiohttp<4.0.0,>=3.9.2->aiobotocore<3.0.0,>=2.5.4->aiobotocore[boto3]<3.0.0,>=2.5.4; extra == \"aws\"->lamindb_setup[aws]==1.5.2->lamindb) (1.6.0)\n",
      "Requirement already satisfied: propcache>=0.2.0 in /opt/conda/lib/python3.12/site-packages (from aiohttp<4.0.0,>=3.9.2->aiobotocore<3.0.0,>=2.5.4->aiobotocore[boto3]<3.0.0,>=2.5.4; extra == \"aws\"->lamindb_setup[aws]==1.5.2->lamindb) (0.3.1)\n",
      "Requirement already satisfied: yarl<2.0,>=1.17.0 in /opt/conda/lib/python3.12/site-packages (from aiohttp<4.0.0,>=3.9.2->aiobotocore<3.0.0,>=2.5.4->aiobotocore[boto3]<3.0.0,>=2.5.4; extra == \"aws\"->lamindb_setup[aws]==1.5.2->lamindb) (1.20.0)\n",
      "Collecting s3transfer<0.12.0,>=0.11.0 (from boto3<1.37.4,>=1.37.2->aiobotocore[boto3]<3.0.0,>=2.5.4; extra == \"aws\"->lamindb_setup[aws]==1.5.2->lamindb)\n",
      "  Downloading s3transfer-0.11.5-py3-none-any.whl.metadata (1.7 kB)\n",
      "Requirement already satisfied: anyio in /opt/conda/lib/python3.12/site-packages (from httpx<0.29,>=0.26->httpx[http2]<0.29,>=0.26->gotrue<=2.12.0->lamindb_setup==1.5.2->lamindb_setup[aws]==1.5.2->lamindb) (4.6.2.post1)\n",
      "Requirement already satisfied: httpcore==1.* in /opt/conda/lib/python3.12/site-packages (from httpx<0.29,>=0.26->httpx[http2]<0.29,>=0.26->gotrue<=2.12.0->lamindb_setup==1.5.2->lamindb_setup[aws]==1.5.2->lamindb) (1.0.6)\n",
      "Requirement already satisfied: sniffio in /opt/conda/lib/python3.12/site-packages (from httpx<0.29,>=0.26->httpx[http2]<0.29,>=0.26->gotrue<=2.12.0->lamindb_setup==1.5.2->lamindb_setup[aws]==1.5.2->lamindb) (1.3.1)\n",
      "Requirement already satisfied: h11<0.15,>=0.13 in /opt/conda/lib/python3.12/site-packages (from httpcore==1.*->httpx<0.29,>=0.26->httpx[http2]<0.29,>=0.26->gotrue<=2.12.0->lamindb_setup==1.5.2->lamindb_setup[aws]==1.5.2->lamindb) (0.14.0)\n",
      "Requirement already satisfied: h2<5,>=3 in /opt/conda/lib/python3.12/site-packages (from httpx[http2]<0.29,>=0.26->gotrue<=2.12.0->lamindb_setup==1.5.2->lamindb_setup[aws]==1.5.2->lamindb) (4.1.0)\n",
      "Collecting deprecation<3.0.0,>=2.1.0 (from postgrest<1.1,>0.19->supabase<=2.15.0,>=2.8.1->lamindb_setup==1.5.2->lamindb_setup[aws]==1.5.2->lamindb)\n",
      "  Downloading deprecation-2.1.0-py2.py3-none-any.whl.metadata (4.6 kB)\n",
      "Collecting pytest>=6.2.5 (from pytest-mock<4.0.0,>=3.14.0->gotrue<=2.12.0->lamindb_setup==1.5.2->lamindb_setup[aws]==1.5.2->lamindb)\n",
      "  Downloading pytest-8.3.5-py3-none-any.whl.metadata (7.6 kB)\n",
      "Collecting typing_extensions!=4.6.0 (from lamindb)\n",
      "  Downloading typing_extensions-4.13.2-py3-none-any.whl.metadata (3.0 kB)\n",
      "Collecting websockets<15,>=11 (from realtime<2.5.0,>=2.4.0->supabase<=2.15.0,>=2.8.1->lamindb_setup==1.5.2->lamindb_setup[aws]==1.5.2->lamindb)\n",
      "  Downloading websockets-14.2-cp312-cp312-manylinux_2_5_x86_64.manylinux1_x86_64.manylinux_2_17_x86_64.manylinux2014_x86_64.whl.metadata (6.8 kB)\n",
      "Requirement already satisfied: markdown-it-py>=2.2.0 in /opt/conda/lib/python3.12/site-packages (from rich>=10.7->rich-click>=1.7->lamin_cli==1.4.0->lamindb) (3.0.0)\n",
      "Requirement already satisfied: pygments<3.0.0,>=2.13.0 in /opt/conda/lib/python3.12/site-packages (from rich>=10.7->rich-click>=1.7->lamin_cli==1.4.0->lamindb) (2.18.0)\n",
      "Collecting strenum<0.5.0,>=0.4.15 (from supafunc<0.10,>=0.9->supabase<=2.15.0,>=2.8.1->lamindb_setup==1.5.2->lamindb_setup[aws]==1.5.2->lamindb)\n",
      "  Downloading StrEnum-0.4.15-py3-none-any.whl.metadata (5.3 kB)\n",
      "Requirement already satisfied: hyperframe<7,>=6.0 in /opt/conda/lib/python3.12/site-packages (from h2<5,>=3->httpx[http2]<0.29,>=0.26->gotrue<=2.12.0->lamindb_setup==1.5.2->lamindb_setup[aws]==1.5.2->lamindb) (6.0.1)\n",
      "Requirement already satisfied: hpack<5,>=4.0 in /opt/conda/lib/python3.12/site-packages (from h2<5,>=3->httpx[http2]<0.29,>=0.26->gotrue<=2.12.0->lamindb_setup==1.5.2->lamindb_setup[aws]==1.5.2->lamindb) (4.0.0)\n",
      "Requirement already satisfied: mdurl~=0.1 in /opt/conda/lib/python3.12/site-packages (from markdown-it-py>=2.2.0->rich>=10.7->rich-click>=1.7->lamin_cli==1.4.0->lamindb) (0.1.2)\n",
      "Collecting iniconfig (from pytest>=6.2.5->pytest-mock<4.0.0,>=3.14.0->gotrue<=2.12.0->lamindb_setup==1.5.2->lamindb_setup[aws]==1.5.2->lamindb)\n",
      "  Downloading iniconfig-2.1.0-py3-none-any.whl.metadata (2.7 kB)\n",
      "Requirement already satisfied: pluggy<2,>=1.5 in /opt/conda/lib/python3.12/site-packages (from pytest>=6.2.5->pytest-mock<4.0.0,>=3.14.0->gotrue<=2.12.0->lamindb_setup==1.5.2->lamindb_setup[aws]==1.5.2->lamindb) (1.5.0)\n",
      "INFO: pip is looking at multiple versions of s3transfer to determine which version is compatible with other requirements. This could take a while.\n",
      "Collecting s3transfer<0.12.0,>=0.11.0 (from boto3<1.37.4,>=1.37.2->aiobotocore[boto3]<3.0.0,>=2.5.4; extra == \"aws\"->lamindb_setup[aws]==1.5.2->lamindb)\n",
      "  Downloading s3transfer-0.11.4-py3-none-any.whl.metadata (1.7 kB)\n",
      "  Downloading s3transfer-0.11.3-py3-none-any.whl.metadata (1.7 kB)\n",
      "Downloading lamindb-1.5.3-py3-none-any.whl (301 kB)\n",
      "Downloading lamin_cli-1.4.0-py2.py3-none-any.whl (19 kB)\n",
      "Downloading lamin_utils-0.14.0-py2.py3-none-any.whl (25 kB)\n",
      "Downloading lamindb_setup-1.5.2-py3-none-any.whl (89 kB)\n",
      "Downloading universal_pathlib-0.2.6-py3-none-any.whl (50 kB)\n",
      "Downloading scipy-1.14.1-cp312-cp312-manylinux_2_17_x86_64.manylinux2014_x86_64.whl (40.8 MB)\n",
      "\u001b[2K   \u001b[90m━━━━━━━━━━━━━━━━━━━━━━━━━━━━━━━━━━━━━━━━\u001b[0m \u001b[32m40.8/40.8 MB\u001b[0m \u001b[31m90.3 MB/s\u001b[0m eta \u001b[36m0:00:00\u001b[0m:00:01\u001b[0m00:01\u001b[0m\n",
      "\u001b[?25hDownloading graphviz-0.20.3-py3-none-any.whl (47 kB)\n",
      "Downloading pandera-0.23.1-py3-none-any.whl (264 kB)\n",
      "Downloading psycopg2_binary-2.9.10-cp312-cp312-manylinux_2_17_x86_64.manylinux2014_x86_64.whl (3.0 MB)\n",
      "\u001b[2K   \u001b[90m━━━━━━━━━━━━━━━━━━━━━━━━━━━━━━━━━━━━━━━━\u001b[0m \u001b[32m3.0/3.0 MB\u001b[0m \u001b[31m19.6 MB/s\u001b[0m eta \u001b[36m0:00:00\u001b[0m\n",
      "\u001b[?25hDownloading pyarrow-20.0.0-cp312-cp312-manylinux_2_28_x86_64.whl (42.3 MB)\n",
      "\u001b[2K   \u001b[90m━━━━━━━━━━━━━━━━━━━━━━━━━━━━━━━━━━━━━━━━\u001b[0m \u001b[32m42.3/42.3 MB\u001b[0m \u001b[31m97.6 MB/s\u001b[0m eta \u001b[36m0:00:00\u001b[0m:00:01\u001b[0m\n",
      "\u001b[?25hDownloading aiobotocore-2.22.0-py3-none-any.whl (78 kB)\n",
      "Downloading appdirs-1.4.4-py2.py3-none-any.whl (9.6 kB)\n",
      "Downloading botocore-1.37.3-py3-none-any.whl (13.3 MB)\n",
      "\u001b[2K   \u001b[90m━━━━━━━━━━━━━━━━━━━━━━━━━━━━━━━━━━━━━━━━\u001b[0m \u001b[32m13.3/13.3 MB\u001b[0m \u001b[31m47.3 MB/s\u001b[0m eta \u001b[36m0:00:00\u001b[0m00:01\u001b[0m\n",
      "\u001b[?25hDownloading dj_database_url-2.3.0-py3-none-any.whl (7.8 kB)\n",
      "Downloading django-5.1.9-py3-none-any.whl (8.3 MB)\n",
      "\u001b[2K   \u001b[90m━━━━━━━━━━━━━━━━━━━━━━━━━━━━━━━━━━━━━━━━\u001b[0m \u001b[32m8.3/8.3 MB\u001b[0m \u001b[31m47.5 MB/s\u001b[0m eta \u001b[36m0:00:00\u001b[0m\n",
      "\u001b[?25hDownloading gotrue-2.12.0-py3-none-any.whl (43 kB)\n",
      "Downloading PyJWT-2.10.1-py3-none-any.whl (22 kB)\n",
      "Downloading rich_click-1.8.8-py3-none-any.whl (35 kB)\n",
      "Downloading s3fs-2025.3.2-py3-none-any.whl (30 kB)\n",
      "Downloading supabase-2.15.0-py3-none-any.whl (17 kB)\n",
      "Downloading typing_inspect-0.9.0-py3-none-any.whl (8.8 kB)\n",
      "Downloading urllib3-1.26.20-py2.py3-none-any.whl (144 kB)\n",
      "Downloading pydantic_settings-2.9.1-py3-none-any.whl (44 kB)\n",
      "Downloading typeguard-4.4.2-py3-none-any.whl (35 kB)\n",
      "Downloading aioitertools-0.12.0-py3-none-any.whl (24 kB)\n",
      "Downloading asgiref-3.8.1-py3-none-any.whl (23 kB)\n",
      "Downloading boto3-1.37.3-py3-none-any.whl (139 kB)\n",
      "Downloading jmespath-1.0.1-py3-none-any.whl (20 kB)\n",
      "Downloading postgrest-1.0.1-py3-none-any.whl (22 kB)\n",
      "Downloading pytest_mock-3.14.0-py3-none-any.whl (9.9 kB)\n",
      "Downloading python_dotenv-1.1.0-py3-none-any.whl (20 kB)\n",
      "Downloading realtime-2.4.3-py3-none-any.whl (22 kB)\n",
      "Downloading typing_extensions-4.13.2-py3-none-any.whl (45 kB)\n",
      "Downloading sqlparse-0.5.3-py3-none-any.whl (44 kB)\n",
      "Downloading storage3-0.11.3-py3-none-any.whl (17 kB)\n",
      "Downloading supafunc-0.9.4-py3-none-any.whl (7.8 kB)\n",
      "Downloading typing_inspection-0.4.0-py3-none-any.whl (14 kB)\n",
      "Downloading wrapt-1.17.2-cp312-cp312-manylinux_2_5_x86_64.manylinux1_x86_64.manylinux_2_17_x86_64.manylinux2014_x86_64.whl (89 kB)\n",
      "Downloading deprecation-2.1.0-py2.py3-none-any.whl (11 kB)\n",
      "Downloading pytest-8.3.5-py3-none-any.whl (343 kB)\n",
      "Downloading s3transfer-0.11.3-py3-none-any.whl (84 kB)\n",
      "Downloading StrEnum-0.4.15-py3-none-any.whl (8.9 kB)\n",
      "Downloading websockets-14.2-cp312-cp312-manylinux_2_5_x86_64.manylinux1_x86_64.manylinux_2_17_x86_64.manylinux2014_x86_64.whl (170 kB)\n",
      "Downloading iniconfig-2.1.0-py3-none-any.whl (6.0 kB)\n",
      "Installing collected packages: strenum, lamin_utils, appdirs, wrapt, websockets, urllib3, universal_pathlib, typing_extensions, sqlparse, scipy, python-dotenv, pyjwt, pyarrow, psycopg2-binary, jmespath, iniconfig, graphviz, deprecation, asgiref, aioitertools, typing-inspection, typing_inspect, typeguard, pytest, django, botocore, s3transfer, rich-click, realtime, pytest-mock, dj_database_url, aiobotocore, supafunc, storage3, s3fs, pydantic-settings, postgrest, pandera, lamin_cli, gotrue, boto3, supabase, lamindb_setup, lamindb\n",
      "  Attempting uninstall: urllib3\n",
      "    Found existing installation: urllib3 2.2.3\n",
      "    Uninstalling urllib3-2.2.3:\n",
      "      Successfully uninstalled urllib3-2.2.3\n",
      "  Attempting uninstall: typing_extensions\n",
      "    Found existing installation: typing_extensions 4.12.2\n",
      "    Uninstalling typing_extensions-4.12.2:\n",
      "      Successfully uninstalled typing_extensions-4.12.2\n",
      "  Attempting uninstall: scipy\n",
      "    Found existing installation: scipy 1.15.3\n",
      "    Uninstalling scipy-1.15.3:\n",
      "      Successfully uninstalled scipy-1.15.3\n",
      "  Attempting uninstall: pyjwt\n",
      "    Found existing installation: PyJWT 2.9.0\n",
      "    Uninstalling PyJWT-2.9.0:\n",
      "      Successfully uninstalled PyJWT-2.9.0\n",
      "Successfully installed aiobotocore-2.22.0 aioitertools-0.12.0 appdirs-1.4.4 asgiref-3.8.1 boto3-1.37.3 botocore-1.37.3 deprecation-2.1.0 dj_database_url-2.3.0 django-5.1.9 gotrue-2.12.0 graphviz-0.20.3 iniconfig-2.1.0 jmespath-1.0.1 lamin_cli-1.4.0 lamin_utils-0.14.0 lamindb-1.5.3 lamindb_setup-1.5.2 pandera-0.23.1 postgrest-1.0.1 psycopg2-binary-2.9.10 pyarrow-20.0.0 pydantic-settings-2.9.1 pyjwt-2.10.1 pytest-8.3.5 pytest-mock-3.14.0 python-dotenv-1.1.0 realtime-2.4.3 rich-click-1.8.8 s3fs-2025.3.2 s3transfer-0.11.3 scipy-1.14.1 sqlparse-0.5.3 storage3-0.11.3 strenum-0.4.15 supabase-2.15.0 supafunc-0.9.4 typeguard-4.4.2 typing-inspection-0.4.0 typing_extensions-4.13.2 typing_inspect-0.9.0 universal_pathlib-0.2.6 urllib3-1.26.20 websockets-14.2 wrapt-1.17.2\n",
      "\n",
      "\u001b[1m[\u001b[0m\u001b[34;49mnotice\u001b[0m\u001b[1;39;49m]\u001b[0m\u001b[39;49m A new release of pip is available: \u001b[0m\u001b[31;49m24.3.1\u001b[0m\u001b[39;49m -> \u001b[0m\u001b[32;49m25.1.1\u001b[0m\n",
      "\u001b[1m[\u001b[0m\u001b[34;49mnotice\u001b[0m\u001b[1;39;49m]\u001b[0m\u001b[39;49m To update, run: \u001b[0m\u001b[32;49mpip install --upgrade pip\u001b[0m\n",
      "Note: you may need to restart the kernel to use updated packages.\n"
     ]
    }
   ],
   "source": [
    "pip install lamindb"
   ]
  },
  {
   "cell_type": "code",
   "execution_count": 2,
   "id": "cfc0b2d4-8324-439c-9b5c-d756aaf07c6f",
   "metadata": {
    "scrolled": true
   },
   "outputs": [
    {
     "name": "stdout",
     "output_type": "stream",
     "text": [
      "Collecting tiledbsoma\n",
      "  Downloading tiledbsoma-1.16.2-cp312-cp312-manylinux_2_28_x86_64.whl.metadata (7.0 kB)\n",
      "Requirement already satisfied: anndata>=0.10.1 in /opt/conda/lib/python3.12/site-packages (from tiledbsoma) (0.11.4)\n",
      "Requirement already satisfied: attrs>=22.2 in /opt/conda/lib/python3.12/site-packages (from tiledbsoma) (24.2.0)\n",
      "Collecting more-itertools (from tiledbsoma)\n",
      "  Downloading more_itertools-10.7.0-py3-none-any.whl.metadata (37 kB)\n",
      "Requirement already satisfied: numpy in /opt/conda/lib/python3.12/site-packages (from tiledbsoma) (2.1.3)\n",
      "Requirement already satisfied: pandas in /opt/conda/lib/python3.12/site-packages (from tiledbsoma) (2.2.3)\n",
      "Requirement already satisfied: pyarrow in /opt/conda/lib/python3.12/site-packages (from tiledbsoma) (20.0.0)\n",
      "Requirement already satisfied: scanpy>=1.9.2 in /opt/conda/lib/python3.12/site-packages (from tiledbsoma) (1.11.1)\n",
      "Requirement already satisfied: scipy in /opt/conda/lib/python3.12/site-packages (from tiledbsoma) (1.14.1)\n",
      "Collecting somacore==1.0.28 (from tiledbsoma)\n",
      "  Downloading somacore-1.0.28-py3-none-any.whl.metadata (1.5 kB)\n",
      "Requirement already satisfied: typing-extensions in /opt/conda/lib/python3.12/site-packages (from tiledbsoma) (4.13.2)\n",
      "Collecting pyarrow-hotfix (from somacore==1.0.28->tiledbsoma)\n",
      "  Downloading pyarrow_hotfix-0.7-py3-none-any.whl.metadata (3.6 kB)\n",
      "Collecting shapely (from somacore==1.0.28->tiledbsoma)\n",
      "  Downloading shapely-2.1.0-cp312-cp312-manylinux_2_17_x86_64.manylinux2014_x86_64.whl.metadata (6.7 kB)\n",
      "Requirement already satisfied: array-api-compat!=1.5,>1.4 in /opt/conda/lib/python3.12/site-packages (from anndata>=0.10.1->tiledbsoma) (1.11.2)\n",
      "Requirement already satisfied: h5py>=3.7 in /opt/conda/lib/python3.12/site-packages (from anndata>=0.10.1->tiledbsoma) (3.13.0)\n",
      "Requirement already satisfied: natsort in /opt/conda/lib/python3.12/site-packages (from anndata>=0.10.1->tiledbsoma) (8.4.0)\n",
      "Requirement already satisfied: packaging>=24.2 in /opt/conda/lib/python3.12/site-packages (from anndata>=0.10.1->tiledbsoma) (24.2)\n",
      "Requirement already satisfied: python-dateutil>=2.8.2 in /opt/conda/lib/python3.12/site-packages (from pandas->tiledbsoma) (2.9.0)\n",
      "Requirement already satisfied: pytz>=2020.1 in /opt/conda/lib/python3.12/site-packages (from pandas->tiledbsoma) (2024.2)\n",
      "Requirement already satisfied: tzdata>=2022.7 in /opt/conda/lib/python3.12/site-packages (from pandas->tiledbsoma) (2024.2)\n",
      "Requirement already satisfied: joblib in /opt/conda/lib/python3.12/site-packages (from scanpy>=1.9.2->tiledbsoma) (1.5.0)\n",
      "Requirement already satisfied: legacy-api-wrap>=1.4 in /opt/conda/lib/python3.12/site-packages (from scanpy>=1.9.2->tiledbsoma) (1.4.1)\n",
      "Requirement already satisfied: matplotlib>=3.7 in /opt/conda/lib/python3.12/site-packages (from scanpy>=1.9.2->tiledbsoma) (3.9.2)\n",
      "Requirement already satisfied: networkx>=2.7 in /opt/conda/lib/python3.12/site-packages (from scanpy>=1.9.2->tiledbsoma) (3.4.2)\n",
      "Requirement already satisfied: numba>=0.57 in /opt/conda/lib/python3.12/site-packages (from scanpy>=1.9.2->tiledbsoma) (0.61.2)\n",
      "Requirement already satisfied: patsy!=1.0.0 in /opt/conda/lib/python3.12/site-packages (from scanpy>=1.9.2->tiledbsoma) (1.0.1)\n",
      "Requirement already satisfied: pynndescent>=0.5 in /opt/conda/lib/python3.12/site-packages (from scanpy>=1.9.2->tiledbsoma) (0.5.13)\n",
      "Requirement already satisfied: scikit-learn<1.6.0,>=1.1 in /opt/conda/lib/python3.12/site-packages (from scanpy>=1.9.2->tiledbsoma) (1.5.2)\n",
      "Requirement already satisfied: seaborn>=0.13 in /opt/conda/lib/python3.12/site-packages (from scanpy>=1.9.2->tiledbsoma) (0.13.2)\n",
      "Requirement already satisfied: session-info2 in /opt/conda/lib/python3.12/site-packages (from scanpy>=1.9.2->tiledbsoma) (0.1.2)\n",
      "Requirement already satisfied: statsmodels>=0.13 in /opt/conda/lib/python3.12/site-packages (from scanpy>=1.9.2->tiledbsoma) (0.14.4)\n",
      "Requirement already satisfied: tqdm in /opt/conda/lib/python3.12/site-packages (from scanpy>=1.9.2->tiledbsoma) (4.66.5)\n",
      "Requirement already satisfied: umap-learn!=0.5.0,>=0.5 in /opt/conda/lib/python3.12/site-packages (from scanpy>=1.9.2->tiledbsoma) (0.5.7)\n",
      "Requirement already satisfied: contourpy>=1.0.1 in /opt/conda/lib/python3.12/site-packages (from matplotlib>=3.7->scanpy>=1.9.2->tiledbsoma) (1.3.0)\n",
      "Requirement already satisfied: cycler>=0.10 in /opt/conda/lib/python3.12/site-packages (from matplotlib>=3.7->scanpy>=1.9.2->tiledbsoma) (0.12.1)\n",
      "Requirement already satisfied: fonttools>=4.22.0 in /opt/conda/lib/python3.12/site-packages (from matplotlib>=3.7->scanpy>=1.9.2->tiledbsoma) (4.54.1)\n",
      "Requirement already satisfied: kiwisolver>=1.3.1 in /opt/conda/lib/python3.12/site-packages (from matplotlib>=3.7->scanpy>=1.9.2->tiledbsoma) (1.4.7)\n",
      "Requirement already satisfied: pillow>=8 in /opt/conda/lib/python3.12/site-packages (from matplotlib>=3.7->scanpy>=1.9.2->tiledbsoma) (11.0.0)\n",
      "Requirement already satisfied: pyparsing>=2.3.1 in /opt/conda/lib/python3.12/site-packages (from matplotlib>=3.7->scanpy>=1.9.2->tiledbsoma) (3.2.0)\n",
      "Requirement already satisfied: llvmlite<0.45,>=0.44.0dev0 in /opt/conda/lib/python3.12/site-packages (from numba>=0.57->scanpy>=1.9.2->tiledbsoma) (0.44.0)\n",
      "Requirement already satisfied: six>=1.5 in /opt/conda/lib/python3.12/site-packages (from python-dateutil>=2.8.2->pandas->tiledbsoma) (1.16.0)\n",
      "Requirement already satisfied: threadpoolctl>=3.1.0 in /opt/conda/lib/python3.12/site-packages (from scikit-learn<1.6.0,>=1.1->scanpy>=1.9.2->tiledbsoma) (3.6.0)\n",
      "Downloading tiledbsoma-1.16.2-cp312-cp312-manylinux_2_28_x86_64.whl (20.1 MB)\n",
      "\u001b[2K   \u001b[90m━━━━━━━━━━━━━━━━━━━━━━━━━━━━━━━━━━━━━━━━\u001b[0m \u001b[32m20.1/20.1 MB\u001b[0m \u001b[31m7.6 MB/s\u001b[0m eta \u001b[36m0:00:00\u001b[0m00:01\u001b[0m00:01\u001b[0m\n",
      "\u001b[?25hDownloading somacore-1.0.28-py3-none-any.whl (38 kB)\n",
      "Downloading more_itertools-10.7.0-py3-none-any.whl (65 kB)\n",
      "Downloading pyarrow_hotfix-0.7-py3-none-any.whl (7.9 kB)\n",
      "Downloading shapely-2.1.0-cp312-cp312-manylinux_2_17_x86_64.manylinux2014_x86_64.whl (3.1 MB)\n",
      "\u001b[2K   \u001b[90m━━━━━━━━━━━━━━━━━━━━━━━━━━━━━━━━━━━━━━━━\u001b[0m \u001b[32m3.1/3.1 MB\u001b[0m \u001b[31m20.3 MB/s\u001b[0m eta \u001b[36m0:00:00\u001b[0m\n",
      "\u001b[?25hInstalling collected packages: shapely, pyarrow-hotfix, more-itertools, somacore, tiledbsoma\n",
      "Successfully installed more-itertools-10.7.0 pyarrow-hotfix-0.7 shapely-2.1.0 somacore-1.0.28 tiledbsoma-1.16.2\n",
      "\n",
      "\u001b[1m[\u001b[0m\u001b[34;49mnotice\u001b[0m\u001b[1;39;49m]\u001b[0m\u001b[39;49m A new release of pip is available: \u001b[0m\u001b[31;49m24.3.1\u001b[0m\u001b[39;49m -> \u001b[0m\u001b[32;49m25.1.1\u001b[0m\n",
      "\u001b[1m[\u001b[0m\u001b[34;49mnotice\u001b[0m\u001b[1;39;49m]\u001b[0m\u001b[39;49m To update, run: \u001b[0m\u001b[32;49mpip install --upgrade pip\u001b[0m\n",
      "Note: you may need to restart the kernel to use updated packages.\n"
     ]
    }
   ],
   "source": [
    "pip install tiledbsoma"
   ]
  },
  {
   "cell_type": "code",
   "execution_count": 1,
   "id": "9cb404ef-f1e5-4bf0-a559-3443bad3f828",
   "metadata": {},
   "outputs": [],
   "source": [
    "import warnings\n",
    "import os\n",
    "import sys\n",
    "import re\n",
    "import biolord\n",
    "import matplotlib.pyplot as plt\n",
    "import numpy as np\n",
    "import pandas as pd\n",
    "import scanpy as sc\n",
    "import seaborn as sns\n",
    "import sklearn\n",
    "import torch\n",
    "\n",
    "\n",
    "from sklearn.metrics import (\n",
    "    mean_absolute_error,\n",
    "    mean_squared_error,\n",
    "    r2_score,\n",
    "    mutual_info_score\n",
    ")"
   ]
  },
  {
   "cell_type": "code",
   "execution_count": 2,
   "id": "57574ea6-9b78-448e-a833-a3c381fa3981",
   "metadata": {},
   "outputs": [],
   "source": [
    "adata = sc.read(\"/work/Biolord_all/new_data_raw/healthy_hamstring_processed_adata_raw.h5ad\")"
   ]
  },
  {
   "cell_type": "code",
   "execution_count": 3,
   "id": "b1f3f6dd-56b4-4c62-bbee-eeb2bb4f4f44",
   "metadata": {},
   "outputs": [
    {
     "data": {
      "text/plain": [
       "AAACCCAAGAAGTCCG_HAM_MSK1216    nucleus\n",
       "AAACCCAAGTTCATCG_HAM_MSK1216    nucleus\n",
       "AAACGAACACATTCGA_HAM_MSK1216    nucleus\n",
       "AAACGAACATGGAGAC_HAM_MSK1216    nucleus\n",
       "AAACGAATCCTCATAT_HAM_MSK1216    nucleus\n",
       "                                 ...   \n",
       "TTTGACTAGTGGACTG_HAM_MSK0782    nucleus\n",
       "TTTGGTTCAGTAGATA_HAM_MSK0782    nucleus\n",
       "TTTGTTGAGTGCAGCA_HAM_MSK0782    nucleus\n",
       "TTTGTTGCATGTACGT_HAM_MSK0782    nucleus\n",
       "TTTGTTGGTCAAGCGA_HAM_MSK0782    nucleus\n",
       "Name: suspension_type, Length: 10013, dtype: category\n",
       "Categories (1, object): ['nucleus']"
      ]
     },
     "execution_count": 3,
     "metadata": {},
     "output_type": "execute_result"
    }
   ],
   "source": [
    "adata.obs[\"suspension_type\"]"
   ]
  },
  {
   "cell_type": "code",
   "execution_count": null,
   "id": "cd3a4cd0-c744-4470-81f6-230e31b1c96e",
   "metadata": {},
   "outputs": [],
   "source": []
  },
  {
   "cell_type": "code",
   "execution_count": 3,
   "id": "653806f3-1cd7-4ac0-b26b-3753898ec2a0",
   "metadata": {},
   "outputs": [
    {
     "data": {
      "text/plain": [
       "AnnData object with n_obs × n_vars = 10013 × 22692\n",
       "    obs: 'mapped_reference_assembly', 'mapped_reference_annotation', 'alignment_software', 'donor_id', 'self_reported_ethnicity_ontology_term_id', 'donor_living_at_sample_collection', 'organism_ontology_term_id', 'sample_uuid', 'sample_preservation_method', 'tissue_ontology_term_id', 'development_stage_ontology_term_id', 'sample_derivation_process', 'sample_source', 'donor_BMI_at_collection', 'tissue_type', 'suspension_derivation_process', 'suspension_dissociation_reagent', 'suspension_dissociation_time', 'suspension_uuid', 'suspension_type', 'tissue_handling_interval', 'library_uuid', 'assay_ontology_term_id', 'library_starting_quantity', 'sequencing_platform', 'is_primary_data', 'cell_type_ontology_term_id', 'author_cell_type', 'disease_ontology_term_id', 'sex_ontology_term_id', 'nCount_RNA', 'nFeature_RNA', 'nUMI', 'nGene', 'mitoRatio', 'scDblFinder.score', 'decontX_contamination', 'cell_type', 'assay', 'disease', 'organism', 'sex', 'tissue', 'self_reported_ethnicity', 'development_stage', 'observation_joinid', 'n_genes', 'n_genes_by_counts', 'log1p_n_genes_by_counts', 'total_counts', 'log1p_total_counts', 'pct_counts_in_top_20_genes', 'total_counts_mt', 'log1p_total_counts_mt', 'pct_counts_mt', 'total_counts_ribo', 'log1p_total_counts_ribo', 'pct_counts_ribo', 'total_counts_hb', 'log1p_total_counts_hb', 'pct_counts_hb'\n",
       "    var: 'feature_name', 'feature_reference', 'feature_biotype', 'feature_length', 'n_cells', 'mt', 'ribo', 'hb', 'n_cells_by_counts', 'mean_counts', 'log1p_mean_counts', 'pct_dropout_by_counts', 'total_counts', 'log1p_total_counts'\n",
       "    uns: 'citation', 'default_embedding', 'schema_reference', 'schema_version', 'title'\n",
       "    obsm: 'X_harmony', 'X_pca', 'X_tsne', 'X_umap'"
      ]
     },
     "execution_count": 3,
     "metadata": {},
     "output_type": "execute_result"
    }
   ],
   "source": [
    "adata"
   ]
  },
  {
   "cell_type": "code",
   "execution_count": 4,
   "id": "37da19eb-e9a6-42da-8ce8-33fd301f7a64",
   "metadata": {},
   "outputs": [],
   "source": [
    "# Split the data set into train and test\n",
    "from sklearn.model_selection import train_test_split\n",
    "\n",
    "\n",
    "split_key = \"split\"\n",
    "adata.obs[split_key] = \"train\"\n",
    "idx = list(range(len(adata)))\n",
    "idx_train, idx_test = train_test_split(adata.obs_names, test_size=0.1, random_state=42)\n",
    "adata.obs.loc[idx_train, split_key] = \"train\"\n",
    "adata.obs.loc[idx_test, split_key] = \"test\""
   ]
  },
  {
   "cell_type": "code",
   "execution_count": 5,
   "id": "68f21f9e-0e39-4f53-baf7-0e386cb860b8",
   "metadata": {},
   "outputs": [],
   "source": [
    "adata_normal = adata.copy()"
   ]
  },
  {
   "cell_type": "code",
   "execution_count": 6,
   "id": "026daf54-5782-4771-b045-9770928d4d58",
   "metadata": {},
   "outputs": [
    {
     "data": {
      "text/plain": [
       "AnnData object with n_obs × n_vars = 10013 × 22692\n",
       "    obs: 'mapped_reference_assembly', 'mapped_reference_annotation', 'alignment_software', 'donor_id', 'self_reported_ethnicity_ontology_term_id', 'donor_living_at_sample_collection', 'organism_ontology_term_id', 'sample_uuid', 'sample_preservation_method', 'tissue_ontology_term_id', 'development_stage_ontology_term_id', 'sample_derivation_process', 'sample_source', 'donor_BMI_at_collection', 'tissue_type', 'suspension_derivation_process', 'suspension_dissociation_reagent', 'suspension_dissociation_time', 'suspension_uuid', 'suspension_type', 'tissue_handling_interval', 'library_uuid', 'assay_ontology_term_id', 'library_starting_quantity', 'sequencing_platform', 'is_primary_data', 'cell_type_ontology_term_id', 'author_cell_type', 'disease_ontology_term_id', 'sex_ontology_term_id', 'nCount_RNA', 'nFeature_RNA', 'nUMI', 'nGene', 'mitoRatio', 'scDblFinder.score', 'decontX_contamination', 'cell_type', 'assay', 'disease', 'organism', 'sex', 'tissue', 'self_reported_ethnicity', 'development_stage', 'observation_joinid', 'n_genes', 'n_genes_by_counts', 'log1p_n_genes_by_counts', 'total_counts', 'log1p_total_counts', 'pct_counts_in_top_20_genes', 'total_counts_mt', 'log1p_total_counts_mt', 'pct_counts_mt', 'total_counts_ribo', 'log1p_total_counts_ribo', 'pct_counts_ribo', 'total_counts_hb', 'log1p_total_counts_hb', 'pct_counts_hb', 'split'\n",
       "    var: 'feature_name', 'feature_reference', 'feature_biotype', 'feature_length', 'n_cells', 'mt', 'ribo', 'hb', 'n_cells_by_counts', 'mean_counts', 'log1p_mean_counts', 'pct_dropout_by_counts', 'total_counts', 'log1p_total_counts'\n",
       "    uns: 'citation', 'default_embedding', 'schema_reference', 'schema_version', 'title'\n",
       "    obsm: 'X_harmony', 'X_pca', 'X_tsne', 'X_umap'"
      ]
     },
     "execution_count": 6,
     "metadata": {},
     "output_type": "execute_result"
    }
   ],
   "source": [
    "adata_normal"
   ]
  },
  {
   "cell_type": "code",
   "execution_count": 7,
   "id": "dc9d4703-ebd7-4828-b1c8-cdb2ad9b0680",
   "metadata": {},
   "outputs": [],
   "source": [
    "# Normalizing to median total counts\n",
    "sc.pp.normalize_total(adata_normal, target_sum=1e4)\n",
    "# Logarithmize the data\n",
    "sc.pp.log1p(adata_normal)"
   ]
  },
  {
   "cell_type": "code",
   "execution_count": null,
   "id": "c4e2bd49-4e3a-47a5-8a21-51e9b64952b6",
   "metadata": {},
   "outputs": [],
   "source": []
  },
  {
   "cell_type": "code",
   "execution_count": 8,
   "id": "5f0ac89e-c0dc-452d-89a7-7e10691da301",
   "metadata": {},
   "outputs": [],
   "source": [
    "# Filter the data to use only the training set and make a copy\n",
    "adata_train = adata_normal[adata_normal.obs[split_key] == \"train\"].copy()\n",
    "adata_test = adata_normal[adata_normal.obs[split_key] == \"test\"].copy()"
   ]
  },
  {
   "cell_type": "code",
   "execution_count": 9,
   "id": "3c663dfe-2691-4a32-a98e-6bfb4a3e37f6",
   "metadata": {},
   "outputs": [],
   "source": [
    "biolord.Biolord.setup_anndata(\n",
    "    adata_normal, ordered_attributes_keys=None, categorical_attributes_keys=[\"cell_type\", \"sex\", \"donor_id\"]\n",
    ")"
   ]
  },
  {
   "cell_type": "code",
   "execution_count": 10,
   "id": "54d86b5e-fc89-475a-8af6-7078ccd476a1",
   "metadata": {},
   "outputs": [],
   "source": [
    "# Instantiate a Biolord model\n",
    "\n",
    "module_params = {\n",
    "    \"decoder_width\": 1024,\n",
    "    \"decoder_depth\": 4,\n",
    "    \"attribute_nn_width\": 512,\n",
    "    \"attribute_nn_depth\": 2,\n",
    "    \"n_latent_attribute_categorical\": 4,\n",
    "    \"gene_likelihood\": \"normal\",\n",
    "    \"reconstruction_penalty\": 1e2,\n",
    "    \"unknown_attribute_penalty\": 1e1,\n",
    "    \"unknown_attribute_noise_param\": 1e-1,\n",
    "    \"attribute_dropout_rate\": 0.1,\n",
    "    \"use_batch_norm\": False,\n",
    "    \"use_layer_norm\": False,\n",
    "    \"seed\": 42,\n",
    "}"
   ]
  },
  {
   "cell_type": "code",
   "execution_count": 14,
   "id": "213b4dd4-cb42-442f-b3fd-f941b5b74b86",
   "metadata": {},
   "outputs": [
    {
     "name": "stderr",
     "output_type": "stream",
     "text": [
      "Seed set to 42\n"
     ]
    }
   ],
   "source": [
    "model = biolord.Biolord(\n",
    "    adata=adata_normal,\n",
    "    n_latent=32,\n",
    "    model_name=\"Healthy_Hamstring_Biolord_check_with_local_norm_extra_lesscov\",\n",
    "    module_params=module_params,\n",
    "    train_classifiers=False,\n",
    "    split_key=\"split\",\n",
    ")"
   ]
  },
  {
   "cell_type": "code",
   "execution_count": 15,
   "id": "3896111d-2ea9-4a03-99af-24e9a5bf6d9e",
   "metadata": {},
   "outputs": [],
   "source": [
    "# Train the model\n",
    "trainer_params = {\n",
    "    \"n_epochs_warmup\": 0,\n",
    "    \"latent_lr\": 1e-4,\n",
    "    \"latent_wd\": 1e-4,\n",
    "    \"decoder_lr\": 1e-4,\n",
    "    \"decoder_wd\": 1e-4,\n",
    "    \"attribute_nn_lr\": 1e-2,\n",
    "    \"attribute_nn_wd\": 4e-8,\n",
    "    \"step_size_lr\": 45,\n",
    "    \"cosine_scheduler\": True,\n",
    "    \"scheduler_final_lr\": 1e-5,\n",
    "}"
   ]
  },
  {
   "cell_type": "code",
   "execution_count": 16,
   "id": "9473c7cb-2522-46d3-8ce1-cb74cd7ce266",
   "metadata": {},
   "outputs": [
    {
     "name": "stderr",
     "output_type": "stream",
     "text": [
      "GPU available: True (cuda), used: True\n",
      "TPU available: False, using: 0 TPU cores\n",
      "HPU available: False, using: 0 HPUs\n",
      "LOCAL_RANK: 0 - CUDA_VISIBLE_DEVICES: [0]\n",
      "/home/ucloud/.local/lib/python3.12/site-packages/lightning/pytorch/trainer/connectors/data_connector.py:425: The 'train_dataloader' does not have many workers which may be a bottleneck. Consider increasing the value of the `num_workers` argument` to `num_workers=63` in the `DataLoader` to improve performance.\n",
      "/home/ucloud/.local/lib/python3.12/site-packages/lightning/pytorch/trainer/connectors/data_connector.py:425: The 'val_dataloader' does not have many workers which may be a bottleneck. Consider increasing the value of the `num_workers` argument` to `num_workers=63` in the `DataLoader` to improve performance.\n"
     ]
    },
    {
     "data": {
      "application/vnd.jupyter.widget-view+json": {
       "model_id": "48ff33f5f0814e3183344b699ca71d6a",
       "version_major": 2,
       "version_minor": 0
      },
      "text/plain": [
       "Training:   0%|          | 0/500 [00:00<?, ?it/s]"
      ]
     },
     "metadata": {},
     "output_type": "display_data"
    },
    {
     "name": "stdout",
     "output_type": "stream",
     "text": [
      "Monitored metric val_biolord_metric did not improve in the last 20 records. Best score: 0.803. Signaling Trainer to stop.\n"
     ]
    }
   ],
   "source": [
    "model.train(\n",
    "    max_epochs=500,\n",
    "    batch_size=512,\n",
    "    plan_kwargs=trainer_params,\n",
    "    early_stopping=True,\n",
    "    early_stopping_patience=20,\n",
    "    check_val_every_n_epoch=10,\n",
    "    num_workers=1,\n",
    "    enable_checkpointing=False,\n",
    ")"
   ]
  },
  {
   "cell_type": "code",
   "execution_count": 18,
   "id": "53c14135-a9c2-495c-902b-88d62f8b172b",
   "metadata": {},
   "outputs": [],
   "source": [
    "model.save(\"/work/Biolord_all/Healthy_Hamstring_Biolord/Newest_Biolord_HH/Biolord_Healthy_Hamstring/HH_Biolord_test_raw_extra_lesscov\")"
   ]
  },
  {
   "cell_type": "code",
   "execution_count": 12,
   "id": "28513ce2-bcab-4a48-8c89-14bdbc742858",
   "metadata": {},
   "outputs": [
    {
     "name": "stdout",
     "output_type": "stream",
     "text": [
      "\u001b[34mINFO    \u001b[0m File                                                                                                      \n",
      "         \u001b[35m/work/Biolord_all/Healthy_Hamstring_Biolord/Newest_Biolord_HH/Biolord_Healthy_Hamstring/HH_Biolord_test_ra\u001b[0m\n",
      "         \u001b[35mw_extra/\u001b[0m\u001b[95mmodel.pt\u001b[0m already downloaded                                                                       \n"
     ]
    },
    {
     "name": "stderr",
     "output_type": "stream",
     "text": [
      "Seed set to 42\n"
     ]
    }
   ],
   "source": [
    "model = model.load(\"/work/Biolord_all/Healthy_Hamstring_Biolord/Newest_Biolord_HH/Biolord_Healthy_Hamstring/HH_Biolord_test_raw_extra\", adata = adata_normal)"
   ]
  },
  {
   "cell_type": "code",
   "execution_count": 13,
   "id": "89f1d5b0-0d22-444c-860c-41d2dbcae3be",
   "metadata": {},
   "outputs": [
    {
     "data": {
      "text/html": [
       "<pre style=\"white-space:pre;overflow-x:auto;line-height:normal;font-family:Menlo,'DejaVu Sans Mono',consolas,'Courier New',monospace\"></pre>\n"
      ],
      "text/plain": []
     },
     "metadata": {},
     "output_type": "display_data"
    },
    {
     "data": {
      "text/plain": [
       "Biolord training status: \u001b[32mTrained\u001b[0m"
      ]
     },
     "execution_count": 13,
     "metadata": {},
     "output_type": "execute_result"
    }
   ],
   "source": [
    "model"
   ]
  },
  {
   "cell_type": "code",
   "execution_count": 19,
   "id": "5ff0c4bc-71ce-4566-86e7-14931ebe6a64",
   "metadata": {},
   "outputs": [],
   "source": [
    "## Recovery for all the data\n",
    "z_basal, z = model.get_latent_representation_adata(\n",
    "    adata_normal,\n",
    "    batch_size=256,\n",
    ")\n",
    "#rec, _ = model.predict(adata_test, batch_size=256)"
   ]
  },
  {
   "cell_type": "code",
   "execution_count": 15,
   "id": "5f53a50a-0090-41e0-ae2f-17451be29977",
   "metadata": {},
   "outputs": [],
   "source": [
    "z_residual = z[:, z_basal.shape[1]:]"
   ]
  },
  {
   "cell_type": "code",
   "execution_count": 16,
   "id": "0d09b83f-b874-466e-890a-4f9256640bb9",
   "metadata": {},
   "outputs": [
    {
     "data": {
      "text/plain": [
       "View of AnnData object with n_obs × n_vars = 10013 × 20\n",
       "    obs: 'mapped_reference_assembly', 'mapped_reference_annotation', 'alignment_software', 'donor_id', 'self_reported_ethnicity_ontology_term_id', 'donor_living_at_sample_collection', 'organism_ontology_term_id', 'sample_uuid', 'sample_preservation_method', 'tissue_ontology_term_id', 'development_stage_ontology_term_id', 'sample_derivation_process', 'sample_source', 'donor_BMI_at_collection', 'tissue_type', 'suspension_derivation_process', 'suspension_dissociation_reagent', 'suspension_dissociation_time', 'suspension_uuid', 'suspension_type', 'tissue_handling_interval', 'library_uuid', 'assay_ontology_term_id', 'library_starting_quantity', 'sequencing_platform', 'is_primary_data', 'cell_type_ontology_term_id', 'author_cell_type', 'disease_ontology_term_id', 'sex_ontology_term_id', 'nCount_RNA', 'nFeature_RNA', 'nUMI', 'nGene', 'mitoRatio', 'scDblFinder.score', 'decontX_contamination', 'cell_type', 'assay', 'disease', 'organism', 'sex', 'tissue', 'self_reported_ethnicity', 'development_stage', 'observation_joinid', 'n_genes', 'n_genes_by_counts', 'log1p_n_genes_by_counts', 'total_counts', 'log1p_total_counts', 'pct_counts_in_top_20_genes', 'total_counts_mt', 'log1p_total_counts_mt', 'pct_counts_mt', 'total_counts_ribo', 'log1p_total_counts_ribo', 'pct_counts_ribo', 'total_counts_hb', 'log1p_total_counts_hb', 'pct_counts_hb', 'split', '_indices', '_scvi_cell_type', '_scvi_sex', '_scvi_donor_id', '_scvi_development_stage_ontology_term_id', '_scvi_development_stage'"
      ]
     },
     "execution_count": 16,
     "metadata": {},
     "output_type": "execute_result"
    }
   ],
   "source": [
    "z_residual"
   ]
  },
  {
   "cell_type": "code",
   "execution_count": 17,
   "id": "8786620b-c775-488b-b9e9-383ec361523c",
   "metadata": {},
   "outputs": [
    {
     "name": "stdout",
     "output_type": "stream",
     "text": [
      "z_basal shape: (10013, 32)\n",
      "z shape: (10013, 52)\n",
      "z_unknown shape: (10013, 20)\n"
     ]
    }
   ],
   "source": [
    "print(\"z_basal shape:\", z_basal.X.shape)  # → (N, 32)\n",
    "print(\"z shape:\", z.X.shape)              # → (N, 52)\n",
    "\n",
    "# Unknown: \n",
    "z_unknown = z.X[:, z_basal.X.shape[1]:]\n",
    "print(\"z_unknown shape:\", z_unknown.shape)  # → (N, 20)"
   ]
  },
  {
   "cell_type": "code",
   "execution_count": 18,
   "id": "e1438c98-b074-427d-8300-d152975623b1",
   "metadata": {},
   "outputs": [
    {
     "data": {
      "text/plain": [
       "AnnData object with n_obs × n_vars = 10013 × 52\n",
       "    obs: 'mapped_reference_assembly', 'mapped_reference_annotation', 'alignment_software', 'donor_id', 'self_reported_ethnicity_ontology_term_id', 'donor_living_at_sample_collection', 'organism_ontology_term_id', 'sample_uuid', 'sample_preservation_method', 'tissue_ontology_term_id', 'development_stage_ontology_term_id', 'sample_derivation_process', 'sample_source', 'donor_BMI_at_collection', 'tissue_type', 'suspension_derivation_process', 'suspension_dissociation_reagent', 'suspension_dissociation_time', 'suspension_uuid', 'suspension_type', 'tissue_handling_interval', 'library_uuid', 'assay_ontology_term_id', 'library_starting_quantity', 'sequencing_platform', 'is_primary_data', 'cell_type_ontology_term_id', 'author_cell_type', 'disease_ontology_term_id', 'sex_ontology_term_id', 'nCount_RNA', 'nFeature_RNA', 'nUMI', 'nGene', 'mitoRatio', 'scDblFinder.score', 'decontX_contamination', 'cell_type', 'assay', 'disease', 'organism', 'sex', 'tissue', 'self_reported_ethnicity', 'development_stage', 'observation_joinid', 'n_genes', 'n_genes_by_counts', 'log1p_n_genes_by_counts', 'total_counts', 'log1p_total_counts', 'pct_counts_in_top_20_genes', 'total_counts_mt', 'log1p_total_counts_mt', 'pct_counts_mt', 'total_counts_ribo', 'log1p_total_counts_ribo', 'pct_counts_ribo', 'total_counts_hb', 'log1p_total_counts_hb', 'pct_counts_hb', 'split', '_indices', '_scvi_cell_type', '_scvi_sex', '_scvi_donor_id', '_scvi_development_stage_ontology_term_id', '_scvi_development_stage'"
      ]
     },
     "execution_count": 18,
     "metadata": {},
     "output_type": "execute_result"
    }
   ],
   "source": [
    "z"
   ]
  },
  {
   "cell_type": "code",
   "execution_count": 19,
   "id": "627455d8-e4f2-4071-b5d4-c46c9fbb22b4",
   "metadata": {},
   "outputs": [
    {
     "data": {
      "text/plain": [
       "array([[ 1.6141607 ,  1.1775268 ,  0.6000648 , ..., -1.4923362 ,\n",
       "         1.066523  , -1.2233363 ],\n",
       "       [-1.3075659 , -0.79476136, -0.15678693, ..., -1.4923362 ,\n",
       "         1.066523  , -1.2233363 ],\n",
       "       [ 1.3673887 ,  0.77929705,  2.1397736 , ..., -1.4923362 ,\n",
       "         1.066523  , -1.2233363 ],\n",
       "       ...,\n",
       "       [ 0.22883412,  1.6389502 , -0.4277649 , ..., -0.6209241 ,\n",
       "         1.008454  ,  0.71100074],\n",
       "       [-1.1356169 ,  0.09090053,  0.9202975 , ..., -0.6209241 ,\n",
       "         1.008454  ,  0.71100074],\n",
       "       [ 1.2734531 , -0.6672924 ,  1.5213512 , ..., -0.6209241 ,\n",
       "         1.008454  ,  0.71100074]], dtype=float32)"
      ]
     },
     "execution_count": 19,
     "metadata": {},
     "output_type": "execute_result"
    }
   ],
   "source": [
    "z.X"
   ]
  },
  {
   "cell_type": "code",
   "execution_count": 20,
   "id": "8091e4ea-61f6-470d-bfd7-b5f36ef0e54d",
   "metadata": {},
   "outputs": [
    {
     "name": "stdout",
     "output_type": "stream",
     "text": [
      "\u001b[34mINFO    \u001b[0m Received view of anndata, making copy.                                                                    \n",
      "\u001b[34mINFO    \u001b[0m Input AnnData not setup with scvi-tools. attempting to transfer AnnData setup                             \n"
     ]
    }
   ],
   "source": [
    "rec, _ = model.predict(adata_normal[adata_normal.obs[\"split\"] == \"test\"])"
   ]
  },
  {
   "cell_type": "code",
   "execution_count": 21,
   "id": "d28f1fb4-a3bb-4c67-a5f9-3b0e0b7f778c",
   "metadata": {},
   "outputs": [
    {
     "data": {
      "text/plain": [
       "array([[ 1.27142873e-02,  1.90580226e-02,  6.11454919e-02, ...,\n",
       "         3.63066792e-05, -2.66353786e-03,  6.59732148e-04],\n",
       "       [ 2.23631859e-02,  1.64601598e-02,  9.03874785e-02, ...,\n",
       "         1.83187425e-03,  4.21634130e-03,  1.28460303e-03],\n",
       "       [ 2.29381658e-02,  1.41254645e-02,  8.93581808e-02, ...,\n",
       "         2.72303447e-03, -1.70582905e-04, -6.25453889e-04],\n",
       "       ...,\n",
       "       [ 4.43732888e-02,  7.90683739e-03,  4.84843738e-02, ...,\n",
       "         9.39847901e-04, -3.80830839e-04,  1.03724021e-02],\n",
       "       [ 3.75771411e-02,  2.68320870e-02,  6.75354674e-02, ...,\n",
       "         1.95865706e-03, -2.00638361e-03,  1.24956872e-02],\n",
       "       [ 4.68078293e-02,  1.83592569e-02,  5.48360050e-02, ...,\n",
       "         4.14406881e-04,  1.21887587e-03,  1.20149683e-02]], dtype=float32)"
      ]
     },
     "execution_count": 21,
     "metadata": {},
     "output_type": "execute_result"
    }
   ],
   "source": [
    "rec.X"
   ]
  },
  {
   "cell_type": "code",
   "execution_count": 22,
   "id": "0ca0b2ed-cb94-4449-85d0-46f7e8384e25",
   "metadata": {},
   "outputs": [],
   "source": [
    "# Reverse the log1p \n",
    "rec.X = np.expm1(rec.X)"
   ]
  },
  {
   "cell_type": "code",
   "execution_count": 23,
   "id": "bc3ae9ab-7a4a-49c0-874a-055207b9cae1",
   "metadata": {},
   "outputs": [],
   "source": [
    "true_norm_size = 1e4"
   ]
  },
  {
   "cell_type": "code",
   "execution_count": 24,
   "id": "0c23a881-0215-49d3-bb24-8454e515ef0c",
   "metadata": {},
   "outputs": [],
   "source": [
    "rec.X = (rec.X / true_norm_size) * adata_test.obs[\"total_counts\"].values[:, None]"
   ]
  },
  {
   "cell_type": "code",
   "execution_count": 25,
   "id": "97ed8e2c-854a-4450-b47a-4a780992eb99",
   "metadata": {},
   "outputs": [
    {
     "data": {
      "text/plain": [
       "ENSG00000001460      421.0\n",
       "ENSG00000001461      420.0\n",
       "ENSG00000010072      529.0\n",
       "ENSG00000009780     1644.0\n",
       "ENSG00000048707    14656.0\n",
       "                    ...   \n",
       "ENSG00000231971       35.0\n",
       "ENSG00000234675        4.0\n",
       "ENSG00000261696        5.0\n",
       "ENSG00000126752        3.0\n",
       "ENSG00000228459       10.0\n",
       "Name: total_counts, Length: 22692, dtype: float32"
      ]
     },
     "execution_count": 25,
     "metadata": {},
     "output_type": "execute_result"
    }
   ],
   "source": [
    "adata_test.var[\"total_counts\"]"
   ]
  },
  {
   "cell_type": "code",
   "execution_count": 26,
   "id": "7f56262a-269d-46d8-ac4b-c8cdce9fd343",
   "metadata": {},
   "outputs": [],
   "source": [
    "# Step 1: Get the raw test data from the original unnormalized adata\n",
    "X_true = adata[adata.obs[\"split\"] == \"test\"].X  # From raw (not normalized) data\n",
    "rec_array = rec.X"
   ]
  },
  {
   "cell_type": "code",
   "execution_count": 27,
   "id": "c83a3580-67aa-43c2-9001-298d9649b4be",
   "metadata": {},
   "outputs": [
    {
     "name": "stdout",
     "output_type": "stream",
     "text": [
      " Global R² (flattened): 0.5323268175125122\n"
     ]
    }
   ],
   "source": [
    "from sklearn.metrics import r2_score\n",
    "import scipy.sparse\n",
    "\n",
    "# Convert to dense\n",
    "if scipy.sparse.issparse(X_true):\n",
    "    X_true = X_true.toarray()\n",
    "if scipy.sparse.issparse(rec_array):\n",
    "    rec_array = rec_array.toarray()\n",
    "\n",
    "# Flatten\n",
    "X_true_flat = X_true.flatten()\n",
    "rec_flat = rec_array.flatten()\n",
    "\n",
    "# R² score\n",
    "r2_flat = r2_score(X_true_flat, rec_flat)\n",
    "print(\" Global R² (flattened):\", r2_flat)"
   ]
  },
  {
   "cell_type": "code",
   "execution_count": 28,
   "id": "0a6b67ed-bd2f-44d4-8c43-62c4496de0c3",
   "metadata": {},
   "outputs": [
    {
     "name": "stdout",
     "output_type": "stream",
     "text": [
      "MSE score with test_adata: 0.8112074136734009\n"
     ]
    }
   ],
   "source": [
    "# MSE when test_adata is passed \n",
    "\n",
    "mse = mean_squared_error(X_true,rec_array)\n",
    "\n",
    "print(f\"MSE score with test_adata: {mse}\")"
   ]
  },
  {
   "cell_type": "code",
   "execution_count": 29,
   "id": "5152ded2-9b51-47d1-80e8-1a6ba1bace0a",
   "metadata": {},
   "outputs": [
    {
     "name": "stdout",
     "output_type": "stream",
     "text": [
      "MAE score with test_adata: 0.13709090650081635\n"
     ]
    }
   ],
   "source": [
    "# MSE when test_adata is passed \n",
    "\n",
    "mae = mean_absolute_error(X_true, rec_array)\n",
    "\n",
    "print(f\"MAE score with test_adata: {mae}\")"
   ]
  },
  {
   "cell_type": "code",
   "execution_count": 38,
   "id": "f2df1dde-793c-4cc5-a73f-91c2bc12ea80",
   "metadata": {},
   "outputs": [],
   "source": [
    "# If rec is an AnnData object, extract the X attribute (i.e., the data matrix)\n",
    "import anndata\n",
    "if isinstance(rec, anndata.AnnData):\n",
    "    rec = rec.X\n",
    "\n",
    "# Now, rec should be a numpy array or sparse matrix, which is what obsm expects\n",
    "adata_test.obsm[\"X_reconstructed\"] = rec\n",
    "\n",
    "# Save the entire object with the reconstructed data\n",
    "adata_test.write(\"biolord_HH__fix_final_removed_batch_effect.h5ad\")"
   ]
  },
  {
   "cell_type": "code",
   "execution_count": 26,
   "id": "5747c19f-d63c-47a5-bc15-8f32a37bef0b",
   "metadata": {},
   "outputs": [],
   "source": [
    "# Step 2: Save original raw counts\n",
    "X_original = adata.X.copy()"
   ]
  },
  {
   "cell_type": "code",
   "execution_count": 27,
   "id": "a9a5fd87-00e9-45d6-8d61-77e13e7979c3",
   "metadata": {},
   "outputs": [],
   "source": [
    "# Get original total counts\n",
    "if scipy.sparse.issparse(X_original):\n",
    "    total_counts = np.array(X_original.sum(axis=1)).flatten()\n",
    "else:\n",
    "    total_counts = X_original.sum(axis=1)"
   ]
  },
  {
   "cell_type": "code",
   "execution_count": 28,
   "id": "7c9ff835-0b19-4b5a-9b49-a99c60a2da1f",
   "metadata": {},
   "outputs": [],
   "source": [
    "# Normalize and log1p\n",
    "adata_tmp = adata.copy()\n",
    "sc.pp.normalize_total(adata_tmp, target_sum=1e4)\n",
    "sc.pp.log1p(adata_tmp)\n",
    "X_norm_log = adata_tmp.X.copy()"
   ]
  },
  {
   "cell_type": "code",
   "execution_count": 29,
   "id": "6609758d-60d6-4967-8895-00a4e348dd93",
   "metadata": {},
   "outputs": [],
   "source": [
    "# Reverse log1p\n",
    "if scipy.sparse.issparse(X_norm_log):\n",
    "    X_reversed = np.expm1(X_norm_log.toarray())\n",
    "else:\n",
    "    X_reversed = np.expm1(X_norm_log)"
   ]
  },
  {
   "cell_type": "code",
   "execution_count": 30,
   "id": "f0e2b2da-9f87-427a-82e3-b8e0fec8f63e",
   "metadata": {},
   "outputs": [],
   "source": [
    "# Reverse normalization\n",
    "X_reconstructed = (X_reversed / 1e4) * total_counts[:, None]"
   ]
  },
  {
   "cell_type": "code",
   "execution_count": 31,
   "id": "b0860e04-132d-48a1-af25-47a7f0601520",
   "metadata": {},
   "outputs": [],
   "source": [
    "# Convert original to dense for comparison\n",
    "if scipy.sparse.issparse(X_original):\n",
    "    X_original_dense = X_original.toarray()\n",
    "else:\n",
    "    X_original_dense = X_original\n"
   ]
  },
  {
   "cell_type": "code",
   "execution_count": 32,
   "id": "4acf8ae8-1bdc-4a26-acbf-bc82f619d7bd",
   "metadata": {},
   "outputs": [
    {
     "name": "stdout",
     "output_type": "stream",
     "text": [
      "Mean Absolute Error (round-trip): 0.0000\n"
     ]
    }
   ],
   "source": [
    "# Compute error\n",
    "mae = np.mean(np.abs(X_reconstructed - X_original_dense))\n",
    "max_diff = np.max(np.abs(X_reconstructed - X_original_dense))\n",
    "\n",
    "print(f\"Mean Absolute Error (round-trip): {mae:.4f}\")"
   ]
  },
  {
   "cell_type": "code",
   "execution_count": 30,
   "id": "a0b15327-eee1-4e2e-a462-3f70ccbf79ae",
   "metadata": {},
   "outputs": [
    {
     "name": "stdout",
     "output_type": "stream",
     "text": [
      "Computing MIG\n",
      "Top 3 MI scores for covariate 'cell_type':\n",
      "  Latent dim 32: MI = 1.7608\n",
      "  Latent dim 35: MI = 1.5888\n",
      "  Latent dim 33: MI = 1.5409\n",
      "Top 3 MI scores for covariate 'sex':\n",
      "  Latent dim 43: MI = 0.6804\n",
      "  Latent dim 42: MI = 0.6804\n",
      "  Latent dim 41: MI = 0.6804\n",
      "Top 3 MI scores for covariate 'donor_id':\n",
      "  Latent dim 43: MI = 1.0573\n",
      "  Latent dim 42: MI = 1.0573\n",
      "  Latent dim 40: MI = 1.0573\n",
      "Þetta er score: {'discrete_mig': 0.030291210215151965}\n",
      "Entropy values: [1.89270173 0.68037375 1.05732274]\n",
      "MIG Score: {'discrete_mig': 0.030291210215151965}\n",
      "Latent variances: [0.83155346 0.82514536 0.8103519  0.804305   0.82100457 0.8011136\n",
      " 0.8193376  0.81088823 0.8051188  0.8366126  0.81856817 0.80767024\n",
      " 0.8077572  0.8340906  0.8328732  0.81834155 0.802136   0.79217106\n",
      " 0.83668643 0.8201943  0.82639563 0.80936795 0.80615866 0.80381346\n",
      " 0.84640515 0.8299405  0.8248762  0.7967183  0.81944555 0.81536955\n",
      " 0.7942229  0.81728595 0.39718717 1.0300962  0.9711981  1.3999296\n",
      " 0.29822862 1.4530813  0.41925186 0.2435832  0.73607033 0.7280223\n",
      " 0.96343344 0.8163611 ]\n",
      "MI matrix shape: (44, 3)\n",
      "Max MI per factor: [1.76083362 0.68037375 1.05732274]\n",
      "Which latents have highest MI per factor: [32 40 40]\n"
     ]
    }
   ],
   "source": [
    "from sklearn.preprocessing import LabelEncoder\n",
    "from sklearn.preprocessing import KBinsDiscretizer\n",
    "from sklearn.cluster import KMeans\n",
    "from sklearn.metrics import mutual_info_score\n",
    "from sklearn.model_selection import train_test_split\n",
    "###MIG###\n",
    "import numpy as np\n",
    "import anndata\n",
    "import pandas as pd\n",
    "\n",
    "def encode_categorical(data):\n",
    "    encoders = []\n",
    "    encoded_data = np.zeros_like(data, dtype=int)\n",
    "    for i in range(data.shape[1]):\n",
    "        le = LabelEncoder()\n",
    "        encoded_data[:, i] = le.fit_transform(data[:, i])\n",
    "        encoders.append(le)\n",
    "    return encoded_data, encoders\n",
    "\n",
    "def prep_data(adata, embedding, covriate_keys=None):\n",
    "    encoded_factors_of_variation, _ = encode_categorical(adata.obs[covriate_keys].values)\n",
    "\n",
    "    if isinstance(embedding, anndata.AnnData):  \n",
    "        embedding_data = embedding.X\n",
    "    else:\n",
    "        embedding_data = embedding\n",
    "\n",
    "    mus = np.array(embedding_data)\n",
    "    ys = np.array(encoded_factors_of_variation)\n",
    "\n",
    "    return mus.T.copy(), ys.T.copy()\n",
    "\n",
    "\n",
    "def compute_mig(mus, ys, covariate_names=None):\n",
    "    \"\"\"Computes the mutual information gap.\"\"\"\n",
    "    return _compute_mig(mus, ys, covariate_names)\n",
    "\n",
    "def _compute_mig(mus, ys, covariate_names=None):\n",
    "    \"\"\"Computes MIG score based on latent codes and covariates.\"\"\"\n",
    "    score_dict = {}\n",
    "    discretized_mus = make_discretizer(mus, discretizer_fn=_histogram_discretize)\n",
    "   # print(\"Sample Discretized Latent Variables:\\n\", discretized_mus[:, :5])\n",
    "    m = discrete_mutual_info(discretized_mus, ys)\n",
    "\n",
    "    if covariate_names is None:\n",
    "        covariate_names = [f\"Covariate {j}\" for j in range(m.shape[1])]\n",
    "        \n",
    "    for j in range(m.shape[1]):\n",
    "        top_indices = np.argsort(m[:, j])[::-1][:3]\n",
    "        top_scores = m[top_indices, j]\n",
    "        print(f\"Top 3 MI scores for covariate '{covariate_names[j]}':\")\n",
    "        for idx, score in zip(top_indices, top_scores):\n",
    "            print(f\"  Latent dim {idx}: MI = {score:.4f}\")\n",
    "\n",
    "    assert m.shape[0] == mus.shape[0]\n",
    "    assert m.shape[1] == ys.shape[0]\n",
    "\n",
    "    entropy = discrete_entropy(ys)\n",
    "    sorted_m = np.sort(m, axis=0)[::-1]\n",
    "\n",
    "    score_dict[\"discrete_mig\"] = np.mean(\n",
    "        np.divide(sorted_m[0, :] - sorted_m[1, :], entropy[:])\n",
    "    )\n",
    "\n",
    "    print(\"Þetta er score:\", score_dict)\n",
    "    print(\"Entropy values:\", entropy)\n",
    "    return score_dict\n",
    "\n",
    "def discrete_mutual_info(mus, ys):\n",
    "    num_codes = mus.shape[0]\n",
    "    num_factors = ys.shape[0]\n",
    "    m = np.zeros([num_codes, num_factors])\n",
    "    \n",
    "    for i in range(num_codes):\n",
    "        for j in range(num_factors):\n",
    "            m[i, j] = mutual_info_score(ys[j, :], mus[i, :])\n",
    "    \n",
    "    return m\n",
    "\n",
    "def discrete_entropy(ys):\n",
    "    num_factors = ys.shape[0]\n",
    "    h = np.zeros(num_factors)\n",
    "    \n",
    "    for j in range(num_factors):\n",
    "        h[j] = mutual_info_score(ys[j, :], ys[j, :])\n",
    "    \n",
    "    return h\n",
    "\n",
    "def _identity_discretizer(target, num_bins):\n",
    "    del num_bins\n",
    "    return target\n",
    "\n",
    "\n",
    "def _histogram_discretize(target, num_bins=10):\n",
    "    discretized = np.zeros_like(target)\n",
    "    for i in range(target.shape[0]):\n",
    "        discretized[i, :] = np.digitize(target[i, :], np.histogram(\n",
    "            target[i, :], num_bins)[1][:-1])\n",
    "    return discretized\n",
    "\n",
    "\n",
    "def make_discretizer(target, num_bins=10, discretizer_fn=_histogram_discretize):\n",
    "    return discretizer_fn(target, num_bins)\n",
    "\n",
    "\n",
    "def score_disentanglement(adata, embedding_data, embedding_basal, covriate_keys=None, continuous_covriate_keys=None):\n",
    "    mus, ys = prep_data(adata, embedding_data, covriate_keys=covriate_keys)\n",
    "    print('Computing MIG')\n",
    "    mig = compute_mig(mus, ys, covariate_names=covriate_keys)\n",
    "    return mig, mus, ys\n",
    "\n",
    "# Run MIG score\n",
    "mig_1,mus,ys = score_disentanglement(\n",
    "    adata_normal,\n",
    "    z,\n",
    "    None,\n",
    "    covriate_keys=[\"cell_type\", \"sex\", \"donor_id\",]\n",
    ")\n",
    "\n",
    "print(\"MIG Score:\", mig_1)\n",
    "print(\"Latent variances:\", np.var(mus, axis=1))\n",
    "\n",
    "discretized_mus = _histogram_discretize(mus)\n",
    "m = discrete_mutual_info(discretized_mus, ys)\n",
    "\n",
    "print(\"MI matrix shape:\", m.shape)\n",
    "print(\"Max MI per factor:\", np.max(m, axis=0))\n",
    "print(\"Which latents have highest MI per factor:\", np.argmax(m, axis=0))\n",
    "\n",
    "\n"
   ]
  },
  {
   "cell_type": "code",
   "execution_count": 51,
   "id": "10cd23a6-6200-4599-8c4b-a0cfabe300f4",
   "metadata": {},
   "outputs": [
    {
     "name": "stdout",
     "output_type": "stream",
     "text": [
      "cell_type — unique values:\n",
      "['fast muscle cell', 'slow muscle cell', 'skeletal muscle fiber', 'mural cell', 'fibroblast', ..., 'endothelial cell of vascular tree', 'leukocyte', 'skeletal muscle satellite cell', 'adipocyte', 'neural cell']\n",
      "Length: 11\n",
      "Categories (11, object): ['fibroblast', 'adipocyte', 'slow muscle cell', 'fast muscle cell', ..., 'endothelial cell of vascular tree', 'neural cell', 'skeletal muscle fiber', 'mural cell']\n",
      "========================================\n",
      "sex — unique values:\n",
      "['female', 'male']\n",
      "Categories (2, object): ['female', 'male']\n",
      "========================================\n",
      "donor_id — unique values:\n",
      "['MSK0782', 'MSK1139', 'MSK1144', 'MSK1216']\n",
      "Categories (4, object): ['MSK0782', 'MSK1139', 'MSK1144', 'MSK1216']\n",
      "========================================\n",
      "development_stage_ontology_term_id — unique values:\n",
      "['HsapDv:0000112', 'HsapDv:0000118', 'HsapDv:0000120', 'HsapDv:0000131']\n",
      "Categories (4, object): ['HsapDv:0000112', 'HsapDv:0000118', 'HsapDv:0000120', 'HsapDv:0000131']\n",
      "========================================\n",
      "development_stage — unique values:\n",
      "['18-year-old human stage', '24-year-old human stage', '26-year-old human stage', '37-year-old human stage']\n",
      "Categories (4, object): ['18-year-old human stage', '24-year-old human stage', '26-year-old human stage', '37-year-old human stage']\n",
      "========================================\n"
     ]
    }
   ],
   "source": [
    "covriate_keys = [\"cell_type\", \"sex\", \"donor_id\"]\n",
    "for key in covriate_keys:\n",
    "    print(f\"{key} — unique values:\")\n",
    "    print(adata_normal.obs[key].unique())\n",
    "    print(\"=\" * 40)\n"
   ]
  },
  {
   "cell_type": "code",
   "execution_count": 31,
   "id": "b9555c7b-9dc2-4568-8e51-4e6f920330fe",
   "metadata": {},
   "outputs": [],
   "source": [
    "# Finalized DCI computation based on disentanglement_lib\n",
    "\n",
    "import numpy as np\n",
    "import pandas as pd\n",
    "import anndata\n",
    "from sklearn.model_selection import train_test_split\n",
    "from sklearn.preprocessing import LabelEncoder\n",
    "from sklearn.ensemble import RandomForestClassifier\n",
    "from scipy.stats import entropy\n",
    "\n",
    "# === Encoding and Preprocessing ===\n",
    "def encode_categorical(data):\n",
    "    encoded_data = np.zeros_like(data, dtype=int)\n",
    "    for i in range(data.shape[1]):\n",
    "        le = LabelEncoder()\n",
    "        encoded_data[:, i] = le.fit_transform(data[:, i])\n",
    "    return encoded_data\n",
    "\n",
    "def remove_duplicate_columns(df):\n",
    "    df_unique = df.T.drop_duplicates().T\n",
    "    return df_unique\n",
    "\n",
    "def prep_data(adata, embedding, covariate_keys, test_size=0.25):\n",
    "    idx_train, idx_test = train_test_split(\n",
    "        range(len(adata)), test_size=test_size, random_state=42\n",
    "    )\n",
    "    cov_df = adata.obs[covariate_keys].copy()\n",
    "    cov_df = remove_duplicate_columns(cov_df)\n",
    "    encoded_factors = encode_categorical(cov_df.values)\n",
    "    embedding_data = embedding.X if isinstance(embedding, anndata.AnnData) else embedding\n",
    "    mus_train = embedding_data[idx_train]\n",
    "    mus_test = embedding_data[idx_test]\n",
    "    ys_train = encoded_factors[idx_train]\n",
    "    ys_test = encoded_factors[idx_test]\n",
    "    return mus_train.T, ys_train.T, mus_test.T, ys_test.T\n",
    "\n",
    "# === Importance Matrix ===\n",
    "def compute_importance_rf(x_train, y_train, x_test, y_test):\n",
    "    num_factors = y_train.shape[0]\n",
    "    num_codes = x_train.shape[0]\n",
    "    importance_matrix = np.zeros((num_codes, num_factors))\n",
    "    train_acc = []\n",
    "    test_acc = []\n",
    "    for i in range(num_factors):\n",
    "        model = RandomForestClassifier(random_state=42, max_depth=5)\n",
    "        model.fit(x_train.T, y_train[i])\n",
    "        importance_matrix[:, i] = np.abs(model.feature_importances_)\n",
    "        train_acc.append(np.mean(model.predict(x_train.T) == y_train[i]))\n",
    "        test_acc.append(np.mean(model.predict(x_test.T) == y_test[i]))\n",
    "    return importance_matrix, np.mean(train_acc), np.mean(test_acc)\n",
    "\n",
    "# === Disentanglement ===\n",
    "def disentanglement_per_code(importance_matrix):\n",
    "    row_sums = importance_matrix.sum(axis=1, keepdims=True)\n",
    "    safe_matrix = np.where(row_sums == 0, 1e-11, row_sums)\n",
    "    normalized = importance_matrix / safe_matrix\n",
    "    return 1. - entropy(normalized.T + 1e-11, base=importance_matrix.shape[1])\n",
    "\n",
    "def disentanglement(importance_matrix):\n",
    "    per_code = disentanglement_per_code(importance_matrix)\n",
    "    total = importance_matrix.sum()\n",
    "    if total == 0.:\n",
    "        return 0.0\n",
    "    code_importance = importance_matrix.sum(axis=1) / total\n",
    "    return np.sum(per_code * code_importance)\n",
    "\n",
    "# === Completeness ===\n",
    "def completeness_per_factor(importance_matrix):\n",
    "    return 1. - entropy(importance_matrix + 1e-11, base=importance_matrix.shape[0])\n",
    "\n",
    "def completeness(importance_matrix):\n",
    "    per_factor = completeness_per_factor(importance_matrix)\n",
    "    total = importance_matrix.sum()\n",
    "    if total == 0.:\n",
    "        return 0.0\n",
    "    factor_importance = importance_matrix.sum(axis=0) / total\n",
    "    return np.sum(per_factor * factor_importance)\n",
    "\n",
    "# === DCI Master Function ===\n",
    "def compute_dci(mus_train, ys_train, mus_test, ys_test):\n",
    "    importance_matrix, train_acc, test_acc = compute_importance_rf(\n",
    "        mus_train, ys_train, mus_test, ys_test\n",
    "    )\n",
    "    threshold = 1e-11\n",
    "    importance_matrix = np.where(importance_matrix < threshold, 0, importance_matrix)\n",
    "    return {\n",
    "    \"disentanglement\": disentanglement(importance_matrix),\n",
    "    \"completeness\": completeness(importance_matrix),\n",
    "    \"importance_matrix\": importance_matrix,\n",
    "    \"train_acc\": train_acc,\n",
    "    \"test_acc\": test_acc,\n",
    "}\n"
   ]
  },
  {
   "cell_type": "code",
   "execution_count": 32,
   "id": "6c089357-c8b7-4574-8764-d484a8581741",
   "metadata": {
    "scrolled": true
   },
   "outputs": [
    {
     "name": "stdout",
     "output_type": "stream",
     "text": [
      "{'disentanglement': 0.5084024627892207, 'completeness': 0.4838097186611434, 'importance_matrix': array([[4.82420811e-04, 2.78468027e-05, 1.14431168e-04],\n",
      "       [3.39550840e-04, 2.95322565e-05, 5.95627976e-05],\n",
      "       [4.20115258e-04, 0.00000000e+00, 9.93017780e-05],\n",
      "       [3.85481134e-04, 2.93825205e-05, 1.14255341e-04],\n",
      "       [5.19153127e-04, 8.83790151e-05, 8.13660987e-05],\n",
      "       [3.84511947e-04, 2.69006846e-05, 6.22598102e-05],\n",
      "       [6.89828481e-04, 1.81296543e-05, 2.71134175e-05],\n",
      "       [6.30348256e-04, 0.00000000e+00, 9.89482622e-05],\n",
      "       [4.50912328e-04, 9.20032837e-05, 1.09443241e-04],\n",
      "       [4.92320153e-04, 0.00000000e+00, 1.61838269e-04],\n",
      "       [3.55111958e-04, 3.86835231e-05, 1.10094448e-04],\n",
      "       [5.01130786e-04, 4.00348629e-05, 1.33930771e-04],\n",
      "       [3.30977281e-04, 0.00000000e+00, 6.21099061e-05],\n",
      "       [5.69894711e-04, 1.30476889e-05, 4.03482171e-05],\n",
      "       [6.73551077e-04, 2.42709425e-05, 1.12591056e-05],\n",
      "       [4.18106497e-04, 7.63212174e-05, 6.05827440e-05],\n",
      "       [4.29597254e-04, 3.91877926e-05, 7.65426244e-05],\n",
      "       [6.12389262e-04, 0.00000000e+00, 8.06378004e-05],\n",
      "       [4.76032421e-04, 1.85229049e-05, 3.64004409e-05],\n",
      "       [6.30696256e-04, 1.26130956e-05, 1.26262595e-04],\n",
      "       [6.34950687e-04, 0.00000000e+00, 7.98199692e-05],\n",
      "       [5.64494309e-04, 0.00000000e+00, 4.15979192e-05],\n",
      "       [5.75359834e-04, 4.15974785e-05, 1.40472359e-04],\n",
      "       [3.66738172e-04, 6.41578627e-05, 1.03631187e-04],\n",
      "       [4.51033712e-04, 0.00000000e+00, 8.52414233e-05],\n",
      "       [4.19865101e-04, 3.49524013e-05, 1.20584473e-04],\n",
      "       [4.71135068e-04, 0.00000000e+00, 6.06566480e-05],\n",
      "       [5.20952038e-04, 0.00000000e+00, 1.31344761e-04],\n",
      "       [5.78105931e-04, 5.25731927e-06, 7.80375125e-05],\n",
      "       [4.05700916e-04, 2.14172616e-05, 8.05317387e-05],\n",
      "       [2.52140234e-04, 8.18203794e-06, 1.13084015e-04],\n",
      "       [5.99126309e-04, 9.66500740e-05, 5.46753270e-05],\n",
      "       [2.23605995e-01, 2.46724947e-03, 2.99449543e-03],\n",
      "       [2.18451087e-01, 6.30149549e-04, 2.10864130e-03],\n",
      "       [2.11010709e-01, 1.44067221e-03, 3.37119611e-03],\n",
      "       [2.70153581e-01, 9.59950632e-04, 1.48129589e-03],\n",
      "       [3.69113849e-03, 1.76016665e-01, 7.64462353e-02],\n",
      "       [3.41372381e-03, 1.25644950e-01, 7.80004028e-02],\n",
      "       [2.75287916e-03, 1.12574614e-01, 5.49228320e-02],\n",
      "       [3.09451538e-03, 1.86449133e-01, 8.95681660e-02],\n",
      "       [1.22096429e-02, 1.51619898e-01, 1.84868042e-01],\n",
      "       [1.17669809e-02, 1.09667476e-01, 1.93381923e-01],\n",
      "       [1.27495323e-02, 3.60211119e-02, 1.64735913e-01],\n",
      "       [1.14684836e-02, 9.56610588e-02, 1.45364492e-01]]), 'train_acc': 0.9794024947840368, 'test_acc': 0.9808306709265175}\n"
     ]
    }
   ],
   "source": [
    "covariate_keys = [\"cell_type\", \"sex\", \"donor_id\"]\n",
    "mus_train, ys_train, mus_test, ys_test = prep_data(adata, z, covariate_keys)\n",
    "dci_scores = compute_dci(mus_train, ys_train, mus_test, ys_test)\n",
    "print(dci_scores)\n",
    "\n",
    "importance_matrix = dci_scores[\"importance_matrix\"]"
   ]
  },
  {
   "cell_type": "code",
   "execution_count": 33,
   "id": "afe994dc-cca8-427f-8261-bd963ef5e154",
   "metadata": {},
   "outputs": [
    {
     "data": {
      "text/plain": [
       "{'SAP_score': 0.034611288604898816}"
      ]
     },
     "execution_count": 33,
     "metadata": {},
     "output_type": "execute_result"
    }
   ],
   "source": [
    "#SAP score\n",
    "from sklearn import svm\n",
    "\n",
    "def compute_sap(mus, ys, mus_test, ys_test, continuous_factors):\n",
    "    \"\"\"Computes the SAP score.\n",
    "\n",
    "    Args:\n",
    "        mus, ys, mus_test, ys_test\n",
    "        continuous_factors: Factors are continuous variable (True) or not (False).\n",
    "\n",
    "    Returns:\n",
    "        Dictionary with SAP score.\n",
    "    \"\"\"\n",
    "\n",
    "    return _compute_sap(mus, ys, mus_test, ys_test, continuous_factors)\n",
    "\n",
    "def _compute_sap(mus, ys, mus_test, ys_test, continuous_factors):\n",
    "    \"\"\"Computes score based on both training and testing codes and factors.\"\"\"\n",
    "    score_matrix = compute_score_matrix(mus, ys, mus_test, ys_test, continuous_factors)\n",
    "    # Score matrix should have shape [num_latents, num_factors].\n",
    "    assert score_matrix.shape[0] == mus.shape[0]\n",
    "    assert score_matrix.shape[1] == ys.shape[0]\n",
    "    scores_dict = {}\n",
    "    scores_dict[\"SAP_score\"] = compute_avg_diff_top_two(score_matrix)\n",
    "\n",
    "    return scores_dict\n",
    "\n",
    "def compute_score_matrix(mus, ys, mus_test, ys_test, continuous_factors):\n",
    "    \"\"\"Compute score matrix as described in Section 3.\"\"\"\n",
    "    num_latents = mus.shape[0]\n",
    "    num_factors = ys.shape[0]\n",
    "    score_matrix = np.zeros([num_latents, num_factors])\n",
    "    for i in range(num_latents):\n",
    "        for j in range(num_factors):\n",
    "            mu_i = mus[i, :]\n",
    "            y_j = ys[j, :]\n",
    "            if continuous_factors:\n",
    "                # Attribute is considered continuous.\n",
    "                cov_mu_i_y_j = np.cov(mu_i, y_j, ddof=1)\n",
    "                cov_mu_y = cov_mu_i_y_j[0, 1]**2\n",
    "                var_mu = cov_mu_i_y_j[0, 0]\n",
    "                var_y = cov_mu_i_y_j[1, 1]\n",
    "                if var_mu > 1e-12:\n",
    "                    score_matrix[i, j] = cov_mu_y * 1. / (var_mu * var_y)\n",
    "                else:\n",
    "                    score_matrix[i, j] = 0.\n",
    "            else:\n",
    "                # Attribute is considered discrete.\n",
    "                mu_i_test = mus_test[i, :]\n",
    "                y_j_test = ys_test[j, :]\n",
    "                classifier = svm.LinearSVC(C=0.01, class_weight=\"balanced\")\n",
    "                classifier.fit(mu_i[:, np.newaxis], y_j)\n",
    "                pred = classifier.predict(mu_i_test[:, np.newaxis])\n",
    "                score_matrix[i, j] = np.mean(pred == y_j_test)\n",
    "    return score_matrix\n",
    "\n",
    "def compute_avg_diff_top_two(matrix):\n",
    "    sorted_matrix = np.sort(matrix, axis=0)\n",
    "    return np.mean(sorted_matrix[-1, :] - sorted_matrix[-2, :])\n",
    "\n",
    "sap = compute_sap(mus_train, ys_train, mus_test, ys_test, continuous_factors=False)\n",
    "sap"
   ]
  },
  {
   "cell_type": "code",
   "execution_count": null,
   "id": "c16d5099-ceda-4021-8f0c-51c2bb5e7ff3",
   "metadata": {},
   "outputs": [],
   "source": []
  },
  {
   "cell_type": "code",
   "execution_count": 34,
   "id": "389c967f-53a4-41bb-a993-1c726212f09e",
   "metadata": {},
   "outputs": [
    {
     "name": "stdout",
     "output_type": "stream",
     "text": [
      "mus shape: (44, 10013)\n",
      "IRS (full): 0.4719393009001777\n",
      "IRS (basal): 0.4075769035580106\n",
      "IRS (residual): 0.9905053103812641\n"
     ]
    }
   ],
   "source": [
    "# IRS \n",
    "\n",
    "\n",
    "def compute_irs(mus, ys, diff_quantile=0.99):\n",
    "    ys_discrete = make_discretizer(ys)\n",
    "\n",
    "    active_mask = (mus.var(axis=1) > 0)\n",
    "    active_mus = mus[active_mask, :]\n",
    "\n",
    "    if active_mus.size == 0:\n",
    "        irs_score = 0.0\n",
    "    else:\n",
    "        irs_score = scalable_disentanglement_score(ys_discrete.T, active_mus.T, diff_quantile)[\"avg_score\"]\n",
    "\n",
    "    score_dict = {}\n",
    "    score_dict[\"IRS\"] = irs_score\n",
    "    score_dict[\"num_active_dims\"] = int(np.sum(active_mask))\n",
    "    return score_dict\n",
    "\n",
    "\n",
    "def _drop_constant_dims(ys):\n",
    "    \"\"\"Returns a view of the matrix `ys` with dropped constant rows.\"\"\"\n",
    "    ys = np.asarray(ys)\n",
    "    if ys.ndim != 2:\n",
    "        raise ValueError(\"Expecting a matrix.\")\n",
    "\n",
    "    variances = ys.var(axis=1)\n",
    "    active_mask = variances > 0.\n",
    "    return ys[active_mask, :]\n",
    "\n",
    "\n",
    "def scalable_disentanglement_score(gen_factors, latents, diff_quantile=0.99):\n",
    "    \"\"\"Computes IRS scores of a dataset.\n",
    "\n",
    "    Assumes no noise in X and crossed generative factors (i.e. one sample per\n",
    "    combination of gen_factors). Assumes each g_i is an equally probable\n",
    "    realization of g_i and all g_i are independent.\n",
    "\n",
    "    Args:\n",
    "        gen_factors: Numpy array of shape (num samples, num generative factors),\n",
    "            matrix of ground truth generative factors.\n",
    "        latents: Numpy array of shape (num samples, num latent dimensions), matrix\n",
    "            of latent variables.\n",
    "        diff_quantile: Float value between 0 and 1 to decide what quantile of diffs\n",
    "            to select (use 1.0 for the version in the paper).\n",
    "\n",
    "    Returns:\n",
    "        Dictionary with IRS scores.\n",
    "    \"\"\"\n",
    "    num_gen = gen_factors.shape[1]\n",
    "    num_lat = latents.shape[1]\n",
    "\n",
    "    # Compute normalizer.\n",
    "    max_deviations = np.max(np.abs(latents - latents.mean(axis=0)), axis=0)\n",
    "    cum_deviations = np.zeros([num_lat, num_gen])\n",
    "    for i in range(num_gen):\n",
    "        unique_factors = np.unique(gen_factors[:, i], axis=0)\n",
    "        assert unique_factors.ndim == 1\n",
    "        num_distinct_factors = unique_factors.shape[0]\n",
    "        for k in range(num_distinct_factors):\n",
    "            # Compute E[Z | g_i].\n",
    "            match = gen_factors[:, i] == unique_factors[k]\n",
    "            e_loc = np.mean(latents[match, :], axis=0)\n",
    "\n",
    "            # Difference of each value within that group of constant g_i to its mean.\n",
    "            diffs = np.abs(latents[match, :] - e_loc)\n",
    "            max_diffs = np.percentile(diffs, q=diff_quantile*100, axis=0)\n",
    "            cum_deviations[:, i] += max_diffs\n",
    "        cum_deviations[:, i] /= num_distinct_factors\n",
    "    # Normalize value of each latent dimension with its maximal deviation.\n",
    "    normalized_deviations = cum_deviations / max_deviations[:, np.newaxis]\n",
    "    irs_matrix = 1.0 - normalized_deviations\n",
    "    disentanglement_scores = irs_matrix.max(axis=1)\n",
    "    if np.sum(max_deviations) > 0.0:\n",
    "        avg_score = np.average(disentanglement_scores, weights=max_deviations)\n",
    "    else:\n",
    "        avg_score = np.mean(disentanglement_scores)\n",
    "\n",
    "    parents = irs_matrix.argmax(axis=1)\n",
    "    score_dict = {}\n",
    "    score_dict[\"disentanglement_scores\"] = disentanglement_scores\n",
    "    score_dict[\"avg_score\"] = avg_score\n",
    "    score_dict[\"parents\"] = parents\n",
    "    score_dict[\"IRS_matrix\"] = irs_matrix\n",
    "    score_dict[\"max_deviations\"] = max_deviations\n",
    "    return score_dict\n",
    "\n",
    "\n",
    "\n",
    "irs = compute_irs(mus, ys, diff_quantile=0.99)\n",
    "irs\n",
    "\n",
    "\n",
    "print(\"mus shape:\", mus.shape)\n",
    "\n",
    "\n",
    "\n",
    "# Convert to arrays\n",
    "z_full = z.X\n",
    "z_basal_arr = z_basal.X\n",
    "z_residual = z_full[:, z_basal_arr.shape[1]:]\n",
    "\n",
    "\n",
    "irs_full = compute_irs(z_full.T, ys)\n",
    "irs_basal = compute_irs(z_basal_arr.T, ys)\n",
    "irs_residual = compute_irs(z_residual.T, ys)\n",
    "\n",
    "print(\"IRS (full):\", irs_full[\"IRS\"])\n",
    "print(\"IRS (basal):\", irs_basal[\"IRS\"])\n",
    "print(\"IRS (residual):\", irs_residual[\"IRS\"])\n",
    "\n"
   ]
  },
  {
   "cell_type": "code",
   "execution_count": 35,
   "id": "a8469feb-d7fb-4750-b237-572db9174127",
   "metadata": {},
   "outputs": [
    {
     "name": "stdout",
     "output_type": "stream",
     "text": [
      "Factor 0: Top latent dims = [35 32 33 34 42], Importances = [0.27015358 0.22360599 0.21845109 0.21101071 0.01274953]\n",
      "Factor 1: Top latent dims = [39 36 40 37 38], Importances = [0.18644913 0.17601667 0.1516199  0.12564495 0.11257461]\n",
      "Factor 2: Top latent dims = [41 40 42 43 39], Importances = [0.19338192 0.18486804 0.16473591 0.14536449 0.08956817]\n"
     ]
    }
   ],
   "source": [
    "for j in range(importance_matrix.shape[1]):\n",
    "    top_latents = np.argsort(importance_matrix[:, j])[::-1][:5]\n",
    "    print(f\"Factor {j}: Top latent dims = {top_latents}, Importances = {importance_matrix[top_latents, j]}\")\n"
   ]
  },
  {
   "cell_type": "code",
   "execution_count": 36,
   "id": "18218e65-58b1-482d-9341-168a12f83109",
   "metadata": {},
   "outputs": [
    {
     "data": {
      "image/png": "[encoded data removed]",
      "text/plain": [
       "<Figure size 1000x600 with 2 Axes>"
      ]
     },
     "metadata": {},
     "output_type": "display_data"
    }
   ],
   "source": [
    "import seaborn as sns\n",
    "import matplotlib.pyplot as plt\n",
    "\n",
    "plt.figure(figsize=(10, 6))\n",
    "sns.heatmap(importance_matrix, cmap=\"viridis\", annot=False)\n",
    "plt.xlabel(\"Factors\")\n",
    "plt.ylabel(\"Latent dimensions\")\n",
    "plt.title(\"DCI Importance Matrix\")\n",
    "plt.tight_layout()\n",
    "plt.show()"
   ]
  },
  {
   "cell_type": "code",
   "execution_count": 62,
   "id": "d0581ca7-6be1-4904-a695-55102f6cd009",
   "metadata": {},
   "outputs": [
    {
     "name": "stdout",
     "output_type": "stream",
     "text": [
      "Factor 0: 16 latent dims have >1% importance\n",
      "Factor 1: 4 latent dims have >1% importance\n",
      "Factor 2: 16 latent dims have >1% importance\n",
      "Factor 3: 16 latent dims have >1% importance\n",
      "Factor 4: 16 latent dims have >1% importance\n"
     ]
    }
   ],
   "source": [
    "for j in range(importance_matrix.shape[1]):\n",
    "    nonzero = np.sum(importance_matrix[:, j] > 0.01)\n",
    "    print(f\"Factor {j}: {nonzero} latent dims have >1% importance\")\n"
   ]
  },
  {
   "cell_type": "code",
   "execution_count": null,
   "id": "c7b8585e-07ee-466e-a65f-4b38ec0f44b9",
   "metadata": {},
   "outputs": [],
   "source": []
  }
 ],
 "metadata": {
  "kernelspec": {
   "display_name": "Python 3 (ipykernel)",
   "language": "python",
   "name": "python3"
  },
  "language_info": {
   "codemirror_mode": {
    "name": "ipython",
    "version": 3
   },
   "file_extension": ".py",
   "mimetype": "text/x-python",
   "name": "python",
   "nbconvert_exporter": "python",
   "pygments_lexer": "ipython3",
   "version": "3.12.3"
  }
 },
 "nbformat": 4,
 "nbformat_minor": 5
}
